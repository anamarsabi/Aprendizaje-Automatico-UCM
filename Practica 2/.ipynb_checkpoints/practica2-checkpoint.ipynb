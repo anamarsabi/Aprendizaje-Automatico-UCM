{
 "cells": [
  {
   "cell_type": "markdown",
   "id": "d544ad0d",
   "metadata": {},
   "source": [
    "# Práctica 2"
   ]
  },
  {
   "cell_type": "code",
   "execution_count": null,
   "id": "e1442715",
   "metadata": {},
   "outputs": [],
   "source": [
    "import numpy as np"
   ]
  },
  {
   "cell_type": "code",
   "execution_count": null,
   "id": "e8489dbc",
   "metadata": {},
   "outputs": [],
   "source": [
    "#Debe funcionar con un entero, un vector y una matriz. Para un vector y una matriz debe ser el resultado de aplicarle la\n",
    "#función sigmoide a cada elemento del vector o la matriz.\n",
    "def sigmoide(z):\n",
    "    return (1/1+e**(-z))"
   ]
  },
  {
   "cell_type": "code",
   "execution_count": null,
   "id": "c508fae8",
   "metadata": {},
   "outputs": [],
   "source": [
    "def coste(X, y, Theta):\n",
    "    m=np.shape(X)[0]\n",
    "    item1 = np.matmul(p.transpose(np.log((sigmoide(np.matmul(X,Theta))))),y)\n",
    "    item2 = np.matmul(np.transpose(np.log(1-sigmoide(np.matmul(X,Theta)))),(1-y))\n",
    "    return (item1 + item2)/m"
   ]
  },
  {
   "cell_type": "code",
   "execution_count": null,
   "id": "da87e39a",
   "metadata": {},
   "outputs": [],
   "source": [
    "def gradiente(X, y, Theta):\n",
    "    return np.matmul(np.transpose(X),(sigmoide(np.matmul(X,Theta))-y))/m"
   ]
  }
 ],
 "metadata": {
  "kernelspec": {
   "display_name": "Python 3 (ipykernel)",
   "language": "python",
   "name": "python3"
  },
  "language_info": {
   "codemirror_mode": {
    "name": "ipython",
    "version": 3
   },
   "file_extension": ".py",
   "mimetype": "text/x-python",
   "name": "python",
   "nbconvert_exporter": "python",
   "pygments_lexer": "ipython3",
   "version": "3.9.7"
  }
 },
 "nbformat": 4,
 "nbformat_minor": 5
}
