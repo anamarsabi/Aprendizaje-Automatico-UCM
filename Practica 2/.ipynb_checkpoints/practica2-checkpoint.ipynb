{
 "cells": [
  {
   "cell_type": "markdown",
   "id": "8d7ef7a3",
   "metadata": {},
   "source": [
    "# Práctica 2"
   ]
  },
  {
   "cell_type": "code",
   "execution_count": 92,
   "id": "026ccbf3",
   "metadata": {},
   "outputs": [],
   "source": [
    "import numpy as np\n",
    "from pandas.io.parsers import read_csv\n",
    "import matplotlib.pyplot as plt\n",
    "import scipy.optimize as opt"
   ]
  },
  {
   "cell_type": "code",
   "execution_count": 93,
   "id": "f48f15ab",
   "metadata": {},
   "outputs": [],
   "source": [
    "def carga_csv(file_name):\n",
    "    valores = read_csv(file_name, header=None).to_numpy()\n",
    "    return valores.astype(float)"
   ]
  },
  {
   "cell_type": "code",
   "execution_count": 94,
   "id": "b81e95b1",
   "metadata": {},
   "outputs": [],
   "source": [
    "def dataProcessing(datos):\n",
    "    X = datos[:, :-1]\n",
    "    Y = datos[:, -1]\n",
    "    m = np.shape(X)[0]\n",
    "    n = np.shape(X)[1]\n",
    "    \n",
    "    return X, Y, m, n"
   ]
  },
  {
   "cell_type": "code",
   "execution_count": 95,
   "id": "66d302aa",
   "metadata": {},
   "outputs": [],
   "source": [
    "#Debe funcionar con un entero, un vector y una matriz. Para un vector y una matriz debe ser el resultado de aplicarle la\n",
    "#función sigmoide a cada elemento del vector o la matriz.\n",
    "def sigmoide(z):\n",
    "    return (1.0/(1.0+np.exp(-z)))"
   ]
  },
  {
   "cell_type": "code",
   "execution_count": 96,
   "id": "dd931804",
   "metadata": {},
   "outputs": [],
   "source": [
    "def coste(Theta, X, y):\n",
    "    H = sigmoide(np.dot(X, Theta))\n",
    "    Term1 = np.matmul(y, np.log(H))\n",
    "    Term2 = np.matmul((1 - y), np.log(1 - H))\n",
    "    cost = (- 1 / (len(y))) * np.sum(Term1 + Term2)\n",
    "    return cost"
   ]
  },
  {
   "cell_type": "code",
   "execution_count": 97,
   "id": "d326e2ec",
   "metadata": {},
   "outputs": [],
   "source": [
    "def gradiente(Theta, X, y):\n",
    "    H = sigmoide(np.dot(X, Theta))\n",
    "    Dif = H - y\n",
    "    grad = (1 / len(y)) * np.matmul(Dif, X)\n",
    "    return grad"
   ]
  },
  {
   "cell_type": "code",
   "execution_count": 98,
   "id": "94f6716b",
   "metadata": {
    "scrolled": true
   },
   "outputs": [
    {
     "data": {
      "text/plain": [
       "<matplotlib.legend.Legend at 0x1229cd310>"
      ]
     },
     "execution_count": 98,
     "metadata": {},
     "output_type": "execute_result"
    },
    {
     "data": {
      "image/png": "[encoded data removed]",
      "text/plain": [
       "<Figure size 432x288 with 1 Axes>"
      ]
     },
     "metadata": {
      "needs_background": "light"
     },
     "output_type": "display_data"
    }
   ],
   "source": [
    "datos = carga_csv('ex2data1.csv')\n",
    "X, Y, m, n = dataProcessing(datos)\n",
    "\n",
    "pos_plus = np.where(Y==1)\n",
    "pos_min = np.where(Y==0)\n",
    "\n",
    "plt.scatter(X[pos_plus, 0], X[pos_plus, 1], marker ='+', c='k', label ='Admitted')\n",
    "plt.scatter(X[pos_min, 0], X[pos_min, 1], c='green', label = 'Not admitted')\n",
    "plt.xlabel('Exam 1 score')\n",
    "plt.ylabel('Exam 2 score')\n",
    "plt.legend(loc = 'best', bbox_to_anchor=(1,1))\n"
   ]
  },
  {
   "cell_type": "code",
   "execution_count": 99,
   "id": "61e5e60c",
   "metadata": {},
   "outputs": [],
   "source": [
    "X_1 = np.hstack([np.ones([m, 1]), X])"
   ]
  },
  {
   "cell_type": "code",
   "execution_count": 100,
   "id": "ef6d9ec9",
   "metadata": {
    "scrolled": true
   },
   "outputs": [
    {
     "name": "stdout",
     "output_type": "stream",
     "text": [
      "Coste = 0.6931471805599452\n",
      "Gradiente = [ -0.1        -12.00921659 -11.26284221]\n"
     ]
    }
   ],
   "source": [
    "Theta = np.zeros(n+1)\n",
    "\n",
    "#print(Theta)\n",
    "#print(X)\n",
    "#print(Y)\n",
    "c = coste(Theta, X_1, Y)\n",
    "grad = gradiente(Theta, X_1, Y)\n",
    "print('Coste = {}'.format(c))\n",
    "print('Gradiente = {}'.format(grad))"
   ]
  },
  {
   "cell_type": "code",
   "execution_count": 101,
   "id": "7f0990a2",
   "metadata": {
    "scrolled": true
   },
   "outputs": [
    {
     "name": "stdout",
     "output_type": "stream",
     "text": [
      "Coste = 0.2034977015894742\n"
     ]
    },
    {
     "name": "stderr",
     "output_type": "stream",
     "text": [
      "  NIT   NF   F                       GTG\n",
      "    0    1  6.931471805599452E-01   2.71082898E+02\n",
      "    1    3  6.318123602631437E-01   7.89087138E-01\n",
      "    2    5  5.892425253787787E-01   7.39226276E+01\n",
      "    3    7  4.227824271444970E-01   1.85266106E+01\n",
      "    4    9  4.072926933994032E-01   1.68671147E+01\n",
      "    5   11  3.818854987081869E-01   1.07735045E+01\n",
      "    6   13  3.786234899431667E-01   2.31584951E+01\n",
      "tnc: stepmx = 1000\n",
      "    7   16  2.389268133280452E-01   3.00821605E+00\n",
      "    8   18  2.047203870922401E-01   1.52226276E-01\n",
      "    9   20  2.046713887364524E-01   6.62493298E-02\n",
      "   10   22  2.035303168599959E-01   9.30777857E-04\n",
      "tnc: fscale = 32.7776\n",
      "   11   24  2.035293527529622E-01   8.07314502E-06\n",
      "   12   26  2.035251121514149E-01   1.80201329E-04\n",
      "   13   28  2.034984102320014E-01   5.02793907E-04\n",
      "   14   30  2.034978376531629E-01   9.87813968E-06\n",
      "   15   32  2.034977904403664E-01   3.76851864E-06\n",
      "   16   34  2.034977385394361E-01   1.93826971E-05\n",
      "   17   36  2.034977015894742E-01   2.42863638E-13\n",
      "tnc: |pg| = 1.5035e-08 -> local minimum\n",
      "   17   36  2.034977015894742E-01   2.42863638E-13\n",
      "tnc: Local minima reach (|pg| ~= 0)\n"
     ]
    }
   ],
   "source": [
    "result = opt.fmin_tnc(func=coste, x0=Theta, fprime=gradiente, args=(X_1,Y))\n",
    "Theta_opt=result[0]\n",
    "coste_opt = coste(Theta_opt, X_1, Y)\n",
    "print('Coste = {}'.format(coste_opt))"
   ]
  },
  {
   "cell_type": "code",
   "execution_count": 104,
   "id": "1e4a5b50",
   "metadata": {},
   "outputs": [],
   "source": [
    "def pinta_frontera_recta(X, Y, theta):\n",
    "   # plt.figure()\n",
    "    x1_min, x1_max = X[:, 0].min(), X[:, 0].max()\n",
    "    x2_min, x2_max = X[:, 1].min(), X[:, 1].max()\n",
    "\n",
    "    xx1, xx2 = np.meshgrid(np.linspace(x1_min, x1_max),\n",
    "    np.linspace(x2_min, x2_max))\n",
    "\n",
    "    h = sigmoide(np.c_[np.ones((xx1.ravel().shape[0], 1)),\n",
    "    xx1.ravel(),\n",
    "    xx2.ravel()].dot(theta))\n",
    "    h = h.reshape(xx1.shape)\n",
    "\n",
    "    # el cuarto parámetro es el valor de z cuya frontera se\n",
    "    # quiere pintar\n",
    "    plt.contour(xx1, xx2, h, [coste_opt], linewidths=1, colors='b')\n",
    "    \n",
    "    #plt.savefig(\"frontera.pdf\")\n",
    "    #plt.show()\n",
    "    #plt.close()"
   ]
  },
  {
   "cell_type": "code",
   "execution_count": 105,
   "id": "283d38b3",
   "metadata": {},
   "outputs": [
    {
     "data": {
      "image/png": "[encoded data removed]",
      "text/plain": [
       "<Figure size 432x288 with 1 Axes>"
      ]
     },
     "metadata": {
      "needs_background": "light"
     },
     "output_type": "display_data"
    }
   ],
   "source": [
    "pinta_frontera_recta(X, Y, Theta_opt)\n",
    "\n",
    "pos_plus = np.where(Y==1)\n",
    "pos_min = np.where(Y==0)\n",
    "\n",
    "plt.scatter(X[pos_plus, 0], X[pos_plus, 1], marker ='+', c='k', label ='Admitted')\n",
    "plt.scatter(X[pos_min, 0], X[pos_min, 1], c='green', label = 'Not admitted')\n",
    "plt.xlabel('Exam 1 score')\n",
    "plt.ylabel('Exam 2 score')\n",
    "plt.legend(loc = 'best', bbox_to_anchor=(1,1))"
   ]
  },
  {
   "cell_type": "code",
   "execution_count": null,
   "id": "2f8edb5e",
   "metadata": {},
   "outputs": [],
   "source": []
  }
 ],
 "metadata": {
  "kernelspec": {
   "display_name": "Python 3 (ipykernel)",
   "language": "python",
   "name": "python3"
  },
  "language_info": {
   "codemirror_mode": {
    "name": "ipython",
    "version": 3
   },
   "file_extension": ".py",
   "mimetype": "text/x-python",
   "name": "python",
   "nbconvert_exporter": "python",
   "pygments_lexer": "ipython3",
   "version": "3.9.7"
  }
 },
 "nbformat": 4,
 "nbformat_minor": 5
}
