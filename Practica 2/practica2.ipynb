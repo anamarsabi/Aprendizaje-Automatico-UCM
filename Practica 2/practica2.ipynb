{
 "cells": [
  {
   "cell_type": "markdown",
   "id": "8d7ef7a3",
   "metadata": {},
   "source": [
    "# Práctica 2"
   ]
  },
  {
   "cell_type": "code",
   "execution_count": 2,
   "id": "026ccbf3",
   "metadata": {},
   "outputs": [],
   "source": [
    "import numpy as np\n",
    "from pandas.io.parsers import read_csv\n",
    "import matplotlib.pyplot as plt\n",
    "import scipy.optimize as opt\n",
    "from sklearn.preprocessing import PolynomialFeatures"
   ]
  },
  {
   "cell_type": "code",
   "execution_count": 3,
   "id": "f48f15ab",
   "metadata": {},
   "outputs": [],
   "source": [
    "def carga_csv(file_name):\n",
    "    valores = read_csv(file_name, header=None).to_numpy()\n",
    "    return valores.astype(float)"
   ]
  },
  {
   "cell_type": "code",
   "execution_count": 4,
   "id": "b81e95b1",
   "metadata": {},
   "outputs": [],
   "source": [
    "def dataProcessing(datos):\n",
    "    X = datos[:, :-1]\n",
    "    Y = datos[:, -1]\n",
    "    m = np.shape(X)[0]\n",
    "    n = np.shape(X)[1]\n",
    "    \n",
    "    return X, Y, m, n"
   ]
  },
  {
   "cell_type": "markdown",
   "id": "406222a4",
   "metadata": {},
   "source": [
    "## Ejercicio 1"
   ]
  },
  {
   "cell_type": "code",
   "execution_count": 5,
   "id": "66d302aa",
   "metadata": {},
   "outputs": [],
   "source": [
    "#Debe funcionar con un entero, un vector y una matriz. Para un vector y una matriz debe ser el resultado de aplicarle la\n",
    "#función sigmoide a cada elemento del vector o la matriz.\n",
    "def sigmoide(z):\n",
    "    return (1.0/(1.0+np.exp(-z)))"
   ]
  },
  {
   "cell_type": "code",
   "execution_count": 6,
   "id": "dd931804",
   "metadata": {},
   "outputs": [],
   "source": [
    "def coste(Theta, X, y):\n",
    "    H = sigmoide(np.dot(X, Theta))\n",
    "    Term1 = np.matmul(y, np.log(H))\n",
    "    Term2 = np.matmul((1 - y), np.log(1 - H))\n",
    "    cost = (- 1 / (len(y))) * np.sum(Term1 + Term2)\n",
    "    return cost"
   ]
  },
  {
   "cell_type": "code",
   "execution_count": 7,
   "id": "d326e2ec",
   "metadata": {},
   "outputs": [],
   "source": [
    "def gradiente(Theta, X, y):\n",
    "    H = sigmoide(np.dot(X, Theta))\n",
    "    Dif = H - y\n",
    "    grad = (1 / len(y)) * np.matmul(Dif, X)\n",
    "    return grad"
   ]
  },
  {
   "cell_type": "code",
   "execution_count": 8,
   "id": "94f6716b",
   "metadata": {
    "scrolled": true
   },
   "outputs": [
    {
     "data": {
      "text/plain": [
       "<matplotlib.legend.Legend at 0x22c49f5b910>"
      ]
     },
     "execution_count": 8,
     "metadata": {},
     "output_type": "execute_result"
    },
    {
     "data": {
      "image/png": "[encoded data removed]",
      "text/plain": [
       "<Figure size 432x288 with 1 Axes>"
      ]
     },
     "metadata": {
      "needs_background": "light"
     },
     "output_type": "display_data"
    }
   ],
   "source": [
    "datos = carga_csv('ex2data1.csv')\n",
    "X, Y, m, n = dataProcessing(datos)\n",
    "\n",
    "pos_plus = np.where(Y==1)\n",
    "pos_min = np.where(Y==0)\n",
    "\n",
    "plt.scatter(X[pos_plus, 0], X[pos_plus, 1], marker ='+', c='k', label ='Admitted')\n",
    "plt.scatter(X[pos_min, 0], X[pos_min, 1], c='green', label = 'Not admitted')\n",
    "plt.xlabel('Exam 1 score')\n",
    "plt.ylabel('Exam 2 score')\n",
    "plt.legend(loc = 'best', bbox_to_anchor=(1,1))\n"
   ]
  },
  {
   "cell_type": "code",
   "execution_count": 9,
   "id": "61e5e60c",
   "metadata": {},
   "outputs": [],
   "source": [
    "X_1 = np.hstack([np.ones([m, 1]), X])"
   ]
  },
  {
   "cell_type": "code",
   "execution_count": 10,
   "id": "ef6d9ec9",
   "metadata": {
    "scrolled": true
   },
   "outputs": [
    {
     "name": "stdout",
     "output_type": "stream",
     "text": [
      "Coste = 0.6931471805599452\n",
      "Gradiente = [ -0.1        -12.00921659 -11.26284221]\n"
     ]
    }
   ],
   "source": [
    "Theta = np.zeros(n+1)\n",
    "\n",
    "#print(Theta)\n",
    "#print(X)\n",
    "#print(Y)\n",
    "c = coste(Theta, X_1, Y)\n",
    "grad = gradiente(Theta, X_1, Y)\n",
    "print('Coste = {}'.format(c))\n",
    "print('Gradiente = {}'.format(grad))"
   ]
  },
  {
   "cell_type": "code",
   "execution_count": 11,
   "id": "7f0990a2",
   "metadata": {
    "scrolled": true
   },
   "outputs": [
    {
     "name": "stdout",
     "output_type": "stream",
     "text": [
      "Coste = 0.20349770158947458\n"
     ]
    }
   ],
   "source": [
    "result = opt.fmin_tnc(func=coste, x0=Theta, fprime=gradiente, args=(X_1,Y))\n",
    "Theta_opt=result[0]\n",
    "coste_opt = coste(Theta_opt, X_1, Y)\n",
    "print('Coste = {}'.format(coste_opt))"
   ]
  },
  {
   "cell_type": "code",
   "execution_count": 12,
   "id": "1e4a5b50",
   "metadata": {},
   "outputs": [],
   "source": [
    "def pinta_frontera_recta(X, Y, theta):\n",
    "   # plt.figure()\n",
    "    x1_min, x1_max = X[:, 0].min(), X[:, 0].max()\n",
    "    x2_min, x2_max = X[:, 1].min(), X[:, 1].max()\n",
    "\n",
    "    xx1, xx2 = np.meshgrid(np.linspace(x1_min, x1_max),\n",
    "    np.linspace(x2_min, x2_max))\n",
    "\n",
    "    h = sigmoide(np.c_[np.ones((xx1.ravel().shape[0], 1)),\n",
    "    xx1.ravel(),\n",
    "    xx2.ravel()].dot(theta))\n",
    "    h = h.reshape(xx1.shape)\n",
    "\n",
    "    # el cuarto parámetro es el valor de z cuya frontera se\n",
    "    # quiere pintar\n",
    "    plt.contour(xx1, xx2, h, [0.5], linewidths=1, colors='b')\n",
    "    \n",
    "    #plt.savefig(\"frontera.pdf\")\n",
    "    #plt.show()\n",
    "    #plt.close()"
   ]
  },
  {
   "cell_type": "code",
   "execution_count": 13,
   "id": "6ba32277",
   "metadata": {},
   "outputs": [
    {
     "data": {
      "text/plain": [
       "<matplotlib.legend.Legend at 0x22c4a04af40>"
      ]
     },
     "execution_count": 13,
     "metadata": {},
     "output_type": "execute_result"
    },
    {
     "data": {
      "image/png": "[encoded data removed]",
      "text/plain": [
       "<Figure size 432x288 with 1 Axes>"
      ]
     },
     "metadata": {
      "needs_background": "light"
     },
     "output_type": "display_data"
    }
   ],
   "source": [
    "pinta_frontera_recta(X, Y, Theta_opt)\n",
    "\n",
    "pos_plus = np.where(Y==1)\n",
    "pos_min = np.where(Y==0)\n",
    "\n",
    "plt.scatter(X[pos_plus, 0], X[pos_plus, 1], marker ='+', c='k', label ='Admitted')\n",
    "plt.scatter(X[pos_min, 0], X[pos_min, 1], c='green', label = 'Not admitted')\n",
    "plt.xlabel('Exam 1 score')\n",
    "plt.ylabel('Exam 2 score')\n",
    "plt.legend(loc = 'best', bbox_to_anchor=(1,1))"
   ]
  },
  {
   "cell_type": "code",
   "execution_count": 14,
   "id": "a42bbd7f",
   "metadata": {},
   "outputs": [],
   "source": [
    "def evaluacion(theta, X, Y):\n",
    "    prediccion = sigmoide(np.matmul(theta, np.transpose(X)))\n",
    "    prediccion[prediccion >= 0.5] = 1\n",
    "    prediccion[prediccion < 0.5] = 0\n",
    "    porcentaje = np.asarray(np.where(prediccion == Y)).size\n",
    "    return  (porcentaje / len(Y))*100"
   ]
  },
  {
   "cell_type": "code",
   "execution_count": 15,
   "id": "09f48a60",
   "metadata": {
    "scrolled": true
   },
   "outputs": [
    {
     "name": "stdout",
     "output_type": "stream",
     "text": [
      "El porcentaje de ejemplos de entrenamientos que se clasifican correctamente es: 89.0%\n"
     ]
    }
   ],
   "source": [
    "porcentaje_aciertos = evaluacion(Theta_opt, X_1, Y)\n",
    "print(\"El porcentaje de ejemplos de entrenamientos que se clasifican correctamente es: {}%\".format(porcentaje_aciertos))"
   ]
  },
  {
   "cell_type": "markdown",
   "id": "afa1ca62",
   "metadata": {},
   "source": [
    "## Ejercicio 2"
   ]
  },
  {
   "cell_type": "code",
   "execution_count": 16,
   "id": "d69b1483",
   "metadata": {},
   "outputs": [
    {
     "data": {
      "text/plain": [
       "<matplotlib.legend.Legend at 0x22c4a12c220>"
      ]
     },
     "execution_count": 16,
     "metadata": {},
     "output_type": "execute_result"
    },
    {
     "data": {
      "image/png": "[encoded data removed]",
      "text/plain": [
       "<Figure size 432x288 with 1 Axes>"
      ]
     },
     "metadata": {
      "needs_background": "light"
     },
     "output_type": "display_data"
    }
   ],
   "source": [
    "datos = carga_csv('ex2data2.csv')\n",
    "X, Y, m, n = dataProcessing(datos)\n",
    "\n",
    "pos_plus = np.where(Y==1)\n",
    "pos_min = np.where(Y==0)\n",
    "\n",
    "plt.scatter(X[pos_plus, 0], X[pos_plus, 1], marker ='+', c='k', label ='y = 1')\n",
    "plt.scatter(X[pos_min, 0], X[pos_min, 1], c='green', label = 'y = 0')\n",
    "plt.xlabel('Microchip test 1')\n",
    "plt.ylabel('Microchip test 1')\n",
    "plt.legend(loc = 'best', bbox_to_anchor=(1,1))"
   ]
  },
  {
   "cell_type": "code",
   "execution_count": 28,
   "id": "270fede1",
   "metadata": {},
   "outputs": [],
   "source": [
    "poly = PolynomialFeatures(6)\n",
    "XX = poly.fit_transform(X)"
   ]
  },
  {
   "cell_type": "code",
   "execution_count": 29,
   "id": "2da152e9",
   "metadata": {},
   "outputs": [],
   "source": [
    "def coste_reg(Theta, X, y, Lambda):\n",
    "    Term1 = coste(Theta, X, y)\n",
    "    Term2 = (Lambda/(2*len(y))) * np.sum(Theta**2)\n",
    "    cost = Term1 + Term2\n",
    "    return cost "
   ]
  },
  {
   "cell_type": "code",
   "execution_count": 37,
   "id": "fa4934f0",
   "metadata": {},
   "outputs": [],
   "source": [
    "def gradiente_reg(Theta, X, y, Lambda):\n",
    "    grad = gradiente(Theta, X, y) + ((Lambda/len(y))*np.r_[[0],Theta[1:]])\n",
    "    return grad"
   ]
  },
  {
   "cell_type": "code",
   "execution_count": 38,
   "id": "156d730d",
   "metadata": {},
   "outputs": [],
   "source": [
    "#X_1 = np.hstack([np.ones([m, 1]), X])"
   ]
  },
  {
   "cell_type": "code",
   "execution_count": 39,
   "id": "344612fb",
   "metadata": {},
   "outputs": [],
   "source": [
    "Theta = np.zeros(XX.shape[1])"
   ]
  },
  {
   "cell_type": "code",
   "execution_count": 40,
   "id": "e0d40411",
   "metadata": {},
   "outputs": [
    {
     "name": "stdout",
     "output_type": "stream",
     "text": [
      "Coste = 0.6931471805599453\n",
      "Gradiente = [8.47457627e-03 1.87880932e-02 7.77711864e-05 5.03446395e-02\n",
      " 1.15013308e-02 3.76648474e-02 1.83559872e-02 7.32393391e-03\n",
      " 8.19244468e-03 2.34764889e-02 3.93486234e-02 2.23923907e-03\n",
      " 1.28600503e-02 3.09593720e-03 3.93028171e-02 1.99707467e-02\n",
      " 4.32983232e-03 3.38643902e-03 5.83822078e-03 4.47629067e-03\n",
      " 3.10079849e-02 3.10312442e-02 1.09740238e-03 6.31570797e-03\n",
      " 4.08503006e-04 7.26504316e-03 1.37646175e-03 3.87936363e-02]\n"
     ]
    }
   ],
   "source": [
    "#Theta = np.zeros(n+1)\n",
    "Lambda = 1\n",
    "c = coste_reg(Theta, XX, Y, Lambda)\n",
    "grad = gradiente_reg(Theta, XX, Y, Lambda)\n",
    "print('Coste = {}'.format(c))\n",
    "print('Gradiente = {}'.format(grad))"
   ]
  },
  {
   "cell_type": "code",
   "execution_count": 43,
   "id": "21809d28",
   "metadata": {},
   "outputs": [
    {
     "name": "stdout",
     "output_type": "stream",
     "text": [
      "[ 1.25441477  0.62276773  1.19242761 -2.00505516 -0.8729073  -1.3618428\n",
      "  0.12573868 -0.35536853 -0.35603632 -0.17096338 -1.45784679 -0.06683332\n",
      " -0.61498631 -0.25080287 -1.18096017 -0.22566832 -0.20562891 -0.06382327\n",
      " -0.27187026 -0.27658992 -0.4683599  -1.0324734   0.01627589 -0.29695275\n",
      "  0.00581075 -0.32631634 -0.12073388 -0.93022953]\n",
      "Coste = 0.5357749530684597\n"
     ]
    }
   ],
   "source": [
    "result = opt.fmin_tnc(func=coste_reg, x0=Theta, fprime=gradiente_reg, args=(XX,Y,Lambda))\n",
    "Theta_opt=result[0]\n",
    "print(Theta_opt)\n",
    "coste_opt = coste_reg(Theta_opt, XX, Y, Lambda)\n",
    "print('Coste = {}'.format(coste_opt))"
   ]
  },
  {
   "cell_type": "code",
   "execution_count": 47,
   "id": "3d629dfa",
   "metadata": {},
   "outputs": [],
   "source": [
    "def plot_decisionboundary(X, Y, theta, poly):\n",
    "    #plt.figure()\n",
    "    x1_min, x1_max = X[:, 0].min(), X[:, 0].max()\n",
    "    x2_min, x2_max = X[:, 1].min(), X[:, 1].max()\n",
    "    xx1, xx2 = np.meshgrid(np.linspace(x1_min, x1_max),\n",
    "    np.linspace(x2_min, x2_max))\n",
    "    h = sigmoide(poly.fit_transform(np.c_[xx1.ravel(),xx2.ravel()]).dot(theta))\n",
    "    h = h.reshape(xx1.shape)\n",
    "    plt.contour(xx1, xx2, h, [0.5], linewidths=1, colors='g')\n",
    "    plt.savefig(\"boundary.pdf\")\n",
    "    #plt.close()"
   ]
  },
  {
   "cell_type": "code",
   "execution_count": 48,
   "id": "a2aaadec",
   "metadata": {},
   "outputs": [
    {
     "data": {
      "text/plain": [
       "<matplotlib.legend.Legend at 0x22c4a364d60>"
      ]
     },
     "execution_count": 48,
     "metadata": {},
     "output_type": "execute_result"
    },
    {
     "data": {
      "image/png": "[encoded data removed]",
      "text/plain": [
       "<Figure size 432x288 with 1 Axes>"
      ]
     },
     "metadata": {
      "needs_background": "light"
     },
     "output_type": "display_data"
    }
   ],
   "source": [
    "plot_decisionboundary(X, Y, Theta_opt, poly)\n",
    "\n",
    "pos_plus = np.where(Y==1)\n",
    "pos_min = np.where(Y==0)\n",
    "\n",
    "plt.scatter(X[pos_plus, 0], X[pos_plus, 1], marker ='+', c='k', label ='y = 1')\n",
    "plt.scatter(X[pos_min, 0], X[pos_min, 1], c='green', label = 'y = 0')\n",
    "plt.xlabel('Microchip test 1')\n",
    "plt.ylabel('Microchip test 1')\n",
    "plt.legend(loc = 'best', bbox_to_anchor=(1,1))"
   ]
  },
  {
   "cell_type": "code",
   "execution_count": 50,
   "id": "dbf269fe",
   "metadata": {},
   "outputs": [
    {
     "name": "stdout",
     "output_type": "stream",
     "text": [
      "El porcentaje de ejemplos de entrenamientos que se clasifican correctamente es: 83.05084745762711%\n"
     ]
    }
   ],
   "source": [
    "porcentaje_aciertos = evaluacion(Theta_opt, XX, Y)\n",
    "print(\"El porcentaje de ejemplos de entrenamientos que se clasifican correctamente es: {}%\".format(porcentaje_aciertos))"
   ]
  },
  {
   "cell_type": "code",
   "execution_count": null,
   "id": "c9b226b6",
   "metadata": {},
   "outputs": [],
   "source": []
  }
 ],
 "metadata": {
  "kernelspec": {
   "display_name": "Python 3 (ipykernel)",
   "language": "python",
   "name": "python3"
  },
  "language_info": {
   "codemirror_mode": {
    "name": "ipython",
    "version": 3
   },
   "file_extension": ".py",
   "mimetype": "text/x-python",
   "name": "python",
   "nbconvert_exporter": "python",
   "pygments_lexer": "ipython3",
   "version": "3.9.7"
  }
 },
 "nbformat": 4,
 "nbformat_minor": 5
}
