{
 "cells": [
  {
   "cell_type": "markdown",
   "id": "8d7ef7a3",
   "metadata": {},
   "source": [
    "# Práctica 2"
   ]
  },
  {
   "cell_type": "code",
   "execution_count": 55,
   "id": "026ccbf3",
   "metadata": {},
   "outputs": [],
   "source": [
    "import numpy as np\n",
    "from pandas.io.parsers import read_csv\n",
    "import matplotlib.pyplot as plt\n",
    "import scipy.optimize as opt\n",
    "from sklearn.preprocessing import PolynomialFeatures"
   ]
  },
  {
   "cell_type": "code",
   "execution_count": 56,
   "id": "f48f15ab",
   "metadata": {},
   "outputs": [],
   "source": [
    "def carga_csv(file_name):\n",
    "    valores = read_csv(file_name, header=None).to_numpy()\n",
    "    return valores.astype(float)"
   ]
  },
  {
   "cell_type": "code",
   "execution_count": 57,
   "id": "b81e95b1",
   "metadata": {},
   "outputs": [],
   "source": [
    "def dataProcessing(datos):\n",
    "    X = datos[:, :-1]\n",
    "    Y = datos[:, -1]\n",
    "    m = np.shape(X)[0]\n",
    "    n = np.shape(X)[1]\n",
    "    \n",
    "    return X, Y, m, n"
   ]
  },
  {
   "cell_type": "markdown",
   "id": "653cde2b",
   "metadata": {},
   "source": [
    "## Ejercicio 1"
   ]
  },
  {
   "cell_type": "code",
   "execution_count": 58,
   "id": "66d302aa",
   "metadata": {},
   "outputs": [],
   "source": [
    "#Debe funcionar con un entero, un vector y una matriz. Para un vector y una matriz debe ser el resultado de aplicarle la\n",
    "#función sigmoide a cada elemento del vector o la matriz.\n",
    "def sigmoide(z):\n",
    "    return (1.0/(1.0+np.exp(-z)))"
   ]
  },
  {
   "cell_type": "code",
   "execution_count": 59,
   "id": "dd931804",
   "metadata": {},
   "outputs": [],
   "source": [
    "def coste(Theta, X, y):\n",
    "    H = sigmoide(np.dot(X, Theta))\n",
    "    Term1 = np.matmul(y, np.log(H))\n",
    "    Term2 = np.matmul((1 - y), np.log(1 - H))\n",
    "    cost = (- 1 / (len(y))) * np.sum(Term1 + Term2)\n",
    "    return cost"
   ]
  },
  {
   "cell_type": "code",
   "execution_count": 60,
   "id": "d326e2ec",
   "metadata": {},
   "outputs": [],
   "source": [
    "def gradiente(Theta, X, y):\n",
    "    H = sigmoide(np.dot(X, Theta))\n",
    "    Dif = H - y\n",
    "    grad = (1 / len(y)) * np.matmul(Dif, X)\n",
    "    return grad"
   ]
  },
  {
   "cell_type": "code",
   "execution_count": 61,
   "id": "94f6716b",
   "metadata": {
    "scrolled": true
   },
   "outputs": [
    {
     "data": {
      "text/plain": [
       "<matplotlib.legend.Legend at 0x12527ae80>"
      ]
     },
     "execution_count": 61,
     "metadata": {},
     "output_type": "execute_result"
    },
    {
     "data": {
      "image/png": "[encoded data removed]",
      "text/plain": [
       "<Figure size 432x288 with 1 Axes>"
      ]
     },
     "metadata": {
      "needs_background": "light"
     },
     "output_type": "display_data"
    }
   ],
   "source": [
    "datos = carga_csv('ex2data1.csv')\n",
    "X, Y, m, n = dataProcessing(datos)\n",
    "\n",
    "pos_plus = np.where(Y==1)\n",
    "pos_min = np.where(Y==0)\n",
    "\n",
    "plt.scatter(X[pos_plus, 0], X[pos_plus, 1], marker ='+', c='k', label ='Admitted')\n",
    "plt.scatter(X[pos_min, 0], X[pos_min, 1], c='green', label = 'Not admitted')\n",
    "plt.xlabel('Exam 1 score')\n",
    "plt.ylabel('Exam 2 score')\n",
    "plt.legend(loc = 'best', bbox_to_anchor=(1,1))\n"
   ]
  },
  {
   "cell_type": "code",
   "execution_count": 62,
   "id": "61e5e60c",
   "metadata": {},
   "outputs": [],
   "source": [
    "X_1 = np.hstack([np.ones([m, 1]), X])"
   ]
  },
  {
   "cell_type": "code",
   "execution_count": 63,
   "id": "ef6d9ec9",
   "metadata": {
    "scrolled": true
   },
   "outputs": [
    {
     "name": "stdout",
     "output_type": "stream",
     "text": [
      "Coste = 0.6931471805599452\n",
      "Gradiente = [ -0.1        -12.00921659 -11.26284221]\n"
     ]
    }
   ],
   "source": [
    "Theta = np.zeros(n+1)\n",
    "\n",
    "#print(Theta)\n",
    "#print(X)\n",
    "#print(Y)\n",
    "c = coste(Theta, X_1, Y)\n",
    "grad = gradiente(Theta, X_1, Y)\n",
    "print('Coste = {}'.format(c))\n",
    "print('Gradiente = {}'.format(grad))"
   ]
  },
  {
   "cell_type": "code",
   "execution_count": 64,
   "id": "7f0990a2",
   "metadata": {
    "scrolled": true
   },
   "outputs": [
    {
     "name": "stdout",
     "output_type": "stream",
     "text": [
      "Coste = 0.2034977015894742\n"
     ]
    },
    {
     "name": "stderr",
     "output_type": "stream",
     "text": [
      "  NIT   NF   F                       GTG\n",
      "    0    1  6.931471805599452E-01   2.71082898E+02\n",
      "    1    3  6.318123602631437E-01   7.89087138E-01\n",
      "    2    5  5.892425253787787E-01   7.39226276E+01\n",
      "    3    7  4.227824271444970E-01   1.85266106E+01\n",
      "    4    9  4.072926933994032E-01   1.68671147E+01\n",
      "    5   11  3.818854987081869E-01   1.07735045E+01\n",
      "    6   13  3.786234899431667E-01   2.31584951E+01\n",
      "tnc: stepmx = 1000\n",
      "    7   16  2.389268133280452E-01   3.00821605E+00\n",
      "    8   18  2.047203870922401E-01   1.52226276E-01\n",
      "    9   20  2.046713887364524E-01   6.62493298E-02\n",
      "   10   22  2.035303168599959E-01   9.30777857E-04\n",
      "tnc: fscale = 32.7776\n",
      "   11   24  2.035293527529622E-01   8.07314502E-06\n",
      "   12   26  2.035251121514149E-01   1.80201329E-04\n",
      "   13   28  2.034984102320014E-01   5.02793907E-04\n",
      "   14   30  2.034978376531629E-01   9.87813968E-06\n",
      "   15   32  2.034977904403664E-01   3.76851864E-06\n",
      "   16   34  2.034977385394361E-01   1.93826971E-05\n",
      "   17   36  2.034977015894742E-01   2.42863638E-13\n",
      "tnc: |pg| = 1.5035e-08 -> local minimum\n",
      "   17   36  2.034977015894742E-01   2.42863638E-13\n",
      "tnc: Local minima reach (|pg| ~= 0)\n"
     ]
    }
   ],
   "source": [
    "result = opt.fmin_tnc(func=coste, x0=Theta, fprime=gradiente, args=(X_1,Y))\n",
    "Theta_opt=result[0]\n",
    "coste_opt = coste(Theta_opt, X_1, Y)\n",
    "print('Coste = {}'.format(coste_opt))"
   ]
  },
  {
   "cell_type": "code",
   "execution_count": 65,
   "id": "1e4a5b50",
   "metadata": {},
   "outputs": [],
   "source": [
    "def pinta_frontera_recta(X, Y, theta):\n",
    "   # plt.figure()\n",
    "    x1_min, x1_max = X[:, 0].min(), X[:, 0].max()\n",
    "    x2_min, x2_max = X[:, 1].min(), X[:, 1].max()\n",
    "\n",
    "    xx1, xx2 = np.meshgrid(np.linspace(x1_min, x1_max),\n",
    "    np.linspace(x2_min, x2_max))\n",
    "\n",
    "    h = sigmoide(np.c_[np.ones((xx1.ravel().shape[0], 1)),\n",
    "    xx1.ravel(),\n",
    "    xx2.ravel()].dot(theta))\n",
    "    h = h.reshape(xx1.shape)\n",
    "\n",
    "    # el cuarto parámetro es el valor de z cuya frontera se\n",
    "    # quiere pintar\n",
    "    plt.contour(xx1, xx2, h, [0.5], linewidths=1, colors='b')\n",
    "    \n",
    "    #plt.savefig(\"frontera.pdf\")\n",
    "    #plt.show()\n",
    "    #plt.close()"
   ]
  },
  {
   "cell_type": "code",
   "execution_count": 66,
   "id": "6ba32277",
   "metadata": {},
   "outputs": [
    {
     "data": {
      "text/plain": [
       "<matplotlib.legend.Legend at 0x125303c40>"
      ]
     },
     "execution_count": 66,
     "metadata": {},
     "output_type": "execute_result"
    },
    {
     "data": {
      "image/png": "[encoded data removed]",
      "text/plain": [
       "<Figure size 432x288 with 1 Axes>"
      ]
     },
     "metadata": {
      "needs_background": "light"
     },
     "output_type": "display_data"
    }
   ],
   "source": [
    "pinta_frontera_recta(X, Y, Theta_opt)\n",
    "\n",
    "pos_plus = np.where(Y==1)\n",
    "pos_min = np.where(Y==0)\n",
    "\n",
    "plt.scatter(X[pos_plus, 0], X[pos_plus, 1], marker ='+', c='k', label ='Admitted')\n",
    "plt.scatter(X[pos_min, 0], X[pos_min, 1], c='green', label = 'Not admitted')\n",
    "plt.xlabel('Exam 1 score')\n",
    "plt.ylabel('Exam 2 score')\n",
    "plt.legend(loc = 'best', bbox_to_anchor=(1,1))"
   ]
  },
  {
   "cell_type": "code",
   "execution_count": 67,
   "id": "a42bbd7f",
   "metadata": {},
   "outputs": [],
   "source": [
    "def evaluacion(theta, X, Y):\n",
    "    prediccion = sigmoide(np.matmul(theta, np.transpose(X)))\n",
    "    prediccion[prediccion >= 0.5] = 1\n",
    "    prediccion[prediccion < 0.5] = 0\n",
    "    porcentaje = np.asarray(np.where(prediccion == Y)).size\n",
    "    return  (porcentaje / len(Y))*100"
   ]
  },
  {
   "cell_type": "code",
   "execution_count": 68,
   "id": "09f48a60",
   "metadata": {
    "scrolled": true
   },
   "outputs": [
    {
     "name": "stdout",
     "output_type": "stream",
     "text": [
      "El porcentaje de ejemplos de entrenamientos que se clasifican correctamente es: 89.0%\n"
     ]
    }
   ],
   "source": [
    "porcentaje_aciertos = evaluacion(Theta_opt, X_1, Y)\n",
    "print(\"El porcentaje de ejemplos de entrenamientos que se clasifican correctamente es: {}%\".format(porcentaje_aciertos))"
   ]
  },
  {
   "cell_type": "markdown",
   "id": "afa1ca62",
   "metadata": {},
   "source": [
    "## Ejercicio 2"
   ]
  },
  {
   "cell_type": "code",
   "execution_count": 69,
   "id": "d69b1483",
   "metadata": {},
   "outputs": [
    {
     "data": {
      "text/plain": [
       "<matplotlib.legend.Legend at 0x125433ee0>"
      ]
     },
     "execution_count": 69,
     "metadata": {},
     "output_type": "execute_result"
    },
    {
     "data": {
      "image/png": "[encoded data removed]",
      "text/plain": [
       "<Figure size 432x288 with 1 Axes>"
      ]
     },
     "metadata": {
      "needs_background": "light"
     },
     "output_type": "display_data"
    }
   ],
   "source": [
    "datos = carga_csv('ex2data2.csv')\n",
    "X, Y, m, n = dataProcessing(datos)\n",
    "\n",
    "pos_plus = np.where(Y==1)\n",
    "pos_min = np.where(Y==0)\n",
    "\n",
    "plt.scatter(X[pos_plus, 0], X[pos_plus, 1], marker ='+', c='k', label ='y = 1')\n",
    "plt.scatter(X[pos_min, 0], X[pos_min, 1], c='green', label = 'y = 0')\n",
    "plt.xlabel('Microchip test 1')\n",
    "plt.ylabel('Microchip test 1')\n",
    "plt.legend(loc = 'best', bbox_to_anchor=(1,1))"
   ]
  },
  {
   "cell_type": "code",
   "execution_count": 70,
   "id": "a291eb6e",
   "metadata": {},
   "outputs": [
    {
     "data": {
      "text/plain": [
       "array([[ 1.00000000e+00,  5.12670000e-02,  6.99560000e-01, ...,\n",
       "         6.29470940e-04,  8.58939846e-03,  1.17205992e-01],\n",
       "       [ 1.00000000e+00, -9.27420000e-02,  6.84940000e-01, ...,\n",
       "         1.89305413e-03, -1.39810280e-02,  1.03255971e-01],\n",
       "       [ 1.00000000e+00, -2.13710000e-01,  6.92250000e-01, ...,\n",
       "         1.04882142e-02, -3.39734512e-02,  1.10046893e-01],\n",
       "       ...,\n",
       "       [ 1.00000000e+00, -4.84450000e-01,  9.99270000e-01, ...,\n",
       "         2.34007252e-01, -4.82684337e-01,  9.95627986e-01],\n",
       "       [ 1.00000000e+00, -6.33640000e-03,  9.99270000e-01, ...,\n",
       "         4.00328554e-05, -6.31330588e-03,  9.95627986e-01],\n",
       "       [ 1.00000000e+00,  6.32650000e-01, -3.06120000e-02, ...,\n",
       "         3.51474517e-07, -1.70067777e-08,  8.22905998e-10]])"
      ]
     },
     "execution_count": 70,
     "metadata": {},
     "output_type": "execute_result"
    }
   ],
   "source": [
    "poly = PolynomialFeatures(6)\n",
    "poly.fit_transform(X)"
   ]
  },
  {
   "cell_type": "code",
   "execution_count": 71,
   "id": "9cff3151",
   "metadata": {},
   "outputs": [],
   "source": [
    "def coste_reg(Theta, X, y, Lambda):\n",
    "    Term1 = coste(Theta, X, y)\n",
    "    Term2 = (Lambda/(2*len(y))) * np.sum(Theta**2)\n",
    "    cost = Term1 + Term2\n",
    "    return cost "
   ]
  },
  {
   "cell_type": "code",
   "execution_count": 72,
   "id": "66d39729",
   "metadata": {},
   "outputs": [],
   "source": [
    "def gradiente_reg(Theta, X, y, Lambda):\n",
    "    grad = gradiente(Theta, X, y)\n",
    "    for i in range(len(grad)):\n",
    "        if i != 0:\n",
    "            grad[i] += (Lambda*Theta[i])/2*len(y)\n",
    "    return grad"
   ]
  },
  {
   "cell_type": "code",
   "execution_count": 73,
   "id": "6a9ccc78",
   "metadata": {},
   "outputs": [],
   "source": [
    "X_1 = np.hstack([np.ones([m, 1]), X])"
   ]
  },
  {
   "cell_type": "code",
   "execution_count": 74,
   "id": "939bb7f7",
   "metadata": {},
   "outputs": [
    {
     "name": "stdout",
     "output_type": "stream",
     "text": [
      "Coste = 0.6931471805599453\n",
      "Gradiente = [8.47457627e-03 1.87880932e-02 7.77711864e-05]\n"
     ]
    }
   ],
   "source": [
    "Theta = np.zeros(n+1)\n",
    "Lambda = 1\n",
    "c = coste_reg(Theta, X_1, Y, Lambda)\n",
    "grad = gradiente_reg(Theta, X_1, Y, Lambda)\n",
    "print('Coste = {}'.format(c))\n",
    "print('Gradiente = {}'.format(grad))"
   ]
  },
  {
   "cell_type": "code",
   "execution_count": 75,
   "id": "3f09fab2",
   "metadata": {},
   "outputs": [
    {
     "name": "stdout",
     "output_type": "stream",
     "text": [
      "[-3.38736533e-02 -3.10457672e-04  6.66167304e-05]\n",
      "Coste = 0.6930026155620485\n"
     ]
    },
    {
     "name": "stderr",
     "output_type": "stream",
     "text": [
      "  NIT   NF   F                       GTG\n",
      "    0    1  6.931471805599453E-01   4.24816938E-04\n",
      "tnc: fscale = 48.5176\n",
      "    1    3  6.931385436122925E-01   8.54450271E-05\n",
      "    2    5  6.930026155620485E-01   6.07503586E-06\n",
      "    2   36  6.930026155620485E-01   6.07503586E-06\n",
      "tnc: Linear search failed\n"
     ]
    }
   ],
   "source": [
    "result = opt.fmin_tnc(func=coste_reg, x0=Theta, fprime=gradiente_reg, args=(X_1,Y,Lambda))\n",
    "Theta_opt=result[0]\n",
    "print(Theta_opt)\n",
    "coste_opt = coste_reg(Theta_opt, X_1, Y, Lambda)\n",
    "print('Coste = {}'.format(coste_opt))"
   ]
  },
  {
   "cell_type": "code",
   "execution_count": 76,
   "id": "b5ca51cc",
   "metadata": {},
   "outputs": [],
   "source": [
    "def plot_decisionboundary(X, Y, theta, poly):\n",
    "    plt.figure()\n",
    "    x1_min, x1_max = X[:, 0].min(), X[:, 0].max()\n",
    "    x2_min, x2_max = X[:, 1].min(), X[:, 1].max()\n",
    "    xx1, xx2 = np.meshgrid(np.linspace(x1_min, x1_max),\n",
    "    np.linspace(x2_min, x2_max))\n",
    "    h = sigmoide(poly.fit_transform(np.c_[xx1.ravel(),xx2.ravel()]).dot(theta))\n",
    "    h = h.reshape(xx1.shape)\n",
    "    plt.contour(xx1, xx2, h, [0.5], linewidths=1, colors='g')\n",
    "    plt.savefig(\"boundary.pdf\")\n",
    "    plt.close()"
   ]
  },
  {
   "cell_type": "code",
   "execution_count": 77,
   "id": "9be287b8",
   "metadata": {},
   "outputs": [
    {
     "ename": "ValueError",
     "evalue": "shapes (2500,28) and (3,) not aligned: 28 (dim 1) != 3 (dim 0)",
     "output_type": "error",
     "traceback": [
      "\u001b[0;31m---------------------------------------------------------------------------\u001b[0m",
      "\u001b[0;31mValueError\u001b[0m                                Traceback (most recent call last)",
      "\u001b[0;32m/var/folders/_p/hpd4pd_50gl_bqns_1wpbswr0000gn/T/ipykernel_17445/427651571.py\u001b[0m in \u001b[0;36m<module>\u001b[0;34m\u001b[0m\n\u001b[0;32m----> 1\u001b[0;31m \u001b[0mplot_decisionboundary\u001b[0m\u001b[0;34m(\u001b[0m\u001b[0mX\u001b[0m\u001b[0;34m,\u001b[0m \u001b[0mY\u001b[0m\u001b[0;34m,\u001b[0m \u001b[0mTheta_opt\u001b[0m\u001b[0;34m,\u001b[0m \u001b[0mpoly\u001b[0m\u001b[0;34m)\u001b[0m\u001b[0;34m\u001b[0m\u001b[0;34m\u001b[0m\u001b[0m\n\u001b[0m\u001b[1;32m      2\u001b[0m \u001b[0;34m\u001b[0m\u001b[0m\n\u001b[1;32m      3\u001b[0m \u001b[0mpos_plus\u001b[0m \u001b[0;34m=\u001b[0m \u001b[0mnp\u001b[0m\u001b[0;34m.\u001b[0m\u001b[0mwhere\u001b[0m\u001b[0;34m(\u001b[0m\u001b[0mY\u001b[0m\u001b[0;34m==\u001b[0m\u001b[0;36m1\u001b[0m\u001b[0;34m)\u001b[0m\u001b[0;34m\u001b[0m\u001b[0;34m\u001b[0m\u001b[0m\n\u001b[1;32m      4\u001b[0m \u001b[0mpos_min\u001b[0m \u001b[0;34m=\u001b[0m \u001b[0mnp\u001b[0m\u001b[0;34m.\u001b[0m\u001b[0mwhere\u001b[0m\u001b[0;34m(\u001b[0m\u001b[0mY\u001b[0m\u001b[0;34m==\u001b[0m\u001b[0;36m0\u001b[0m\u001b[0;34m)\u001b[0m\u001b[0;34m\u001b[0m\u001b[0;34m\u001b[0m\u001b[0m\n\u001b[1;32m      5\u001b[0m \u001b[0;34m\u001b[0m\u001b[0m\n",
      "\u001b[0;32m/var/folders/_p/hpd4pd_50gl_bqns_1wpbswr0000gn/T/ipykernel_17445/1141405081.py\u001b[0m in \u001b[0;36mplot_decisionboundary\u001b[0;34m(X, Y, theta, poly)\u001b[0m\n\u001b[1;32m      5\u001b[0m     xx1, xx2 = np.meshgrid(np.linspace(x1_min, x1_max),\n\u001b[1;32m      6\u001b[0m     np.linspace(x2_min, x2_max))\n\u001b[0;32m----> 7\u001b[0;31m     \u001b[0mh\u001b[0m \u001b[0;34m=\u001b[0m \u001b[0msigmoide\u001b[0m\u001b[0;34m(\u001b[0m\u001b[0mpoly\u001b[0m\u001b[0;34m.\u001b[0m\u001b[0mfit_transform\u001b[0m\u001b[0;34m(\u001b[0m\u001b[0mnp\u001b[0m\u001b[0;34m.\u001b[0m\u001b[0mc_\u001b[0m\u001b[0;34m[\u001b[0m\u001b[0mxx1\u001b[0m\u001b[0;34m.\u001b[0m\u001b[0mravel\u001b[0m\u001b[0;34m(\u001b[0m\u001b[0;34m)\u001b[0m\u001b[0;34m,\u001b[0m\u001b[0mxx2\u001b[0m\u001b[0;34m.\u001b[0m\u001b[0mravel\u001b[0m\u001b[0;34m(\u001b[0m\u001b[0;34m)\u001b[0m\u001b[0;34m]\u001b[0m\u001b[0;34m)\u001b[0m\u001b[0;34m.\u001b[0m\u001b[0mdot\u001b[0m\u001b[0;34m(\u001b[0m\u001b[0mtheta\u001b[0m\u001b[0;34m)\u001b[0m\u001b[0;34m)\u001b[0m\u001b[0;34m\u001b[0m\u001b[0;34m\u001b[0m\u001b[0m\n\u001b[0m\u001b[1;32m      8\u001b[0m     \u001b[0mh\u001b[0m \u001b[0;34m=\u001b[0m \u001b[0mh\u001b[0m\u001b[0;34m.\u001b[0m\u001b[0mreshape\u001b[0m\u001b[0;34m(\u001b[0m\u001b[0mxx1\u001b[0m\u001b[0;34m.\u001b[0m\u001b[0mshape\u001b[0m\u001b[0;34m)\u001b[0m\u001b[0;34m\u001b[0m\u001b[0;34m\u001b[0m\u001b[0m\n\u001b[1;32m      9\u001b[0m     \u001b[0mplt\u001b[0m\u001b[0;34m.\u001b[0m\u001b[0mcontour\u001b[0m\u001b[0;34m(\u001b[0m\u001b[0mxx1\u001b[0m\u001b[0;34m,\u001b[0m \u001b[0mxx2\u001b[0m\u001b[0;34m,\u001b[0m \u001b[0mh\u001b[0m\u001b[0;34m,\u001b[0m \u001b[0;34m[\u001b[0m\u001b[0;36m0.5\u001b[0m\u001b[0;34m]\u001b[0m\u001b[0;34m,\u001b[0m \u001b[0mlinewidths\u001b[0m\u001b[0;34m=\u001b[0m\u001b[0;36m1\u001b[0m\u001b[0;34m,\u001b[0m \u001b[0mcolors\u001b[0m\u001b[0;34m=\u001b[0m\u001b[0;34m'g'\u001b[0m\u001b[0;34m)\u001b[0m\u001b[0;34m\u001b[0m\u001b[0;34m\u001b[0m\u001b[0m\n",
      "\u001b[0;31mValueError\u001b[0m: shapes (2500,28) and (3,) not aligned: 28 (dim 1) != 3 (dim 0)"
     ]
    },
    {
     "data": {
      "text/plain": [
       "<Figure size 432x288 with 0 Axes>"
      ]
     },
     "metadata": {},
     "output_type": "display_data"
    }
   ],
   "source": [
    "plot_decisionboundary(X, Y, Theta_opt, poly)\n",
    "\n",
    "pos_plus = np.where(Y==1)\n",
    "pos_min = np.where(Y==0)\n",
    "\n",
    "plt.scatter(X[pos_plus, 0], X[pos_plus, 1], marker ='+', c='k', label ='y = 1')\n",
    "plt.scatter(X[pos_min, 0], X[pos_min, 1], c='green', label = 'y = 0')\n",
    "plt.xlabel('Microchip test 1')\n",
    "plt.ylabel('Microchip test 1')\n",
    "plt.legend(loc = 'best', bbox_to_anchor=(1,1))"
   ]
  },
  {
   "cell_type": "code",
   "execution_count": null,
   "id": "50030bdb",
   "metadata": {},
   "outputs": [],
   "source": []
  }
 ],
 "metadata": {
  "kernelspec": {
   "display_name": "Python 3 (ipykernel)",
   "language": "python",
   "name": "python3"
  },
  "language_info": {
   "codemirror_mode": {
    "name": "ipython",
    "version": 3
   },
   "file_extension": ".py",
   "mimetype": "text/x-python",
   "name": "python",
   "nbconvert_exporter": "python",
   "pygments_lexer": "ipython3",
   "version": "3.9.7"
  }
 },
 "nbformat": 4,
 "nbformat_minor": 5
}
