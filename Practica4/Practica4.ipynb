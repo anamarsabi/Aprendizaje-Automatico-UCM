{
 "cells": [
  {
   "cell_type": "markdown",
   "id": "d9c4f616",
   "metadata": {},
   "source": [
    "# Practica 4"
   ]
  },
  {
   "cell_type": "code",
   "execution_count": 2,
   "id": "7bccd685",
   "metadata": {},
   "outputs": [],
   "source": [
    "from scipy.io import loadmat\n",
    "import numpy as np\n",
    "import matplotlib.pyplot as plt\n",
    "import scipy.optimize as opt"
   ]
  },
  {
   "cell_type": "code",
   "execution_count": 3,
   "id": "ef04fab2",
   "metadata": {},
   "outputs": [],
   "source": [
    "weights = loadmat('ex4weights.mat')\n",
    "theta1, theta2 = weights['Theta1'], weights['Theta2']\n",
    "\n",
    "data = loadmat('ex4data1.mat')\n",
    "y = data['y']\n",
    "X = data['X']"
   ]
  },
  {
   "cell_type": "code",
   "execution_count": 4,
   "id": "21cba81a",
   "metadata": {},
   "outputs": [],
   "source": [
    "y = np.ravel(y)\n",
    "m=len(y)\n",
    "X_1 = np.hstack([np.ones([m, 1]), X])"
   ]
  },
  {
   "cell_type": "code",
   "execution_count": 6,
   "id": "bbd8db96",
   "metadata": {},
   "outputs": [],
   "source": [
    "def sigmoide(z):\n",
    "    return (1.0/(1.0+np.exp(-z)))"
   ]
  },
  {
   "cell_type": "code",
   "execution_count": 7,
   "id": "6f108b57",
   "metadata": {},
   "outputs": [],
   "source": [
    "a_1 = X_1;\n",
    "z_2 = np.matmul(a_1, theta1.T)\n",
    "a_2 = sigmoide(z_2)\n",
    "a_2 = np.hstack([np.ones([len(a_2), 1]), a_2])\n",
    "z_3 = np.matmul(a_2, theta2.T)\n",
    "a_3 = sigmoide(z_3)"
   ]
  },
  {
   "cell_type": "code",
   "execution_count": null,
   "id": "fa4b6940",
   "metadata": {},
   "outputs": [],
   "source": [
    "def coste(H, y, m):\n",
    "    "
   ]
  }
 ],
 "metadata": {
  "kernelspec": {
   "display_name": "Python 3",
   "language": "python",
   "name": "python3"
  },
  "language_info": {
   "codemirror_mode": {
    "name": "ipython",
    "version": 3
   },
   "file_extension": ".py",
   "mimetype": "text/x-python",
   "name": "python",
   "nbconvert_exporter": "python",
   "pygments_lexer": "ipython3",
   "version": "3.8.8"
  }
 },
 "nbformat": 4,
 "nbformat_minor": 5
}
