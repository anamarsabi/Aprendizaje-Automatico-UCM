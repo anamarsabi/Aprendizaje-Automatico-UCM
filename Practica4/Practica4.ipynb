{
 "cells": [
  {
   "cell_type": "markdown",
   "id": "d9c4f616",
   "metadata": {},
   "source": [
    "# Practica 4"
   ]
  },
  {
   "cell_type": "markdown",
   "id": "83e9b06b",
   "metadata": {},
   "source": [
    "np.multiply hace multiplicacion elemento a elemento. Para hacer esto, no usar dot ni matmul"
   ]
  },
  {
   "cell_type": "code",
   "execution_count": 103,
   "id": "7bccd685",
   "metadata": {},
   "outputs": [],
   "source": [
    "from scipy.io import loadmat\n",
    "import numpy as np\n",
    "import matplotlib.pyplot as plt\n",
    "import scipy.optimize as opt\n",
    "import checkNNGradients as checkGradiente"
   ]
  },
  {
   "cell_type": "code",
   "execution_count": 104,
   "id": "ef04fab2",
   "metadata": {},
   "outputs": [],
   "source": [
    "weights = loadmat('ex4weights.mat')\n",
    "theta1, theta2 = weights['Theta1'], weights['Theta2']\n",
    "\n",
    "data = loadmat('ex4data1.mat')\n",
    "y = data['y']\n",
    "X = data['X']"
   ]
  },
  {
   "cell_type": "code",
   "execution_count": 105,
   "id": "21cba81a",
   "metadata": {},
   "outputs": [],
   "source": [
    "y = np.ravel(y)\n",
    "m=len(y)\n",
    "X_1 = np.hstack([np.ones([m, 1]), X])"
   ]
  },
  {
   "cell_type": "code",
   "execution_count": 106,
   "id": "bbd8db96",
   "metadata": {},
   "outputs": [],
   "source": [
    "def sigmoide(z):\n",
    "    return (1.0/(1.0+np.exp(-z)))"
   ]
  },
  {
   "cell_type": "code",
   "execution_count": 107,
   "id": "6f108b57",
   "metadata": {},
   "outputs": [],
   "source": [
    "def forwardprop(X_1, theta1, theta2):\n",
    "    a_1 = X_1;\n",
    "    z_2 = np.matmul(a_1, theta1.T)\n",
    "    a_2 = sigmoide(z_2)\n",
    "    a_2 = np.hstack([np.ones([len(a_2), 1]), a_2])\n",
    "    z_3 = np.matmul(a_2, theta2.T)\n",
    "    a_3 = sigmoide(z_3)\n",
    "    return a_1, z_2, a_2, z_3, a_3"
   ]
  },
  {
   "cell_type": "code",
   "execution_count": 108,
   "id": "45384cd5",
   "metadata": {},
   "outputs": [],
   "source": [
    "a_1, z_2, a_2, z_3, a_3 = forwardprop(X_1, theta1, theta2)"
   ]
  },
  {
   "cell_type": "code",
   "execution_count": 109,
   "id": "ab84954e",
   "metadata": {
    "scrolled": true
   },
   "outputs": [
    {
     "name": "stdout",
     "output_type": "stream",
     "text": [
      "(5000, 10)\n"
     ]
    }
   ],
   "source": [
    "print(a_3.shape)"
   ]
  },
  {
   "cell_type": "code",
   "execution_count": 110,
   "id": "fd9352ce",
   "metadata": {},
   "outputs": [],
   "source": [
    "def yOneHot(y, num_etiquetas):\n",
    "    y = (y-1)\n",
    "    y_onehot = np.zeros((m, num_etiquetas)) #Matriz 5000 x 10\n",
    "    for i in range(m):\n",
    "        y_onehot[i][y[i]] = 1\n",
    "    return y_onehot"
   ]
  },
  {
   "cell_type": "code",
   "execution_count": 111,
   "id": "fa4b6940",
   "metadata": {},
   "outputs": [],
   "source": [
    "def coste(H, y, m):\n",
    "    Term1 = y * np.log(H) \n",
    "    Term2 =  (1 - y) * np.log(1 - H)\n",
    "    cost = ( 1 / m) * np.sum(-Term1 - Term2)\n",
    "    return cost"
   ]
  },
  {
   "cell_type": "code",
   "execution_count": 112,
   "id": "71e46af8",
   "metadata": {},
   "outputs": [
    {
     "name": "stdout",
     "output_type": "stream",
     "text": [
      "0.2876291651613189\n"
     ]
    }
   ],
   "source": [
    "y_ = yOneHot(y, 10)\n",
    "cost = coste(a_3, y_,m)\n",
    "print(cost)"
   ]
  },
  {
   "cell_type": "code",
   "execution_count": 113,
   "id": "a5f2b233",
   "metadata": {},
   "outputs": [],
   "source": [
    "def coste_reg(theta1, theta2, coste, lamb, m):\n",
    "    reg = (np.sum(np.power(theta1[:, 1:], 2)) + np.sum(np.power(theta2[:, 1:], 2))) \n",
    "    coste_reg = coste + (reg* (lamb/(2*m)))\n",
    "    return coste_reg"
   ]
  },
  {
   "cell_type": "code",
   "execution_count": 115,
   "id": "653d062a",
   "metadata": {
    "scrolled": true
   },
   "outputs": [
    {
     "name": "stdout",
     "output_type": "stream",
     "text": [
      "0.38376985909092365\n"
     ]
    }
   ],
   "source": [
    "coste_reg = coste_reg(theta1, theta2, cost, 1, m)\n",
    "print(coste_reg)"
   ]
  },
  {
   "cell_type": "code",
   "execution_count": 122,
   "id": "2f6a4a5a",
   "metadata": {},
   "outputs": [],
   "source": [
    "def func_g(z):\n",
    "    ones = np.ones(z.shape)\n",
    "    a = sigmoide(z)\n",
    "    return a*(ones-a)"
   ]
  },
  {
   "cell_type": "code",
   "execution_count": 125,
   "id": "d73574b6",
   "metadata": {},
   "outputs": [],
   "source": [
    "def backprop(params_rn, num_entradas, num_ocultas, num_etiquetas, X, y, reg):\n",
    "    Theta1 = np.reshape(params_rn[:num_ocultas * (num_entradas + 1)],(num_ocultas, (num_entradas + 1)))\n",
    "    Theta2 = np.reshape(params_rn[num_ocultas * (num_entradas + 1):],(num_etiquetas, (num_ocultas + 1)))\n",
    "    \n",
    "    #Forward propagation\n",
    "    a_1, z_2, a_2, z_3, a_3 = forwardprop(X_1, theta1, theta2)\n",
    "    \n",
    "    #Backward propagation\n",
    "    sigma_3 = a_3 - y\n",
    "    sigma_2 = np.matmul(theta2.T[1:, :], sigma_3.T) * func_g(z_2).T\n",
    "    \n",
    "    delta_1 = np.zeros(theta1.shape)\n",
    "    delta_2 = np.zeros(theta2.shape)\n",
    "    \n",
    "    delta_1 = delta_1 + np.matmul(sigma_2, a_1)\n",
    "    delta_2 = delta_2 + np.matmul(sigma_3.T, a_2)\n",
    "    \n",
    "    grad_1 = (1/len(y))*np.sum(delta_1)\n",
    "    grad_2 = (1/len(y))*np.sum(delta_2)\n",
    "    \n",
    "    gradiente = np.concatenate((grad_1, grad_2), axis = None)\n",
    "    \n",
    "    m = len(y)\n",
    "    cost = coste(a_3, y, m)\n",
    "    \n",
    "    return (cost, gradiente)"
   ]
  },
  {
   "cell_type": "code",
   "execution_count": 126,
   "id": "eb1472ea",
   "metadata": {
    "scrolled": true
   },
   "outputs": [
    {
     "name": "stdout",
     "output_type": "stream",
     "text": [
      "(0.2876291651613189, array([-0.04277453,  0.06882196]))\n"
     ]
    }
   ],
   "source": [
    "print(backprop(params_rn, 400, 25, 10, X_1, y_, 0))"
   ]
  },
  {
   "cell_type": "code",
   "execution_count": 127,
   "id": "874e9793",
   "metadata": {},
   "outputs": [
    {
     "ename": "ValueError",
     "evalue": "operands could not be broadcast together with shapes (5000,10) (5,3) ",
     "output_type": "error",
     "traceback": [
      "\u001b[1;31m---------------------------------------------------------------------------\u001b[0m",
      "\u001b[1;31mValueError\u001b[0m                                Traceback (most recent call last)",
      "\u001b[1;32m~\\AppData\\Local\\Temp/ipykernel_7412/3086514503.py\u001b[0m in \u001b[0;36m<module>\u001b[1;34m\u001b[0m\n\u001b[0;32m      1\u001b[0m \u001b[0mparams_rn\u001b[0m \u001b[1;33m=\u001b[0m  \u001b[0mnp\u001b[0m\u001b[1;33m.\u001b[0m\u001b[0mconcatenate\u001b[0m\u001b[1;33m(\u001b[0m\u001b[1;33m(\u001b[0m\u001b[0mtheta1\u001b[0m\u001b[1;33m,\u001b[0m \u001b[0mtheta2\u001b[0m\u001b[1;33m)\u001b[0m\u001b[1;33m,\u001b[0m \u001b[0maxis\u001b[0m \u001b[1;33m=\u001b[0m \u001b[1;32mNone\u001b[0m\u001b[1;33m)\u001b[0m\u001b[1;33m\u001b[0m\u001b[1;33m\u001b[0m\u001b[0m\n\u001b[1;32m----> 2\u001b[1;33m \u001b[0mprint\u001b[0m\u001b[1;33m(\u001b[0m\u001b[0mcheckGradiente\u001b[0m\u001b[1;33m.\u001b[0m\u001b[0mcheckNNGradients\u001b[0m\u001b[1;33m(\u001b[0m\u001b[0mbackprop\u001b[0m\u001b[1;33m,\u001b[0m \u001b[1;36m0\u001b[0m\u001b[1;33m)\u001b[0m\u001b[1;33m)\u001b[0m\u001b[1;33m\u001b[0m\u001b[1;33m\u001b[0m\u001b[0m\n\u001b[0m",
      "\u001b[1;32m~\\Documents\\GitHub\\Aprendizaje-Automatico-UCM\\Practica4\\checkNNGradients.py\u001b[0m in \u001b[0;36mcheckNNGradients\u001b[1;34m(costNN, reg_param)\u001b[0m\n\u001b[0;32m     74\u001b[0m \u001b[1;33m\u001b[0m\u001b[0m\n\u001b[0;32m     75\u001b[0m     \u001b[1;31m# Compute Cost\u001b[0m\u001b[1;33m\u001b[0m\u001b[1;33m\u001b[0m\u001b[0m\n\u001b[1;32m---> 76\u001b[1;33m     cost, grad = costNN(nn_params,\n\u001b[0m\u001b[0;32m     77\u001b[0m                         \u001b[0minput_layer_size\u001b[0m\u001b[1;33m,\u001b[0m\u001b[1;33m\u001b[0m\u001b[1;33m\u001b[0m\u001b[0m\n\u001b[0;32m     78\u001b[0m                         \u001b[0mhidden_layer_size\u001b[0m\u001b[1;33m,\u001b[0m\u001b[1;33m\u001b[0m\u001b[1;33m\u001b[0m\u001b[0m\n",
      "\u001b[1;32m~\\AppData\\Local\\Temp/ipykernel_7412/476944654.py\u001b[0m in \u001b[0;36mbackprop\u001b[1;34m(params_rn, num_entradas, num_ocultas, num_etiquetas, X, y, reg)\u001b[0m\n\u001b[0;32m      7\u001b[0m \u001b[1;33m\u001b[0m\u001b[0m\n\u001b[0;32m      8\u001b[0m     \u001b[1;31m#Backward propagation\u001b[0m\u001b[1;33m\u001b[0m\u001b[1;33m\u001b[0m\u001b[0m\n\u001b[1;32m----> 9\u001b[1;33m     \u001b[0msigma_3\u001b[0m \u001b[1;33m=\u001b[0m \u001b[0ma_3\u001b[0m \u001b[1;33m-\u001b[0m \u001b[0my\u001b[0m\u001b[1;33m\u001b[0m\u001b[1;33m\u001b[0m\u001b[0m\n\u001b[0m\u001b[0;32m     10\u001b[0m     \u001b[0msigma_2\u001b[0m \u001b[1;33m=\u001b[0m \u001b[0mnp\u001b[0m\u001b[1;33m.\u001b[0m\u001b[0mmatmul\u001b[0m\u001b[1;33m(\u001b[0m\u001b[0mtheta2\u001b[0m\u001b[1;33m.\u001b[0m\u001b[0mT\u001b[0m\u001b[1;33m[\u001b[0m\u001b[1;36m1\u001b[0m\u001b[1;33m:\u001b[0m\u001b[1;33m,\u001b[0m \u001b[1;33m:\u001b[0m\u001b[1;33m]\u001b[0m\u001b[1;33m,\u001b[0m \u001b[0msigma_3\u001b[0m\u001b[1;33m.\u001b[0m\u001b[0mT\u001b[0m\u001b[1;33m)\u001b[0m \u001b[1;33m*\u001b[0m \u001b[0mfunc_g\u001b[0m\u001b[1;33m(\u001b[0m\u001b[0mz_2\u001b[0m\u001b[1;33m)\u001b[0m\u001b[1;33m.\u001b[0m\u001b[0mT\u001b[0m\u001b[1;33m\u001b[0m\u001b[1;33m\u001b[0m\u001b[0m\n\u001b[0;32m     11\u001b[0m \u001b[1;33m\u001b[0m\u001b[0m\n",
      "\u001b[1;31mValueError\u001b[0m: operands could not be broadcast together with shapes (5000,10) (5,3) "
     ]
    }
   ],
   "source": [
    "params_rn =  np.concatenate((theta1, theta2), axis = None)\n",
    "print(checkGradiente.checkNNGradients(backprop, 0))"
   ]
  },
  {
   "cell_type": "code",
   "execution_count": null,
   "id": "7dbf7ba4",
   "metadata": {},
   "outputs": [],
   "source": []
  }
 ],
 "metadata": {
  "kernelspec": {
   "display_name": "Python 3 (ipykernel)",
   "language": "python",
   "name": "python3"
  },
  "language_info": {
   "codemirror_mode": {
    "name": "ipython",
    "version": 3
   },
   "file_extension": ".py",
   "mimetype": "text/x-python",
   "name": "python",
   "nbconvert_exporter": "python",
   "pygments_lexer": "ipython3",
   "version": "3.9.7"
  }
 },
 "nbformat": 4,
 "nbformat_minor": 5
}
