{
 "cells": [
  {
   "cell_type": "markdown",
   "id": "d9c4f616",
   "metadata": {},
   "source": [
    "# Practica 4"
   ]
  },
  {
   "cell_type": "markdown",
   "id": "83e9b06b",
   "metadata": {},
   "source": [
    "np.multiply hace multiplicacion elemento a elemento. Para hacer esto, no usar dot ni matmul"
   ]
  },
  {
   "cell_type": "code",
   "execution_count": null,
   "id": "7bccd685",
   "metadata": {},
   "outputs": [],
   "source": [
    "from scipy.io import loadmat\n",
    "import numpy as np\n",
    "import matplotlib.pyplot as plt\n",
    "import scipy.optimize as opt\n",
    "import checkNNGradients as checkGradiente"
   ]
  },
  {
   "cell_type": "code",
   "execution_count": null,
   "id": "ef04fab2",
   "metadata": {},
   "outputs": [],
   "source": [
    "weights = loadmat('ex4weights.mat')\n",
    "theta1, theta2 = weights['Theta1'], weights['Theta2']\n",
    "\n",
    "data = loadmat('ex4data1.mat')\n",
    "y = data['y']\n",
    "X = data['X']"
   ]
  },
  {
   "cell_type": "code",
   "execution_count": null,
   "id": "21cba81a",
   "metadata": {},
   "outputs": [],
   "source": [
    "y = np.ravel(y)\n",
    "m=len(y)\n",
    "X_1 = np.hstack([np.ones([m, 1]), X])"
   ]
  },
  {
   "cell_type": "code",
   "execution_count": null,
   "id": "bbd8db96",
   "metadata": {},
   "outputs": [],
   "source": [
    "def sigmoide(z):\n",
    "    return (1.0/(1.0+np.exp(-z)))"
   ]
  },
  {
   "cell_type": "code",
   "execution_count": null,
   "id": "6f108b57",
   "metadata": {},
   "outputs": [],
   "source": [
    "def forwardprop(X, theta1, theta2):\n",
    "    X_1 = np.hstack([np.ones([len(X), 1]), X])\n",
    "    a_1 = X_1\n",
    "    z_2 = np.matmul(a_1, theta1.T)\n",
    "    a_2 = sigmoide(z_2)\n",
    "    a_2 = np.hstack([np.ones([len(a_2), 1]), a_2])\n",
    "    z_3 = np.matmul(a_2, theta2.T)\n",
    "    a_3 = sigmoide(z_3)\n",
    "    return a_1, z_2, a_2, z_3, a_3"
   ]
  },
  {
   "cell_type": "code",
   "execution_count": null,
   "id": "45384cd5",
   "metadata": {},
   "outputs": [],
   "source": [
    "a_1, z_2, a_2, z_3, a_3 = forwardprop(X, theta1, theta2)"
   ]
  },
  {
   "cell_type": "code",
   "execution_count": null,
   "id": "ab84954e",
   "metadata": {
    "scrolled": true
   },
   "outputs": [],
   "source": [
    "print(a_3.shape)"
   ]
  },
  {
   "cell_type": "code",
   "execution_count": null,
   "id": "fd9352ce",
   "metadata": {},
   "outputs": [],
   "source": [
    "def yOneHot(y, num_etiquetas):\n",
    "    y = (y-1)\n",
    "    y_onehot = np.zeros((m, num_etiquetas)) #Matriz 5000 x 10\n",
    "    for i in range(m):\n",
    "        y_onehot[i][y[i]] = 1\n",
    "    return y_onehot"
   ]
  },
  {
   "cell_type": "code",
   "execution_count": null,
   "id": "fa4b6940",
   "metadata": {},
   "outputs": [],
   "source": [
    "def coste(H, y, m):\n",
    "    Term1 = y * np.log(H) \n",
    "    Term2 =  (1 - y) * np.log(1 - H)\n",
    "    cost = ( 1 / m) * np.sum(-Term1 - Term2)\n",
    "    return cost"
   ]
  },
  {
   "cell_type": "code",
   "execution_count": null,
   "id": "71e46af8",
   "metadata": {},
   "outputs": [],
   "source": [
    "y_ = yOneHot(y, 10)\n",
    "cost = coste(a_3, y_,m)\n",
    "print(cost)"
   ]
  },
  {
   "cell_type": "code",
   "execution_count": null,
   "id": "a5f2b233",
   "metadata": {},
   "outputs": [],
   "source": [
    "def coste_reg(theta1, theta2, coste, lamb, m):\n",
    "    reg = (np.sum(np.power(theta1[:, 1:], 2)) + np.sum(np.power(theta2[:, 1:], 2))) \n",
    "    coste_reg = coste + (reg* (lamb/(2*m)))\n",
    "    return coste_reg"
   ]
  },
  {
   "cell_type": "code",
   "execution_count": null,
   "id": "653d062a",
   "metadata": {
    "scrolled": true
   },
   "outputs": [],
   "source": [
    "coste_reg = coste_reg(theta1, theta2, cost, 1, m)\n",
    "print(coste_reg)"
   ]
  },
  {
   "cell_type": "code",
   "execution_count": null,
   "id": "2f6a4a5a",
   "metadata": {},
   "outputs": [],
   "source": [
    "def func_g(z):\n",
    "    ones = np.ones(z.shape)\n",
    "    a = sigmoide(z)\n",
    "    return a*(ones-a)"
   ]
  },
  {
   "cell_type": "code",
   "execution_count": null,
   "id": "d73574b6",
   "metadata": {},
   "outputs": [],
   "source": [
    "def backprop(params_rn, num_entradas, num_ocultas, num_etiquetas, X, y, reg):\n",
    "    Theta1 = np.reshape(params_rn[:num_ocultas * (num_entradas + 1)],(num_ocultas, (num_entradas + 1)))\n",
    "    Theta2 = np.reshape(params_rn[num_ocultas * (num_entradas + 1):],(num_etiquetas, (num_ocultas + 1)))\n",
    "    \n",
    "    #Forward propagation\n",
    "    a1, z2, a2, z3, a3 = forwardprop(X, Theta1, Theta2)\n",
    "    \n",
    "    #Backward propagation\n",
    "    sigma_3 = np.array(a3 - y)\n",
    "    sigma_2 = np.matmul(Theta2.T[1:, :], sigma_3.T) * func_g(z2).T\n",
    "    \n",
    "    delta_1 = np.zeros(Theta1.shape)\n",
    "    delta_2 = np.zeros(Theta2.shape)\n",
    "    \n",
    "    delta_1 = delta_1 + np.matmul(sigma_2, a1)\n",
    "    delta_2 = delta_2 + np.matmul(sigma_3.T, a2)\n",
    "    \n",
    "    grad_1 = (1/len(y))*(delta_1) + (reg/len(y))*np.r_[[np.zeros(Theta1.shape[1])],Theta1[1:]]\n",
    "    grad_2 = (1/len(y))*(delta_2) + (reg/len(y))*np.r_[[np.zeros(Theta2.shape[1])],Theta2[1:]]\n",
    "    \n",
    "    gradiente = np.concatenate((grad_1, grad_2), axis = None)\n",
    "    \n",
    "    cost = coste(a3, y, len(y))\n",
    "    \n",
    "    return cost, gradiente"
   ]
  },
  {
   "cell_type": "code",
   "execution_count": null,
   "id": "f99eca9c",
   "metadata": {},
   "outputs": [],
   "source": [
    "params_rn =  np.concatenate((theta1, theta2), axis = None)"
   ]
  },
  {
   "cell_type": "code",
   "execution_count": null,
   "id": "eb1472ea",
   "metadata": {
    "scrolled": true
   },
   "outputs": [],
   "source": [
    "print(backprop(params_rn, 400, 25, 10, X, y_, 0))"
   ]
  },
  {
   "cell_type": "code",
   "execution_count": null,
   "id": "874e9793",
   "metadata": {
    "scrolled": true
   },
   "outputs": [],
   "source": [
    "print(checkGradiente.checkNNGradients(backprop, 0))"
   ]
  },
  {
   "cell_type": "code",
   "execution_count": null,
   "id": "2323b2e8",
   "metadata": {},
   "outputs": [],
   "source": [
    "def inicializacionPesos(L_in, L_out):\n",
    "    c_ini = 0.12\n",
    "    peso = np.random.uniform(-c_ini, c_ini, size = (L_in, L_out))\n",
    "    peso = np.insert(peso,0,1,axis = 0)\n",
    "    return peso"
   ]
  },
  {
   "cell_type": "code",
   "execution_count": null,
   "id": "7dbf7ba4",
   "metadata": {},
   "outputs": [],
   "source": [
    "def aprendizaje(num_entradas, num_ocultas, num_etiquetas, X, Y, reg, it):\n",
    "    theta1 = inicializacionPesos(num_entradas, num_ocultas)\n",
    "    theta2 = inicializacionPesos(num_ocultas, num_etiquetas)\n",
    "    \n",
    "    y_1 = yOneHot(Y, 10)\n",
    "    \n",
    "    params = np.hstack((np.ravel(theta1), np.ravel(theta2)))\n",
    "    result = opt.minimize(fun = backprop, x0 = params, args = (num_entradas, num_ocultas, num_etiquetas, X, y_1, reg), method='TNC', jac = True, options = {'maxiter': it})\n",
    "\n",
    "    Thetas1 = result.x[:(num_ocultas*(num_entradas+1))].reshape(num_ocultas,(num_entradas+1))\n",
    "    Thetas2 = result.x[(num_ocultas*(num_entradas+1)):].reshape(num_etiquetas,(num_ocultas+1))\n",
    "\n",
    "    h = forwardprop(X, Thetas1, Thetas2)[4]\n",
    "\n",
    "    predicciones = h.argmax(axis = 1)\n",
    "\n",
    "    y_ = Y-1\n",
    "    \n",
    "    comparacion = (predicciones == y_)*1\n",
    "\n",
    "    precision = (sum(comparacion) / len(comparacion))*100\n",
    "\n",
    "    print('La precisión es {} % '.format(precision))"
   ]
  },
  {
   "cell_type": "code",
   "execution_count": null,
   "id": "f21c67c9",
   "metadata": {
    "scrolled": true
   },
   "outputs": [],
   "source": [
    "aprendizaje(400, 25, 10, X, y, 1, 70)"
   ]
  },
  {
   "cell_type": "code",
   "execution_count": null,
   "id": "1491deaa",
   "metadata": {},
   "outputs": [],
   "source": []
  }
 ],
 "metadata": {
  "kernelspec": {
   "display_name": "Python 3 (ipykernel)",
   "language": "python",
   "name": "python3"
  },
  "language_info": {
   "codemirror_mode": {
    "name": "ipython",
    "version": 3
   },
   "file_extension": ".py",
   "mimetype": "text/x-python",
   "name": "python",
   "nbconvert_exporter": "python",
   "pygments_lexer": "ipython3",
   "version": "3.9.7"
  }
 },
 "nbformat": 4,
 "nbformat_minor": 5
}
