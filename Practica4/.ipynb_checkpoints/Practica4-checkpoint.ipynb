{
 "cells": [
  {
   "cell_type": "markdown",
   "id": "d9c4f616",
   "metadata": {},
   "source": [
    "# Practica 4"
   ]
  },
  {
   "cell_type": "markdown",
   "id": "83e9b06b",
   "metadata": {},
   "source": [
    "np.multiply hace multiplicacion elemento a elemento. Para hacer esto, no usar dot ni matmul"
   ]
  },
  {
   "cell_type": "code",
   "execution_count": 101,
   "id": "7bccd685",
   "metadata": {},
   "outputs": [],
   "source": [
    "from scipy.io import loadmat\n",
    "import numpy as np\n",
    "import matplotlib.pyplot as plt\n",
    "import scipy.optimize as opt"
   ]
  },
  {
   "cell_type": "code",
   "execution_count": 102,
   "id": "ef04fab2",
   "metadata": {},
   "outputs": [],
   "source": [
    "weights = loadmat('ex4weights.mat')\n",
    "theta1, theta2 = weights['Theta1'], weights['Theta2']\n",
    "\n",
    "data = loadmat('ex4data1.mat')\n",
    "y = data['y']\n",
    "X = data['X']"
   ]
  },
  {
   "cell_type": "code",
   "execution_count": 103,
   "id": "21cba81a",
   "metadata": {},
   "outputs": [],
   "source": [
    "y = np.ravel(y)\n",
    "m=len(y)\n",
    "X_1 = np.hstack([np.ones([m, 1]), X])"
   ]
  },
  {
   "cell_type": "code",
   "execution_count": 104,
   "id": "bbd8db96",
   "metadata": {},
   "outputs": [],
   "source": [
    "def sigmoide(z):\n",
    "    return (1.0/(1.0+np.exp(-z)))"
   ]
  },
  {
   "cell_type": "code",
   "execution_count": 105,
   "id": "6f108b57",
   "metadata": {},
   "outputs": [],
   "source": [
    "a_1 = X_1;\n",
    "z_2 = np.matmul(a_1, theta1.T)\n",
    "a_2 = sigmoide(z_2)\n",
    "a_2 = np.hstack([np.ones([len(a_2), 1]), a_2])\n",
    "z_3 = np.matmul(a_2, theta2.T)\n",
    "a_3 = sigmoide(z_3)"
   ]
  },
  {
   "cell_type": "code",
   "execution_count": 106,
   "id": "ab84954e",
   "metadata": {
    "scrolled": true
   },
   "outputs": [
    {
     "name": "stdout",
     "output_type": "stream",
     "text": [
      "(5000, 10)\n"
     ]
    }
   ],
   "source": [
    "print(a_3.shape)"
   ]
  },
  {
   "cell_type": "code",
   "execution_count": 107,
   "id": "fd9352ce",
   "metadata": {},
   "outputs": [],
   "source": [
    "def yOneHot(y, num_etiquetas):\n",
    "    y = (y-1)\n",
    "    y_onehot = np.zeros((m, num_etiquetas)) #Matriz 5000 x 10\n",
    "    for i in range(m):\n",
    "        y_onehot[i][y[i]] = 1\n",
    "    return y_onehot"
   ]
  },
  {
   "cell_type": "code",
   "execution_count": 108,
   "id": "fa4b6940",
   "metadata": {},
   "outputs": [],
   "source": [
    "def coste(H, y, m):\n",
    "    Term1 = y * np.log(H) \n",
    "    Term2 =  (1 - y) * np.log(1 - H)\n",
    "    cost = ( 1 / m) * np.sum(-Term1 - Term2)\n",
    "    return cost"
   ]
  },
  {
   "cell_type": "code",
   "execution_count": 109,
   "id": "71e46af8",
   "metadata": {},
   "outputs": [
    {
     "name": "stdout",
     "output_type": "stream",
     "text": [
      "0.2876291651613189\n"
     ]
    }
   ],
   "source": [
    "y_ = yOneHot(y, 10)\n",
    "coste = coste(a_3, y_,m)\n",
    "print(coste)"
   ]
  },
  {
   "cell_type": "code",
   "execution_count": 133,
   "id": "a5f2b233",
   "metadata": {},
   "outputs": [],
   "source": [
    "def coste_reg(theta1, theta2, coste, lamb, m):\n",
    "    reg = (np.sum(np.power(theta1[:, 1:], 2)) + np.sum(np.power(theta2[:, 1:], 2))) \n",
    "    coste_reg = coste + (reg* (lamb/(2*m)))\n",
    "    return coste_reg"
   ]
  },
  {
   "cell_type": "code",
   "execution_count": 134,
   "id": "653d062a",
   "metadata": {},
   "outputs": [
    {
     "name": "stdout",
     "output_type": "stream",
     "text": [
      "0.38376985909092365\n"
     ]
    }
   ],
   "source": [
    "coste_reg = coste_reg(theta1, theta2, coste, 1, m)\n",
    "print(coste_reg)"
   ]
  },
  {
   "cell_type": "code",
   "execution_count": null,
   "id": "d73574b6",
   "metadata": {},
   "outputs": [],
   "source": [
    "def bakprop(params_rn, num_entradas, num_ocultas, num_etiquetas, X, y, reg):\n",
    "    Theta1 = np.reshape(params_rn[:num_ocultas * (num_entradas + 1)],(num_ocultas, (num_entradas + 1)))\n",
    "    Theta2 = np.reshape(params_rn[:num_ocultas * (num_entradas + 1)],(num_etiquetas, (num_ocultas + 1)))\n",
    "    \n",
    "    "
   ]
  }
 ],
 "metadata": {
  "kernelspec": {
   "display_name": "Python 3",
   "language": "python",
   "name": "python3"
  },
  "language_info": {
   "codemirror_mode": {
    "name": "ipython",
    "version": 3
   },
   "file_extension": ".py",
   "mimetype": "text/x-python",
   "name": "python",
   "nbconvert_exporter": "python",
   "pygments_lexer": "ipython3",
   "version": "3.8.8"
  }
 },
 "nbformat": 4,
 "nbformat_minor": 5
}
