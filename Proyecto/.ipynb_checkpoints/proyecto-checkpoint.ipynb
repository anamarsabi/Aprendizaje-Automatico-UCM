{
 "cells": [
  {
   "cell_type": "markdown",
   "metadata": {
    "id": "YGYHoriBRF2b"
   },
   "source": [
    "# Proyecto Spotify Song Predictor\n",
    "### Aprendizaje Automático, Universidad Complutense de Madrid\n"
   ]
  },
  {
   "cell_type": "markdown",
   "metadata": {},
   "source": [
    "- **Eladia Gómez Morales**\n",
    "- **Ana Martínez Sabiote**"
   ]
  },
  {
   "cell_type": "markdown",
   "metadata": {},
   "source": [
    "## 1. Presentación del dataset"
   ]
  },
  {
   "cell_type": "markdown",
   "metadata": {
    "id": "sydMdjuuRynb"
   },
   "source": [
    "El siguiente proyecto trata de clasificar si me gustan o no canciones, de acuerdo a sus características musicales y auditivas.\n",
    "Dataset: https://www.kaggle.com/datasets/geomack/spotifyclassification"
   ]
  },
  {
   "cell_type": "code",
   "execution_count": 514,
   "metadata": {
    "id": "5ZDIGp0FScxB"
   },
   "outputs": [],
   "source": [
    "from pandas.io.parsers import read_csv\n",
    "import matplotlib.pyplot as plt\n",
    "import numpy as np\n",
    "import matplotlib.pyplot as plt\n",
    "import pandas as pd\n",
    "import seaborn as sns\n",
    "from sklearn.model_selection import train_test_split\n",
    "from sklearn import preprocessing\n",
    "from sklearn.metrics import accuracy_score,confusion_matrix,auc,roc_curve\n",
    "from sklearn.svm import SVC"
   ]
  },
  {
   "cell_type": "code",
   "execution_count": 515,
   "metadata": {},
   "outputs": [],
   "source": [
    "datos = pd.read_csv('data.csv')"
   ]
  },
  {
   "cell_type": "markdown",
   "metadata": {},
   "source": [
    "Primero, revisamos como es el dataFrame del dataset de spotify, procedente de kaggle, que hemos cargado en nuestro notebook. Para ello, utilizamos la funcion head() de pandas, la cual devuelve las primeras n filas (5 por defecto) de dataFrame. De esta manera revisamos que tiene el tipo adecuado y podemos reflexionar sobre el preprocesamiento que debemos realizar a estos datos."
   ]
  },
  {
   "cell_type": "code",
   "execution_count": 516,
   "metadata": {
    "id": "jUjVp6rgTbCY",
    "scrolled": true
   },
   "outputs": [
    {
     "data": {
      "text/html": [
       "<div>\n",
       "<style scoped>\n",
       "    .dataframe tbody tr th:only-of-type {\n",
       "        vertical-align: middle;\n",
       "    }\n",
       "\n",
       "    .dataframe tbody tr th {\n",
       "        vertical-align: top;\n",
       "    }\n",
       "\n",
       "    .dataframe thead th {\n",
       "        text-align: right;\n",
       "    }\n",
       "</style>\n",
       "<table border=\"1\" class=\"dataframe\">\n",
       "  <thead>\n",
       "    <tr style=\"text-align: right;\">\n",
       "      <th></th>\n",
       "      <th>Unnamed: 0</th>\n",
       "      <th>acousticness</th>\n",
       "      <th>danceability</th>\n",
       "      <th>duration_ms</th>\n",
       "      <th>energy</th>\n",
       "      <th>instrumentalness</th>\n",
       "      <th>key</th>\n",
       "      <th>liveness</th>\n",
       "      <th>loudness</th>\n",
       "      <th>mode</th>\n",
       "      <th>speechiness</th>\n",
       "      <th>tempo</th>\n",
       "      <th>time_signature</th>\n",
       "      <th>valence</th>\n",
       "      <th>target</th>\n",
       "      <th>song_title</th>\n",
       "      <th>artist</th>\n",
       "    </tr>\n",
       "  </thead>\n",
       "  <tbody>\n",
       "    <tr>\n",
       "      <th>0</th>\n",
       "      <td>0</td>\n",
       "      <td>0.0102</td>\n",
       "      <td>0.833</td>\n",
       "      <td>204600</td>\n",
       "      <td>0.434</td>\n",
       "      <td>0.021900</td>\n",
       "      <td>2</td>\n",
       "      <td>0.1650</td>\n",
       "      <td>-8.795</td>\n",
       "      <td>1</td>\n",
       "      <td>0.4310</td>\n",
       "      <td>150.062</td>\n",
       "      <td>4.0</td>\n",
       "      <td>0.286</td>\n",
       "      <td>1</td>\n",
       "      <td>Mask Off</td>\n",
       "      <td>Future</td>\n",
       "    </tr>\n",
       "    <tr>\n",
       "      <th>1</th>\n",
       "      <td>1</td>\n",
       "      <td>0.1990</td>\n",
       "      <td>0.743</td>\n",
       "      <td>326933</td>\n",
       "      <td>0.359</td>\n",
       "      <td>0.006110</td>\n",
       "      <td>1</td>\n",
       "      <td>0.1370</td>\n",
       "      <td>-10.401</td>\n",
       "      <td>1</td>\n",
       "      <td>0.0794</td>\n",
       "      <td>160.083</td>\n",
       "      <td>4.0</td>\n",
       "      <td>0.588</td>\n",
       "      <td>1</td>\n",
       "      <td>Redbone</td>\n",
       "      <td>Childish Gambino</td>\n",
       "    </tr>\n",
       "    <tr>\n",
       "      <th>2</th>\n",
       "      <td>2</td>\n",
       "      <td>0.0344</td>\n",
       "      <td>0.838</td>\n",
       "      <td>185707</td>\n",
       "      <td>0.412</td>\n",
       "      <td>0.000234</td>\n",
       "      <td>2</td>\n",
       "      <td>0.1590</td>\n",
       "      <td>-7.148</td>\n",
       "      <td>1</td>\n",
       "      <td>0.2890</td>\n",
       "      <td>75.044</td>\n",
       "      <td>4.0</td>\n",
       "      <td>0.173</td>\n",
       "      <td>1</td>\n",
       "      <td>Xanny Family</td>\n",
       "      <td>Future</td>\n",
       "    </tr>\n",
       "    <tr>\n",
       "      <th>3</th>\n",
       "      <td>3</td>\n",
       "      <td>0.6040</td>\n",
       "      <td>0.494</td>\n",
       "      <td>199413</td>\n",
       "      <td>0.338</td>\n",
       "      <td>0.510000</td>\n",
       "      <td>5</td>\n",
       "      <td>0.0922</td>\n",
       "      <td>-15.236</td>\n",
       "      <td>1</td>\n",
       "      <td>0.0261</td>\n",
       "      <td>86.468</td>\n",
       "      <td>4.0</td>\n",
       "      <td>0.230</td>\n",
       "      <td>1</td>\n",
       "      <td>Master Of None</td>\n",
       "      <td>Beach House</td>\n",
       "    </tr>\n",
       "    <tr>\n",
       "      <th>4</th>\n",
       "      <td>4</td>\n",
       "      <td>0.1800</td>\n",
       "      <td>0.678</td>\n",
       "      <td>392893</td>\n",
       "      <td>0.561</td>\n",
       "      <td>0.512000</td>\n",
       "      <td>5</td>\n",
       "      <td>0.4390</td>\n",
       "      <td>-11.648</td>\n",
       "      <td>0</td>\n",
       "      <td>0.0694</td>\n",
       "      <td>174.004</td>\n",
       "      <td>4.0</td>\n",
       "      <td>0.904</td>\n",
       "      <td>1</td>\n",
       "      <td>Parallel Lines</td>\n",
       "      <td>Junior Boys</td>\n",
       "    </tr>\n",
       "  </tbody>\n",
       "</table>\n",
       "</div>"
      ],
      "text/plain": [
       "   Unnamed: 0  acousticness  danceability  duration_ms  energy  \\\n",
       "0           0        0.0102         0.833       204600   0.434   \n",
       "1           1        0.1990         0.743       326933   0.359   \n",
       "2           2        0.0344         0.838       185707   0.412   \n",
       "3           3        0.6040         0.494       199413   0.338   \n",
       "4           4        0.1800         0.678       392893   0.561   \n",
       "\n",
       "   instrumentalness  key  liveness  loudness  mode  speechiness    tempo  \\\n",
       "0          0.021900    2    0.1650    -8.795     1       0.4310  150.062   \n",
       "1          0.006110    1    0.1370   -10.401     1       0.0794  160.083   \n",
       "2          0.000234    2    0.1590    -7.148     1       0.2890   75.044   \n",
       "3          0.510000    5    0.0922   -15.236     1       0.0261   86.468   \n",
       "4          0.512000    5    0.4390   -11.648     0       0.0694  174.004   \n",
       "\n",
       "   time_signature  valence  target      song_title            artist  \n",
       "0             4.0    0.286       1        Mask Off            Future  \n",
       "1             4.0    0.588       1         Redbone  Childish Gambino  \n",
       "2             4.0    0.173       1    Xanny Family            Future  \n",
       "3             4.0    0.230       1  Master Of None       Beach House  \n",
       "4             4.0    0.904       1  Parallel Lines       Junior Boys  "
      ]
     },
     "execution_count": 516,
     "metadata": {},
     "output_type": "execute_result"
    }
   ],
   "source": [
    "datos.head()"
   ]
  },
  {
   "cell_type": "code",
   "execution_count": 517,
   "metadata": {
    "scrolled": true
   },
   "outputs": [
    {
     "name": "stdout",
     "output_type": "stream",
     "text": [
      "(2017, 17)\n"
     ]
    }
   ],
   "source": [
    "print(datos.shape)"
   ]
  },
  {
   "cell_type": "code",
   "execution_count": 518,
   "metadata": {},
   "outputs": [
    {
     "name": "stdout",
     "output_type": "stream",
     "text": [
      "<class 'pandas.core.frame.DataFrame'>\n",
      "RangeIndex: 2017 entries, 0 to 2016\n",
      "Data columns (total 17 columns):\n",
      " #   Column            Non-Null Count  Dtype  \n",
      "---  ------            --------------  -----  \n",
      " 0   Unnamed: 0        2017 non-null   int64  \n",
      " 1   acousticness      2017 non-null   float64\n",
      " 2   danceability      2017 non-null   float64\n",
      " 3   duration_ms       2017 non-null   int64  \n",
      " 4   energy            2017 non-null   float64\n",
      " 5   instrumentalness  2017 non-null   float64\n",
      " 6   key               2017 non-null   int64  \n",
      " 7   liveness          2017 non-null   float64\n",
      " 8   loudness          2017 non-null   float64\n",
      " 9   mode              2017 non-null   int64  \n",
      " 10  speechiness       2017 non-null   float64\n",
      " 11  tempo             2017 non-null   float64\n",
      " 12  time_signature    2017 non-null   float64\n",
      " 13  valence           2017 non-null   float64\n",
      " 14  target            2017 non-null   int64  \n",
      " 15  song_title        2017 non-null   object \n",
      " 16  artist            2017 non-null   object \n",
      "dtypes: float64(10), int64(5), object(2)\n",
      "memory usage: 268.0+ KB\n"
     ]
    }
   ],
   "source": [
    "datos.info()"
   ]
  },
  {
   "cell_type": "markdown",
   "metadata": {},
   "source": [
    "## 2. Preprocesamiento de datos"
   ]
  },
  {
   "cell_type": "markdown",
   "metadata": {},
   "source": [
    "Nuestro dataset tiene 2017 filas y 17 columnas. Lo primero que tenemos que hacer es comprender y familiarizarnos con nuestro dataset para entrar en el dominio del problema.\n",
    "\n",
    "- Observamos que la columna \"target\", llamada generalmente label en el transcurso de este curso, toma valores 0 y 1. Hemos inspeccionado el dataset y hemos observado que las primeras 1021 filas corresponden al label 1 y las sucesivas al label 0. Es necesario ordenar aleatoriamente las filas del dataset.\n",
    "- Vamos a cambiar las unidades de la columna 'duration_ms' de milisegundos a minutos y vamos a cambiar el nombre de dicha columna para que sea representativo (\"duration_min\")\n",
    "- Vamos a eliminar la primera columna (unnamed, que ordena los datos del dataset), la penúltima columna - 16, (\"song_title\", es decir, título de la canción) y la última columna - 17 (\"artist\", cantante o grupo de dicha canción). Hemos decidido eliminar estas columnas ya que no vamos a usar estos datos para realizar la clasificación, ya que no ayudan. Preferimos tener variables categóricas (se decía así??)\n",
    "- Comprobamos si hay valores nulos para eliminarlos y vemos que no los hay (como dice la info)."
   ]
  },
  {
   "cell_type": "code",
   "execution_count": 519,
   "metadata": {},
   "outputs": [
    {
     "data": {
      "text/html": [
       "<div>\n",
       "<style scoped>\n",
       "    .dataframe tbody tr th:only-of-type {\n",
       "        vertical-align: middle;\n",
       "    }\n",
       "\n",
       "    .dataframe tbody tr th {\n",
       "        vertical-align: top;\n",
       "    }\n",
       "\n",
       "    .dataframe thead th {\n",
       "        text-align: right;\n",
       "    }\n",
       "</style>\n",
       "<table border=\"1\" class=\"dataframe\">\n",
       "  <thead>\n",
       "    <tr style=\"text-align: right;\">\n",
       "      <th></th>\n",
       "      <th>null</th>\n",
       "    </tr>\n",
       "  </thead>\n",
       "  <tbody>\n",
       "    <tr>\n",
       "      <th>Unnamed: 0</th>\n",
       "      <td>0</td>\n",
       "    </tr>\n",
       "    <tr>\n",
       "      <th>acousticness</th>\n",
       "      <td>0</td>\n",
       "    </tr>\n",
       "    <tr>\n",
       "      <th>danceability</th>\n",
       "      <td>0</td>\n",
       "    </tr>\n",
       "    <tr>\n",
       "      <th>duration_ms</th>\n",
       "      <td>0</td>\n",
       "    </tr>\n",
       "    <tr>\n",
       "      <th>energy</th>\n",
       "      <td>0</td>\n",
       "    </tr>\n",
       "    <tr>\n",
       "      <th>instrumentalness</th>\n",
       "      <td>0</td>\n",
       "    </tr>\n",
       "    <tr>\n",
       "      <th>key</th>\n",
       "      <td>0</td>\n",
       "    </tr>\n",
       "    <tr>\n",
       "      <th>liveness</th>\n",
       "      <td>0</td>\n",
       "    </tr>\n",
       "    <tr>\n",
       "      <th>loudness</th>\n",
       "      <td>0</td>\n",
       "    </tr>\n",
       "    <tr>\n",
       "      <th>mode</th>\n",
       "      <td>0</td>\n",
       "    </tr>\n",
       "    <tr>\n",
       "      <th>speechiness</th>\n",
       "      <td>0</td>\n",
       "    </tr>\n",
       "    <tr>\n",
       "      <th>tempo</th>\n",
       "      <td>0</td>\n",
       "    </tr>\n",
       "    <tr>\n",
       "      <th>time_signature</th>\n",
       "      <td>0</td>\n",
       "    </tr>\n",
       "    <tr>\n",
       "      <th>valence</th>\n",
       "      <td>0</td>\n",
       "    </tr>\n",
       "    <tr>\n",
       "      <th>target</th>\n",
       "      <td>0</td>\n",
       "    </tr>\n",
       "    <tr>\n",
       "      <th>song_title</th>\n",
       "      <td>0</td>\n",
       "    </tr>\n",
       "    <tr>\n",
       "      <th>artist</th>\n",
       "      <td>0</td>\n",
       "    </tr>\n",
       "  </tbody>\n",
       "</table>\n",
       "</div>"
      ],
      "text/plain": [
       "                  null\n",
       "Unnamed: 0           0\n",
       "acousticness         0\n",
       "danceability         0\n",
       "duration_ms          0\n",
       "energy               0\n",
       "instrumentalness     0\n",
       "key                  0\n",
       "liveness             0\n",
       "loudness             0\n",
       "mode                 0\n",
       "speechiness          0\n",
       "tempo                0\n",
       "time_signature       0\n",
       "valence              0\n",
       "target               0\n",
       "song_title           0\n",
       "artist               0"
      ]
     },
     "execution_count": 519,
     "metadata": {},
     "output_type": "execute_result"
    }
   ],
   "source": [
    "pd.DataFrame(datos.isnull().sum(),columns=['null'])"
   ]
  },
  {
   "cell_type": "code",
   "execution_count": 520,
   "metadata": {},
   "outputs": [],
   "source": [
    "# Transformamos duration_ms a duration_min\n",
    "datos[\"duration_ms\"] = (1/60000) * datos[\"duration_ms\"]\n",
    "datos = datos.rename(columns={'duration_ms': 'duration_min'})\n",
    "\n",
    "# Eliminamos la columna 0, 16 y 17.\n",
    "datos=datos.iloc[:,1:15]\n",
    "\n",
    "# Ordenamos aleatoriamente las filas del dataset\n",
    "datos = datos.sample(frac=1)"
   ]
  },
  {
   "cell_type": "code",
   "execution_count": 521,
   "metadata": {
    "scrolled": true
   },
   "outputs": [
    {
     "data": {
      "text/html": [
       "<div>\n",
       "<style scoped>\n",
       "    .dataframe tbody tr th:only-of-type {\n",
       "        vertical-align: middle;\n",
       "    }\n",
       "\n",
       "    .dataframe tbody tr th {\n",
       "        vertical-align: top;\n",
       "    }\n",
       "\n",
       "    .dataframe thead th {\n",
       "        text-align: right;\n",
       "    }\n",
       "</style>\n",
       "<table border=\"1\" class=\"dataframe\">\n",
       "  <thead>\n",
       "    <tr style=\"text-align: right;\">\n",
       "      <th></th>\n",
       "      <th>acousticness</th>\n",
       "      <th>danceability</th>\n",
       "      <th>duration_min</th>\n",
       "      <th>energy</th>\n",
       "      <th>instrumentalness</th>\n",
       "      <th>key</th>\n",
       "      <th>liveness</th>\n",
       "      <th>loudness</th>\n",
       "      <th>mode</th>\n",
       "      <th>speechiness</th>\n",
       "      <th>tempo</th>\n",
       "      <th>time_signature</th>\n",
       "      <th>valence</th>\n",
       "      <th>target</th>\n",
       "    </tr>\n",
       "  </thead>\n",
       "  <tbody>\n",
       "    <tr>\n",
       "      <th>783</th>\n",
       "      <td>0.01260</td>\n",
       "      <td>0.600</td>\n",
       "      <td>9.808667</td>\n",
       "      <td>0.811</td>\n",
       "      <td>0.050000</td>\n",
       "      <td>8</td>\n",
       "      <td>0.9690</td>\n",
       "      <td>-10.199</td>\n",
       "      <td>0</td>\n",
       "      <td>0.1020</td>\n",
       "      <td>100.894</td>\n",
       "      <td>4.0</td>\n",
       "      <td>0.372</td>\n",
       "      <td>1</td>\n",
       "    </tr>\n",
       "    <tr>\n",
       "      <th>1795</th>\n",
       "      <td>0.00406</td>\n",
       "      <td>0.616</td>\n",
       "      <td>3.433550</td>\n",
       "      <td>0.709</td>\n",
       "      <td>0.000003</td>\n",
       "      <td>10</td>\n",
       "      <td>0.5010</td>\n",
       "      <td>-6.134</td>\n",
       "      <td>1</td>\n",
       "      <td>0.0312</td>\n",
       "      <td>122.984</td>\n",
       "      <td>4.0</td>\n",
       "      <td>0.545</td>\n",
       "      <td>0</td>\n",
       "    </tr>\n",
       "    <tr>\n",
       "      <th>168</th>\n",
       "      <td>0.04720</td>\n",
       "      <td>0.849</td>\n",
       "      <td>3.628217</td>\n",
       "      <td>0.408</td>\n",
       "      <td>0.000000</td>\n",
       "      <td>6</td>\n",
       "      <td>0.1010</td>\n",
       "      <td>-8.670</td>\n",
       "      <td>0</td>\n",
       "      <td>0.2840</td>\n",
       "      <td>99.876</td>\n",
       "      <td>4.0</td>\n",
       "      <td>0.337</td>\n",
       "      <td>1</td>\n",
       "    </tr>\n",
       "    <tr>\n",
       "      <th>58</th>\n",
       "      <td>0.01740</td>\n",
       "      <td>0.754</td>\n",
       "      <td>1.889550</td>\n",
       "      <td>0.442</td>\n",
       "      <td>0.000094</td>\n",
       "      <td>5</td>\n",
       "      <td>0.0622</td>\n",
       "      <td>-8.873</td>\n",
       "      <td>0</td>\n",
       "      <td>0.1270</td>\n",
       "      <td>148.040</td>\n",
       "      <td>4.0</td>\n",
       "      <td>0.599</td>\n",
       "      <td>1</td>\n",
       "    </tr>\n",
       "    <tr>\n",
       "      <th>808</th>\n",
       "      <td>0.56500</td>\n",
       "      <td>0.630</td>\n",
       "      <td>4.121550</td>\n",
       "      <td>0.374</td>\n",
       "      <td>0.001460</td>\n",
       "      <td>5</td>\n",
       "      <td>0.1070</td>\n",
       "      <td>-11.305</td>\n",
       "      <td>1</td>\n",
       "      <td>0.1770</td>\n",
       "      <td>166.999</td>\n",
       "      <td>4.0</td>\n",
       "      <td>0.573</td>\n",
       "      <td>1</td>\n",
       "    </tr>\n",
       "  </tbody>\n",
       "</table>\n",
       "</div>"
      ],
      "text/plain": [
       "      acousticness  danceability  duration_min  energy  instrumentalness  key  \\\n",
       "783        0.01260         0.600      9.808667   0.811          0.050000    8   \n",
       "1795       0.00406         0.616      3.433550   0.709          0.000003   10   \n",
       "168        0.04720         0.849      3.628217   0.408          0.000000    6   \n",
       "58         0.01740         0.754      1.889550   0.442          0.000094    5   \n",
       "808        0.56500         0.630      4.121550   0.374          0.001460    5   \n",
       "\n",
       "      liveness  loudness  mode  speechiness    tempo  time_signature  valence  \\\n",
       "783     0.9690   -10.199     0       0.1020  100.894             4.0    0.372   \n",
       "1795    0.5010    -6.134     1       0.0312  122.984             4.0    0.545   \n",
       "168     0.1010    -8.670     0       0.2840   99.876             4.0    0.337   \n",
       "58      0.0622    -8.873     0       0.1270  148.040             4.0    0.599   \n",
       "808     0.1070   -11.305     1       0.1770  166.999             4.0    0.573   \n",
       "\n",
       "      target  \n",
       "783        1  \n",
       "1795       0  \n",
       "168        1  \n",
       "58         1  \n",
       "808        1  "
      ]
     },
     "execution_count": 521,
     "metadata": {},
     "output_type": "execute_result"
    }
   ],
   "source": [
    "datos.head()"
   ]
  },
  {
   "cell_type": "code",
   "execution_count": 522,
   "metadata": {
    "scrolled": false
   },
   "outputs": [
    {
     "name": "stdout",
     "output_type": "stream",
     "text": [
      "(2017, 14)\n"
     ]
    }
   ],
   "source": [
    "print(datos.shape)"
   ]
  },
  {
   "cell_type": "code",
   "execution_count": 523,
   "metadata": {
    "scrolled": false
   },
   "outputs": [
    {
     "data": {
      "text/html": [
       "<div>\n",
       "<style scoped>\n",
       "    .dataframe tbody tr th:only-of-type {\n",
       "        vertical-align: middle;\n",
       "    }\n",
       "\n",
       "    .dataframe tbody tr th {\n",
       "        vertical-align: top;\n",
       "    }\n",
       "\n",
       "    .dataframe thead th {\n",
       "        text-align: right;\n",
       "    }\n",
       "</style>\n",
       "<table border=\"1\" class=\"dataframe\">\n",
       "  <thead>\n",
       "    <tr style=\"text-align: right;\">\n",
       "      <th></th>\n",
       "      <th>acousticness</th>\n",
       "      <th>danceability</th>\n",
       "      <th>duration_min</th>\n",
       "      <th>energy</th>\n",
       "      <th>instrumentalness</th>\n",
       "      <th>key</th>\n",
       "      <th>liveness</th>\n",
       "      <th>loudness</th>\n",
       "      <th>mode</th>\n",
       "      <th>speechiness</th>\n",
       "      <th>tempo</th>\n",
       "      <th>time_signature</th>\n",
       "      <th>valence</th>\n",
       "      <th>target</th>\n",
       "    </tr>\n",
       "  </thead>\n",
       "  <tbody>\n",
       "    <tr>\n",
       "      <th>count</th>\n",
       "      <td>2017.000000</td>\n",
       "      <td>2017.000000</td>\n",
       "      <td>2017.000000</td>\n",
       "      <td>2017.000000</td>\n",
       "      <td>2017.000000</td>\n",
       "      <td>2017.000000</td>\n",
       "      <td>2017.000000</td>\n",
       "      <td>2017.000000</td>\n",
       "      <td>2017.000000</td>\n",
       "      <td>2017.000000</td>\n",
       "      <td>2017.000000</td>\n",
       "      <td>2017.000000</td>\n",
       "      <td>2017.000000</td>\n",
       "      <td>2017.000000</td>\n",
       "    </tr>\n",
       "    <tr>\n",
       "      <th>mean</th>\n",
       "      <td>0.187590</td>\n",
       "      <td>0.618422</td>\n",
       "      <td>4.105103</td>\n",
       "      <td>0.681577</td>\n",
       "      <td>0.133286</td>\n",
       "      <td>5.342588</td>\n",
       "      <td>0.190844</td>\n",
       "      <td>-7.085624</td>\n",
       "      <td>0.612295</td>\n",
       "      <td>0.092664</td>\n",
       "      <td>121.603272</td>\n",
       "      <td>3.968270</td>\n",
       "      <td>0.496815</td>\n",
       "      <td>0.505702</td>\n",
       "    </tr>\n",
       "    <tr>\n",
       "      <th>std</th>\n",
       "      <td>0.259989</td>\n",
       "      <td>0.161029</td>\n",
       "      <td>1.366364</td>\n",
       "      <td>0.210273</td>\n",
       "      <td>0.273162</td>\n",
       "      <td>3.648240</td>\n",
       "      <td>0.155453</td>\n",
       "      <td>3.761684</td>\n",
       "      <td>0.487347</td>\n",
       "      <td>0.089931</td>\n",
       "      <td>26.685604</td>\n",
       "      <td>0.255853</td>\n",
       "      <td>0.247195</td>\n",
       "      <td>0.500091</td>\n",
       "    </tr>\n",
       "    <tr>\n",
       "      <th>min</th>\n",
       "      <td>0.000003</td>\n",
       "      <td>0.122000</td>\n",
       "      <td>0.267367</td>\n",
       "      <td>0.014800</td>\n",
       "      <td>0.000000</td>\n",
       "      <td>0.000000</td>\n",
       "      <td>0.018800</td>\n",
       "      <td>-33.097000</td>\n",
       "      <td>0.000000</td>\n",
       "      <td>0.023100</td>\n",
       "      <td>47.859000</td>\n",
       "      <td>1.000000</td>\n",
       "      <td>0.034800</td>\n",
       "      <td>0.000000</td>\n",
       "    </tr>\n",
       "    <tr>\n",
       "      <th>25%</th>\n",
       "      <td>0.009630</td>\n",
       "      <td>0.514000</td>\n",
       "      <td>3.333583</td>\n",
       "      <td>0.563000</td>\n",
       "      <td>0.000000</td>\n",
       "      <td>2.000000</td>\n",
       "      <td>0.092300</td>\n",
       "      <td>-8.394000</td>\n",
       "      <td>0.000000</td>\n",
       "      <td>0.037500</td>\n",
       "      <td>100.189000</td>\n",
       "      <td>4.000000</td>\n",
       "      <td>0.295000</td>\n",
       "      <td>0.000000</td>\n",
       "    </tr>\n",
       "    <tr>\n",
       "      <th>50%</th>\n",
       "      <td>0.063300</td>\n",
       "      <td>0.631000</td>\n",
       "      <td>3.821017</td>\n",
       "      <td>0.715000</td>\n",
       "      <td>0.000076</td>\n",
       "      <td>6.000000</td>\n",
       "      <td>0.127000</td>\n",
       "      <td>-6.248000</td>\n",
       "      <td>1.000000</td>\n",
       "      <td>0.054900</td>\n",
       "      <td>121.427000</td>\n",
       "      <td>4.000000</td>\n",
       "      <td>0.492000</td>\n",
       "      <td>1.000000</td>\n",
       "    </tr>\n",
       "    <tr>\n",
       "      <th>75%</th>\n",
       "      <td>0.265000</td>\n",
       "      <td>0.738000</td>\n",
       "      <td>4.505550</td>\n",
       "      <td>0.846000</td>\n",
       "      <td>0.054000</td>\n",
       "      <td>9.000000</td>\n",
       "      <td>0.247000</td>\n",
       "      <td>-4.746000</td>\n",
       "      <td>1.000000</td>\n",
       "      <td>0.108000</td>\n",
       "      <td>137.849000</td>\n",
       "      <td>4.000000</td>\n",
       "      <td>0.691000</td>\n",
       "      <td>1.000000</td>\n",
       "    </tr>\n",
       "    <tr>\n",
       "      <th>max</th>\n",
       "      <td>0.995000</td>\n",
       "      <td>0.984000</td>\n",
       "      <td>16.743783</td>\n",
       "      <td>0.998000</td>\n",
       "      <td>0.976000</td>\n",
       "      <td>11.000000</td>\n",
       "      <td>0.969000</td>\n",
       "      <td>-0.307000</td>\n",
       "      <td>1.000000</td>\n",
       "      <td>0.816000</td>\n",
       "      <td>219.331000</td>\n",
       "      <td>5.000000</td>\n",
       "      <td>0.992000</td>\n",
       "      <td>1.000000</td>\n",
       "    </tr>\n",
       "  </tbody>\n",
       "</table>\n",
       "</div>"
      ],
      "text/plain": [
       "       acousticness  danceability  duration_min       energy  \\\n",
       "count   2017.000000   2017.000000   2017.000000  2017.000000   \n",
       "mean       0.187590      0.618422      4.105103     0.681577   \n",
       "std        0.259989      0.161029      1.366364     0.210273   \n",
       "min        0.000003      0.122000      0.267367     0.014800   \n",
       "25%        0.009630      0.514000      3.333583     0.563000   \n",
       "50%        0.063300      0.631000      3.821017     0.715000   \n",
       "75%        0.265000      0.738000      4.505550     0.846000   \n",
       "max        0.995000      0.984000     16.743783     0.998000   \n",
       "\n",
       "       instrumentalness          key     liveness     loudness         mode  \\\n",
       "count       2017.000000  2017.000000  2017.000000  2017.000000  2017.000000   \n",
       "mean           0.133286     5.342588     0.190844    -7.085624     0.612295   \n",
       "std            0.273162     3.648240     0.155453     3.761684     0.487347   \n",
       "min            0.000000     0.000000     0.018800   -33.097000     0.000000   \n",
       "25%            0.000000     2.000000     0.092300    -8.394000     0.000000   \n",
       "50%            0.000076     6.000000     0.127000    -6.248000     1.000000   \n",
       "75%            0.054000     9.000000     0.247000    -4.746000     1.000000   \n",
       "max            0.976000    11.000000     0.969000    -0.307000     1.000000   \n",
       "\n",
       "       speechiness        tempo  time_signature      valence       target  \n",
       "count  2017.000000  2017.000000     2017.000000  2017.000000  2017.000000  \n",
       "mean      0.092664   121.603272        3.968270     0.496815     0.505702  \n",
       "std       0.089931    26.685604        0.255853     0.247195     0.500091  \n",
       "min       0.023100    47.859000        1.000000     0.034800     0.000000  \n",
       "25%       0.037500   100.189000        4.000000     0.295000     0.000000  \n",
       "50%       0.054900   121.427000        4.000000     0.492000     1.000000  \n",
       "75%       0.108000   137.849000        4.000000     0.691000     1.000000  \n",
       "max       0.816000   219.331000        5.000000     0.992000     1.000000  "
      ]
     },
     "execution_count": 523,
     "metadata": {},
     "output_type": "execute_result"
    }
   ],
   "source": [
    "datos.describe()"
   ]
  },
  {
   "cell_type": "code",
   "execution_count": 524,
   "metadata": {
    "scrolled": true
   },
   "outputs": [
    {
     "data": {
      "image/png": "[encoded data removed]",
      "text/plain": [
       "<Figure size 720x720 with 16 Axes>"
      ]
     },
     "metadata": {},
     "output_type": "display_data"
    }
   ],
   "source": [
    "datos.hist(figsize=(10, 10)) \n",
    "plt.tight_layout()"
   ]
  },
  {
   "cell_type": "code",
   "execution_count": 525,
   "metadata": {
    "scrolled": true
   },
   "outputs": [
    {
     "data": {
      "text/plain": [
       "<AxesSubplot:>"
      ]
     },
     "execution_count": 525,
     "metadata": {},
     "output_type": "execute_result"
    },
    {
     "data": {
      "image/png": "[encoded data removed]",
      "text/plain": [
       "<Figure size 432x576 with 2 Axes>"
      ]
     },
     "metadata": {},
     "output_type": "display_data"
    }
   ],
   "source": [
    "plt.figure(figsize=(6, 8)) \n",
    "tempdf = datos.corr()[['danceability']].sort_values('danceability', ascending=False).iloc[:20, :] \n",
    "sns.heatmap(tempdf, annot=True, vmin=-1, vmax=1)"
   ]
  },
  {
   "cell_type": "markdown",
   "metadata": {},
   "source": [
    "- Normalización - QUIZÁS SÍ\n",
    "- Bucketización - NO LO NECESITAMOS (para tempo y para duration?)\n",
    "- Categorización (One hot encoding) - SÍ, PARA KEY y time signature!!!\n",
    "- Outliers, valores raros - QUIZÁS SÍ\n",
    "- Missing values \n",
    "- Correlaciones - EXTRA?\n"
   ]
  },
  {
   "cell_type": "code",
   "execution_count": 526,
   "metadata": {},
   "outputs": [],
   "source": [
    "# Normalización\n",
    "ss = preprocessing.StandardScaler()\n",
    "#datos_norm = datos.copy()\n",
    "scale_features = ['acousticness', 'danceability', 'energy', 'instrumentalness', 'liveness', 'loudness', 'speechiness', 'valence']\n",
    "datos[scale_features]=ss.fit_transform(datos[scale_features])\n",
    "#datos_norm[scale_features]=ss.fit_transform(datos_norm[scale_features])"
   ]
  },
  {
   "cell_type": "code",
   "execution_count": 527,
   "metadata": {
    "scrolled": false
   },
   "outputs": [
    {
     "data": {
      "text/html": [
       "<div>\n",
       "<style scoped>\n",
       "    .dataframe tbody tr th:only-of-type {\n",
       "        vertical-align: middle;\n",
       "    }\n",
       "\n",
       "    .dataframe tbody tr th {\n",
       "        vertical-align: top;\n",
       "    }\n",
       "\n",
       "    .dataframe thead th {\n",
       "        text-align: right;\n",
       "    }\n",
       "</style>\n",
       "<table border=\"1\" class=\"dataframe\">\n",
       "  <thead>\n",
       "    <tr style=\"text-align: right;\">\n",
       "      <th></th>\n",
       "      <th>acousticness</th>\n",
       "      <th>danceability</th>\n",
       "      <th>duration_min</th>\n",
       "      <th>energy</th>\n",
       "      <th>instrumentalness</th>\n",
       "      <th>key</th>\n",
       "      <th>liveness</th>\n",
       "      <th>loudness</th>\n",
       "      <th>mode</th>\n",
       "      <th>speechiness</th>\n",
       "      <th>tempo</th>\n",
       "      <th>time_signature</th>\n",
       "      <th>valence</th>\n",
       "      <th>target</th>\n",
       "    </tr>\n",
       "  </thead>\n",
       "  <tbody>\n",
       "    <tr>\n",
       "      <th>783</th>\n",
       "      <td>-0.673233</td>\n",
       "      <td>-0.114430</td>\n",
       "      <td>9.808667</td>\n",
       "      <td>0.615652</td>\n",
       "      <td>-0.304970</td>\n",
       "      <td>8</td>\n",
       "      <td>5.006968</td>\n",
       "      <td>-0.827860</td>\n",
       "      <td>0</td>\n",
       "      <td>0.103835</td>\n",
       "      <td>100.894</td>\n",
       "      <td>4.0</td>\n",
       "      <td>-0.505050</td>\n",
       "      <td>1</td>\n",
       "    </tr>\n",
       "    <tr>\n",
       "      <th>1795</th>\n",
       "      <td>-0.706089</td>\n",
       "      <td>-0.015044</td>\n",
       "      <td>3.433550</td>\n",
       "      <td>0.130448</td>\n",
       "      <td>-0.488047</td>\n",
       "      <td>10</td>\n",
       "      <td>1.995668</td>\n",
       "      <td>0.253041</td>\n",
       "      <td>1</td>\n",
       "      <td>-0.683626</td>\n",
       "      <td>122.984</td>\n",
       "      <td>4.0</td>\n",
       "      <td>0.194975</td>\n",
       "      <td>0</td>\n",
       "    </tr>\n",
       "    <tr>\n",
       "      <th>168</th>\n",
       "      <td>-0.540118</td>\n",
       "      <td>1.432259</td>\n",
       "      <td>3.628217</td>\n",
       "      <td>-1.301380</td>\n",
       "      <td>-0.488057</td>\n",
       "      <td>6</td>\n",
       "      <td>-0.578092</td>\n",
       "      <td>-0.421292</td>\n",
       "      <td>0</td>\n",
       "      <td>2.128101</td>\n",
       "      <td>99.876</td>\n",
       "      <td>4.0</td>\n",
       "      <td>-0.646673</td>\n",
       "      <td>1</td>\n",
       "    </tr>\n",
       "    <tr>\n",
       "      <th>58</th>\n",
       "      <td>-0.654766</td>\n",
       "      <td>0.842157</td>\n",
       "      <td>1.889550</td>\n",
       "      <td>-1.139645</td>\n",
       "      <td>-0.487712</td>\n",
       "      <td>5</td>\n",
       "      <td>-0.827747</td>\n",
       "      <td>-0.475271</td>\n",
       "      <td>0</td>\n",
       "      <td>0.381894</td>\n",
       "      <td>148.040</td>\n",
       "      <td>4.0</td>\n",
       "      <td>0.413480</td>\n",
       "      <td>1</td>\n",
       "    </tr>\n",
       "    <tr>\n",
       "      <th>808</th>\n",
       "      <td>1.451997</td>\n",
       "      <td>0.071918</td>\n",
       "      <td>4.121550</td>\n",
       "      <td>-1.463114</td>\n",
       "      <td>-0.482710</td>\n",
       "      <td>5</td>\n",
       "      <td>-0.539486</td>\n",
       "      <td>-1.121950</td>\n",
       "      <td>1</td>\n",
       "      <td>0.938011</td>\n",
       "      <td>166.999</td>\n",
       "      <td>4.0</td>\n",
       "      <td>0.308274</td>\n",
       "      <td>1</td>\n",
       "    </tr>\n",
       "  </tbody>\n",
       "</table>\n",
       "</div>"
      ],
      "text/plain": [
       "      acousticness  danceability  duration_min    energy  instrumentalness  \\\n",
       "783      -0.673233     -0.114430      9.808667  0.615652         -0.304970   \n",
       "1795     -0.706089     -0.015044      3.433550  0.130448         -0.488047   \n",
       "168      -0.540118      1.432259      3.628217 -1.301380         -0.488057   \n",
       "58       -0.654766      0.842157      1.889550 -1.139645         -0.487712   \n",
       "808       1.451997      0.071918      4.121550 -1.463114         -0.482710   \n",
       "\n",
       "      key  liveness  loudness  mode  speechiness    tempo  time_signature  \\\n",
       "783     8  5.006968 -0.827860     0     0.103835  100.894             4.0   \n",
       "1795   10  1.995668  0.253041     1    -0.683626  122.984             4.0   \n",
       "168     6 -0.578092 -0.421292     0     2.128101   99.876             4.0   \n",
       "58      5 -0.827747 -0.475271     0     0.381894  148.040             4.0   \n",
       "808     5 -0.539486 -1.121950     1     0.938011  166.999             4.0   \n",
       "\n",
       "       valence  target  \n",
       "783  -0.505050       1  \n",
       "1795  0.194975       0  \n",
       "168  -0.646673       1  \n",
       "58    0.413480       1  \n",
       "808   0.308274       1  "
      ]
     },
     "execution_count": 527,
     "metadata": {},
     "output_type": "execute_result"
    }
   ],
   "source": [
    "datos.head()"
   ]
  },
  {
   "cell_type": "code",
   "execution_count": 528,
   "metadata": {
    "scrolled": false
   },
   "outputs": [
    {
     "data": {
      "text/html": [
       "<div>\n",
       "<style scoped>\n",
       "    .dataframe tbody tr th:only-of-type {\n",
       "        vertical-align: middle;\n",
       "    }\n",
       "\n",
       "    .dataframe tbody tr th {\n",
       "        vertical-align: top;\n",
       "    }\n",
       "\n",
       "    .dataframe thead th {\n",
       "        text-align: right;\n",
       "    }\n",
       "</style>\n",
       "<table border=\"1\" class=\"dataframe\">\n",
       "  <thead>\n",
       "    <tr style=\"text-align: right;\">\n",
       "      <th></th>\n",
       "      <th>acousticness</th>\n",
       "      <th>danceability</th>\n",
       "      <th>duration_min</th>\n",
       "      <th>energy</th>\n",
       "      <th>instrumentalness</th>\n",
       "      <th>key</th>\n",
       "      <th>liveness</th>\n",
       "      <th>loudness</th>\n",
       "      <th>mode</th>\n",
       "      <th>speechiness</th>\n",
       "      <th>tempo</th>\n",
       "      <th>time_signature</th>\n",
       "      <th>valence</th>\n",
       "      <th>target</th>\n",
       "    </tr>\n",
       "  </thead>\n",
       "  <tbody>\n",
       "    <tr>\n",
       "      <th>count</th>\n",
       "      <td>2.017000e+03</td>\n",
       "      <td>2.017000e+03</td>\n",
       "      <td>2017.000000</td>\n",
       "      <td>2.017000e+03</td>\n",
       "      <td>2.017000e+03</td>\n",
       "      <td>2017.000000</td>\n",
       "      <td>2.017000e+03</td>\n",
       "      <td>2.017000e+03</td>\n",
       "      <td>2017.000000</td>\n",
       "      <td>2.017000e+03</td>\n",
       "      <td>2017.000000</td>\n",
       "      <td>2017.000000</td>\n",
       "      <td>2.017000e+03</td>\n",
       "      <td>2017.000000</td>\n",
       "    </tr>\n",
       "    <tr>\n",
       "      <th>mean</th>\n",
       "      <td>5.143795e-17</td>\n",
       "      <td>4.361079e-16</td>\n",
       "      <td>4.105103</td>\n",
       "      <td>-2.741156e-17</td>\n",
       "      <td>1.852206e-17</td>\n",
       "      <td>5.342588</td>\n",
       "      <td>-8.273005e-17</td>\n",
       "      <td>5.344703e-17</td>\n",
       "      <td>0.612295</td>\n",
       "      <td>5.680467e-17</td>\n",
       "      <td>121.603272</td>\n",
       "      <td>3.968270</td>\n",
       "      <td>-1.158661e-16</td>\n",
       "      <td>0.505702</td>\n",
       "    </tr>\n",
       "    <tr>\n",
       "      <th>std</th>\n",
       "      <td>1.000248e+00</td>\n",
       "      <td>1.000248e+00</td>\n",
       "      <td>1.366364</td>\n",
       "      <td>1.000248e+00</td>\n",
       "      <td>1.000248e+00</td>\n",
       "      <td>3.648240</td>\n",
       "      <td>1.000248e+00</td>\n",
       "      <td>1.000248e+00</td>\n",
       "      <td>0.487347</td>\n",
       "      <td>1.000248e+00</td>\n",
       "      <td>26.685604</td>\n",
       "      <td>0.255853</td>\n",
       "      <td>1.000248e+00</td>\n",
       "      <td>0.500091</td>\n",
       "    </tr>\n",
       "    <tr>\n",
       "      <th>min</th>\n",
       "      <td>-7.216979e-01</td>\n",
       "      <td>-3.083576e+00</td>\n",
       "      <td>0.267367</td>\n",
       "      <td>-3.171793e+00</td>\n",
       "      <td>-4.880565e-01</td>\n",
       "      <td>0.000000</td>\n",
       "      <td>-1.107000e+00</td>\n",
       "      <td>-6.916536e+00</td>\n",
       "      <td>0.000000</td>\n",
       "      <td>-7.737170e-01</td>\n",
       "      <td>47.859000</td>\n",
       "      <td>1.000000</td>\n",
       "      <td>-1.869491e+00</td>\n",
       "      <td>0.000000</td>\n",
       "    </tr>\n",
       "    <tr>\n",
       "      <th>25%</th>\n",
       "      <td>-6.846597e-01</td>\n",
       "      <td>-6.486275e-01</td>\n",
       "      <td>3.333583</td>\n",
       "      <td>-5.640598e-01</td>\n",
       "      <td>-4.880565e-01</td>\n",
       "      <td>2.000000</td>\n",
       "      <td>-6.340718e-01</td>\n",
       "      <td>-3.479027e-01</td>\n",
       "      <td>0.000000</td>\n",
       "      <td>-6.135554e-01</td>\n",
       "      <td>100.189000</td>\n",
       "      <td>4.000000</td>\n",
       "      <td>-8.166212e-01</td>\n",
       "      <td>0.000000</td>\n",
       "    </tr>\n",
       "    <tr>\n",
       "      <th>50%</th>\n",
       "      <td>-4.781769e-01</td>\n",
       "      <td>7.813008e-02</td>\n",
       "      <td>3.821017</td>\n",
       "      <td>1.589892e-01</td>\n",
       "      <td>-4.877775e-01</td>\n",
       "      <td>6.000000</td>\n",
       "      <td>-4.107981e-01</td>\n",
       "      <td>2.227279e-01</td>\n",
       "      <td>1.000000</td>\n",
       "      <td>-4.200267e-01</td>\n",
       "      <td>121.427000</td>\n",
       "      <td>4.000000</td>\n",
       "      <td>-1.948343e-02</td>\n",
       "      <td>1.000000</td>\n",
       "    </tr>\n",
       "    <tr>\n",
       "      <th>75%</th>\n",
       "      <td>2.978168e-01</td>\n",
       "      <td>7.427716e-01</td>\n",
       "      <td>4.505550</td>\n",
       "      <td>7.821433e-01</td>\n",
       "      <td>-2.903227e-01</td>\n",
       "      <td>9.000000</td>\n",
       "      <td>3.613301e-01</td>\n",
       "      <td>6.221161e-01</td>\n",
       "      <td>1.000000</td>\n",
       "      <td>1.705693e-01</td>\n",
       "      <td>137.849000</td>\n",
       "      <td>4.000000</td>\n",
       "      <td>7.857471e-01</td>\n",
       "      <td>1.000000</td>\n",
       "    </tr>\n",
       "    <tr>\n",
       "      <th>max</th>\n",
       "      <td>3.106321e+00</td>\n",
       "      <td>2.270826e+00</td>\n",
       "      <td>16.743783</td>\n",
       "      <td>1.505192e+00</td>\n",
       "      <td>3.085799e+00</td>\n",
       "      <td>11.000000</td>\n",
       "      <td>5.006968e+00</td>\n",
       "      <td>1.802465e+00</td>\n",
       "      <td>1.000000</td>\n",
       "      <td>8.045183e+00</td>\n",
       "      <td>219.331000</td>\n",
       "      <td>5.000000</td>\n",
       "      <td>2.003709e+00</td>\n",
       "      <td>1.000000</td>\n",
       "    </tr>\n",
       "  </tbody>\n",
       "</table>\n",
       "</div>"
      ],
      "text/plain": [
       "       acousticness  danceability  duration_min        energy  \\\n",
       "count  2.017000e+03  2.017000e+03   2017.000000  2.017000e+03   \n",
       "mean   5.143795e-17  4.361079e-16      4.105103 -2.741156e-17   \n",
       "std    1.000248e+00  1.000248e+00      1.366364  1.000248e+00   \n",
       "min   -7.216979e-01 -3.083576e+00      0.267367 -3.171793e+00   \n",
       "25%   -6.846597e-01 -6.486275e-01      3.333583 -5.640598e-01   \n",
       "50%   -4.781769e-01  7.813008e-02      3.821017  1.589892e-01   \n",
       "75%    2.978168e-01  7.427716e-01      4.505550  7.821433e-01   \n",
       "max    3.106321e+00  2.270826e+00     16.743783  1.505192e+00   \n",
       "\n",
       "       instrumentalness          key      liveness      loudness         mode  \\\n",
       "count      2.017000e+03  2017.000000  2.017000e+03  2.017000e+03  2017.000000   \n",
       "mean       1.852206e-17     5.342588 -8.273005e-17  5.344703e-17     0.612295   \n",
       "std        1.000248e+00     3.648240  1.000248e+00  1.000248e+00     0.487347   \n",
       "min       -4.880565e-01     0.000000 -1.107000e+00 -6.916536e+00     0.000000   \n",
       "25%       -4.880565e-01     2.000000 -6.340718e-01 -3.479027e-01     0.000000   \n",
       "50%       -4.877775e-01     6.000000 -4.107981e-01  2.227279e-01     1.000000   \n",
       "75%       -2.903227e-01     9.000000  3.613301e-01  6.221161e-01     1.000000   \n",
       "max        3.085799e+00    11.000000  5.006968e+00  1.802465e+00     1.000000   \n",
       "\n",
       "        speechiness        tempo  time_signature       valence       target  \n",
       "count  2.017000e+03  2017.000000     2017.000000  2.017000e+03  2017.000000  \n",
       "mean   5.680467e-17   121.603272        3.968270 -1.158661e-16     0.505702  \n",
       "std    1.000248e+00    26.685604        0.255853  1.000248e+00     0.500091  \n",
       "min   -7.737170e-01    47.859000        1.000000 -1.869491e+00     0.000000  \n",
       "25%   -6.135554e-01   100.189000        4.000000 -8.166212e-01     0.000000  \n",
       "50%   -4.200267e-01   121.427000        4.000000 -1.948343e-02     1.000000  \n",
       "75%    1.705693e-01   137.849000        4.000000  7.857471e-01     1.000000  \n",
       "max    8.045183e+00   219.331000        5.000000  2.003709e+00     1.000000  "
      ]
     },
     "execution_count": 528,
     "metadata": {},
     "output_type": "execute_result"
    }
   ],
   "source": [
    "datos.describe()"
   ]
  },
  {
   "cell_type": "markdown",
   "metadata": {},
   "source": [
    "Arriba vemos que las columnas que hemos indicado que se normalicen tiene media 0 y varianza 1, como queríamos."
   ]
  },
  {
   "cell_type": "code",
   "execution_count": 529,
   "metadata": {},
   "outputs": [],
   "source": [
    "#Bucketizacion duration_min\n",
    "bins = np.arange(0.00, 17.00, 2.0) \n",
    "datos['duration_min'] = pd.cut(datos.duration_min, bins, labels=bins[:-1])"
   ]
  },
  {
   "cell_type": "code",
   "execution_count": 530,
   "metadata": {},
   "outputs": [],
   "source": [
    "#Bucketizacion tempo\n",
    "bins = np.arange(46.00, 220.00, 25.0) \n",
    "datos['tempo'] = pd.cut(datos.tempo, bins, labels=bins[:-1])"
   ]
  },
  {
   "cell_type": "code",
   "execution_count": 531,
   "metadata": {
    "scrolled": true
   },
   "outputs": [
    {
     "data": {
      "text/html": [
       "<div>\n",
       "<style scoped>\n",
       "    .dataframe tbody tr th:only-of-type {\n",
       "        vertical-align: middle;\n",
       "    }\n",
       "\n",
       "    .dataframe tbody tr th {\n",
       "        vertical-align: top;\n",
       "    }\n",
       "\n",
       "    .dataframe thead th {\n",
       "        text-align: right;\n",
       "    }\n",
       "</style>\n",
       "<table border=\"1\" class=\"dataframe\">\n",
       "  <thead>\n",
       "    <tr style=\"text-align: right;\">\n",
       "      <th></th>\n",
       "      <th>acousticness</th>\n",
       "      <th>danceability</th>\n",
       "      <th>energy</th>\n",
       "      <th>instrumentalness</th>\n",
       "      <th>key</th>\n",
       "      <th>liveness</th>\n",
       "      <th>loudness</th>\n",
       "      <th>mode</th>\n",
       "      <th>speechiness</th>\n",
       "      <th>time_signature</th>\n",
       "      <th>valence</th>\n",
       "      <th>target</th>\n",
       "    </tr>\n",
       "  </thead>\n",
       "  <tbody>\n",
       "    <tr>\n",
       "      <th>count</th>\n",
       "      <td>2.017000e+03</td>\n",
       "      <td>2.017000e+03</td>\n",
       "      <td>2.017000e+03</td>\n",
       "      <td>2.017000e+03</td>\n",
       "      <td>2017.000000</td>\n",
       "      <td>2.017000e+03</td>\n",
       "      <td>2.017000e+03</td>\n",
       "      <td>2017.000000</td>\n",
       "      <td>2.017000e+03</td>\n",
       "      <td>2017.000000</td>\n",
       "      <td>2.017000e+03</td>\n",
       "      <td>2017.000000</td>\n",
       "    </tr>\n",
       "    <tr>\n",
       "      <th>mean</th>\n",
       "      <td>5.143795e-17</td>\n",
       "      <td>4.361079e-16</td>\n",
       "      <td>-2.741156e-17</td>\n",
       "      <td>1.852206e-17</td>\n",
       "      <td>5.342588</td>\n",
       "      <td>-8.273005e-17</td>\n",
       "      <td>5.344703e-17</td>\n",
       "      <td>0.612295</td>\n",
       "      <td>5.680467e-17</td>\n",
       "      <td>3.968270</td>\n",
       "      <td>-1.158661e-16</td>\n",
       "      <td>0.505702</td>\n",
       "    </tr>\n",
       "    <tr>\n",
       "      <th>std</th>\n",
       "      <td>1.000248e+00</td>\n",
       "      <td>1.000248e+00</td>\n",
       "      <td>1.000248e+00</td>\n",
       "      <td>1.000248e+00</td>\n",
       "      <td>3.648240</td>\n",
       "      <td>1.000248e+00</td>\n",
       "      <td>1.000248e+00</td>\n",
       "      <td>0.487347</td>\n",
       "      <td>1.000248e+00</td>\n",
       "      <td>0.255853</td>\n",
       "      <td>1.000248e+00</td>\n",
       "      <td>0.500091</td>\n",
       "    </tr>\n",
       "    <tr>\n",
       "      <th>min</th>\n",
       "      <td>-7.216979e-01</td>\n",
       "      <td>-3.083576e+00</td>\n",
       "      <td>-3.171793e+00</td>\n",
       "      <td>-4.880565e-01</td>\n",
       "      <td>0.000000</td>\n",
       "      <td>-1.107000e+00</td>\n",
       "      <td>-6.916536e+00</td>\n",
       "      <td>0.000000</td>\n",
       "      <td>-7.737170e-01</td>\n",
       "      <td>1.000000</td>\n",
       "      <td>-1.869491e+00</td>\n",
       "      <td>0.000000</td>\n",
       "    </tr>\n",
       "    <tr>\n",
       "      <th>25%</th>\n",
       "      <td>-6.846597e-01</td>\n",
       "      <td>-6.486275e-01</td>\n",
       "      <td>-5.640598e-01</td>\n",
       "      <td>-4.880565e-01</td>\n",
       "      <td>2.000000</td>\n",
       "      <td>-6.340718e-01</td>\n",
       "      <td>-3.479027e-01</td>\n",
       "      <td>0.000000</td>\n",
       "      <td>-6.135554e-01</td>\n",
       "      <td>4.000000</td>\n",
       "      <td>-8.166212e-01</td>\n",
       "      <td>0.000000</td>\n",
       "    </tr>\n",
       "    <tr>\n",
       "      <th>50%</th>\n",
       "      <td>-4.781769e-01</td>\n",
       "      <td>7.813008e-02</td>\n",
       "      <td>1.589892e-01</td>\n",
       "      <td>-4.877775e-01</td>\n",
       "      <td>6.000000</td>\n",
       "      <td>-4.107981e-01</td>\n",
       "      <td>2.227279e-01</td>\n",
       "      <td>1.000000</td>\n",
       "      <td>-4.200267e-01</td>\n",
       "      <td>4.000000</td>\n",
       "      <td>-1.948343e-02</td>\n",
       "      <td>1.000000</td>\n",
       "    </tr>\n",
       "    <tr>\n",
       "      <th>75%</th>\n",
       "      <td>2.978168e-01</td>\n",
       "      <td>7.427716e-01</td>\n",
       "      <td>7.821433e-01</td>\n",
       "      <td>-2.903227e-01</td>\n",
       "      <td>9.000000</td>\n",
       "      <td>3.613301e-01</td>\n",
       "      <td>6.221161e-01</td>\n",
       "      <td>1.000000</td>\n",
       "      <td>1.705693e-01</td>\n",
       "      <td>4.000000</td>\n",
       "      <td>7.857471e-01</td>\n",
       "      <td>1.000000</td>\n",
       "    </tr>\n",
       "    <tr>\n",
       "      <th>max</th>\n",
       "      <td>3.106321e+00</td>\n",
       "      <td>2.270826e+00</td>\n",
       "      <td>1.505192e+00</td>\n",
       "      <td>3.085799e+00</td>\n",
       "      <td>11.000000</td>\n",
       "      <td>5.006968e+00</td>\n",
       "      <td>1.802465e+00</td>\n",
       "      <td>1.000000</td>\n",
       "      <td>8.045183e+00</td>\n",
       "      <td>5.000000</td>\n",
       "      <td>2.003709e+00</td>\n",
       "      <td>1.000000</td>\n",
       "    </tr>\n",
       "  </tbody>\n",
       "</table>\n",
       "</div>"
      ],
      "text/plain": [
       "       acousticness  danceability        energy  instrumentalness  \\\n",
       "count  2.017000e+03  2.017000e+03  2.017000e+03      2.017000e+03   \n",
       "mean   5.143795e-17  4.361079e-16 -2.741156e-17      1.852206e-17   \n",
       "std    1.000248e+00  1.000248e+00  1.000248e+00      1.000248e+00   \n",
       "min   -7.216979e-01 -3.083576e+00 -3.171793e+00     -4.880565e-01   \n",
       "25%   -6.846597e-01 -6.486275e-01 -5.640598e-01     -4.880565e-01   \n",
       "50%   -4.781769e-01  7.813008e-02  1.589892e-01     -4.877775e-01   \n",
       "75%    2.978168e-01  7.427716e-01  7.821433e-01     -2.903227e-01   \n",
       "max    3.106321e+00  2.270826e+00  1.505192e+00      3.085799e+00   \n",
       "\n",
       "               key      liveness      loudness         mode   speechiness  \\\n",
       "count  2017.000000  2.017000e+03  2.017000e+03  2017.000000  2.017000e+03   \n",
       "mean      5.342588 -8.273005e-17  5.344703e-17     0.612295  5.680467e-17   \n",
       "std       3.648240  1.000248e+00  1.000248e+00     0.487347  1.000248e+00   \n",
       "min       0.000000 -1.107000e+00 -6.916536e+00     0.000000 -7.737170e-01   \n",
       "25%       2.000000 -6.340718e-01 -3.479027e-01     0.000000 -6.135554e-01   \n",
       "50%       6.000000 -4.107981e-01  2.227279e-01     1.000000 -4.200267e-01   \n",
       "75%       9.000000  3.613301e-01  6.221161e-01     1.000000  1.705693e-01   \n",
       "max      11.000000  5.006968e+00  1.802465e+00     1.000000  8.045183e+00   \n",
       "\n",
       "       time_signature       valence       target  \n",
       "count     2017.000000  2.017000e+03  2017.000000  \n",
       "mean         3.968270 -1.158661e-16     0.505702  \n",
       "std          0.255853  1.000248e+00     0.500091  \n",
       "min          1.000000 -1.869491e+00     0.000000  \n",
       "25%          4.000000 -8.166212e-01     0.000000  \n",
       "50%          4.000000 -1.948343e-02     1.000000  \n",
       "75%          4.000000  7.857471e-01     1.000000  \n",
       "max          5.000000  2.003709e+00     1.000000  "
      ]
     },
     "execution_count": 531,
     "metadata": {},
     "output_type": "execute_result"
    }
   ],
   "source": [
    "datos.describe()"
   ]
  },
  {
   "cell_type": "code",
   "execution_count": 532,
   "metadata": {
    "scrolled": true
   },
   "outputs": [
    {
     "name": "stderr",
     "output_type": "stream",
     "text": [
      "C:\\Users\\anama\\anaconda3\\lib\\site-packages\\pandas\\io\\formats\\format.py:1429: FutureWarning: Index.ravel returning ndarray is deprecated; in a future version this will return a view on self.\n",
      "  for val, m in zip(values.ravel(), mask.ravel())\n"
     ]
    },
    {
     "data": {
      "text/plain": [
       "783     8.0\n",
       "1795    2.0\n",
       "168     2.0\n",
       "58      0.0\n",
       "808     4.0\n",
       "       ... \n",
       "1950    4.0\n",
       "239     2.0\n",
       "1595    4.0\n",
       "622     2.0\n",
       "674     4.0\n",
       "Name: duration_min, Length: 2017, dtype: category\n",
       "Categories (8, float64): [0.0 < 2.0 < 4.0 < 6.0 < 8.0 < 10.0 < 12.0 < 14.0]"
      ]
     },
     "execution_count": 532,
     "metadata": {},
     "output_type": "execute_result"
    }
   ],
   "source": [
    "datos['duration_min']"
   ]
  },
  {
   "cell_type": "code",
   "execution_count": 533,
   "metadata": {
    "scrolled": true
   },
   "outputs": [
    {
     "data": {
      "text/plain": [
       "783      96.0\n",
       "1795    121.0\n",
       "168      96.0\n",
       "58      146.0\n",
       "808     146.0\n",
       "        ...  \n",
       "1950     96.0\n",
       "239     121.0\n",
       "1595     96.0\n",
       "622     121.0\n",
       "674     146.0\n",
       "Name: tempo, Length: 2017, dtype: category\n",
       "Categories (6, float64): [46.0 < 71.0 < 96.0 < 121.0 < 146.0 < 171.0]"
      ]
     },
     "execution_count": 533,
     "metadata": {},
     "output_type": "execute_result"
    }
   ],
   "source": [
    "datos['tempo']"
   ]
  },
  {
   "cell_type": "code",
   "execution_count": 534,
   "metadata": {},
   "outputs": [],
   "source": [
    "bucketized_features = ['duration_min', 'tempo']\n",
    "datos_cat = pd.get_dummies(datos[bucketized_features])\n",
    "datos = datos.drop(bucketized_features, axis=1)\n",
    "datos = pd.concat([datos, datos_cat], axis=1)"
   ]
  },
  {
   "cell_type": "code",
   "execution_count": 535,
   "metadata": {},
   "outputs": [],
   "source": [
    "# Separamos el dataset en X y labels(y). Pasamos de pandas a numpy para seguir operando con arrays de numpy.\n",
    "X = datos.iloc[:, 0:13].to_numpy()\n",
    "y = datos.iloc[:, 13].to_numpy()"
   ]
  },
  {
   "cell_type": "code",
   "execution_count": 536,
   "metadata": {
    "scrolled": false
   },
   "outputs": [
    {
     "name": "stdout",
     "output_type": "stream",
     "text": [
      "(2017, 13)\n",
      "(2017,)\n"
     ]
    }
   ],
   "source": [
    "print(X.shape)\n",
    "print(y.shape)"
   ]
  },
  {
   "cell_type": "markdown",
   "metadata": {},
   "source": [
    "## 3. Dataset final"
   ]
  },
  {
   "cell_type": "markdown",
   "metadata": {},
   "source": [
    "Explicar el dataset que obtenemos tras el preprocesamiento. Tipo:\n",
    "Tras las operaciones de preprocesamiento que hemos detallado en el apartado anterior. hemos obtenido un dataset final con el que vamos a trabajar que consiste en 2017 ejemplos de entrenamiento y 13 columnas, es decir, atributos. "
   ]
  },
  {
   "cell_type": "markdown",
   "metadata": {},
   "source": [
    "## 4. Separación en entrenamiento, validación y test"
   ]
  },
  {
   "cell_type": "markdown",
   "metadata": {},
   "source": [
    "Dividimos el dataset en entrenamiento, validación y test. \n",
    "\n",
    "Hacemos una división en las siguientes partes:\n",
    "- **60%** Entrenamiento (training set)\n",
    "- **20%** Validación (validation set)\n",
    "- **20%** test (test set)"
   ]
  },
  {
   "cell_type": "code",
   "execution_count": 537,
   "metadata": {},
   "outputs": [],
   "source": [
    "x, x_test, y, y_test = train_test_split(X,y,test_size=0.2,train_size=0.8)\n",
    "x_train, x_val, y_train, y_val = train_test_split(x,y,test_size = 0.25,train_size =0.75)"
   ]
  },
  {
   "cell_type": "code",
   "execution_count": 538,
   "metadata": {},
   "outputs": [
    {
     "name": "stdout",
     "output_type": "stream",
     "text": [
      "(1209, 13)\n",
      "(404, 13)\n",
      "(404, 13)\n"
     ]
    }
   ],
   "source": [
    "print(x_train.shape)\n",
    "print(x_val.shape)\n",
    "print(x_test.shape)\n",
    "#La entrada 13 neuronas porque en la p4 5000 ejemplos de entrenamiento y cada uno tenía 400 componentes \n",
    "#y la red neuronal tenía 400 neuronas de entradas (parece que el numero de atributos)\n",
    "#La capa intermedia tiene limitación?????? Normalmente suele ser (formulita) por ejemplo el doble que de entrada, en este caso 26\n",
    "#La ultima capa tiene 2 neuronas de salida porque tenemos 2 labels (0 y 1)"
   ]
  },
  {
   "cell_type": "markdown",
   "metadata": {},
   "source": [
    "## 4. Regresión logística"
   ]
  },
  {
   "cell_type": "code",
   "execution_count": 539,
   "metadata": {},
   "outputs": [],
   "source": [
    "from sklearn.preprocessing import PolynomialFeatures\n",
    "import scipy.optimize as opt"
   ]
  },
  {
   "cell_type": "markdown",
   "metadata": {},
   "source": [
    "### 4.1 Regresión logística lineal"
   ]
  },
  {
   "cell_type": "code",
   "execution_count": 540,
   "metadata": {},
   "outputs": [],
   "source": [
    "def sigmoide(z):\n",
    "    return (1.0/(1.0+np.exp(-z)))"
   ]
  },
  {
   "cell_type": "code",
   "execution_count": 541,
   "metadata": {},
   "outputs": [],
   "source": [
    "def coste(Theta, X, y):\n",
    "    H = sigmoide(np.dot(X, Theta))\n",
    "    Term1 = np.matmul(y, np.log(H))\n",
    "    Term2 = np.matmul((1 - y), np.log(1 - H))\n",
    "    cost = (- 1 / (len(y))) * np.sum(Term1 + Term2)\n",
    "    return cost"
   ]
  },
  {
   "cell_type": "code",
   "execution_count": 542,
   "metadata": {},
   "outputs": [],
   "source": [
    "def coste_reg(Theta, X, y, Lambda):\n",
    "    Term1 = coste(Theta, X, y)\n",
    "    Term2 = (Lambda/(2*len(y))) * np.sum(Theta**2)\n",
    "    cost = Term1 + Term2\n",
    "    return cost "
   ]
  },
  {
   "cell_type": "code",
   "execution_count": 543,
   "metadata": {},
   "outputs": [],
   "source": [
    "def gradiente(Theta, X, y):\n",
    "    H = sigmoide(np.dot(X, Theta))\n",
    "    Dif = H - y\n",
    "    grad = (1 / len(y)) * np.matmul(Dif, X)\n",
    "    return grad"
   ]
  },
  {
   "cell_type": "code",
   "execution_count": 544,
   "metadata": {},
   "outputs": [],
   "source": [
    "def gradiente_reg(Theta, X, y, Lambda):\n",
    "    grad = gradiente(Theta, X, y) + ((Lambda/len(y))*np.r_[[0],Theta[1:]])\n",
    "    return grad"
   ]
  },
  {
   "cell_type": "code",
   "execution_count": 545,
   "metadata": {},
   "outputs": [],
   "source": [
    "def evaluacion(theta, X, Y):\n",
    "    prediccion = sigmoide(np.matmul(theta, np.transpose(X)))\n",
    "    prediccion[prediccion >= 0.5] = 1\n",
    "    prediccion[prediccion < 0.5] = 0\n",
    "    porcentaje = np.asarray(np.where(prediccion == Y)).size\n",
    "    return  (porcentaje / len(Y))*100"
   ]
  },
  {
   "cell_type": "code",
   "execution_count": 546,
   "metadata": {
    "scrolled": true
   },
   "outputs": [
    {
     "name": "stdout",
     "output_type": "stream",
     "text": [
      "[ 0.64027235  0.20682337 -0.03753395 -0.03511824 -0.28612413 -0.01720897\n",
      " -0.0733853   0.60089572  0.05007525  0.09975835 -0.0166013   0.16929027\n",
      " -0.39583444 -1.95410696]\n",
      "Coste regularizado (entrenamiento) = 0.6186470044564227\n",
      "Error - coste (entrenamiento) = 0.6166120152556654\n"
     ]
    }
   ],
   "source": [
    "#Optimizacion de Theta con Lambda = 1\n",
    "x_train_1 = np.hstack([np.ones([len(x_train), 1]), x_train])\n",
    "Theta = np.zeros(x_train_1.shape[1])\n",
    "Lambda = 1\n",
    "result = opt.fmin_tnc(func=coste_reg, x0=Theta, fprime=gradiente_reg, args=(x_train_1,y_train,Lambda))\n",
    "Theta_opt=result[0]\n",
    "print(Theta_opt)\n",
    "coste_opt = coste_reg(Theta_opt, x_train_1, y_train, Lambda)\n",
    "print('Coste regularizado (entrenamiento) = {}'.format(coste_opt))\n",
    "error = coste(Theta_opt, x_train_1, y_train)\n",
    "print('Error - coste (entrenamiento) = {}'.format(error))"
   ]
  },
  {
   "cell_type": "code",
   "execution_count": 547,
   "metadata": {
    "scrolled": true
   },
   "outputs": [
    {
     "name": "stdout",
     "output_type": "stream",
     "text": [
      "El porcentaje de ejemplos de entrenamientos que se clasifican correctamente es: 66.74937965260546%\n",
      "El porcentaje de ejemplos de validacion que se clasifican correctamente es: 68.56435643564357%\n"
     ]
    }
   ],
   "source": [
    "porcentaje_aciertos_train = evaluacion(Theta_opt, x_train_1, y_train)\n",
    "print(\"El porcentaje de ejemplos de entrenamientos que se clasifican correctamente es: {}%\".format(porcentaje_aciertos_train))\n",
    "x_val_1 = np.hstack([np.ones([len(x_val), 1]), x_val])\n",
    "porcentaje_aciertos_val = evaluacion(Theta_opt, x_val_1, y_val)\n",
    "print(\"El porcentaje de ejemplos de validacion que se clasifican correctamente es: {}%\".format(porcentaje_aciertos_val))"
   ]
  },
  {
   "cell_type": "code",
   "execution_count": 548,
   "metadata": {
    "scrolled": true
   },
   "outputs": [
    {
     "name": "stdout",
     "output_type": "stream",
     "text": [
      "Lambda 150 Train - 64.26799007444168%, Validation - 66.0891089108911%\n",
      "Lambda 100 Train - 65.01240694789082%, Validation - 65.0990099009901%\n",
      "Lambda 50 Train - 65.92224979321753%, Validation - 65.0990099009901%\n",
      "Lambda 10 Train - 66.50124069478908%, Validation - 65.34653465346535%\n",
      "Lambda 1 Train - 66.74937965260546%, Validation - 68.56435643564357%\n",
      "Lambda 0.5 Train - 66.91480562448304%, Validation - 68.56435643564357%\n",
      "Lambda 0.25 Train - 66.74937965260546%, Validation - 68.56435643564357%\n",
      "Best Lambda:1, best porcentaje aciertos validacion:68.56435643564357%\n"
     ]
    }
   ],
   "source": [
    "lambdas = [150, 100, 50, 10, 1, 0.5, 0.25]\n",
    "bestScore= -1\n",
    "acc_train =[]\n",
    "acc_val = []\n",
    "for i in lambdas:\n",
    "    result = opt.fmin_tnc(func=coste_reg, x0=Theta, fprime=gradiente_reg, args=(x_train_1,y_train,i))\n",
    "    Theta_opt=result[0]\n",
    "    porcentaje_aciertos_train = evaluacion(Theta_opt, x_train_1, y_train)\n",
    "    acc_train.append(porcentaje_aciertos_train)\n",
    "    porcentaje_aciertos_val = evaluacion(Theta_opt, x_val_1, y_val)\n",
    "    acc_val.append(porcentaje_aciertos_val)\n",
    "    if(porcentaje_aciertos_val > bestScore):\n",
    "            bestScore = porcentaje_aciertos_val\n",
    "            bestLambda = i\n",
    "            bestThetaOpt = Theta_opt\n",
    " \n",
    "    print(\"Lambda {} Train - {}%, Validation - {}%\".format(i, porcentaje_aciertos_train,porcentaje_aciertos_val))\n",
    "print(\"Best Lambda:{}, best porcentaje aciertos validacion:{}%\".format(bestLambda, bestScore))"
   ]
  },
  {
   "cell_type": "code",
   "execution_count": 549,
   "metadata": {
    "scrolled": true
   },
   "outputs": [
    {
     "name": "stdout",
     "output_type": "stream",
     "text": [
      "El porcentaje de ejemplos de test que se clasifican correctamente es: 66.0891089108911%\n"
     ]
    }
   ],
   "source": [
    "x_test_1 = np.hstack([np.ones([len(x_test), 1]), x_test])\n",
    "acc_test_Logistic_Linear = evaluacion(bestThetaOpt, x_test_1, y_test)\n",
    "print(\"El porcentaje de ejemplos de test que se clasifican correctamente es: {}%\".format(acc_test_Logistic_Linear))"
   ]
  },
  {
   "cell_type": "code",
   "execution_count": 550,
   "metadata": {},
   "outputs": [],
   "source": [
    "def plot_results(vector_x, acc_train, acc_val, bestLambda, porcentaje_aciertos_test):\n",
    "    plt.plot(vector_x, acc_train, label='Training')\n",
    "    plt.plot(vector_x, acc_val, label='Validation')\n",
    "    plt.scatter(bestLambda, porcentaje_aciertos_test, label= 'Accuracy test')\n",
    "\n",
    "    plt.xlabel('Lambdas')\n",
    "    plt.ylabel('Accuracy')\n",
    "    plt.title('Regresión Logística')\n",
    "    plt.legend(loc = 'best', bbox_to_anchor=(1,1))\n",
    "    plt.show()"
   ]
  },
  {
   "cell_type": "code",
   "execution_count": 551,
   "metadata": {},
   "outputs": [
    {
     "data": {
      "image/png": "[encoded data removed]",
      "text/plain": [
       "<Figure size 432x288 with 1 Axes>"
      ]
     },
     "metadata": {},
     "output_type": "display_data"
    }
   ],
   "source": [
    "plot_results(lambdas, acc_train, acc_val, bestLambda, acc_test_Logistic_Linear)"
   ]
  },
  {
   "cell_type": "code",
   "execution_count": 552,
   "metadata": {
    "scrolled": true
   },
   "outputs": [
    {
     "data": {
      "image/png": "[encoded data removed]",
      "text/plain": [
       "<Figure size 432x288 with 1 Axes>"
      ]
     },
     "metadata": {},
     "output_type": "display_data"
    }
   ],
   "source": [
    "plt.plot(lambdas, acc_train, label='Training')\n",
    "plt.plot(lambdas, acc_val, label='Validation')\n",
    "plt.scatter(bestLambda, acc_test_Logistic_Linear, label= 'Accuracy test')\n",
    "\n",
    "plt.xlabel('Lambdas')\n",
    "plt.ylabel('Accuracy')\n",
    "plt.legend(loc = 'best', bbox_to_anchor=(1,1))\n",
    "plt.show()"
   ]
  },
  {
   "cell_type": "code",
   "execution_count": 553,
   "metadata": {
    "scrolled": true
   },
   "outputs": [
    {
     "data": {
      "image/png": "[encoded data removed]",
      "text/plain": [
       "<Figure size 432x288 with 1 Axes>"
      ]
     },
     "metadata": {},
     "output_type": "display_data"
    }
   ],
   "source": [
    "plt.plot(lambdas, acc_train, label='Training')\n",
    "plt.plot(lambdas, acc_val, label='Validation')\n",
    "plt.scatter(bestLambda, acc_test_Logistic_Linear, label= 'Accuracy test')\n",
    "plt.ylim(0, 100)\n",
    "\n",
    "plt.xlabel('Lambdas')\n",
    "plt.ylabel('Accuracy')\n",
    "plt.legend(loc = 'best', bbox_to_anchor=(1,1))\n",
    "plt.show()"
   ]
  },
  {
   "cell_type": "code",
   "execution_count": 554,
   "metadata": {
    "scrolled": true
   },
   "outputs": [
    {
     "data": {
      "image/png": "[encoded data removed]",
      "text/plain": [
       "<Figure size 576x432 with 1 Axes>"
      ]
     },
     "metadata": {},
     "output_type": "display_data"
    }
   ],
   "source": [
    "y_pred= sigmoide(np.matmul(bestThetaOpt, np.transpose(x_test_1)))\n",
    "y_pred[y_pred >= 0.5] = 1\n",
    "y_pred[y_pred < 0.5] = 0\n",
    "\n",
    "\n",
    "fpr_keras, tpr_keras, thresholds_keras = roc_curve(y_test, y_pred)\n",
    "auc_keras = auc(fpr_keras, tpr_keras)\n",
    "\n",
    "plt.figure(figsize=(8,6))\n",
    "plt.plot([0, 1], [0, 1], 'k--')\n",
    "plt.plot(fpr_keras, tpr_keras, label='Decision (area = {:.3f})'.format(auc_keras))\n",
    "plt.xlabel('False positive rate')\n",
    "plt.ylabel('True positive rate')\n",
    "plt.title('Curva ROC Regresión Logística Lineal')\n",
    "plt.legend(loc='best')\n",
    "plt.show()"
   ]
  },
  {
   "cell_type": "code",
   "execution_count": 555,
   "metadata": {},
   "outputs": [
    {
     "data": {
      "image/png": "[encoded data removed]",
      "text/plain": [
       "<Figure size 432x288 with 2 Axes>"
      ]
     },
     "metadata": {},
     "output_type": "display_data"
    }
   ],
   "source": [
    "plt.figure(figsize=(6,4))\n",
    "df_ = pd.DataFrame(confusion_matrix(y_test,y_pred), range(2),range(2))\n",
    "sns.set(font_scale=1.4)#for label size\n",
    "sns.heatmap(df_, annot=True,annot_kws={\"size\": 16}, fmt='g')\n",
    "plt.xlabel('Predicted Class')\n",
    "plt.ylabel('Original Class')\n",
    "plt.title('Matriz de confusión Regresión Logística Lineal')\n",
    "plt.show()"
   ]
  },
  {
   "cell_type": "markdown",
   "metadata": {},
   "source": [
    "### 4.2 Regresión logística polinomial"
   ]
  },
  {
   "cell_type": "code",
   "execution_count": 556,
   "metadata": {},
   "outputs": [],
   "source": [
    "poly = PolynomialFeatures(6)\n",
    "XX_train = poly.fit_transform(x_train)"
   ]
  },
  {
   "cell_type": "code",
   "execution_count": 557,
   "metadata": {},
   "outputs": [
    {
     "name": "stdout",
     "output_type": "stream",
     "text": [
      "Coste = 0.6931471805599453\n",
      "Gradiente = [-0.07650951  0.02437609 -0.01635092 ...  0.00248139  0.00248139\n",
      "  0.00372208]\n"
     ]
    }
   ],
   "source": [
    "Theta = np.zeros(XX_train.shape[1])\n",
    "Lambda = 1\n",
    "c = coste_reg(Theta, XX_train, y_train, Lambda)\n",
    "grad = gradiente_reg(Theta, XX_train, y_train, Lambda)\n",
    "print('Coste = {}'.format(c))\n",
    "print('Gradiente = {}'.format(grad))"
   ]
  },
  {
   "cell_type": "code",
   "execution_count": 558,
   "metadata": {
    "scrolled": true
   },
   "outputs": [
    {
     "name": "stderr",
     "output_type": "stream",
     "text": [
      "C:\\Users\\anama\\AppData\\Local\\Temp/ipykernel_18716/2068069384.py:2: RuntimeWarning: overflow encountered in exp\n",
      "  return (1.0/(1.0+np.exp(-z)))\n",
      "C:\\Users\\anama\\AppData\\Local\\Temp/ipykernel_18716/4140217642.py:3: RuntimeWarning: divide by zero encountered in log\n",
      "  Term1 = np.matmul(y, np.log(H))\n",
      "C:\\Users\\anama\\AppData\\Local\\Temp/ipykernel_18716/4140217642.py:3: RuntimeWarning: invalid value encountered in matmul\n",
      "  Term1 = np.matmul(y, np.log(H))\n"
     ]
    },
    {
     "name": "stdout",
     "output_type": "stream",
     "text": [
      "[ 2.32880825e-06  9.65708439e-07 -1.86250724e-07 ... -2.38247712e-07\n",
      " -2.38247712e-07 -3.16696652e-07]\n",
      "Coste regularizado (entrenamiento) = 0.483692581904296\n",
      "Error - coste (entrenamiento) = 0.48369257581466035\n"
     ]
    }
   ],
   "source": [
    "#Optimizacion de Theta con Lambda = 1\n",
    "result = opt.fmin_tnc(func=coste_reg, x0=Theta, fprime=gradiente_reg, args=(XX_train,y_train,Lambda))\n",
    "Theta_opt=result[0]\n",
    "print(Theta_opt)\n",
    "coste_opt = coste_reg(Theta_opt, XX_train, y_train, Lambda)\n",
    "print('Coste regularizado (entrenamiento) = {}'.format(coste_opt))\n",
    "error = coste(Theta_opt, XX_train, y_train)\n",
    "print('Error - coste (entrenamiento) = {}'.format(error))"
   ]
  },
  {
   "cell_type": "code",
   "execution_count": 559,
   "metadata": {
    "scrolled": true
   },
   "outputs": [
    {
     "name": "stdout",
     "output_type": "stream",
     "text": [
      "El porcentaje de ejemplos de entrenamientos que se clasifican correctamente es: 78.24648469809759%\n"
     ]
    }
   ],
   "source": [
    "porcentaje_aciertos_train = evaluacion(Theta_opt, XX_train, y_train)\n",
    "print(\"El porcentaje de ejemplos de entrenamientos que se clasifican correctamente es: {}%\".format(porcentaje_aciertos_train))"
   ]
  },
  {
   "cell_type": "code",
   "execution_count": 560,
   "metadata": {},
   "outputs": [
    {
     "name": "stdout",
     "output_type": "stream",
     "text": [
      "El porcentaje de ejemplos de validacion que se clasifican correctamente es: 60.396039603960396%\n"
     ]
    }
   ],
   "source": [
    "poly = PolynomialFeatures(6)\n",
    "XX_val = poly.fit_transform(x_val)\n",
    "porcentaje_aciertos_val = evaluacion(Theta_opt, XX_val, y_val)\n",
    "print(\"El porcentaje de ejemplos de validacion que se clasifican correctamente es: {}%\".format(porcentaje_aciertos_val))"
   ]
  },
  {
   "cell_type": "code",
   "execution_count": 561,
   "metadata": {
    "scrolled": true
   },
   "outputs": [
    {
     "name": "stderr",
     "output_type": "stream",
     "text": [
      "C:\\Users\\anama\\AppData\\Local\\Temp/ipykernel_18716/2068069384.py:2: RuntimeWarning: overflow encountered in exp\n",
      "  return (1.0/(1.0+np.exp(-z)))\n",
      "C:\\Users\\anama\\AppData\\Local\\Temp/ipykernel_18716/4140217642.py:3: RuntimeWarning: divide by zero encountered in log\n",
      "  Term1 = np.matmul(y, np.log(H))\n",
      "C:\\Users\\anama\\AppData\\Local\\Temp/ipykernel_18716/4140217642.py:3: RuntimeWarning: invalid value encountered in matmul\n",
      "  Term1 = np.matmul(y, np.log(H))\n"
     ]
    },
    {
     "name": "stdout",
     "output_type": "stream",
     "text": [
      "Lambda 150 Train - 78.16377171215882%, Validation - 60.396039603960396%\n",
      "Lambda 100 Train - 78.24648469809759%, Validation - 60.396039603960396%\n",
      "Lambda 50 Train - 78.24648469809759%, Validation - 60.396039603960396%\n",
      "Lambda 10 Train - 78.24648469809759%, Validation - 60.396039603960396%\n",
      "Lambda 1 Train - 78.24648469809759%, Validation - 60.396039603960396%\n",
      "Lambda 0.5 Train - 78.24648469809759%, Validation - 60.396039603960396%\n",
      "Lambda 0.25 Train - 78.24648469809759%, Validation - 60.396039603960396%\n",
      "Best Lambda:150, best porcentaje aciertos validacion:60.396039603960396%\n"
     ]
    }
   ],
   "source": [
    "lambdas = [150, 100, 50, 10, 1, 0.5, 0.25]\n",
    "Theta = np.zeros(XX_train.shape[1])\n",
    "bestScore= -1\n",
    "acc_train =[]\n",
    "acc_val = []\n",
    "for i in lambdas:\n",
    "    result = opt.fmin_tnc(func=coste_reg, x0=Theta, fprime=gradiente_reg, args=(XX_train,y_train,i))\n",
    "    Theta_opt=result[0]\n",
    "    porcentaje_aciertos_train = evaluacion(Theta_opt, XX_train, y_train)\n",
    "    acc_train.append(porcentaje_aciertos_train)\n",
    "    porcentaje_aciertos_val = evaluacion(Theta_opt, XX_val, y_val)\n",
    "    acc_val.append(porcentaje_aciertos_val)\n",
    "    if(porcentaje_aciertos_val > bestScore):\n",
    "            bestScore = porcentaje_aciertos_val\n",
    "            bestLambda = i\n",
    "            bestThetaOpt = Theta_opt\n",
    " \n",
    "    print(\"Lambda {} Train - {}%, Validation - {}%\".format(i, porcentaje_aciertos_train,porcentaje_aciertos_val))\n",
    "print(\"Best Lambda:{}, best porcentaje aciertos validacion:{}%\".format(bestLambda, bestScore))"
   ]
  },
  {
   "cell_type": "code",
   "execution_count": 562,
   "metadata": {},
   "outputs": [
    {
     "name": "stdout",
     "output_type": "stream",
     "text": [
      "El porcentaje de ejemplos de test que se clasifican correctamente es: 61.633663366336634%\n"
     ]
    }
   ],
   "source": [
    "poly = PolynomialFeatures(6)\n",
    "XX_test = poly.fit_transform(x_test)\n",
    "acc_test_Logistic_poly = evaluacion(bestThetaOpt, XX_test, y_test)\n",
    "print(\"El porcentaje de ejemplos de test que se clasifican correctamente es: {}%\".format(acc_test_Logistic_poly))"
   ]
  },
  {
   "cell_type": "code",
   "execution_count": 563,
   "metadata": {},
   "outputs": [
    {
     "name": "stdout",
     "output_type": "stream",
     "text": [
      "Accuracy test Regresión Logística: 61.633663366336634\n"
     ]
    }
   ],
   "source": [
    "y_predicc = sigmoide(np.matmul(bestThetaOpt, np.transpose(XX_test)))\n",
    "y_predicc[y_predicc >= 0.5] = 1\n",
    "y_predicc[y_predicc < 0.5] = 0\n",
    "accuracy_test = accuracy_score(y_test, y_predicc)\n",
    "print(\"Accuracy test Regresión Logística: {}\".format(accuracy_test*100))"
   ]
  },
  {
   "cell_type": "code",
   "execution_count": 564,
   "metadata": {
    "scrolled": true
   },
   "outputs": [
    {
     "data": {
      "image/png": "[encoded data removed]",
      "text/plain": [
       "<Figure size 432x288 with 1 Axes>"
      ]
     },
     "metadata": {},
     "output_type": "display_data"
    }
   ],
   "source": [
    "plot_results(lambdas, acc_train, acc_val, bestLambda, acc_test_Logistic_poly)"
   ]
  },
  {
   "cell_type": "code",
   "execution_count": 565,
   "metadata": {
    "scrolled": true
   },
   "outputs": [
    {
     "data": {
      "image/png": "[encoded data removed]",
      "text/plain": [
       "<Figure size 576x432 with 1 Axes>"
      ]
     },
     "metadata": {},
     "output_type": "display_data"
    }
   ],
   "source": [
    "y_pred= sigmoide(np.matmul(bestThetaOpt, np.transpose(XX_test)))\n",
    "y_pred[y_pred >= 0.5] = 1\n",
    "y_pred[y_pred < 0.5] = 0\n",
    "\n",
    "fpr_keras, tpr_keras, thresholds_keras = roc_curve(y_test, y_pred)\n",
    "\n",
    "auc_keras = auc(fpr_keras, tpr_keras)\n",
    "\n",
    "plt.figure(figsize=(8,6))\n",
    "plt.plot([0, 1], [0, 1], 'k--')\n",
    "plt.plot(fpr_keras, tpr_keras, label='Decision (area = {:.3f})'.format(auc_keras))\n",
    "plt.xlabel('False positive rate')\n",
    "plt.ylabel('True positive rate')\n",
    "plt.title('Curva ROC Regresión Logística Polinomial')\n",
    "plt.legend(loc='best')\n",
    "plt.show()"
   ]
  },
  {
   "cell_type": "code",
   "execution_count": 566,
   "metadata": {},
   "outputs": [
    {
     "data": {
      "image/png": "[encoded data removed]",
      "text/plain": [
       "<Figure size 432x288 with 2 Axes>"
      ]
     },
     "metadata": {},
     "output_type": "display_data"
    }
   ],
   "source": [
    "plt.figure(figsize=(6,4))\n",
    "df_ = pd.DataFrame(confusion_matrix(y_test,y_pred), range(2),range(2))\n",
    "sns.set(font_scale=1.4)#for label size\n",
    "sns.heatmap(df_, annot=True,annot_kws={\"size\": 16}, fmt='g')\n",
    "plt.xlabel('Predicted Class')\n",
    "plt.ylabel('Original Class')\n",
    "plt.title('Matriz de confusión Regresión Logística Polinomial')\n",
    "plt.show()"
   ]
  },
  {
   "cell_type": "markdown",
   "metadata": {},
   "source": [
    "Graficar los porcentajes de acierto de train, val y test para cada valor de Lambda (eje x lambda, eje y porcentaje aciertos, 3 curvas: train, val y test)\n",
    "Medir tiempos\n",
    "Medir la precision (accuracy, precision, recall, F1, classification_report, plot_confussion_matrix, ROC curve)"
   ]
  },
  {
   "cell_type": "markdown",
   "metadata": {},
   "source": [
    "## 5. Redes neuronales"
   ]
  },
  {
   "cell_type": "code",
   "execution_count": 567,
   "metadata": {},
   "outputs": [],
   "source": [
    "def forwardprop(X, theta1, theta2):\n",
    "    X_1 = np.hstack([np.ones([len(X), 1]), X])\n",
    "    a_1 = X_1\n",
    "    z_2 = np.matmul(a_1, theta1.T)\n",
    "    a_2 = sigmoide(z_2)\n",
    "    a_2 = np.hstack([np.ones([len(a_2), 1]), a_2])\n",
    "    z_3 = np.matmul(a_2, theta2.T)\n",
    "    a_3 = sigmoide(z_3)\n",
    "    return a_1, z_2, a_2, z_3, a_3"
   ]
  },
  {
   "cell_type": "code",
   "execution_count": 568,
   "metadata": {},
   "outputs": [],
   "source": [
    "def coste_NN(H, y, m):\n",
    "    Term1 = y * np.log(H) \n",
    "    Term2 =  (1 - y) * np.log(1 - H)\n",
    "    cost = ( 1 / m) * np.sum(-Term1 - Term2)\n",
    "    return cost"
   ]
  },
  {
   "cell_type": "code",
   "execution_count": 569,
   "metadata": {},
   "outputs": [],
   "source": [
    "def coste_reg_NN(theta1, theta2, coste, lamb, m):\n",
    "    reg = (np.sum(np.power(theta1[:, 1:], 2)) + np.sum(np.power(theta2[:, 1:], 2))) \n",
    "    coste_reg = coste + (reg* (lamb/(2*m)))\n",
    "    return coste_reg"
   ]
  },
  {
   "cell_type": "code",
   "execution_count": 570,
   "metadata": {},
   "outputs": [],
   "source": [
    "def func_g(z):\n",
    "    ones = np.ones(z.shape)\n",
    "    a = sigmoide(z)\n",
    "    return a*(ones-a)"
   ]
  },
  {
   "cell_type": "code",
   "execution_count": 571,
   "metadata": {},
   "outputs": [],
   "source": [
    "def yOneHot(y, num_etiquetas):\n",
    "    m = len(y)\n",
    "    y_onehot = np.zeros((m, num_etiquetas)) #Matriz 5000 x 10\n",
    "    for i in range(m):\n",
    "        y_onehot[i][y[i]] = 1\n",
    "    return y_onehot"
   ]
  },
  {
   "cell_type": "code",
   "execution_count": 572,
   "metadata": {},
   "outputs": [],
   "source": [
    "def backprop(params_rn, num_entradas, num_ocultas, num_etiquetas, X, y, reg):\n",
    "    Theta1 = np.reshape(params_rn[:num_ocultas * (num_entradas + 1)],(num_ocultas, (num_entradas + 1)))\n",
    "    Theta2 = np.reshape(params_rn[num_ocultas * (num_entradas + 1):],(num_etiquetas, (num_ocultas + 1)))\n",
    "    \n",
    "    #Forward propagation\n",
    "    a1, z2, a2, z3, a3 = forwardprop(X, Theta1, Theta2)\n",
    "    \n",
    "    #Backward propagation\n",
    "    sigma_3 = np.array(a3 - y)\n",
    "    sigma_2 = np.matmul(Theta2.T[1:, :], sigma_3.T) * func_g(z2).T\n",
    "    \n",
    "    delta_1 = np.zeros(Theta1.shape)\n",
    "    delta_2 = np.zeros(Theta2.shape)\n",
    "    \n",
    "    delta_1 = delta_1 + np.matmul(sigma_2, a1)\n",
    "    delta_2 = delta_2 + np.matmul(sigma_3.T, a2)\n",
    "    \n",
    "    grad_1 = (1/len(y))*(delta_1) + (reg/len(y))*np.r_[[np.zeros(Theta1.shape[1])],Theta1[1:]]\n",
    "    grad_2 = (1/len(y))*(delta_2) + (reg/len(y))*np.r_[[np.zeros(Theta2.shape[1])],Theta2[1:]]\n",
    "    \n",
    "    gradiente = np.concatenate((grad_1, grad_2), axis = None)\n",
    "    \n",
    "    cost = coste_NN(a3, y, len(y))\n",
    "    \n",
    "    return cost, gradiente"
   ]
  },
  {
   "cell_type": "code",
   "execution_count": 573,
   "metadata": {},
   "outputs": [],
   "source": [
    "def inicializacionPesos(L_in, L_out):\n",
    "    c_ini = 0.12\n",
    "    peso = np.random.uniform(-c_ini, c_ini, size = (L_in, L_out))\n",
    "    peso = np.insert(peso,0,1,axis = 0)\n",
    "    return peso"
   ]
  },
  {
   "cell_type": "code",
   "execution_count": 574,
   "metadata": {},
   "outputs": [],
   "source": [
    "def evaluacion_NN(Y, h):\n",
    "    predicciones = h.argmax(axis = 1)\n",
    "    \n",
    "    comparacion = (predicciones == Y)*1\n",
    "\n",
    "    precision = (sum(comparacion) / len(comparacion))*100\n",
    "    \n",
    "    return precision"
   ]
  },
  {
   "cell_type": "code",
   "execution_count": 575,
   "metadata": {},
   "outputs": [],
   "source": [
    "def aprendizaje(num_entradas, num_ocultas, num_etiquetas, X, Y, reg, it):\n",
    "    theta1 = inicializacionPesos(num_entradas, num_ocultas)\n",
    "    theta2 = inicializacionPesos(num_ocultas, num_etiquetas)\n",
    "    \n",
    "    y_OneHot=yOneHot(Y,2)\n",
    "    \n",
    "    params = np.hstack((np.ravel(theta1), np.ravel(theta2)))\n",
    "    result = opt.minimize(fun = backprop, x0 = params, args = (num_entradas, num_ocultas, num_etiquetas, X, y_OneHot, reg), method='TNC', jac = True, options = {'maxiter': it})\n",
    "\n",
    "    Thetas1 = result.x[:(num_ocultas*(num_entradas+1))].reshape(num_ocultas,(num_entradas+1))\n",
    "    Thetas2 = result.x[(num_ocultas*(num_entradas+1)):].reshape(num_etiquetas,(num_ocultas+1))\n",
    "\n",
    "    h = forwardprop(X, Thetas1, Thetas2)[4]\n",
    "    precision = evaluacion_NN(Y,h)\n",
    "    \n",
    "    return Thetas1, Thetas2, precision"
   ]
  },
  {
   "cell_type": "code",
   "execution_count": 576,
   "metadata": {
    "scrolled": true
   },
   "outputs": [
    {
     "name": "stdout",
     "output_type": "stream",
     "text": [
      "La precisión es 69.06534325889164 % \n"
     ]
    }
   ],
   "source": [
    "#x_train1 = np.hstack([np.ones([len(y_train), 1]), x_train])\n",
    "Thetas1, Thetas2, precision=aprendizaje(13,26,2,x_train,y_train,1, 100)\n",
    "print('La precisión es {} % '.format(precision))"
   ]
  },
  {
   "cell_type": "code",
   "execution_count": 577,
   "metadata": {},
   "outputs": [
    {
     "name": "stdout",
     "output_type": "stream",
     "text": [
      "Best score:  66.83168316831683\n",
      "Best iterations:  70\n",
      "Best Reg parameter: 3\n",
      "Best reg:3, it 70: best porcentaje aciertos validacion:66.83168316831683%\n"
     ]
    }
   ],
   "source": [
    "reg_vec = [1, 1.5, 2, 3, 5, 10, 15, 30]\n",
    "it_vec = [70, 100, 150, 200, 300, 400, 500]\n",
    "scores = np.zeros((len(reg_vec), len(it_vec)))\n",
    "\n",
    "acc_train =[]\n",
    "acc_val = []\n",
    "\n",
    "bestReg = 0.01\n",
    "bestIt = 0.01\n",
    "bestScore = -1\n",
    "\n",
    "\n",
    "for r in reg_vec:\n",
    "    for it in it_vec:\n",
    "        Thetas1, Thetas2, score_train = aprendizaje(13,26,2,x_train,y_train,r,it)\n",
    "        acc_train.append(score_train)\n",
    "        h = forwardprop(x_val, Thetas1, Thetas2)[4]\n",
    "        score_val = evaluacion_NN(y_val,h)\n",
    "        acc_val.append(score_val)\n",
    "        if(score_val > bestScore):\n",
    "            bestReg = r\n",
    "            bestIt = it\n",
    "            bestScore = score_val\n",
    "            bestThetas1 = Thetas1\n",
    "            bestThetas2= Thetas2\n",
    "        #print(\"Reg {}, it {}: Train - {}%, Validation - {}%\".format(r,it, score_train,score_val))\n",
    "\n",
    "print(\"Best score: \", bestScore)\n",
    "print(\"Best iterations: \", bestIt)\n",
    "print(\"Best Reg parameter:\", bestReg)\n",
    "print(\"Best reg:{}, it {}: best porcentaje aciertos validacion:{}%\".format(bestReg, bestIt, bestScore))\n",
    "\n",
    "\n",
    "        "
   ]
  },
  {
   "cell_type": "code",
   "execution_count": 578,
   "metadata": {
    "scrolled": false
   },
   "outputs": [
    {
     "name": "stdout",
     "output_type": "stream",
     "text": [
      "La precisión del test es 65.34653465346535 % \n"
     ]
    }
   ],
   "source": [
    "#TEST\n",
    "h = forwardprop(x_test, bestThetas1, bestThetas2)[4]\n",
    "acc_test_NN = evaluacion_NN(y_test,h)\n",
    "print('La precisión del test es {} % '.format(acc_test_NN))"
   ]
  },
  {
   "cell_type": "code",
   "execution_count": 579,
   "metadata": {
    "scrolled": true
   },
   "outputs": [
    {
     "data": {
      "image/png": "[encoded data removed]",
      "text/plain": [
       "<Figure size 576x432 with 1 Axes>"
      ]
     },
     "metadata": {},
     "output_type": "display_data"
    }
   ],
   "source": [
    "y_pred = h.argmax(axis = 1)\n",
    "\n",
    "fpr_keras, tpr_keras, thresholds_keras = roc_curve(y_test, y_pred)\n",
    "\n",
    "auc_keras = auc(fpr_keras, tpr_keras)\n",
    "\n",
    "plt.figure(figsize=(8,6))\n",
    "plt.plot([0, 1], [0, 1], 'k--')\n",
    "plt.plot(fpr_keras, tpr_keras, label='Decision (area = {:.3f})'.format(auc_keras))\n",
    "plt.xlabel('False positive rate')\n",
    "plt.ylabel('True positive rate')\n",
    "plt.title('Curva ROC Redes Neuronales')\n",
    "plt.legend(loc='best')\n",
    "plt.show()"
   ]
  },
  {
   "cell_type": "code",
   "execution_count": 580,
   "metadata": {},
   "outputs": [
    {
     "data": {
      "image/png": "[encoded data removed]",
      "text/plain": [
       "<Figure size 432x288 with 2 Axes>"
      ]
     },
     "metadata": {},
     "output_type": "display_data"
    }
   ],
   "source": [
    "plt.figure(figsize=(6,4))\n",
    "df_ = pd.DataFrame(confusion_matrix(y_test,y_pred), range(2),range(2))\n",
    "sns.set(font_scale=1.4)#for label size\n",
    "sns.heatmap(df_, annot=True,annot_kws={\"size\": 16}, fmt='g')\n",
    "plt.xlabel('Predicted Class')\n",
    "plt.ylabel('Original Class')\n",
    "plt.title('Matriz de confusión Redes Neuronales')\n",
    "plt.show()"
   ]
  },
  {
   "cell_type": "code",
   "execution_count": 581,
   "metadata": {},
   "outputs": [],
   "source": [
    "#plot_results(reg_vec, acc_train, acc_val, bestReg, score_test)"
   ]
  },
  {
   "cell_type": "markdown",
   "metadata": {},
   "source": [
    "## 6. Support Vector Machine"
   ]
  },
  {
   "cell_type": "code",
   "execution_count": null,
   "metadata": {
    "scrolled": false
   },
   "outputs": [],
   "source": [
    "C_vec = [0.01, 0.03, 0.1, 0.3, 1, 3, 10, 30]\n",
    "sigma_vec = [0.01, 0.03, 0.1, 0.3, 1, 3, 10, 30]\n",
    "scores = np.zeros((len(C_vec), len(sigma_vec)))\n",
    "\n",
    "acc_train =[]\n",
    "acc_val = []\n",
    "\n",
    "bestC = 0.01\n",
    "bestSigma = 0.01\n",
    "bestScore = -1\n",
    "\n",
    "\n",
    "for c in C_vec:\n",
    "    for sigma in sigma_vec:\n",
    "        gamma = 1/(2*sigma **2)\n",
    "        aux_kernel = SVC(C = c, kernel = 'rbf', gamma = gamma)\n",
    "        aux_kernel.fit(x_train, y_train.ravel())\n",
    "        score_train =  aux_kernel.score(x_train, y_train)\n",
    "        acc_train.append(score_train)\n",
    "        score = aux_kernel.score(x_val, y_val)\n",
    "        acc_val.append(score)\n",
    "        if(score > bestScore):\n",
    "            bestC = c\n",
    "            bestSigma = sigma\n",
    "            bestScore = score\n",
    "\n",
    "print(\"Best score: \", bestScore)\n",
    "print(\"Best sigma: \", bestSigma)\n",
    "print(\"Best C:\", bestC)"
   ]
  },
  {
   "cell_type": "code",
   "execution_count": null,
   "metadata": {},
   "outputs": [],
   "source": [
    "gamma = 1/(2*bestSigma **2)\n",
    "aux_kernel = SVC(C = bestC, kernel = 'rbf', gamma = gamma)\n",
    "aux_kernel.fit(x_train, y_train.ravel())\n",
    "acc_test_SVM =  aux_kernel.score(x_test, y_test)*100\n",
    "print('La precisión del test es {} % '.format(acc_test_SVM))"
   ]
  },
  {
   "cell_type": "code",
   "execution_count": null,
   "metadata": {
    "scrolled": false
   },
   "outputs": [],
   "source": [
    "y_pred= aux_kernel.predict(x_test).ravel()\n",
    "\n",
    "fpr_keras, tpr_keras, thresholds_keras = roc_curve(y_test, y_pred)\n",
    "\n",
    "auc_keras = auc(fpr_keras, tpr_keras)\n",
    "\n",
    "plt.figure(figsize=(8,6))\n",
    "plt.plot([0, 1], [0, 1], 'k--')\n",
    "plt.plot(fpr_keras, tpr_keras, label='SVC (area = {:.3f})'.format(auc_keras))\n",
    "plt.xlabel('False positive rate')\n",
    "plt.ylabel('True positive rate')\n",
    "plt.title('Curva ROC SVM')\n",
    "plt.legend(loc='best')\n",
    "plt.show()"
   ]
  },
  {
   "cell_type": "code",
   "execution_count": null,
   "metadata": {},
   "outputs": [],
   "source": [
    "plt.figure(figsize=(6,4))\n",
    "df_ = pd.DataFrame(confusion_matrix(y_test,y_pred), range(2),range(2))\n",
    "sns.set(font_scale=1.4)#for label size\n",
    "sns.heatmap(df_, annot=True,annot_kws={\"size\": 16}, fmt='g')\n",
    "plt.xlabel('Predicted Class')\n",
    "plt.ylabel('Original Class')\n",
    "plt.title('Matriz de confusión SVM')\n",
    "plt.show()"
   ]
  },
  {
   "cell_type": "code",
   "execution_count": null,
   "metadata": {},
   "outputs": [],
   "source": [
    "#plot_results(C_vec, acc_train, acc_val, bestC, score_test)"
   ]
  },
  {
   "cell_type": "markdown",
   "metadata": {},
   "source": [
    "## 7. Comparación"
   ]
  },
  {
   "cell_type": "markdown",
   "metadata": {},
   "source": [
    "Estudio con crossvalidation (diapositivas kfold cross validation)\n",
    "Curvas ROC"
   ]
  },
  {
   "cell_type": "code",
   "execution_count": null,
   "metadata": {},
   "outputs": [],
   "source": [
    "models = pd.DataFrame({\n",
    "    'Model': ['Regresión Logística Lineal','Regresión Logística Polinomial', 'Redes neuronales',  'SVM'],\n",
    "    'Score': [ acc_test_Logistic_Linear,acc_test_Logistic_poly, acc_test_NN, acc_test_SVM]\n",
    "})\n",
    "\n",
    "models.sort_values(by = 'Score', ascending = False)"
   ]
  },
  {
   "cell_type": "code",
   "execution_count": null,
   "metadata": {},
   "outputs": [],
   "source": [
    "plt.figure(figsize=(15,6))\n",
    "sns.barplot(x='Model',y='Score',data=models)\n",
    "plt.show()"
   ]
  },
  {
   "cell_type": "markdown",
   "metadata": {},
   "source": [
    "## 8. Conclusiones"
   ]
  },
  {
   "cell_type": "code",
   "execution_count": null,
   "metadata": {},
   "outputs": [],
   "source": []
  }
 ],
 "metadata": {
  "colab": {
   "name": "proyecto.ipynb",
   "provenance": []
  },
  "kernelspec": {
   "display_name": "Python 3 (ipykernel)",
   "language": "python",
   "name": "python3"
  },
  "language_info": {
   "codemirror_mode": {
    "name": "ipython",
    "version": 3
   },
   "file_extension": ".py",
   "mimetype": "text/x-python",
   "name": "python",
   "nbconvert_exporter": "python",
   "pygments_lexer": "ipython3",
   "version": "3.9.7"
  }
 },
 "nbformat": 4,
 "nbformat_minor": 1
}
