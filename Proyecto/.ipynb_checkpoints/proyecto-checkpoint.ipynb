{
 "cells": [
  {
   "cell_type": "markdown",
   "metadata": {
    "id": "YGYHoriBRF2b"
   },
   "source": [
    "# Proyecto Spotify Song Predictor\n",
    "### Aprendizaje Automático, Universidad Complutense de Madrid\n"
   ]
  },
  {
   "cell_type": "markdown",
   "metadata": {},
   "source": [
    "- **Eladia Gómez Morales**\n",
    "- **Ana Martínez Sabiote**"
   ]
  },
  {
   "cell_type": "markdown",
   "metadata": {},
   "source": [
    "## 1. Presentación del dataset"
   ]
  },
  {
   "cell_type": "markdown",
   "metadata": {
    "id": "sydMdjuuRynb"
   },
   "source": [
    "El siguiente proyecto trata de clasificar si me gustan o no canciones, de acuerdo a sus características musicales y auditivas.\n",
    "Dataset: https://www.kaggle.com/datasets/geomack/spotifyclassification"
   ]
  },
  {
   "cell_type": "code",
   "execution_count": 2,
   "metadata": {
    "id": "5ZDIGp0FScxB"
   },
   "outputs": [],
   "source": [
    "from pandas.io.parsers import read_csv\n",
    "import matplotlib.pyplot as plt\n",
    "import numpy as np\n",
    "import matplotlib.pyplot as plt\n",
    "import pandas as pd\n",
    "import seaborn as sns\n",
    "from sklearn.model_selection import train_test_split\n",
    "from sklearn import preprocessing"
   ]
  },
  {
   "cell_type": "code",
   "execution_count": 3,
   "metadata": {},
   "outputs": [],
   "source": [
    "datos = pd.read_csv('data.csv')"
   ]
  },
  {
   "cell_type": "markdown",
   "metadata": {},
   "source": [
    "Primero, revisamos como es el dataFrame del dataset de spotify, procedente de kaggle, que hemos cargado en nuestro notebook. Para ello, utilizamos la funcion head() de pandas, la cual devuelve las primeras n filas (5 por defecto) de dataFrame. De esta manera revisamos que tiene el tipo adecuado y podemos reflexionar sobre el preprocesamiento que debemos realizar a estos datos."
   ]
  },
  {
   "cell_type": "code",
   "execution_count": 4,
   "metadata": {
    "id": "jUjVp6rgTbCY",
    "scrolled": true
   },
   "outputs": [
    {
     "data": {
      "text/html": [
       "<div>\n",
       "<style scoped>\n",
       "    .dataframe tbody tr th:only-of-type {\n",
       "        vertical-align: middle;\n",
       "    }\n",
       "\n",
       "    .dataframe tbody tr th {\n",
       "        vertical-align: top;\n",
       "    }\n",
       "\n",
       "    .dataframe thead th {\n",
       "        text-align: right;\n",
       "    }\n",
       "</style>\n",
       "<table border=\"1\" class=\"dataframe\">\n",
       "  <thead>\n",
       "    <tr style=\"text-align: right;\">\n",
       "      <th></th>\n",
       "      <th>Unnamed: 0</th>\n",
       "      <th>acousticness</th>\n",
       "      <th>danceability</th>\n",
       "      <th>duration_ms</th>\n",
       "      <th>energy</th>\n",
       "      <th>instrumentalness</th>\n",
       "      <th>key</th>\n",
       "      <th>liveness</th>\n",
       "      <th>loudness</th>\n",
       "      <th>mode</th>\n",
       "      <th>speechiness</th>\n",
       "      <th>tempo</th>\n",
       "      <th>time_signature</th>\n",
       "      <th>valence</th>\n",
       "      <th>target</th>\n",
       "      <th>song_title</th>\n",
       "      <th>artist</th>\n",
       "    </tr>\n",
       "  </thead>\n",
       "  <tbody>\n",
       "    <tr>\n",
       "      <th>0</th>\n",
       "      <td>0</td>\n",
       "      <td>0.0102</td>\n",
       "      <td>0.833</td>\n",
       "      <td>204600</td>\n",
       "      <td>0.434</td>\n",
       "      <td>0.021900</td>\n",
       "      <td>2</td>\n",
       "      <td>0.1650</td>\n",
       "      <td>-8.795</td>\n",
       "      <td>1</td>\n",
       "      <td>0.4310</td>\n",
       "      <td>150.062</td>\n",
       "      <td>4.0</td>\n",
       "      <td>0.286</td>\n",
       "      <td>1</td>\n",
       "      <td>Mask Off</td>\n",
       "      <td>Future</td>\n",
       "    </tr>\n",
       "    <tr>\n",
       "      <th>1</th>\n",
       "      <td>1</td>\n",
       "      <td>0.1990</td>\n",
       "      <td>0.743</td>\n",
       "      <td>326933</td>\n",
       "      <td>0.359</td>\n",
       "      <td>0.006110</td>\n",
       "      <td>1</td>\n",
       "      <td>0.1370</td>\n",
       "      <td>-10.401</td>\n",
       "      <td>1</td>\n",
       "      <td>0.0794</td>\n",
       "      <td>160.083</td>\n",
       "      <td>4.0</td>\n",
       "      <td>0.588</td>\n",
       "      <td>1</td>\n",
       "      <td>Redbone</td>\n",
       "      <td>Childish Gambino</td>\n",
       "    </tr>\n",
       "    <tr>\n",
       "      <th>2</th>\n",
       "      <td>2</td>\n",
       "      <td>0.0344</td>\n",
       "      <td>0.838</td>\n",
       "      <td>185707</td>\n",
       "      <td>0.412</td>\n",
       "      <td>0.000234</td>\n",
       "      <td>2</td>\n",
       "      <td>0.1590</td>\n",
       "      <td>-7.148</td>\n",
       "      <td>1</td>\n",
       "      <td>0.2890</td>\n",
       "      <td>75.044</td>\n",
       "      <td>4.0</td>\n",
       "      <td>0.173</td>\n",
       "      <td>1</td>\n",
       "      <td>Xanny Family</td>\n",
       "      <td>Future</td>\n",
       "    </tr>\n",
       "    <tr>\n",
       "      <th>3</th>\n",
       "      <td>3</td>\n",
       "      <td>0.6040</td>\n",
       "      <td>0.494</td>\n",
       "      <td>199413</td>\n",
       "      <td>0.338</td>\n",
       "      <td>0.510000</td>\n",
       "      <td>5</td>\n",
       "      <td>0.0922</td>\n",
       "      <td>-15.236</td>\n",
       "      <td>1</td>\n",
       "      <td>0.0261</td>\n",
       "      <td>86.468</td>\n",
       "      <td>4.0</td>\n",
       "      <td>0.230</td>\n",
       "      <td>1</td>\n",
       "      <td>Master Of None</td>\n",
       "      <td>Beach House</td>\n",
       "    </tr>\n",
       "    <tr>\n",
       "      <th>4</th>\n",
       "      <td>4</td>\n",
       "      <td>0.1800</td>\n",
       "      <td>0.678</td>\n",
       "      <td>392893</td>\n",
       "      <td>0.561</td>\n",
       "      <td>0.512000</td>\n",
       "      <td>5</td>\n",
       "      <td>0.4390</td>\n",
       "      <td>-11.648</td>\n",
       "      <td>0</td>\n",
       "      <td>0.0694</td>\n",
       "      <td>174.004</td>\n",
       "      <td>4.0</td>\n",
       "      <td>0.904</td>\n",
       "      <td>1</td>\n",
       "      <td>Parallel Lines</td>\n",
       "      <td>Junior Boys</td>\n",
       "    </tr>\n",
       "  </tbody>\n",
       "</table>\n",
       "</div>"
      ],
      "text/plain": [
       "   Unnamed: 0  acousticness  danceability  duration_ms  energy  \\\n",
       "0           0        0.0102         0.833       204600   0.434   \n",
       "1           1        0.1990         0.743       326933   0.359   \n",
       "2           2        0.0344         0.838       185707   0.412   \n",
       "3           3        0.6040         0.494       199413   0.338   \n",
       "4           4        0.1800         0.678       392893   0.561   \n",
       "\n",
       "   instrumentalness  key  liveness  loudness  mode  speechiness    tempo  \\\n",
       "0          0.021900    2    0.1650    -8.795     1       0.4310  150.062   \n",
       "1          0.006110    1    0.1370   -10.401     1       0.0794  160.083   \n",
       "2          0.000234    2    0.1590    -7.148     1       0.2890   75.044   \n",
       "3          0.510000    5    0.0922   -15.236     1       0.0261   86.468   \n",
       "4          0.512000    5    0.4390   -11.648     0       0.0694  174.004   \n",
       "\n",
       "   time_signature  valence  target      song_title            artist  \n",
       "0             4.0    0.286       1        Mask Off            Future  \n",
       "1             4.0    0.588       1         Redbone  Childish Gambino  \n",
       "2             4.0    0.173       1    Xanny Family            Future  \n",
       "3             4.0    0.230       1  Master Of None       Beach House  \n",
       "4             4.0    0.904       1  Parallel Lines       Junior Boys  "
      ]
     },
     "execution_count": 4,
     "metadata": {},
     "output_type": "execute_result"
    }
   ],
   "source": [
    "datos.head()"
   ]
  },
  {
   "cell_type": "code",
   "execution_count": 5,
   "metadata": {
    "scrolled": false
   },
   "outputs": [
    {
     "name": "stdout",
     "output_type": "stream",
     "text": [
      "(2017, 17)\n"
     ]
    }
   ],
   "source": [
    "print(datos.shape)"
   ]
  },
  {
   "cell_type": "markdown",
   "metadata": {},
   "source": [
    "## 2. Preprocesamiento de datos"
   ]
  },
  {
   "cell_type": "markdown",
   "metadata": {},
   "source": [
    "Nuestro dataset tiene 2017 filas y 17 columnas. Lo primero que tenemos que hacer es comprender y familiarizarnos con nuestro dataset para entrar en el dominio del problema.\n",
    "\n",
    "- Observamos que la columna \"target\", llamada generalmente label en el transcurso de este curso, toma valores 0 y 1. Hemos inspeccionado el dataset y hemos observado que las primeras 1021 filas corresponden al label 1 y las sucesivas al label 0. Es necesario ordenar aleatoriamente las filas del dataset.\n",
    "- Vamos a cambiar las unidades de la columna 'duration_ms' de milisegundos a minutos y vamos a cambiar el nombre de dicha columna para que sea representativo (\"duration_min\")\n",
    "- Vamos a eliminar la primera columna (unnamed, que ordena los datos del dataset), la penúltima columna - 16, (\"song_title\", es decir, título de la canción) y la última columna - 17 (\"artist\", cantante o grupo de dicha canción). Hemos decidido eliminar estas columnas ya que no vamos a usar estos datos para realizar la clasificación, ya que no ayudan. Preferimos tener variables categóricas (se decía así??)"
   ]
  },
  {
   "cell_type": "code",
   "execution_count": 6,
   "metadata": {},
   "outputs": [],
   "source": [
    "# Transformamos duration_ms a duration_min\n",
    "datos[\"duration_ms\"] = (1/60000) * datos[\"duration_ms\"]\n",
    "datos = datos.rename(columns={'duration_ms': 'duration_min'})\n",
    "\n",
    "# Eliminamos la columna 0, 16 y 17.\n",
    "datos=datos.iloc[:,1:15]\n",
    "\n",
    "# Ordenamos aleatoriamente las filas del dataset\n",
    "datos = datos.sample(frac=1)"
   ]
  },
  {
   "cell_type": "code",
   "execution_count": 7,
   "metadata": {
    "scrolled": true
   },
   "outputs": [
    {
     "data": {
      "text/html": [
       "<div>\n",
       "<style scoped>\n",
       "    .dataframe tbody tr th:only-of-type {\n",
       "        vertical-align: middle;\n",
       "    }\n",
       "\n",
       "    .dataframe tbody tr th {\n",
       "        vertical-align: top;\n",
       "    }\n",
       "\n",
       "    .dataframe thead th {\n",
       "        text-align: right;\n",
       "    }\n",
       "</style>\n",
       "<table border=\"1\" class=\"dataframe\">\n",
       "  <thead>\n",
       "    <tr style=\"text-align: right;\">\n",
       "      <th></th>\n",
       "      <th>acousticness</th>\n",
       "      <th>danceability</th>\n",
       "      <th>duration_min</th>\n",
       "      <th>energy</th>\n",
       "      <th>instrumentalness</th>\n",
       "      <th>key</th>\n",
       "      <th>liveness</th>\n",
       "      <th>loudness</th>\n",
       "      <th>mode</th>\n",
       "      <th>speechiness</th>\n",
       "      <th>tempo</th>\n",
       "      <th>time_signature</th>\n",
       "      <th>valence</th>\n",
       "      <th>target</th>\n",
       "    </tr>\n",
       "  </thead>\n",
       "  <tbody>\n",
       "    <tr>\n",
       "      <th>627</th>\n",
       "      <td>0.03470</td>\n",
       "      <td>0.635</td>\n",
       "      <td>3.745783</td>\n",
       "      <td>0.459</td>\n",
       "      <td>0.000184</td>\n",
       "      <td>2</td>\n",
       "      <td>0.0770</td>\n",
       "      <td>-7.590</td>\n",
       "      <td>1</td>\n",
       "      <td>0.0491</td>\n",
       "      <td>114.865</td>\n",
       "      <td>4.0</td>\n",
       "      <td>0.345</td>\n",
       "      <td>1</td>\n",
       "    </tr>\n",
       "    <tr>\n",
       "      <th>1224</th>\n",
       "      <td>0.02080</td>\n",
       "      <td>0.583</td>\n",
       "      <td>4.313783</td>\n",
       "      <td>0.786</td>\n",
       "      <td>0.000000</td>\n",
       "      <td>2</td>\n",
       "      <td>0.1880</td>\n",
       "      <td>-3.142</td>\n",
       "      <td>0</td>\n",
       "      <td>0.0301</td>\n",
       "      <td>123.052</td>\n",
       "      <td>4.0</td>\n",
       "      <td>0.556</td>\n",
       "      <td>0</td>\n",
       "    </tr>\n",
       "    <tr>\n",
       "      <th>1195</th>\n",
       "      <td>0.07100</td>\n",
       "      <td>0.375</td>\n",
       "      <td>5.647550</td>\n",
       "      <td>0.862</td>\n",
       "      <td>0.000000</td>\n",
       "      <td>11</td>\n",
       "      <td>0.2110</td>\n",
       "      <td>-3.363</td>\n",
       "      <td>0</td>\n",
       "      <td>0.2550</td>\n",
       "      <td>159.841</td>\n",
       "      <td>4.0</td>\n",
       "      <td>0.472</td>\n",
       "      <td>0</td>\n",
       "    </tr>\n",
       "    <tr>\n",
       "      <th>605</th>\n",
       "      <td>0.00167</td>\n",
       "      <td>0.845</td>\n",
       "      <td>4.877567</td>\n",
       "      <td>0.455</td>\n",
       "      <td>0.000060</td>\n",
       "      <td>11</td>\n",
       "      <td>0.0414</td>\n",
       "      <td>-5.209</td>\n",
       "      <td>1</td>\n",
       "      <td>0.0693</td>\n",
       "      <td>119.987</td>\n",
       "      <td>4.0</td>\n",
       "      <td>0.832</td>\n",
       "      <td>1</td>\n",
       "    </tr>\n",
       "    <tr>\n",
       "      <th>1472</th>\n",
       "      <td>0.12500</td>\n",
       "      <td>0.720</td>\n",
       "      <td>3.847550</td>\n",
       "      <td>0.746</td>\n",
       "      <td>0.000476</td>\n",
       "      <td>11</td>\n",
       "      <td>0.0929</td>\n",
       "      <td>-5.567</td>\n",
       "      <td>0</td>\n",
       "      <td>0.0985</td>\n",
       "      <td>124.045</td>\n",
       "      <td>4.0</td>\n",
       "      <td>0.508</td>\n",
       "      <td>0</td>\n",
       "    </tr>\n",
       "  </tbody>\n",
       "</table>\n",
       "</div>"
      ],
      "text/plain": [
       "      acousticness  danceability  duration_min  energy  instrumentalness  key  \\\n",
       "627        0.03470         0.635      3.745783   0.459          0.000184    2   \n",
       "1224       0.02080         0.583      4.313783   0.786          0.000000    2   \n",
       "1195       0.07100         0.375      5.647550   0.862          0.000000   11   \n",
       "605        0.00167         0.845      4.877567   0.455          0.000060   11   \n",
       "1472       0.12500         0.720      3.847550   0.746          0.000476   11   \n",
       "\n",
       "      liveness  loudness  mode  speechiness    tempo  time_signature  valence  \\\n",
       "627     0.0770    -7.590     1       0.0491  114.865             4.0    0.345   \n",
       "1224    0.1880    -3.142     0       0.0301  123.052             4.0    0.556   \n",
       "1195    0.2110    -3.363     0       0.2550  159.841             4.0    0.472   \n",
       "605     0.0414    -5.209     1       0.0693  119.987             4.0    0.832   \n",
       "1472    0.0929    -5.567     0       0.0985  124.045             4.0    0.508   \n",
       "\n",
       "      target  \n",
       "627        1  \n",
       "1224       0  \n",
       "1195       0  \n",
       "605        1  \n",
       "1472       0  "
      ]
     },
     "execution_count": 7,
     "metadata": {},
     "output_type": "execute_result"
    }
   ],
   "source": [
    "datos.head()"
   ]
  },
  {
   "cell_type": "code",
   "execution_count": 8,
   "metadata": {
    "scrolled": false
   },
   "outputs": [
    {
     "name": "stdout",
     "output_type": "stream",
     "text": [
      "(2017, 14)\n"
     ]
    }
   ],
   "source": [
    "print(datos.shape)"
   ]
  },
  {
   "cell_type": "code",
   "execution_count": 9,
   "metadata": {
    "scrolled": false
   },
   "outputs": [
    {
     "data": {
      "text/html": [
       "<div>\n",
       "<style scoped>\n",
       "    .dataframe tbody tr th:only-of-type {\n",
       "        vertical-align: middle;\n",
       "    }\n",
       "\n",
       "    .dataframe tbody tr th {\n",
       "        vertical-align: top;\n",
       "    }\n",
       "\n",
       "    .dataframe thead th {\n",
       "        text-align: right;\n",
       "    }\n",
       "</style>\n",
       "<table border=\"1\" class=\"dataframe\">\n",
       "  <thead>\n",
       "    <tr style=\"text-align: right;\">\n",
       "      <th></th>\n",
       "      <th>acousticness</th>\n",
       "      <th>danceability</th>\n",
       "      <th>duration_min</th>\n",
       "      <th>energy</th>\n",
       "      <th>instrumentalness</th>\n",
       "      <th>key</th>\n",
       "      <th>liveness</th>\n",
       "      <th>loudness</th>\n",
       "      <th>mode</th>\n",
       "      <th>speechiness</th>\n",
       "      <th>tempo</th>\n",
       "      <th>time_signature</th>\n",
       "      <th>valence</th>\n",
       "      <th>target</th>\n",
       "    </tr>\n",
       "  </thead>\n",
       "  <tbody>\n",
       "    <tr>\n",
       "      <th>count</th>\n",
       "      <td>2017.000000</td>\n",
       "      <td>2017.000000</td>\n",
       "      <td>2017.000000</td>\n",
       "      <td>2017.000000</td>\n",
       "      <td>2017.000000</td>\n",
       "      <td>2017.000000</td>\n",
       "      <td>2017.000000</td>\n",
       "      <td>2017.000000</td>\n",
       "      <td>2017.000000</td>\n",
       "      <td>2017.000000</td>\n",
       "      <td>2017.000000</td>\n",
       "      <td>2017.000000</td>\n",
       "      <td>2017.000000</td>\n",
       "      <td>2017.000000</td>\n",
       "    </tr>\n",
       "    <tr>\n",
       "      <th>mean</th>\n",
       "      <td>0.187590</td>\n",
       "      <td>0.618422</td>\n",
       "      <td>4.105103</td>\n",
       "      <td>0.681577</td>\n",
       "      <td>0.133286</td>\n",
       "      <td>5.342588</td>\n",
       "      <td>0.190844</td>\n",
       "      <td>-7.085624</td>\n",
       "      <td>0.612295</td>\n",
       "      <td>0.092664</td>\n",
       "      <td>121.603272</td>\n",
       "      <td>3.968270</td>\n",
       "      <td>0.496815</td>\n",
       "      <td>0.505702</td>\n",
       "    </tr>\n",
       "    <tr>\n",
       "      <th>std</th>\n",
       "      <td>0.259989</td>\n",
       "      <td>0.161029</td>\n",
       "      <td>1.366364</td>\n",
       "      <td>0.210273</td>\n",
       "      <td>0.273162</td>\n",
       "      <td>3.648240</td>\n",
       "      <td>0.155453</td>\n",
       "      <td>3.761684</td>\n",
       "      <td>0.487347</td>\n",
       "      <td>0.089931</td>\n",
       "      <td>26.685604</td>\n",
       "      <td>0.255853</td>\n",
       "      <td>0.247195</td>\n",
       "      <td>0.500091</td>\n",
       "    </tr>\n",
       "    <tr>\n",
       "      <th>min</th>\n",
       "      <td>0.000003</td>\n",
       "      <td>0.122000</td>\n",
       "      <td>0.267367</td>\n",
       "      <td>0.014800</td>\n",
       "      <td>0.000000</td>\n",
       "      <td>0.000000</td>\n",
       "      <td>0.018800</td>\n",
       "      <td>-33.097000</td>\n",
       "      <td>0.000000</td>\n",
       "      <td>0.023100</td>\n",
       "      <td>47.859000</td>\n",
       "      <td>1.000000</td>\n",
       "      <td>0.034800</td>\n",
       "      <td>0.000000</td>\n",
       "    </tr>\n",
       "    <tr>\n",
       "      <th>25%</th>\n",
       "      <td>0.009630</td>\n",
       "      <td>0.514000</td>\n",
       "      <td>3.333583</td>\n",
       "      <td>0.563000</td>\n",
       "      <td>0.000000</td>\n",
       "      <td>2.000000</td>\n",
       "      <td>0.092300</td>\n",
       "      <td>-8.394000</td>\n",
       "      <td>0.000000</td>\n",
       "      <td>0.037500</td>\n",
       "      <td>100.189000</td>\n",
       "      <td>4.000000</td>\n",
       "      <td>0.295000</td>\n",
       "      <td>0.000000</td>\n",
       "    </tr>\n",
       "    <tr>\n",
       "      <th>50%</th>\n",
       "      <td>0.063300</td>\n",
       "      <td>0.631000</td>\n",
       "      <td>3.821017</td>\n",
       "      <td>0.715000</td>\n",
       "      <td>0.000076</td>\n",
       "      <td>6.000000</td>\n",
       "      <td>0.127000</td>\n",
       "      <td>-6.248000</td>\n",
       "      <td>1.000000</td>\n",
       "      <td>0.054900</td>\n",
       "      <td>121.427000</td>\n",
       "      <td>4.000000</td>\n",
       "      <td>0.492000</td>\n",
       "      <td>1.000000</td>\n",
       "    </tr>\n",
       "    <tr>\n",
       "      <th>75%</th>\n",
       "      <td>0.265000</td>\n",
       "      <td>0.738000</td>\n",
       "      <td>4.505550</td>\n",
       "      <td>0.846000</td>\n",
       "      <td>0.054000</td>\n",
       "      <td>9.000000</td>\n",
       "      <td>0.247000</td>\n",
       "      <td>-4.746000</td>\n",
       "      <td>1.000000</td>\n",
       "      <td>0.108000</td>\n",
       "      <td>137.849000</td>\n",
       "      <td>4.000000</td>\n",
       "      <td>0.691000</td>\n",
       "      <td>1.000000</td>\n",
       "    </tr>\n",
       "    <tr>\n",
       "      <th>max</th>\n",
       "      <td>0.995000</td>\n",
       "      <td>0.984000</td>\n",
       "      <td>16.743783</td>\n",
       "      <td>0.998000</td>\n",
       "      <td>0.976000</td>\n",
       "      <td>11.000000</td>\n",
       "      <td>0.969000</td>\n",
       "      <td>-0.307000</td>\n",
       "      <td>1.000000</td>\n",
       "      <td>0.816000</td>\n",
       "      <td>219.331000</td>\n",
       "      <td>5.000000</td>\n",
       "      <td>0.992000</td>\n",
       "      <td>1.000000</td>\n",
       "    </tr>\n",
       "  </tbody>\n",
       "</table>\n",
       "</div>"
      ],
      "text/plain": [
       "       acousticness  danceability  duration_min       energy  \\\n",
       "count   2017.000000   2017.000000   2017.000000  2017.000000   \n",
       "mean       0.187590      0.618422      4.105103     0.681577   \n",
       "std        0.259989      0.161029      1.366364     0.210273   \n",
       "min        0.000003      0.122000      0.267367     0.014800   \n",
       "25%        0.009630      0.514000      3.333583     0.563000   \n",
       "50%        0.063300      0.631000      3.821017     0.715000   \n",
       "75%        0.265000      0.738000      4.505550     0.846000   \n",
       "max        0.995000      0.984000     16.743783     0.998000   \n",
       "\n",
       "       instrumentalness          key     liveness     loudness         mode  \\\n",
       "count       2017.000000  2017.000000  2017.000000  2017.000000  2017.000000   \n",
       "mean           0.133286     5.342588     0.190844    -7.085624     0.612295   \n",
       "std            0.273162     3.648240     0.155453     3.761684     0.487347   \n",
       "min            0.000000     0.000000     0.018800   -33.097000     0.000000   \n",
       "25%            0.000000     2.000000     0.092300    -8.394000     0.000000   \n",
       "50%            0.000076     6.000000     0.127000    -6.248000     1.000000   \n",
       "75%            0.054000     9.000000     0.247000    -4.746000     1.000000   \n",
       "max            0.976000    11.000000     0.969000    -0.307000     1.000000   \n",
       "\n",
       "       speechiness        tempo  time_signature      valence       target  \n",
       "count  2017.000000  2017.000000     2017.000000  2017.000000  2017.000000  \n",
       "mean      0.092664   121.603272        3.968270     0.496815     0.505702  \n",
       "std       0.089931    26.685604        0.255853     0.247195     0.500091  \n",
       "min       0.023100    47.859000        1.000000     0.034800     0.000000  \n",
       "25%       0.037500   100.189000        4.000000     0.295000     0.000000  \n",
       "50%       0.054900   121.427000        4.000000     0.492000     1.000000  \n",
       "75%       0.108000   137.849000        4.000000     0.691000     1.000000  \n",
       "max       0.816000   219.331000        5.000000     0.992000     1.000000  "
      ]
     },
     "execution_count": 9,
     "metadata": {},
     "output_type": "execute_result"
    }
   ],
   "source": [
    "datos.describe()"
   ]
  },
  {
   "cell_type": "code",
   "execution_count": 10,
   "metadata": {
    "scrolled": true
   },
   "outputs": [
    {
     "data": {
      "image/png": "[encoded data removed]",
      "text/plain": [
       "<Figure size 720x720 with 16 Axes>"
      ]
     },
     "metadata": {
      "needs_background": "light"
     },
     "output_type": "display_data"
    }
   ],
   "source": [
    "datos.hist(figsize=(10, 10)) \n",
    "plt.tight_layout()"
   ]
  },
  {
   "cell_type": "code",
   "execution_count": 11,
   "metadata": {
    "scrolled": true
   },
   "outputs": [
    {
     "data": {
      "text/plain": [
       "<AxesSubplot:>"
      ]
     },
     "execution_count": 11,
     "metadata": {},
     "output_type": "execute_result"
    },
    {
     "data": {
      "image/png": "[encoded data removed]",
      "text/plain": [
       "<Figure size 432x576 with 2 Axes>"
      ]
     },
     "metadata": {
      "needs_background": "light"
     },
     "output_type": "display_data"
    }
   ],
   "source": [
    "plt.figure(figsize=(6, 8)) \n",
    "tempdf = datos.corr()[['danceability']].sort_values('danceability', ascending=False).iloc[:20, :] \n",
    "sns.heatmap(tempdf, annot=True, vmin=-1, vmax=1)"
   ]
  },
  {
   "cell_type": "markdown",
   "metadata": {},
   "source": [
    "- Normalización - QUIZÁS SÍ\n",
    "- Bucketización - NO LO NECESITAMOS (para tempo y para duration?)\n",
    "- Categorización (One hot encoding) - SÍ, PARA KEY!!!\n",
    "- Outliers, valores raros - QUIZÁS SÍ\n",
    "- Missing values \n",
    "- Correlaciones - EXTRA?\n"
   ]
  },
  {
   "cell_type": "code",
   "execution_count": 13,
   "metadata": {},
   "outputs": [],
   "source": [
    "# Normalización\n",
    "ss = preprocessing.StandardScaler()\n",
    "#datos_norm = datos.copy()\n",
    "scale_features = ['acousticness', 'danceability', 'energy', 'instrumentalness', 'liveness', 'loudness', 'speechiness', 'valence' ]\n",
    "datos[scale_features]=ss.fit_transform(datos[scale_features])\n",
    "#datos_norm[scale_features]=ss.fit_transform(datos_norm[scale_features])"
   ]
  },
  {
   "cell_type": "code",
   "execution_count": 14,
   "metadata": {
    "scrolled": false
   },
   "outputs": [
    {
     "data": {
      "text/html": [
       "<div>\n",
       "<style scoped>\n",
       "    .dataframe tbody tr th:only-of-type {\n",
       "        vertical-align: middle;\n",
       "    }\n",
       "\n",
       "    .dataframe tbody tr th {\n",
       "        vertical-align: top;\n",
       "    }\n",
       "\n",
       "    .dataframe thead th {\n",
       "        text-align: right;\n",
       "    }\n",
       "</style>\n",
       "<table border=\"1\" class=\"dataframe\">\n",
       "  <thead>\n",
       "    <tr style=\"text-align: right;\">\n",
       "      <th></th>\n",
       "      <th>acousticness</th>\n",
       "      <th>danceability</th>\n",
       "      <th>duration_min</th>\n",
       "      <th>energy</th>\n",
       "      <th>instrumentalness</th>\n",
       "      <th>key</th>\n",
       "      <th>liveness</th>\n",
       "      <th>loudness</th>\n",
       "      <th>mode</th>\n",
       "      <th>speechiness</th>\n",
       "      <th>tempo</th>\n",
       "      <th>time_signature</th>\n",
       "      <th>valence</th>\n",
       "      <th>target</th>\n",
       "    </tr>\n",
       "  </thead>\n",
       "  <tbody>\n",
       "    <tr>\n",
       "      <th>627</th>\n",
       "      <td>-0.588209</td>\n",
       "      <td>0.102976</td>\n",
       "      <td>3.745783</td>\n",
       "      <td>-1.058778</td>\n",
       "      <td>-0.487383</td>\n",
       "      <td>2</td>\n",
       "      <td>-0.732518</td>\n",
       "      <td>-0.134116</td>\n",
       "      <td>1</td>\n",
       "      <td>-0.484536</td>\n",
       "      <td>114.865</td>\n",
       "      <td>4.0</td>\n",
       "      <td>-0.614302</td>\n",
       "      <td>1</td>\n",
       "    </tr>\n",
       "    <tr>\n",
       "      <th>1224</th>\n",
       "      <td>-0.641686</td>\n",
       "      <td>-0.220027</td>\n",
       "      <td>4.313783</td>\n",
       "      <td>0.496729</td>\n",
       "      <td>-0.488057</td>\n",
       "      <td>2</td>\n",
       "      <td>-0.018300</td>\n",
       "      <td>1.048627</td>\n",
       "      <td>0</td>\n",
       "      <td>-0.695861</td>\n",
       "      <td>123.052</td>\n",
       "      <td>4.0</td>\n",
       "      <td>0.239485</td>\n",
       "      <td>0</td>\n",
       "    </tr>\n",
       "    <tr>\n",
       "      <th>1195</th>\n",
       "      <td>-0.448553</td>\n",
       "      <td>-1.512040</td>\n",
       "      <td>5.647550</td>\n",
       "      <td>0.858254</td>\n",
       "      <td>-0.488057</td>\n",
       "      <td>11</td>\n",
       "      <td>0.129692</td>\n",
       "      <td>0.989862</td>\n",
       "      <td>0</td>\n",
       "      <td>1.805553</td>\n",
       "      <td>159.841</td>\n",
       "      <td>4.0</td>\n",
       "      <td>-0.100411</td>\n",
       "      <td>0</td>\n",
       "    </tr>\n",
       "    <tr>\n",
       "      <th>605</th>\n",
       "      <td>-0.715284</td>\n",
       "      <td>1.407413</td>\n",
       "      <td>4.877567</td>\n",
       "      <td>-1.077805</td>\n",
       "      <td>-0.487838</td>\n",
       "      <td>11</td>\n",
       "      <td>-0.961583</td>\n",
       "      <td>0.499002</td>\n",
       "      <td>1</td>\n",
       "      <td>-0.259865</td>\n",
       "      <td>119.987</td>\n",
       "      <td>4.0</td>\n",
       "      <td>1.356287</td>\n",
       "      <td>1</td>\n",
       "    </tr>\n",
       "    <tr>\n",
       "      <th>1472</th>\n",
       "      <td>-0.240801</td>\n",
       "      <td>0.630963</td>\n",
       "      <td>3.847550</td>\n",
       "      <td>0.306453</td>\n",
       "      <td>-0.486314</td>\n",
       "      <td>11</td>\n",
       "      <td>-0.630211</td>\n",
       "      <td>0.403809</td>\n",
       "      <td>0</td>\n",
       "      <td>0.064907</td>\n",
       "      <td>124.045</td>\n",
       "      <td>4.0</td>\n",
       "      <td>0.045259</td>\n",
       "      <td>0</td>\n",
       "    </tr>\n",
       "  </tbody>\n",
       "</table>\n",
       "</div>"
      ],
      "text/plain": [
       "      acousticness  danceability  duration_min    energy  instrumentalness  \\\n",
       "627      -0.588209      0.102976      3.745783 -1.058778         -0.487383   \n",
       "1224     -0.641686     -0.220027      4.313783  0.496729         -0.488057   \n",
       "1195     -0.448553     -1.512040      5.647550  0.858254         -0.488057   \n",
       "605      -0.715284      1.407413      4.877567 -1.077805         -0.487838   \n",
       "1472     -0.240801      0.630963      3.847550  0.306453         -0.486314   \n",
       "\n",
       "      key  liveness  loudness  mode  speechiness    tempo  time_signature  \\\n",
       "627     2 -0.732518 -0.134116     1    -0.484536  114.865             4.0   \n",
       "1224    2 -0.018300  1.048627     0    -0.695861  123.052             4.0   \n",
       "1195   11  0.129692  0.989862     0     1.805553  159.841             4.0   \n",
       "605    11 -0.961583  0.499002     1    -0.259865  119.987             4.0   \n",
       "1472   11 -0.630211  0.403809     0     0.064907  124.045             4.0   \n",
       "\n",
       "       valence  target  \n",
       "627  -0.614302       1  \n",
       "1224  0.239485       0  \n",
       "1195 -0.100411       0  \n",
       "605   1.356287       1  \n",
       "1472  0.045259       0  "
      ]
     },
     "execution_count": 14,
     "metadata": {},
     "output_type": "execute_result"
    }
   ],
   "source": [
    "datos.head()"
   ]
  },
  {
   "cell_type": "code",
   "execution_count": 15,
   "metadata": {
    "scrolled": false
   },
   "outputs": [
    {
     "data": {
      "text/html": [
       "<div>\n",
       "<style scoped>\n",
       "    .dataframe tbody tr th:only-of-type {\n",
       "        vertical-align: middle;\n",
       "    }\n",
       "\n",
       "    .dataframe tbody tr th {\n",
       "        vertical-align: top;\n",
       "    }\n",
       "\n",
       "    .dataframe thead th {\n",
       "        text-align: right;\n",
       "    }\n",
       "</style>\n",
       "<table border=\"1\" class=\"dataframe\">\n",
       "  <thead>\n",
       "    <tr style=\"text-align: right;\">\n",
       "      <th></th>\n",
       "      <th>acousticness</th>\n",
       "      <th>danceability</th>\n",
       "      <th>duration_min</th>\n",
       "      <th>energy</th>\n",
       "      <th>instrumentalness</th>\n",
       "      <th>key</th>\n",
       "      <th>liveness</th>\n",
       "      <th>loudness</th>\n",
       "      <th>mode</th>\n",
       "      <th>speechiness</th>\n",
       "      <th>tempo</th>\n",
       "      <th>time_signature</th>\n",
       "      <th>valence</th>\n",
       "      <th>target</th>\n",
       "    </tr>\n",
       "  </thead>\n",
       "  <tbody>\n",
       "    <tr>\n",
       "      <th>count</th>\n",
       "      <td>2.017000e+03</td>\n",
       "      <td>2.017000e+03</td>\n",
       "      <td>2017.000000</td>\n",
       "      <td>2.017000e+03</td>\n",
       "      <td>2.017000e+03</td>\n",
       "      <td>2017.000000</td>\n",
       "      <td>2.017000e+03</td>\n",
       "      <td>2.017000e+03</td>\n",
       "      <td>2017.000000</td>\n",
       "      <td>2.017000e+03</td>\n",
       "      <td>2017.000000</td>\n",
       "      <td>2017.000000</td>\n",
       "      <td>2.017000e+03</td>\n",
       "      <td>2017.000000</td>\n",
       "    </tr>\n",
       "    <tr>\n",
       "      <th>mean</th>\n",
       "      <td>5.586893e-17</td>\n",
       "      <td>-3.742943e-18</td>\n",
       "      <td>4.105103</td>\n",
       "      <td>1.981558e-17</td>\n",
       "      <td>1.475160e-17</td>\n",
       "      <td>5.342588</td>\n",
       "      <td>-1.750376e-17</td>\n",
       "      <td>1.205448e-17</td>\n",
       "      <td>0.612295</td>\n",
       "      <td>-1.706342e-18</td>\n",
       "      <td>121.603272</td>\n",
       "      <td>3.968270</td>\n",
       "      <td>-2.862251e-18</td>\n",
       "      <td>0.505702</td>\n",
       "    </tr>\n",
       "    <tr>\n",
       "      <th>std</th>\n",
       "      <td>1.000248e+00</td>\n",
       "      <td>1.000248e+00</td>\n",
       "      <td>1.366364</td>\n",
       "      <td>1.000248e+00</td>\n",
       "      <td>1.000248e+00</td>\n",
       "      <td>3.648240</td>\n",
       "      <td>1.000248e+00</td>\n",
       "      <td>1.000248e+00</td>\n",
       "      <td>0.487347</td>\n",
       "      <td>1.000248e+00</td>\n",
       "      <td>26.685604</td>\n",
       "      <td>0.255853</td>\n",
       "      <td>1.000248e+00</td>\n",
       "      <td>0.500091</td>\n",
       "    </tr>\n",
       "    <tr>\n",
       "      <th>min</th>\n",
       "      <td>-7.216979e-01</td>\n",
       "      <td>-3.083576e+00</td>\n",
       "      <td>0.267367</td>\n",
       "      <td>-3.171793e+00</td>\n",
       "      <td>-4.880565e-01</td>\n",
       "      <td>0.000000</td>\n",
       "      <td>-1.107000e+00</td>\n",
       "      <td>-6.916536e+00</td>\n",
       "      <td>0.000000</td>\n",
       "      <td>-7.737170e-01</td>\n",
       "      <td>47.859000</td>\n",
       "      <td>1.000000</td>\n",
       "      <td>-1.869491e+00</td>\n",
       "      <td>0.000000</td>\n",
       "    </tr>\n",
       "    <tr>\n",
       "      <th>25%</th>\n",
       "      <td>-6.846597e-01</td>\n",
       "      <td>-6.486275e-01</td>\n",
       "      <td>3.333583</td>\n",
       "      <td>-5.640598e-01</td>\n",
       "      <td>-4.880565e-01</td>\n",
       "      <td>2.000000</td>\n",
       "      <td>-6.340718e-01</td>\n",
       "      <td>-3.479027e-01</td>\n",
       "      <td>0.000000</td>\n",
       "      <td>-6.135554e-01</td>\n",
       "      <td>100.189000</td>\n",
       "      <td>4.000000</td>\n",
       "      <td>-8.166212e-01</td>\n",
       "      <td>0.000000</td>\n",
       "    </tr>\n",
       "    <tr>\n",
       "      <th>50%</th>\n",
       "      <td>-4.781769e-01</td>\n",
       "      <td>7.813008e-02</td>\n",
       "      <td>3.821017</td>\n",
       "      <td>1.589892e-01</td>\n",
       "      <td>-4.877775e-01</td>\n",
       "      <td>6.000000</td>\n",
       "      <td>-4.107981e-01</td>\n",
       "      <td>2.227279e-01</td>\n",
       "      <td>1.000000</td>\n",
       "      <td>-4.200267e-01</td>\n",
       "      <td>121.427000</td>\n",
       "      <td>4.000000</td>\n",
       "      <td>-1.948343e-02</td>\n",
       "      <td>1.000000</td>\n",
       "    </tr>\n",
       "    <tr>\n",
       "      <th>75%</th>\n",
       "      <td>2.978168e-01</td>\n",
       "      <td>7.427716e-01</td>\n",
       "      <td>4.505550</td>\n",
       "      <td>7.821433e-01</td>\n",
       "      <td>-2.903227e-01</td>\n",
       "      <td>9.000000</td>\n",
       "      <td>3.613301e-01</td>\n",
       "      <td>6.221161e-01</td>\n",
       "      <td>1.000000</td>\n",
       "      <td>1.705693e-01</td>\n",
       "      <td>137.849000</td>\n",
       "      <td>4.000000</td>\n",
       "      <td>7.857471e-01</td>\n",
       "      <td>1.000000</td>\n",
       "    </tr>\n",
       "    <tr>\n",
       "      <th>max</th>\n",
       "      <td>3.106321e+00</td>\n",
       "      <td>2.270826e+00</td>\n",
       "      <td>16.743783</td>\n",
       "      <td>1.505192e+00</td>\n",
       "      <td>3.085799e+00</td>\n",
       "      <td>11.000000</td>\n",
       "      <td>5.006968e+00</td>\n",
       "      <td>1.802465e+00</td>\n",
       "      <td>1.000000</td>\n",
       "      <td>8.045183e+00</td>\n",
       "      <td>219.331000</td>\n",
       "      <td>5.000000</td>\n",
       "      <td>2.003709e+00</td>\n",
       "      <td>1.000000</td>\n",
       "    </tr>\n",
       "  </tbody>\n",
       "</table>\n",
       "</div>"
      ],
      "text/plain": [
       "       acousticness  danceability  duration_min        energy  \\\n",
       "count  2.017000e+03  2.017000e+03   2017.000000  2.017000e+03   \n",
       "mean   5.586893e-17 -3.742943e-18      4.105103  1.981558e-17   \n",
       "std    1.000248e+00  1.000248e+00      1.366364  1.000248e+00   \n",
       "min   -7.216979e-01 -3.083576e+00      0.267367 -3.171793e+00   \n",
       "25%   -6.846597e-01 -6.486275e-01      3.333583 -5.640598e-01   \n",
       "50%   -4.781769e-01  7.813008e-02      3.821017  1.589892e-01   \n",
       "75%    2.978168e-01  7.427716e-01      4.505550  7.821433e-01   \n",
       "max    3.106321e+00  2.270826e+00     16.743783  1.505192e+00   \n",
       "\n",
       "       instrumentalness          key      liveness      loudness         mode  \\\n",
       "count      2.017000e+03  2017.000000  2.017000e+03  2.017000e+03  2017.000000   \n",
       "mean       1.475160e-17     5.342588 -1.750376e-17  1.205448e-17     0.612295   \n",
       "std        1.000248e+00     3.648240  1.000248e+00  1.000248e+00     0.487347   \n",
       "min       -4.880565e-01     0.000000 -1.107000e+00 -6.916536e+00     0.000000   \n",
       "25%       -4.880565e-01     2.000000 -6.340718e-01 -3.479027e-01     0.000000   \n",
       "50%       -4.877775e-01     6.000000 -4.107981e-01  2.227279e-01     1.000000   \n",
       "75%       -2.903227e-01     9.000000  3.613301e-01  6.221161e-01     1.000000   \n",
       "max        3.085799e+00    11.000000  5.006968e+00  1.802465e+00     1.000000   \n",
       "\n",
       "        speechiness        tempo  time_signature       valence       target  \n",
       "count  2.017000e+03  2017.000000     2017.000000  2.017000e+03  2017.000000  \n",
       "mean  -1.706342e-18   121.603272        3.968270 -2.862251e-18     0.505702  \n",
       "std    1.000248e+00    26.685604        0.255853  1.000248e+00     0.500091  \n",
       "min   -7.737170e-01    47.859000        1.000000 -1.869491e+00     0.000000  \n",
       "25%   -6.135554e-01   100.189000        4.000000 -8.166212e-01     0.000000  \n",
       "50%   -4.200267e-01   121.427000        4.000000 -1.948343e-02     1.000000  \n",
       "75%    1.705693e-01   137.849000        4.000000  7.857471e-01     1.000000  \n",
       "max    8.045183e+00   219.331000        5.000000  2.003709e+00     1.000000  "
      ]
     },
     "execution_count": 15,
     "metadata": {},
     "output_type": "execute_result"
    }
   ],
   "source": [
    "datos.describe()"
   ]
  },
  {
   "cell_type": "markdown",
   "metadata": {},
   "source": [
    "Arriba vemos que las columnas que hemos indicado que se normalicen tiene media 0 y varianza 1, como queríamos."
   ]
  },
  {
   "cell_type": "code",
   "execution_count": 16,
   "metadata": {},
   "outputs": [
    {
     "ename": "TypeError",
     "evalue": "'float' object cannot be interpreted as an integer",
     "output_type": "error",
     "traceback": [
      "\u001b[1;31m---------------------------------------------------------------------------\u001b[0m",
      "\u001b[1;31mTypeError\u001b[0m                                 Traceback (most recent call last)",
      "\u001b[1;32m~\\AppData\\Local\\Temp/ipykernel_10492/3435937751.py\u001b[0m in \u001b[0;36m<module>\u001b[1;34m\u001b[0m\n\u001b[0;32m      1\u001b[0m \u001b[1;31m#Bucketizacion duration_min\u001b[0m\u001b[1;33m\u001b[0m\u001b[1;33m\u001b[0m\u001b[0m\n\u001b[1;32m----> 2\u001b[1;33m \u001b[0mbins\u001b[0m \u001b[1;33m=\u001b[0m \u001b[0mrange\u001b[0m\u001b[1;33m(\u001b[0m\u001b[1;36m0.00\u001b[0m\u001b[1;33m,\u001b[0m \u001b[1;36m10.00\u001b[0m\u001b[1;33m,\u001b[0m \u001b[1;36m1.5\u001b[0m\u001b[1;33m)\u001b[0m\u001b[1;33m\u001b[0m\u001b[1;33m\u001b[0m\u001b[0m\n\u001b[0m\u001b[0;32m      3\u001b[0m \u001b[0mdatos\u001b[0m\u001b[1;33m[\u001b[0m\u001b[1;34m'duration_min'\u001b[0m\u001b[1;33m]\u001b[0m \u001b[1;33m=\u001b[0m \u001b[0mpd\u001b[0m\u001b[1;33m.\u001b[0m\u001b[0mcut\u001b[0m\u001b[1;33m(\u001b[0m\u001b[0mdatos\u001b[0m\u001b[1;33m.\u001b[0m\u001b[0mduration_min\u001b[0m\u001b[1;33m,\u001b[0m \u001b[0mbins\u001b[0m\u001b[1;33m,\u001b[0m \u001b[0mlabels\u001b[0m\u001b[1;33m=\u001b[0m\u001b[0mbins\u001b[0m\u001b[1;33m[\u001b[0m\u001b[1;33m:\u001b[0m\u001b[1;33m-\u001b[0m\u001b[1;36m1\u001b[0m\u001b[1;33m]\u001b[0m\u001b[1;33m)\u001b[0m\u001b[1;33m\u001b[0m\u001b[1;33m\u001b[0m\u001b[0m\n",
      "\u001b[1;31mTypeError\u001b[0m: 'float' object cannot be interpreted as an integer"
     ]
    }
   ],
   "source": [
    "#Bucketizacion duration_min\n",
    "bins = range(0.00, 10.00, 1.5) \n",
    "datos['duration_min'] = pd.cut(datos.duration_min, bins, labels=bins[:-1])"
   ]
  },
  {
   "cell_type": "code",
   "execution_count": 70,
   "metadata": {},
   "outputs": [],
   "source": [
    "# Separamos el dataset en X y labels(y). Pasamos de pandas a numpy para seguir operando con arrays de numpy.\n",
    "X = datos.iloc[:, 0:13].to_numpy()\n",
    "y = datos.iloc[:, 13].to_numpy()"
   ]
  },
  {
   "cell_type": "code",
   "execution_count": 71,
   "metadata": {
    "scrolled": false
   },
   "outputs": [
    {
     "name": "stdout",
     "output_type": "stream",
     "text": [
      "(2017, 13)\n",
      "(2017,)\n"
     ]
    }
   ],
   "source": [
    "print(X.shape)\n",
    "print(y.shape)"
   ]
  },
  {
   "cell_type": "markdown",
   "metadata": {},
   "source": [
    "## 3. Dataset final"
   ]
  },
  {
   "cell_type": "markdown",
   "metadata": {},
   "source": [
    "## 4. Separación en entrenamiento, validación y test"
   ]
  },
  {
   "cell_type": "markdown",
   "metadata": {},
   "source": [
    "Dividimos el dataset en entrenamiento, validación y test. \n",
    "\n",
    "Hacemos una división en las siguientes partes:\n",
    "- **60%** Entrenamiento (training set)\n",
    "- **20%** Validación (validation set)\n",
    "- **20%** test (test set)"
   ]
  },
  {
   "cell_type": "code",
   "execution_count": 72,
   "metadata": {},
   "outputs": [],
   "source": [
    "x, x_test, y, y_test = train_test_split(X,y,test_size=0.2,train_size=0.8)\n",
    "x_train, x_val, y_train, y_val = train_test_split(x,y,test_size = 0.25,train_size =0.75)"
   ]
  },
  {
   "cell_type": "markdown",
   "metadata": {},
   "source": [
    "## 4. Regresión logística"
   ]
  },
  {
   "cell_type": "code",
   "execution_count": 73,
   "metadata": {},
   "outputs": [],
   "source": [
    "from sklearn.preprocessing import PolynomialFeatures\n",
    "import scipy.optimize as opt"
   ]
  },
  {
   "cell_type": "code",
   "execution_count": 74,
   "metadata": {
    "scrolled": true
   },
   "outputs": [],
   "source": [
    "poly = PolynomialFeatures(6)\n",
    "XX_train = poly.fit_transform(x_train)"
   ]
  },
  {
   "cell_type": "code",
   "execution_count": 75,
   "metadata": {},
   "outputs": [],
   "source": [
    "def sigmoide(z):\n",
    "    return (1.0/(1.0+np.exp(-z)))"
   ]
  },
  {
   "cell_type": "code",
   "execution_count": 76,
   "metadata": {},
   "outputs": [],
   "source": [
    "def coste(Theta, X, y):\n",
    "    H = sigmoide(np.dot(X, Theta))\n",
    "    Term1 = np.matmul(y, np.log(H))\n",
    "    Term2 = np.matmul((1 - y), np.log(1 - H))\n",
    "    cost = (- 1 / (len(y))) * np.sum(Term1 + Term2)\n",
    "    return cost"
   ]
  },
  {
   "cell_type": "code",
   "execution_count": 77,
   "metadata": {},
   "outputs": [],
   "source": [
    "def coste_reg(Theta, X, y, Lambda):\n",
    "    Term1 = coste(Theta, X, y)\n",
    "    Term2 = (Lambda/(2*len(y))) * np.sum(Theta**2)\n",
    "    cost = Term1 + Term2\n",
    "    return cost "
   ]
  },
  {
   "cell_type": "code",
   "execution_count": 78,
   "metadata": {},
   "outputs": [],
   "source": [
    "def gradiente(Theta, X, y):\n",
    "    H = sigmoide(np.dot(X, Theta))\n",
    "    Dif = H - y\n",
    "    grad = (1 / len(y)) * np.matmul(Dif, X)\n",
    "    return grad"
   ]
  },
  {
   "cell_type": "code",
   "execution_count": 79,
   "metadata": {},
   "outputs": [],
   "source": [
    "def gradiente_reg(Theta, X, y, Lambda):\n",
    "    grad = gradiente(Theta, X, y) + ((Lambda/len(y))*np.r_[[0],Theta[1:]])\n",
    "    return grad"
   ]
  },
  {
   "cell_type": "code",
   "execution_count": 80,
   "metadata": {},
   "outputs": [
    {
     "name": "stdout",
     "output_type": "stream",
     "text": [
      "Coste = 0.6931471805599453\n",
      "Gradiente = [-0.00372208  0.01852096 -0.01864971 ... -0.1477852  -0.03035436\n",
      " -0.00641636]\n"
     ]
    }
   ],
   "source": [
    "Theta = np.zeros(XX_train.shape[1])\n",
    "Lambda = 1\n",
    "c = coste_reg(Theta, XX_train, y_train, Lambda)\n",
    "grad = gradiente_reg(Theta, XX_train, y_train, Lambda)\n",
    "print('Coste = {}'.format(c))\n",
    "print('Gradiente = {}'.format(grad))"
   ]
  },
  {
   "cell_type": "code",
   "execution_count": 81,
   "metadata": {
    "scrolled": true
   },
   "outputs": [
    {
     "name": "stderr",
     "output_type": "stream",
     "text": [
      "C:\\Users\\anama\\AppData\\Local\\Temp/ipykernel_8664/2068069384.py:2: RuntimeWarning: overflow encountered in exp\n",
      "  return (1.0/(1.0+np.exp(-z)))\n",
      "C:\\Users\\anama\\AppData\\Local\\Temp/ipykernel_8664/4140217642.py:3: RuntimeWarning: divide by zero encountered in log\n",
      "  Term1 = np.matmul(y, np.log(H))\n",
      "C:\\Users\\anama\\AppData\\Local\\Temp/ipykernel_8664/4140217642.py:3: RuntimeWarning: invalid value encountered in matmul\n",
      "  Term1 = np.matmul(y, np.log(H))\n",
      "C:\\Users\\anama\\AppData\\Local\\Temp/ipykernel_8664/4140217642.py:4: RuntimeWarning: divide by zero encountered in log\n",
      "  Term2 = np.matmul((1 - y), np.log(1 - H))\n",
      "C:\\Users\\anama\\AppData\\Local\\Temp/ipykernel_8664/4140217642.py:4: RuntimeWarning: invalid value encountered in matmul\n",
      "  Term2 = np.matmul((1 - y), np.log(1 - H))\n"
     ]
    },
    {
     "name": "stdout",
     "output_type": "stream",
     "text": [
      "[ 6.69952788e-25 -3.80559691e-25  8.45088068e-25 ...  5.32293509e-24\n",
      "  1.07953591e-24  2.25899158e-25]\n",
      "Coste regularizado (entrenamiento) = 0.6927515316384878\n",
      "Error - coste (entrenamiento) = 0.6927515316384878\n"
     ]
    }
   ],
   "source": [
    "result = opt.fmin_tnc(func=coste_reg, x0=Theta, fprime=gradiente_reg, args=(XX_train,y_train,Lambda))\n",
    "Theta_opt=result[0]\n",
    "print(Theta_opt)\n",
    "coste_opt = coste_reg(Theta_opt, XX_train, y_train, Lambda)\n",
    "print('Coste regularizado (entrenamiento) = {}'.format(coste_opt))\n",
    "error = coste(Theta_opt, XX_train, y_train)\n",
    "print('Error - coste (entrenamiento) = {}'.format(error))"
   ]
  },
  {
   "cell_type": "code",
   "execution_count": 82,
   "metadata": {},
   "outputs": [],
   "source": [
    "def evaluacion(theta, X, Y):\n",
    "    prediccion = sigmoide(np.matmul(theta, np.transpose(X)))\n",
    "    prediccion[prediccion >= 0.5] = 1\n",
    "    prediccion[prediccion < 0.5] = 0\n",
    "    porcentaje = np.asarray(np.where(prediccion == Y)).size\n",
    "    return  (porcentaje / len(Y))*100"
   ]
  },
  {
   "cell_type": "code",
   "execution_count": 83,
   "metadata": {
    "scrolled": true
   },
   "outputs": [
    {
     "name": "stdout",
     "output_type": "stream",
     "text": [
      "El porcentaje de ejemplos de entrenamientos que se clasifican correctamente es: 51.1166253101737%\n"
     ]
    }
   ],
   "source": [
    "porcentaje_aciertos_train = evaluacion(Theta_opt, XX_train, y_train)\n",
    "print(\"El porcentaje de ejemplos de entrenamientos que se clasifican correctamente es: {}%\".format(porcentaje_aciertos_train))"
   ]
  },
  {
   "cell_type": "code",
   "execution_count": 84,
   "metadata": {},
   "outputs": [
    {
     "name": "stdout",
     "output_type": "stream",
     "text": [
      "El porcentaje de ejemplos de entrenamientos que se clasifican correctamente es: 51.73267326732673%\n"
     ]
    }
   ],
   "source": [
    "poly = PolynomialFeatures(6)\n",
    "XX_val = poly.fit_transform(x_val)\n",
    "porcentaje_aciertos_val = evaluacion(Theta_opt, XX_val, y_val)\n",
    "print(\"El porcentaje de ejemplos de entrenamientos que se clasifican correctamente es: {}%\".format(porcentaje_aciertos_val))"
   ]
  },
  {
   "cell_type": "code",
   "execution_count": 85,
   "metadata": {},
   "outputs": [
    {
     "name": "stdout",
     "output_type": "stream",
     "text": [
      "El porcentaje de ejemplos de entrenamientos que se clasifican correctamente es: 52.475247524752476%\n"
     ]
    }
   ],
   "source": [
    "poly = PolynomialFeatures(6)\n",
    "XX_test = poly.fit_transform(x_test)\n",
    "porcentaje_aciertos_test = evaluacion(Theta_opt, XX_test, y_test)\n",
    "print(\"El porcentaje de ejemplos de entrenamientos que se clasifican correctamente es: {}%\".format(porcentaje_aciertos_test))"
   ]
  },
  {
   "cell_type": "code",
   "execution_count": 86,
   "metadata": {
    "scrolled": false
   },
   "outputs": [
    {
     "name": "stderr",
     "output_type": "stream",
     "text": [
      "C:\\Users\\anama\\AppData\\Local\\Temp/ipykernel_8664/2068069384.py:2: RuntimeWarning: overflow encountered in exp\n",
      "  return (1.0/(1.0+np.exp(-z)))\n",
      "C:\\Users\\anama\\AppData\\Local\\Temp/ipykernel_8664/4140217642.py:3: RuntimeWarning: divide by zero encountered in log\n",
      "  Term1 = np.matmul(y, np.log(H))\n",
      "C:\\Users\\anama\\AppData\\Local\\Temp/ipykernel_8664/4140217642.py:3: RuntimeWarning: invalid value encountered in matmul\n",
      "  Term1 = np.matmul(y, np.log(H))\n",
      "C:\\Users\\anama\\AppData\\Local\\Temp/ipykernel_8664/4140217642.py:4: RuntimeWarning: divide by zero encountered in log\n",
      "  Term2 = np.matmul((1 - y), np.log(1 - H))\n",
      "C:\\Users\\anama\\AppData\\Local\\Temp/ipykernel_8664/4140217642.py:4: RuntimeWarning: invalid value encountered in matmul\n",
      "  Term2 = np.matmul((1 - y), np.log(1 - H))\n"
     ]
    },
    {
     "name": "stdout",
     "output_type": "stream",
     "text": [
      "Lambda 150 Train - 51.1166253101737%, Validation - 51.73267326732673%, Test - 52.475247524752476%\n",
      "Lambda 100 Train - 51.1166253101737%, Validation - 51.73267326732673%, Test - 52.475247524752476%\n",
      "Lambda 50 Train - 51.1166253101737%, Validation - 51.73267326732673%, Test - 52.475247524752476%\n",
      "Lambda 10 Train - 51.1166253101737%, Validation - 51.73267326732673%, Test - 52.475247524752476%\n",
      "Lambda 1 Train - 51.1166253101737%, Validation - 51.73267326732673%, Test - 52.475247524752476%\n",
      "Lambda 0.5 Train - 51.1166253101737%, Validation - 51.73267326732673%, Test - 52.475247524752476%\n",
      "Lambda 0.25 Train - 51.1166253101737%, Validation - 51.73267326732673%, Test - 52.475247524752476%\n"
     ]
    }
   ],
   "source": [
    "lambdas = [150, 100, 50, 10, 1, 0.5, 0.25]\n",
    "for i in lambdas:\n",
    "    result = opt.fmin_tnc(func=coste_reg, x0=Theta, fprime=gradiente_reg, args=(XX_train,y_train,i))\n",
    "    Theta_opt=result[0]\n",
    "    porcentaje_aciertos_train = evaluacion(Theta_opt, XX_train, y_train)\n",
    "    porcentaje_aciertos_val = evaluacion(Theta_opt, XX_val, y_val)\n",
    "    porcentaje_aciertos_test = evaluacion(Theta_opt, XX_test, y_test)\n",
    "    print(\"Lambda {} Train - {}%, Validation - {}%, Test - {}%\".format(i, porcentaje_aciertos_train,porcentaje_aciertos_val, porcentaje_aciertos_test ))"
   ]
  },
  {
   "cell_type": "markdown",
   "metadata": {},
   "source": [
    "Corregir errores fmin_tnc (quizas debidos a que falta preprocesamiento de datos más exhaustivo)\n",
    "Graficar los porcentajes de acierto de train, val y test para cada valor de Lambda (eje x lambda, eje y porcentaje aciertos, 3 curvas: train, val y test)\n",
    "Medir tiempos\n",
    "Medir la precision (accuracy, precision, recall, F1, classification_report, plot_confussion_matrix, ROC curve)"
   ]
  },
  {
   "cell_type": "markdown",
   "metadata": {},
   "source": [
    "## 5. Redes neuronales"
   ]
  },
  {
   "cell_type": "code",
   "execution_count": null,
   "metadata": {},
   "outputs": [],
   "source": []
  },
  {
   "cell_type": "markdown",
   "metadata": {},
   "source": [
    "## 6. Support Vector Machine"
   ]
  },
  {
   "cell_type": "markdown",
   "metadata": {},
   "source": [
    "Siguiente celda de código comentada porque su ejecución puede ser monstruosa. "
   ]
  },
  {
   "cell_type": "code",
   "execution_count": 87,
   "metadata": {
    "scrolled": true
   },
   "outputs": [
    {
     "data": {
      "text/plain": [
       "'\\nC_vec = [0.01, 0.03, 0.1, 0.3, 1, 3, 10, 30]\\nsigma_vec = [0.01, 0.03, 0.1, 0.3, 1, 3, 10, 30]\\nscores = np.zeros((len(C_vec), len(sigma_vec)))\\n\\nbestC = 0.01\\nbestSigma = 0.01\\nbestScore = -1\\n\\n\\nfor c in C_vec:\\n    for sigma in sigma_vec:\\n        gamma = 1/(2*sigma **2)\\n        aux_kernel = SVC(C = c, kernel = \\'rbf\\', gamma = gamma)\\n        aux_kernel.fit(x_train, y_train.ravel())\\n        score = aux_kernel.score(x_val, y_val)\\n        if(score > bestScore):\\n            bestC = c\\n            bestSigma = sigma\\n            bestScore = score\\n\\nprint(\"Best score: \", bestScore)\\nprint(\"Best sigma: \", bestSigma)\\nprint(\"Best C:\", bestC)\\n        \\n'"
      ]
     },
     "execution_count": 87,
     "metadata": {},
     "output_type": "execute_result"
    }
   ],
   "source": [
    "\"\"\"\n",
    "C_vec = [0.01, 0.03, 0.1, 0.3, 1, 3, 10, 30]\n",
    "sigma_vec = [0.01, 0.03, 0.1, 0.3, 1, 3, 10, 30]\n",
    "scores = np.zeros((len(C_vec), len(sigma_vec)))\n",
    "\n",
    "bestC = 0.01\n",
    "bestSigma = 0.01\n",
    "bestScore = -1\n",
    "\n",
    "\n",
    "for c in C_vec:\n",
    "    for sigma in sigma_vec:\n",
    "        gamma = 1/(2*sigma **2)\n",
    "        aux_kernel = SVC(C = c, kernel = 'rbf', gamma = gamma)\n",
    "        aux_kernel.fit(x_train, y_train.ravel())\n",
    "        score = aux_kernel.score(x_val, y_val)\n",
    "        if(score > bestScore):\n",
    "            bestC = c\n",
    "            bestSigma = sigma\n",
    "            bestScore = score\n",
    "\n",
    "print(\"Best score: \", bestScore)\n",
    "print(\"Best sigma: \", bestSigma)\n",
    "print(\"Best C:\", bestC)\n",
    "        \n",
    "\"\"\""
   ]
  },
  {
   "cell_type": "markdown",
   "metadata": {},
   "source": [
    "## 7. Comparación"
   ]
  },
  {
   "cell_type": "markdown",
   "metadata": {},
   "source": [
    "Estudio con crossvalidation (diapositivas kfold cross validation)\n",
    "Curvas ROC"
   ]
  },
  {
   "cell_type": "markdown",
   "metadata": {},
   "source": [
    "## 8. Conclusiones"
   ]
  },
  {
   "cell_type": "code",
   "execution_count": null,
   "metadata": {},
   "outputs": [],
   "source": []
  }
 ],
 "metadata": {
  "colab": {
   "name": "proyecto.ipynb",
   "provenance": []
  },
  "kernelspec": {
   "display_name": "Python 3 (ipykernel)",
   "language": "python",
   "name": "python3"
  },
  "language_info": {
   "codemirror_mode": {
    "name": "ipython",
    "version": 3
   },
   "file_extension": ".py",
   "mimetype": "text/x-python",
   "name": "python",
   "nbconvert_exporter": "python",
   "pygments_lexer": "ipython3",
   "version": "3.9.7"
  }
 },
 "nbformat": 4,
 "nbformat_minor": 1
}
