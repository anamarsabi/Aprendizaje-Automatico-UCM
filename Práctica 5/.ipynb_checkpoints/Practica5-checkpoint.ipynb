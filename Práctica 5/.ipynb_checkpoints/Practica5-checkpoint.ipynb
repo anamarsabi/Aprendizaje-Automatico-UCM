{
 "cells": [
  {
   "cell_type": "markdown",
   "id": "5ee8fed3",
   "metadata": {},
   "source": [
    "# Práctica 5"
   ]
  },
  {
   "cell_type": "code",
<<<<<<< HEAD
   "execution_count": 568,
=======
   "execution_count": 63,
>>>>>>> 3eb6f8702efc265325c06535636ea2613323568e
   "id": "cd28dc24",
   "metadata": {},
   "outputs": [],
   "source": [
    "from scipy.io import loadmat\n",
    "import numpy as np\n",
    "import matplotlib.pyplot as plt\n",
    "import scipy.optimize as opt"
   ]
  },
  {
   "cell_type": "markdown",
   "id": "a84dea2b",
   "metadata": {},
   "source": [
    "## Ejercicio 1: Regresión lineal regularizada"
   ]
  },
  {
   "cell_type": "code",
<<<<<<< HEAD
   "execution_count": 569,
=======
   "execution_count": 64,
>>>>>>> 3eb6f8702efc265325c06535636ea2613323568e
   "id": "e389d99e",
   "metadata": {},
   "outputs": [
    {
     "name": "stdout",
     "output_type": "stream",
     "text": [
      "(12, 1) (12, 1)\n",
      "(21, 1) (21, 1)\n",
      "-5.085426348834809 28.68873075847896\n",
      "11.217589325366376 12.492955274415026\n"
     ]
    }
   ],
   "source": [
    "mat = loadmat('ex5data1.mat')\n",
    "X = mat.get(\"X\")\n",
    "y = mat.get(\"y\")\n",
    "Xval = mat.get(\"Xval\")\n",
    "yval = mat.get(\"yval\")\n",
    "\n",
    "print(X.shape, y.shape)\n",
    "print(Xval.shape, yval.shape)\n",
    "print(np.mean(X), np.std(X))\n",
    "print(np.mean(y), np.std(y))"
   ]
  },
  {
   "cell_type": "code",
<<<<<<< HEAD
   "execution_count": 570,
=======
   "execution_count": 65,
>>>>>>> 3eb6f8702efc265325c06535636ea2613323568e
   "id": "ea5cb871",
   "metadata": {},
   "outputs": [],
   "source": [
    "def coste_vec(Theta, X, y):   \n",
    "    H = np.dot(X, Theta)\n",
    "    #H = np.dot(Theta, X)\n",
    "    Aux = (H - y) ** 2\n",
    "    return Aux.sum() / (2 * len(X))"
   ]
  },
  {
   "cell_type": "code",
<<<<<<< HEAD
   "execution_count": 571,
=======
   "execution_count": 66,
>>>>>>> 3eb6f8702efc265325c06535636ea2613323568e
   "id": "a8b049e3",
   "metadata": {},
   "outputs": [],
   "source": [
    "def coste_reg(Theta, X, y, Lambda):\n",
    "    Theta = Theta.reshape((Theta.shape[0],1))\n",
    "    Term1 = coste_vec(Theta, X, y)\n",
    "    Term2 = (Lambda/(2*len(y))) * np.sum(Theta**2)\n",
    "    cost = Term1 + Term2\n",
    "    return cost "
   ]
  },
  {
   "cell_type": "code",
<<<<<<< HEAD
   "execution_count": 572,
=======
   "execution_count": 67,
>>>>>>> 3eb6f8702efc265325c06535636ea2613323568e
   "id": "634cf817",
   "metadata": {},
   "outputs": [],
   "source": [
    "def gradiente_vec(Theta, X, Y):\n",
    "    m = np.shape(X)[0]\n",
    "    H = np.dot(X, Theta)\n",
    "    Aux = (H - Y)\n",
    "    grad = np.dot(Aux.T, X) * (1/m)\n",
    "    return grad"
   ]
  },
  {
   "cell_type": "code",
<<<<<<< HEAD
   "execution_count": 573,
=======
   "execution_count": 68,
>>>>>>> 3eb6f8702efc265325c06535636ea2613323568e
   "id": "52da47c8",
   "metadata": {},
   "outputs": [],
   "source": [
    "def gradiente_reg(Theta, X, Y, Lambda):\n",
    "    Theta = Theta.reshape((Theta.shape[0],1))\n",
    "    item1 = gradiente_vec(Theta, X, Y).T\n",
    "    item2  = (Lambda/len(y))*np.r_[[np.zeros(Theta.shape[1])], Theta[1:]]\n",
    "    #item2  = (Lambda/len(y))*np.r_[[0], Theta[1:]]\n",
    "    grad = item1 + item2\n",
    "    grad = grad.flatten()\n",
    "    return grad"
   ]
  },
  {
   "cell_type": "code",
<<<<<<< HEAD
   "execution_count": 574,
=======
   "execution_count": 69,
>>>>>>> 3eb6f8702efc265325c06535636ea2613323568e
   "id": "144dc476",
   "metadata": {},
   "outputs": [],
   "source": [
    "def coste_grad_reg(Theta, X, Y, Lambda):\n",
    "    coste = coste_reg(Theta, X, y, Lambda)\n",
    "    grad = gradiente_reg(Theta, X, Y, Lambda)\n",
    "    return coste, grad"
   ]
  },
  {
   "cell_type": "code",
<<<<<<< HEAD
   "execution_count": 575,
=======
   "execution_count": 70,
>>>>>>> 3eb6f8702efc265325c06535636ea2613323568e
   "id": "b05a7d10",
   "metadata": {
    "scrolled": true
   },
   "outputs": [
    {
     "name": "stdout",
     "output_type": "stream",
     "text": [
      "304.0348588869309 [-15.30301567 598.25074417]\n"
     ]
    }
   ],
   "source": [
    "theta = np.ones((2,1))\n",
    "#theta = np.ones(2)\n",
    "m=len(y)\n",
    "X_1 = np.hstack([np.ones([m, 1]), X])\n",
    "coste, grad = coste_grad_reg(theta, X_1, y, 1)\n",
    "print(coste, grad)"
   ]
  },
  {
   "cell_type": "code",
<<<<<<< HEAD
   "execution_count": 576,
=======
   "execution_count": 71,
>>>>>>> 3eb6f8702efc265325c06535636ea2613323568e
   "id": "33e68c53",
   "metadata": {},
   "outputs": [
    {
     "name": "stdout",
     "output_type": "stream",
     "text": [
      "(12, 2)\n",
      "(2, 1)\n"
     ]
    }
   ],
   "source": [
    "print(X_1.shape)\n",
    "print(theta.shape)"
   ]
  },
  {
   "cell_type": "code",
<<<<<<< HEAD
   "execution_count": 577,
=======
   "execution_count": 72,
>>>>>>> 3eb6f8702efc265325c06535636ea2613323568e
   "id": "a2479281",
   "metadata": {},
   "outputs": [
    {
     "name": "stdout",
     "output_type": "stream",
     "text": [
      "Coste = 22.373906495108997\n"
     ]
    },
    {
     "name": "stderr",
     "output_type": "stream",
     "text": [
      "  NIT   NF   F                       GTG\n",
      "    0    1  3.039515255535976E+02   3.58038434E+05\n",
      "tnc: fscale = 0.000835613\n",
      "    1    3  9.299577620594808E+01   1.36988337E+02\n",
      "tnc: fscale = 0.0427197\n",
      "    2    5  4.008670401834720E+01   2.25224914E+04\n",
      "    3    7  2.237390649510903E+01   4.98134512E-11\n",
      "tnc: fscale = 70843\n",
      "tnc: |fn-fn-1] = 3.28657e-14 -> convergence\n",
      "    4    9  2.237390649510900E+01   1.75504072E-13\n",
      "tnc: Converged (|f_n-f_(n-1)| ~= 0)\n"
     ]
    }
   ],
   "source": [
    "Lambda = 0\n",
    "theta = np.ones((2,1))\n",
    "result = opt.fmin_tnc(func=coste_reg, x0=theta, fprime=gradiente_reg, args=(X_1,y,Lambda))\n",
    "#res = opt.minimize(fun=coste_reg,  x0=theta,  args=(X_1,y,Lambda),  jac=True,   method='TNC',  options={'maxiter':400,'disp':False})\n",
    "\n",
    "Theta_opt=result[0]\n",
    "#Theta_opt = res.x\n",
    "coste_opt = coste_reg(Theta_opt, X_1, y, Lambda)\n",
    "print('Coste = {}'.format(coste_opt))"
   ]
  },
  {
   "cell_type": "code",
<<<<<<< HEAD
   "execution_count": 578,
=======
   "execution_count": 73,
>>>>>>> 3eb6f8702efc265325c06535636ea2613323568e
   "id": "5c44234d",
   "metadata": {},
   "outputs": [
    {
     "name": "stdout",
     "output_type": "stream",
     "text": [
      "(2,)\n"
     ]
    }
   ],
   "source": [
    "print(Theta_opt.shape)"
   ]
  },
  {
   "cell_type": "code",
<<<<<<< HEAD
   "execution_count": 579,
=======
   "execution_count": 74,
>>>>>>> 3eb6f8702efc265325c06535636ea2613323568e
   "id": "fd310e6f",
   "metadata": {},
   "outputs": [],
   "source": [
    "def plot_H(X, Y, theta):\n",
    "    plt.plot(X, Y, \"x\")\n",
    "    theta0 = theta[0]\n",
    "    theta1 = theta[1]\n",
    "    min_x = min(X)\n",
    "    max_x = max(X)\n",
    "    min_y = theta0 + theta1 * min_x\n",
    "    max_y = theta0 + theta1 * max_x\n",
    "    plt.plot([min_x, max_x], [min_y, max_y])\n",
    "    plt.savefig(\"resultado.pdf\")"
   ]
  },
  {
   "cell_type": "code",
<<<<<<< HEAD
   "execution_count": 580,
=======
   "execution_count": 75,
>>>>>>> 3eb6f8702efc265325c06535636ea2613323568e
   "id": "eddbe21d",
   "metadata": {},
   "outputs": [
    {
     "data": {
      "image/png": "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\n",
      "text/plain": [
       "<Figure size 432x288 with 1 Axes>"
      ]
     },
     "metadata": {
      "needs_background": "light"
     },
     "output_type": "display_data"
    }
   ],
   "source": [
    "plot_H(X, y, Theta_opt)"
   ]
  },
  {
   "cell_type": "markdown",
   "id": "ae25c879",
   "metadata": {},
   "source": [
    "## Ejercicio 2: Curvas de aprendizaje"
   ]
  },
  {
   "cell_type": "code",
<<<<<<< HEAD
   "execution_count": 581,
=======
   "execution_count": 76,
>>>>>>> 3eb6f8702efc265325c06535636ea2613323568e
   "id": "8fb030ae",
   "metadata": {},
   "outputs": [],
   "source": [
    "def curva_aprendizaje(theta, X, y, Lambda):\n",
    "    m = len(y)\n",
    "    X_1 = np.hstack([np.ones([m, 1]), X])\n",
    "    muestras, J_train, J_val = [], [], []\n",
    "    for i in range(1, 11, 1):\n",
    "        X_train_aux = X_1[:i, :]\n",
    "        y_train_aux = y[:i]\n",
    "        \n",
    "        result = opt.fmin_tnc(func=coste_reg, x0=theta, fprime=gradiente_reg, args=(X_train_aux,y_train_aux,Lambda))\n",
    "        theta_aux = result[0]\n",
    "        theta_aux = theta_aux.reshape((theta_aux.shape[0],1))\n",
    "        J_train.append(coste_vec(theta_aux,X_train_aux,y_train_aux))\n",
    "        J_val.append(coste_vec(theta_aux, X_1, y))\n",
    "        muestras.append(y_train_aux.shape[0])\n",
    "    return muestras, J_train, J_val"
   ]
  },
  {
   "cell_type": "code",
<<<<<<< HEAD
   "execution_count": 582,
=======
   "execution_count": 77,
>>>>>>> 3eb6f8702efc265325c06535636ea2613323568e
   "id": "4d1f6279",
   "metadata": {},
   "outputs": [],
   "source": [
    "def plot_curva(muestras, J_train, J_val):\n",
    "    plt.figure()\n",
    "    plt.plot(muestras, J_train, label='Train')\n",
    "    plt.plot(muestras, J_val, label='Cross Validation')\n",
    "    plt.legend()\n",
    "    plt.title('Learning curve for linear regression')\n",
    "    plt.xlabel('Number of training examples')\n",
    "    plt.ylabel('Error')\n",
    "    plt.show()"
   ]
  },
  {
   "cell_type": "code",
<<<<<<< HEAD
   "execution_count": 583,
=======
   "execution_count": 78,
>>>>>>> 3eb6f8702efc265325c06535636ea2613323568e
   "id": "c44cff32",
   "metadata": {},
   "outputs": [
    {
     "name": "stdout",
     "output_type": "stream",
     "text": [
      "[[-15.93675813]\n",
      " [-29.15297922]\n",
      " [ 36.18954863]\n",
      " [ 37.49218733]\n",
      " [-48.05882945]\n",
      " [ -8.94145794]\n",
      " [ 15.30779289]\n",
      " [-34.70626581]\n",
      " [  1.38915437]\n",
      " [-44.38375985]\n",
      " [  7.01350208]\n",
      " [ 22.76274892]]\n",
      "(12, 1)\n"
     ]
    }
   ],
   "source": [
    "print(X)\n",
    "print(X.shape)"
   ]
  },
  {
   "cell_type": "code",
<<<<<<< HEAD
   "execution_count": 584,
=======
   "execution_count": 79,
>>>>>>> 3eb6f8702efc265325c06535636ea2613323568e
   "id": "32bebda3",
   "metadata": {
    "scrolled": true
   },
   "outputs": [
    {
     "name": "stderr",
     "output_type": "stream",
     "text": [
      "  NIT   NF   F                       GTG\n",
      "    0    1  1.983382220354939E+02   1.11643181E+05\n",
      "tnc: fscale = 0.00149642\n",
      "    1    3  0.000000000000000E+00   0.00000000E+00\n",
      "tnc: |pg| = 0 -> local minimum\n",
      "    1    3  0.000000000000000E+00   0.00000000E+00\n",
      "tnc: Local minima reach (|pg| ~= 0)\n",
      "  NIT   NF   F                       GTG\n",
      "    0    1  1.770032665575511E+02   8.75996824E+04\n",
      "tnc: fscale = 0.00168935\n",
      "    1    3  1.261743591513712E-02   1.19940005E-04\n",
      "tnc: fscale = 45.655\n",
      "    2    5  2.953939264305745E-05   1.45859855E-02\n",
      "    3    7  1.620699271551924E-17   1.60541232E-17\n",
      "tnc: |pg| = 8.77618e-11 -> local minimum\n",
      "    3    7  1.620699271551924E-17   1.60541232E-17\n",
      "tnc: Local minima reach (|pg| ~= 0)\n",
      "  NIT   NF   F                       GTG\n",
      "    0    1  1.202137107575862E+02   5.71663578E+04\n",
      "tnc: fscale = 0.00209122\n",
      "    1    3  6.917917330478663E+01   1.38130584E+02\n",
      "tnc: fscale = 0.0425427\n",
      "    2    5  3.983590896104634E+01   1.88985835E+04\n",
      "    3    7  1.412194954093371E-01   1.97910880E-13\n",
      "tnc: |pg| = 1.04571e-05 -> local minimum\n",
      "    3    7  1.412194954093371E-01   1.97910880E-13\n",
      "tnc: Local minima reach (|pg| ~= 0)\n",
      "  NIT   NF   F                       GTG\n",
      "    0    1  4.910827321490788E+02   7.14046718E+05\n",
      "tnc: fscale = 0.000591707\n",
      "    1    3  1.243208174905255E+02   1.71970001E+02\n",
      "tnc: fscale = 0.038128\n",
      "    2    5  4.694660319622367E+01   3.17805410E+04\n",
      "    3    7  2.625824992392326E+01   1.44508698E-11\n",
      "tnc: fscale = 131529\n",
      "    3   10  2.625824992392326E+01   1.44508698E-11\n",
      "tnc: Linear search failed\n",
      "  NIT   NF   F                       GTG\n",
      "    0    1  3.966350378561158E+02   5.20366029E+05\n",
      "tnc: fscale = 0.000693131\n",
      "    1    3  1.492579653991221E+02   2.53846382E+02\n",
      "tnc: fscale = 0.0313823\n",
      "    2    5  6.530152362267215E+01   5.99365879E+04\n",
      "    3    7  2.217027271605308E+01   1.10578469E-10\n",
      "tnc: fscale = 47548.3\n",
      "tnc: |fn-fn-1] = 4.89672e-14 -> convergence\n",
      "    4    9  2.217027271605303E+01   1.96045506E-13\n",
      "tnc: Converged (|f_n-f_(n-1)| ~= 0)\n",
      "  NIT   NF   F                       GTG\n",
      "    0    1  4.966307699542749E+02   8.17161363E+05\n",
      "tnc: fscale = 0.000553116\n",
      "    1    3  1.421191052069708E+02   2.33601157E+02\n",
      "tnc: fscale = 0.0327139\n",
      "    2    5  5.052919452058857E+01   5.45425719E+04\n",
      "    3    7  1.862409877728207E+01   2.64540778E-11\n",
      "tnc: fscale = 97212.9\n",
      "tnc: |fn-fn-1] = 1.19753e-14 -> convergence\n",
      "    4    9  1.862409877728206E+01   5.95362095E-14\n",
      "tnc: Converged (|f_n-f_(n-1)| ~= 0)\n",
      "  NIT   NF   F                       GTG\n",
      "    0    1  4.301680593846369E+02   6.08274370E+05\n",
      "tnc: fscale = 0.000641092\n",
      "    1    3  1.231801773319319E+02   1.87887118E+02\n",
      "tnc: fscale = 0.0364772\n",
      "    2    5  4.805911993131370E+01   3.64229113E+04\n",
      "    3    7  2.372155389003464E+01   1.27768645E-11\n",
      "tnc: fscale = 139881\n",
      "tnc: |fn-fn-1] = 3.32899e-15 -> convergence\n",
      "    4    9  2.372155389003463E+01   3.62908042E-14\n",
      "tnc: Converged (|f_n-f_(n-1)| ~= 0)\n",
      "  NIT   NF   F                       GTG\n",
      "    0    1  3.781245129691757E+02   4.89783545E+05\n",
      "tnc: fscale = 0.000714444\n",
      "    1    3  1.216180819597782E+02   1.99356324E+02\n",
      "tnc: fscale = 0.0354124\n",
      "    2    5  4.930288647049614E+01   3.89288572E+04\n",
      "    3    7  2.091081776953575E+01   1.47601252E-10\n",
      "tnc: fscale = 41155.2\n",
      "tnc: |fn-fn-1] = 7.63746e-14 -> convergence\n",
      "    4    9  2.091081776953567E+01   3.93054645E-13\n",
      "tnc: Converged (|f_n-f_(n-1)| ~= 0)\n",
      "  NIT   NF   F                       GTG\n",
      "    0    1  4.331686029112835E+02   6.73875593E+05\n",
      "tnc: fscale = 0.000609088\n",
      "    1    3  1.129671230734622E+02   1.78223455E+02\n",
      "tnc: fscale = 0.0374531\n",
      "    2    5  4.015333498346934E+01   3.48458295E+04\n",
      "    3    7  1.872261527026482E+01   1.72871993E-10\n",
      "tnc: fscale = 38028.4\n",
      "tnc: |fn-fn-1] = 8.26544e-14 -> convergence\n",
      "    4    9  1.872261527026474E+01   5.35097481E-13\n",
      "tnc: Converged (|f_n-f_(n-1)| ~= 0)\n",
      "  NIT   NF   F                       GTG\n",
      "    0    1  3.915747624356665E+02   5.68044652E+05\n",
      "tnc: fscale = 0.000663405\n",
      "    1    3  1.107310032684680E+02   1.83774270E+02\n",
      "tnc: fscale = 0.0368831\n",
      "    2    5  4.055075463499299E+01   3.54722374E+04\n",
      "    3    7  1.717054960136702E+01   5.18150949E-12\n",
      "tnc: fscale = 219655\n",
      "    3    9  1.717054960136702E+01   5.18150949E-12\n",
      "tnc: Linear search failed\n"
     ]
    },
    {
     "data": {
      "image/png": "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\n",
      "text/plain": [
       "<Figure size 432x288 with 1 Axes>"
      ]
     },
     "metadata": {
      "needs_background": "light"
     },
     "output_type": "display_data"
    }
   ],
   "source": [
    "muestras, J_train, J_val = curva_aprendizaje(theta, Xval, yval, 0)\n",
    "plot_curva(muestras, J_train, J_val)"
   ]
  },
  {
   "cell_type": "markdown",
   "id": "2dc31fcb",
   "metadata": {},
   "source": [
    "## Ejercicio 3: Regresión polinomial"
   ]
  },
  {
   "cell_type": "code",
<<<<<<< HEAD
   "execution_count": 585,
=======
   "execution_count": 80,
>>>>>>> 3eb6f8702efc265325c06535636ea2613323568e
   "id": "357dc603",
   "metadata": {},
   "outputs": [],
   "source": [
    "def expand_X(X, p):\n",
    "    m=X.shape[0]\n",
    "    X_p = np.zeros((m,p))\n",
    "    for i in range(p):\n",
    "        dim = i+1\n",
    "        X_p[:, i] = X[:, 0] ** (i + 1)\n",
    " \n",
    "    return X_p\n",
    "    "
   ]
  },
  {
   "cell_type": "code",
<<<<<<< HEAD
   "execution_count": 586,
=======
   "execution_count": 81,
>>>>>>> 3eb6f8702efc265325c06535636ea2613323568e
   "id": "745fa013",
   "metadata": {
    "scrolled": true
   },
   "outputs": [],
   "source": [
    "X_8 = expand_X(X,8)"
   ]
  },
  {
   "cell_type": "code",
<<<<<<< HEAD
   "execution_count": 587,
=======
   "execution_count": 82,
>>>>>>> 3eb6f8702efc265325c06535636ea2613323568e
   "id": "ddd53d78",
   "metadata": {
    "scrolled": true
   },
   "outputs": [
    {
     "name": "stdout",
     "output_type": "stream",
     "text": [
      "[[-1.59367581e+01  2.53980260e+02 -4.04762197e+03  6.45059724e+04\n",
      "  -1.02801608e+06  1.63832436e+07 -2.61095791e+08  4.16102047e+09]\n",
      " [-2.91529792e+01  8.49896197e+02 -2.47770062e+04  7.22323546e+05\n",
      "  -2.10578833e+07  6.13900035e+08 -1.78970150e+10  5.21751305e+11]\n",
      " [ 3.61895486e+01  1.30968343e+03  4.73968522e+04  1.71527069e+06\n",
      "   6.20748719e+07  2.24646160e+09  8.12984311e+10  2.94215353e+12]\n",
      " [ 3.74921873e+01  1.40566411e+03  5.27014222e+04  1.97589159e+06\n",
      "   7.40804977e+07  2.77743990e+09  1.04132297e+11  3.90414759e+12]\n",
      " [-4.80588295e+01  2.30965109e+03 -1.10999128e+05  5.33448815e+06\n",
      "  -2.56369256e+08  1.23208064e+10 -5.92123532e+11  2.84567638e+13]\n",
      " [-8.94145794e+00  7.99496701e+01 -7.14866612e+02  6.39194974e+03\n",
      "  -5.71533498e+04  5.11034273e+05 -4.56939146e+06  4.08570215e+07]\n",
      " [ 1.53077929e+01  2.34328523e+02  3.58705250e+03  5.49098568e+04\n",
      "   8.40548715e+05  1.28669456e+07  1.96964539e+08  3.01509237e+09]\n",
      " [-3.47062658e+01  1.20452489e+03 -4.18045609e+04  1.45088020e+06\n",
      "  -5.03546340e+07  1.74762131e+09 -6.06534098e+10  2.10505336e+12]\n",
      " [ 1.38915437e+00  1.92974986e+00  2.68072045e+00  3.72393452e+00\n",
      "   5.17311991e+00  7.18626212e+00  9.98282742e+00  1.38676883e+01]\n",
      " [-4.43837599e+01  1.96991814e+03 -8.74323736e+04  3.88057747e+06\n",
      "  -1.72234619e+08  7.64441995e+09 -3.39288099e+11  1.50588815e+13]\n",
      " [ 7.01350208e+00  4.91892115e+01  3.44988637e+02  2.41957852e+03\n",
      "   1.69697190e+04  1.19017160e+05  8.34727097e+05  5.85436023e+06]\n",
      " [ 2.27627489e+01  5.18142738e+02  1.17943531e+04  2.68471897e+05\n",
      "   6.11115839e+06  1.39106764e+08  3.16645234e+09  7.20771597e+10]]\n",
      "(12, 8)\n"
     ]
    }
   ],
   "source": [
    "print(X_8)\n",
    "print(X_8.shape)"
   ]
  },
  {
   "cell_type": "code",
<<<<<<< HEAD
   "execution_count": 588,
=======
   "execution_count": 83,
>>>>>>> 3eb6f8702efc265325c06535636ea2613323568e
   "id": "da055ffc",
   "metadata": {},
   "outputs": [],
   "source": [
    "def normalizer(X):\n",
    "    mu = np.mean(X, axis=0)\n",
    "    sigma = np.std(X, axis=0)\n",
    "    X_norm = (X-mu)/sigma\n",
    "    return X_norm, mu, sigma"
   ]
  },
  {
   "cell_type": "code",
<<<<<<< HEAD
   "execution_count": 589,
=======
   "execution_count": 84,
>>>>>>> 3eb6f8702efc265325c06535636ea2613323568e
   "id": "a00d1342",
   "metadata": {},
   "outputs": [
    {
     "name": "stdout",
     "output_type": "stream",
     "text": [
      "[[-3.78243704e-01 -7.88662325e-01  1.90328720e-01 -7.37591303e-01\n",
      "   3.20251970e-01 -6.17151602e-01  3.59835014e-01 -5.31091256e-01]\n",
      " [-8.38920100e-01  1.31420204e-03 -2.58961742e-01 -3.41564822e-01\n",
      "   9.75492734e-02 -4.55196644e-01  2.66773432e-01 -4.68873807e-01]\n",
      " [ 1.43871736e+00  6.10831582e-01  1.30534069e+00  2.56220001e-01\n",
      "   1.02186338e+00 -1.26962121e-02  7.90210009e-01 -1.77926980e-01]\n",
      " [ 1.48412330e+00  7.38068463e-01  1.42031240e+00  4.13121830e-01\n",
      "   1.15534830e+00  1.31223708e-01  9.10700224e-01 -6.22895388e-02]\n",
      " [-1.49791929e+00  1.93643966e+00 -2.12774745e+00  2.43510061e+00\n",
      "  -2.51876748e+00  2.71792174e+00 -2.76331690e+00  2.88908182e+00]\n",
      " [-1.34409278e-01 -1.01936614e+00  2.62563148e-01 -7.72577738e-01\n",
      "   3.31046537e-01 -6.21453712e-01  3.61188658e-01 -5.31586524e-01]\n",
      " [ 7.10844248e-01 -8.14713668e-01  3.55803314e-01 -7.43368461e-01\n",
      "   3.41027665e-01 -6.18104683e-01  3.62252117e-01 -5.31229003e-01]\n",
      " [-1.03249041e+00  4.71428060e-01 -6.28018432e-01  9.70487696e-02\n",
      "  -2.28187552e-01 -1.47905228e-01  4.11556057e-02 -2.78551428e-01]\n",
      " [ 2.25683763e-01 -1.12279332e+00  2.78115330e-01 -7.76423647e-01\n",
      "   3.31682056e-01 -6.21592224e-01  3.61212770e-01 -5.31591435e-01]\n",
      " [-1.36981778e+00  1.48607235e+00 -1.61695958e+00  1.55980151e+00\n",
      "  -1.58331392e+00  1.45040261e+00 -1.42914967e+00  1.27857621e+00]\n",
      " [ 4.21731046e-01 -1.06014377e+00  2.85534542e-01 -7.74969228e-01\n",
      "   3.31870677e-01 -6.21559967e-01  3.61217175e-01 -5.31590732e-01]\n",
      " [ 9.70700848e-01 -4.38475085e-01  5.33689054e-01 -6.14797521e-01\n",
      "   3.99629101e-01 -5.83887796e-01  3.77921571e-01 -5.22927330e-01]]\n",
      "(12, 8)\n"
     ]
    }
   ],
   "source": [
    "X_8_norm, mu, sigma = normalizer(X_8)\n",
    "print(X_8_norm)\n",
    "print(X_8_norm.shape)"
   ]
  },
  {
   "cell_type": "code",
<<<<<<< HEAD
   "execution_count": 590,
=======
   "execution_count": 85,
>>>>>>> 3eb6f8702efc265325c06535636ea2613323568e
   "id": "d30dcd6f",
   "metadata": {},
   "outputs": [
    {
     "name": "stdout",
     "output_type": "stream",
     "text": [
      "[-5.08542635e+00  8.48904834e+02 -1.28290173e+04  1.28967789e+06\n",
      " -2.98314592e+07  2.29330301e+09 -6.84527284e+10  4.42233759e+12]\n",
      "(8,)\n",
      "[2.86887308e+01 7.54346385e+02 4.61380464e+04 1.66104441e+06\n",
      " 8.99399404e+07 3.68940106e+09 1.89508052e+11 8.31905350e+12]\n",
      "(8,)\n"
     ]
    }
   ],
   "source": [
    "print(mu)\n",
    "print(mu.shape)\n",
    "\n",
    "print(sigma)\n",
    "print(sigma.shape)"
   ]
  },
  {
   "cell_type": "code",
<<<<<<< HEAD
   "execution_count": 591,
=======
   "execution_count": 86,
>>>>>>> 3eb6f8702efc265325c06535636ea2613323568e
   "id": "c070c695",
   "metadata": {},
   "outputs": [],
   "source": [
    "#Añadimos columna de 1's a los datos de entrenamiento X_8_norm\n",
    "m = X_8_norm.shape[0]\n",
    "X_1 = np.hstack([np.ones([m, 1]), X_8_norm])"
   ]
  },
  {
   "cell_type": "code",
<<<<<<< HEAD
   "execution_count": 592,
=======
   "execution_count": 87,
>>>>>>> 3eb6f8702efc265325c06535636ea2613323568e
   "id": "760f6081",
   "metadata": {
    "scrolled": false
   },
   "outputs": [
    {
     "name": "stdout",
     "output_type": "stream",
     "text": [
      "Coste = 0.08795294776624747\n"
     ]
    },
    {
     "name": "stderr",
     "output_type": "stream",
     "text": [
      "  NIT   NF   F                       GTG\n",
      "    0    1  1.036531744257878E+02   3.26008331E+02\n",
      "tnc: fscale = 0.0276921\n",
      "    1    5  2.802447331367629E+00   2.85566110E-01\n",
      "tnc: fscale = 0.935657\n",
      "    2    9  1.022928080397435E+00   6.51280535E-01\n",
      "    3   14  4.259019458898841E-01   1.93980729E-03\n",
      "    4   19  2.416545980462764E-01   5.71722550E-05\n",
      "tnc: fscale = 66.1268\n",
      "    5   24  1.996701370083548E-01   3.76682253E-04\n",
      "    6   29  1.951204040336327E-01   5.42150153E-03\n",
      "    7   32  1.887872582403628E-01   5.11069456E-03\n",
      "    8   37  1.797813339143616E-01   1.75804866E-04\n",
      "    9   42  1.770294608489145E-01   3.82832527E-05\n",
      "tnc: stepmx = 1000\n",
      "   10   47  1.193295707778792E-01   1.67108565E-04\n",
      "   11   50  1.183913565153153E-01   9.60120733E-04\n",
      "   12   55  1.105165563306729E-01   8.15176970E-05\n",
      "   13   60  1.090120342443237E-01   1.50064235E-05\n",
      "   14   65  1.051552540547410E-01   2.27537543E-03\n",
      "   15   70  9.398996179865031E-02   4.08356433E-05\n",
      "   16   75  9.336285303637060E-02   4.58140510E-05\n",
      "   17   80  9.314191116343591E-02   1.54840275E-04\n",
      "   18   85  9.015991071966467E-02   5.64374014E-05\n",
      "   19   88  8.931161667116783E-02   2.56769964E-04\n",
      "   20   93  8.909193796158231E-02   5.88750132E-05\n",
      "   21   98  8.805274678756010E-02   1.39540896E-04\n",
      "   22  100  8.795294776624747E-02   8.03539763E-05\n",
      "   22  100  8.795294776624747E-02   8.03539763E-05\n",
      "tnc: Maximum number of function evaluations reached\n"
     ]
    }
   ],
   "source": [
    "Lambda = 0\n",
    "theta = np.ones((9,1))\n",
    "result = opt.fmin_tnc(func=coste_reg, x0=theta, fprime=gradiente_reg, args=(X_1,y,Lambda))\n",
    "Theta_opt=result[0]\n",
    "coste_opt = coste_reg(Theta_opt, X_1, y, Lambda)\n",
    "print('Coste = {}'.format(coste_opt))"
   ]
  },
  {
   "cell_type": "code",
<<<<<<< HEAD
   "execution_count": 593,
=======
   "execution_count": 88,
>>>>>>> 3eb6f8702efc265325c06535636ea2613323568e
   "id": "9a9448c3",
   "metadata": {},
   "outputs": [
    {
     "name": "stdout",
     "output_type": "stream",
     "text": [
      "[ 11.22185347  10.64624101  16.13730417  12.76526914 -21.77093248\n",
      " -23.40989517  18.24212549  13.81144969  -4.79607325]\n"
     ]
    }
   ],
   "source": [
    "print(Theta_opt)"
   ]
  },
  {
   "cell_type": "code",
<<<<<<< HEAD
   "execution_count": 594,
=======
   "execution_count": 89,
>>>>>>> 3eb6f8702efc265325c06535636ea2613323568e
   "id": "91824234",
   "metadata": {},
   "outputs": [],
   "source": [
    "def plot_poli(X, y, theta, mu, sigma):\n",
    "    plt.plot(X, y, \"x\")\n",
    "    \n",
    "    x1_min, x1_max = X[:, 0].min(), X[:, 0].max()\n",
    "    xx1 = np.linspace(x1_min, x1_max)\n",
    "    \n",
    "    xx1=xx1.reshape((xx1.shape[0],1))\n",
    "    \n",
    "    theta=theta.reshape((theta.shape[0],1))\n",
    "    \n",
    "    X_8 = expand_X(xx1,8)\n",
    "    \n",
    "    X_8_norm = (X_8 - mu)/sigma\n",
    "    X_8_norm_1 = np.hstack([np.ones([X_8_norm.shape[0], 1]), X_8_norm])\n",
    "\n",
    "    \n",
    "    h=0\n",
    "    h = np.matmul(X_8_norm_1,theta)\n",
    "        # 50x8 x 8, -> 50x1 -> 50,\n",
    "\n",
    "    plt.plot(xx1, h)  \n",
    "    plt.title('Polynomial regression (lambda = 0)')\n",
    "    plt.xlabel('Change in water level (x)')\n",
    "    plt.ylabel('Water lowing out of the dam (y)')\n",
    "    plt.show()\n"
   ]
  },
  {
   "cell_type": "code",
<<<<<<< HEAD
   "execution_count": 595,
=======
   "execution_count": 90,
>>>>>>> 3eb6f8702efc265325c06535636ea2613323568e
   "id": "ae8cbbd5",
   "metadata": {
    "scrolled": false
   },
   "outputs": [
    {
     "data": {
      "image/png": "iVBORw0KGgoAAAANSUhEUgAAAX8AAAEWCAYAAACOv5f1AAAAOXRFWHRTb2Z0d2FyZQBNYXRwbG90bGliIHZlcnNpb24zLjQuMywgaHR0cHM6Ly9tYXRwbG90bGliLm9yZy/MnkTPAAAACXBIWXMAAAsTAAALEwEAmpwYAAA1eklEQVR4nO3dd5gUVdbH8e+PKEkQBgQl6YABEUFBXDCAOeeImHdNy2tc4wbTa1pX11VeZTGsGDCsGBFUTBhQFERGEAwo4iBhiBKUMHPeP24NNuOEHmZ6qnv6fJ6nn+7Kp6tnTlXdunWvzAznnHPZpU7cATjnnKt5nvydcy4LefJ3zrks5MnfOeeykCd/55zLQp78nXMuC3nyr0UkzZa0f9xxJJI0VtIZSc6bdvFXhaSVkrZN0bpvlXRJ9HmApPwUbecRSf9bifnfkfT7VMSyKSRdJOm2uONIR57801CUBH+OkscCSf+R1DTuuDaFmR1iZiPijiMOZtbUzL6t7vVKag2cDvy7utediST1lDRZ0urovWfC5OHAYEltYgovbXnyT19HmFlTYFegD/CXmONJK5LqVuO66lXXumrImcAYM/s57kDiJqkB8CLwOLAFMAJ4MRqPmf0CjCUcLF0CT/5pzszmEv54uwNIOlLSdEnLokvsHUsuI6ltdBbUKmHcbpIKJNWXdKak9yX9Q9JSSd9JOiRh3q0kvSRpiaRvJP0hYdr1kv4r6XFJKyR9Lmk7SddIWijpB0kHJsy/oRhAUq6ktyQtlrRI0hOSWiSzH6Lih/sljZG0ChgYxTkq+l7fSbooYf5GkkZE32+GpCsTi0aiq6urJOUBqyTVk7SHpAnRvp0qaUDC/GdK+jb6zt9JOjUa30XSeEnLo+/0dMIyJqlL9Lm5pEejWL+X9BdJdRLWXebvUYpDgPHl7KurJc2KYv1C0jElvscHkv4Zfc9vJfWLxv8Q/YYli+lyJI2L1jdeUqeE9R0gaWb0/YcCSpi2yb93JQwA6gF3m9kaM7snimHfhHneAQ6r5u1mPE/+aU5SB+BQYIqk7YAngUuA1sAY4GVFZznFzGw+4Q/+xITRg4GnzGxdNNwX+BLIAf4OPCSp+B/3SSAf2Ao4HrhF0n4J6zoCeIxwpjUFeI3wt7Q1cCNlF0cIuDVa745AB+D6pHZEMAi4GWgGTABeBqZG290PuETSQdG81wGdgW2BA6LvX9IphKTQAtgSeAX4X6Al8CdglKTWkpoA9wCHmFkzoB/wWbSOm4DXCfuiPXBvGbHfCzSP4tmHcCZ6VsL08n6PknaO5i3LLGCvaHs3AI9LaldiW3lAK2Ak8BTh6rILYT8N1cbFjKdG3zOH8L2fAJCUA4wiXJXmRNvtn7BcpX5vSXnRAam0131lLLYTkGcbt1OTF40vNgPYpaztZi0z81eavYDZwEpgGfA9cB/QCPgr8EzCfHWAucCAhOX2jz6fBHwQfa4LzAd2j4bPBL5JWE9jwIC2hH/QQqBZwvRbgUeiz9cD4xKmHRHFWjcabhatq0U0/A7w+zK+59HAlBLfe/8y5n0EeDRhuC8wp8Q81wD/iT5/CxyUMO33QH6JbZ2dMHwV8FiJ9b0GnAE0iX6L44BGJeZ5lFCu3L6UmI2QUOsCa4BuCdPOA96p6PcoY1+sA3ZIGB6Q+N1Kmf8z4KiEbX2dMG3naFtbJoxbDPRM2O9PJUxrGv19dCAcwD5KmCbCSUNSv3c1/a/8NTG+aNwTwPUJw12Bwurcbm14+Zl/+jrazFqYWSczu9BC+e5WhIMBAGZWBPxAOPMt6UWgm0JtkwOA5Wb2ccL0+QnrWR19bBptY4mZrUiY9/sS21iQ8PlnYJGZFSYMF69rI5LaSHpK0lxJPxHKaXPK+P6l+SHhcydgq8SzQ+Bawhk80ff4oYxly1rfCSXWtyfQzsxWEQ6m5wPzJL0iaYdouSsJSe9jheK4s0vZTg7QgITfjt/u07J+j9IsJRxkSyXpdEmfJXyP7my8n0v+fphZyXGJ296wn8xsJbCEsH+3KjHNEoer4fdOxkpg8xLjNgcS/36bAcurebsZz5N/ZvmRkKQAiIoFOhDO/jdi4UbXM4RL9tMIxTTJbqOlpMTk0rG0bWyCWwlnmT3MbHNCEUNZRRulSby0/wH4LjpAFr+amdmh0fR5hGKYYh2SWN9jJdbXxMxuAzCz18zsAKAdMBN4IBo/38z+YGZbEc7m7ysu50+wiHC23ilhXFX2aR6wXWkTovL4B4AhQCszawFMo3L7uaQN+y4qDmpJ+DuZV2Ka2Hg/V+r3jg6eK8t4DStjselAjxJFZD2i8cV2JBQPugSe/DPLM8BhkvaTVB+4nFCcMKGM+R8lXOYfSTjrqpCZ/RCt71ZJm0nqAZxDVM5bRc2IirMkbQ1cUYV1fQz8pHDTtpGkupK6S+oTTX8GuEbSFtG2hlSwvseBIyQdFK1rM4X68+0lbalwo70JYX+vJBR9IOkEScUHmaWEZFeYuOLoqugZ4GZJzaIEfRlJ/ialGEO4b1CaJlEMBVF8ZxFVFqiCQyXtGd1bugmYGP2dvALsJOlYhRpTFxGKDotV6vc2s50sVI8t7XV+GYu9Q9jfF0lqKKn4d34rYZ59CJUmXAJP/hnEzL4knD3dSzibPIJQJXRtGfN/ABQBn5rZ7Eps6hTCzdIfgeeB68xs3KZHvsENhKqrywmJ47lNXVGUUI8AegLfEfbHg4SbnBBuPOdH094AniUk7rLW9wNwFKHoqIBwJXAF4X+kDuFA+yOhyGMf4MJo0T7AREkrgZeAi83su1I28T/AKsK9iPcJN1ofrvQXDx4lJORGpXyPL4A7gQ8JxTs7Ax9s4naKjSTcQF8C7Ea4msTMFgEnALcR7hN0LbGtavu9yxL97R9NuP+wDDibUGS6FkDSZoQKE1n5rEl5FIrpXG0l6S1gpJk9GHcscZJ0AXCymZV1xpxRJN0CLDSzu+OOJZ1J+h+gg5ldGXcs6caTfy0WFYGMI/zxr6ho/tokqtq4LeEMuCvhzHOoJ0vngkx7stElSdIIwuXwxdmW+CMNCM8bbEMoDniKUGXWOYef+TvnXFbyG77OOZeFMqLYJycnxzp37hx3GM45l1EmT568yMxalzYtI5J/586dmTRpUtxhOOdcRpH0fVnTvNjHOeeykCd/55zLQp78nXMuC3nyd865LOTJ3znnspAnf+ecSzPDxs9iwqxFG42bMGsRw8bPqrZtePJ3zrk006N9c4aMnLLhADBh1iKGjJxCj/bNK1gyeRlRz98557JJv9wchg7qxZCRUxjctyOPT5zD0EG96JdbfR2h+Zm/c86loX65OQzu25F73vqGwX07VmviB0/+zjmXlibMWsTjE+dw0b5deHzinN/cA6gqT/7OOZdmJsxaxGVPTGT0dmO5rP+vRUDVeQDw5O+cc2kmL385z23/BlvNeAh+nLLhHkBe/vJq24bf8HXOuTRzfvs58PbD0OcP0HV/INwD8Bu+zjlXW61eAi9cCDnbwQE3pmwzfubvnHPpwgxeuQxWLYRTnoQGjVO2qZSd+UvaTNLHkqZKmi7phmj89ZLmSvoseh2aqhiccy6j5D0D05+HgdfCVj1TuqlUnvmvAfY1s5WS6gPvSxobTfunmf0jhdt2zrnMsvR7GPMn6Pg76H9JyjeXsuRvoWf4ldFg/ejlvcU751xJRYXw/Pmh2OeYf0OduinfZEpv+EqqK+kzYCEwzswmRpOGSMqT9LCkLcpY9lxJkyRNKigoSGWYzjkXrwn3wJwJcOgdsEWnGtlkSpO/mRWaWU+gPbC7pO7A/UAu0BOYB9xZxrLDzay3mfVu3brU/oedcy7jPTt6NEVv3QzdjoZdTgaqvwXP0tRIVU8zWwa8AxxsZguig0IR8ACwe03E4JxzaWfNSg776i8UFDXj4+5/BSklLXiWJmVl/pJaA+vMbJmkRsD+wO2S2pnZvGi2Y4BpqYrBOefS2tiraPTTbGYd+ATnj/qOwfmFKWnBszSprO3TDhghqS7hCuMZMxst6TFJPQk3f2cD56UwBuecS0+fPwufPQ57X0n3focxeOWX3PPWN1y0b5eUJ35IbW2fPKBXKeNPS9U2nXMuIyydDaMvhQ59YZ+rftOC5x65rVJ+APDmHZxzriYVroNRvwcExz7AhNnLGDJyCkMH9eKyA7dPSQuepfHk75xzNemdWyH/EzjyX7BFJ/Lyl29Uxp+KFjxL4237OOdcTfl2PLx3F+x6Oux0DADn75P7m9mquwXP0viZv3PO1YRVi+G5cyGnKxx8W9zR+Jm/c86lnBm8eCH8vAQGPwsNmsQdUfJn/pKaRNU2nXPOVcbHw+GrV+GAm6DtznFHA5ST/CXVkTRI0iuSFgIzgXlR88x3SOpac2E651yGmpcHr/8FtjsY+qbPY03lnfm/TWiD5xqgrZl1MLM2wF7AR8BtkgbXQIzOOZeZ1q6CZ8+GRi3hqPtAijuiDcor89/fzNaVHGlmS4BRwKionX7nnHOlGXsVLP4GTn8RmrSKO5qNlHnmX5z4Jf1D0k7lzeOcc66EaaNgymOw12Ww7T5xR/MbydzwnQkMlzRR0vmSUtvUnHPOZbqls+HlS6B9HxhwTdzRlKrC5G9mD5pZf+B0oDOQJ2mkpIGpDs455zLOhuYbgOMehLrpWTqeVFXPqIrnDtFrETAVuEzSUymMzTnnMs87t4XmG464G7boHHc0ZarwIS9JdwFHAG8Bt5jZx9Gk2yV9mcrgnHMuo8x+H967E3oNhu7HxR1NuZJ5wnca8BczW13KNO+FyznnAH5eCs+dBy23hYNvjzuaCpX3kFdnADN7uLTEL0lAs9SF5pxzGcIstM+/cj4c9wA0bBp3RBUq78z/Dkl1gBeByUABsBnQBRgI7AdcB+SnOkjnnEtrU5+E6c/Dfn+DrXeLO5qklJn8zewESd2AU4GzCd0yrgZmAGOAm83slxqJ0jnn0tXiWTDmCui0J/S/JO5oklZumb+ZfQH8uYZicc65zFK4LjTTXKcuHPvv8J4hUtaev6TNJH0saWrUGNwN0fiWksZJ+jp63yJVMTjnXEqNvx3mToLD74bm7eOOplJS2ZnLGmBfM9sF6AkcLGkP4GrgTTPrCrwZDTvnXGb5fkKo1rnLIOh+bNzRVFrKkr8FK6PB+tHLgKOAEdH4EcDRqYrBOedS4pfloVpni45w6N/jjmaTJNWTl6QehKYdNsxvZs8lsVxdQk2hLsD/mdlESVua2bxoHfMktSlj2XOBcwE6duyYTJjOOVczxl4NP+XD2a9Dw8ys8Z7ME74PAz2A6UBRNNqACpO/mRUCPSW1AJ6X1D3ZwMxsODAcoHfv3pbscs45l1IzXoapI2HvK6BDn7ij2WTJnPnvYWbdqrIRM1sm6R3gYGCBpHbRWX87YGFV1u2cczVm5UJ4+WJo2wP2vjLuaKokmTL/D6P6/pUiqXV0xo+kRsD+hOahXwLOiGY7g/AQmXPOpTczeOkiWLMSjn0A6jWIO6IqSebMfwThADCfUINHhPu5PSpYrh0wIir3rwM8Y2ajJX0IPCPpHGAOcMKmh++cczVkyuPw1Vg46BZos0Pc0VRZMsn/YeA04HN+LfOvkJnlAb1KGb+Y0DSEc85lhqWz4dWrofNe0PeCuKOpFskk/zlm9lLKI3HOuXRUVAgvXAgIjr4P6qTy8aiak0zynylpJPAyodgHSK6qp3POZbyP7oPvP4Cj7gv1+muJZJJ/I0LSPzBhXFJVPZ1zLqMtnAFv3gg7HA49B8UdTbWqMPmb2Vk1EYhzzqWVwvXwwgXhIa7D7wYp7oiqVTIPeW0GnAPsRGjPHwAzOzuFcTnnXLwm3AM/ToETHoGmreOOptolc+fiMaAtcBAwHmgPrEhlUM45F6uFM+GdW6HbUbDTMXFHkxLJJP8uZvZXYJWZjQAOA3ZObVjOOReTwvXw4oWhuOfQO+OOJmWSSf7rovdlUds8zQmNvDnnXO3z4b0wdzIc+o9aWdxTLJnaPsOjDlf+SmiaoSnwt5RG5ZxzcVg4E96+BXY8stYW9xRLprbPg9HH8cC2qQ3HOediUlzc06ApHHZnravdU1KZyV/SZeUtaGZ3VX84zjkXk4/+LxT3HPcQNC21m5Fapbwz/+IeCrYH+hCKfACOAN5NZVDOOVejCr6Ct24OD3N1Py7uaGpEmcnfzIo7XH8d2NXMVkTD1wP/rZHonHMu1YqK4KX/gQaN4fB/1vrinmLJ3PDtCKxNGF6L1/ZxztUWkx6CHz6Co4dlRXFPsWSS/2PAx5KeJ7Tpcwy/dsDunHOZa3k+vHE95O4Lu5wcdzQ1KpnaPjdLGgvsFY06y8ympDYs55xLMTMYfRlYUa1su6ciyZz5Y2afAp+mOBbnnKs500bB16/BQbfCFp3ijqbG1Y5eCZxzrjJWL4GxV8HWu0Hf8+KOJhZJnfk751yt8uo18MsyOPIlqFM37mhikdSZv6ROkvaPPjeS1CyJZTpIelvSDEnTJV0cjb9e0lxJn0WvQ6v2FZxzrhK+eQPynoI9L4Utd4o7mtgk057/H4BzgZZALqFJ52FU3An7euByM/s0OlhMljQumvZPM/vHpoftnHObYM1KePlSyNkO9r4i7mhilUyxzx+B3YGJAGb2taQKK8Oa2TxgXvR5haQZwNZViNU556rm7Zth+Rw461Wo1zDuaGKVTLHPGjPb8JCXpHqE+v5Jk9QZ6EV0AAGGSMqT9HDUYmhpy5wraZKkSQUFBZXZnHPO/daPU2DiMOh9DnT6XdzRxC6Z5D9e0rVAI0kHEJp2eDnZDUhqCowCLjGzn4D7CcVHPQlXBqX2lmBmw82st5n1bt269rap7ZyrAYXr4eWLoUlr2P+6uKNJC8kk/6uBAuBz4DxgDPCXZFYuqT4h8T9hZs8BmNkCMys0syLgAUKRknPOpc4nD8C8qXDI7bBZ87ijSQvJPOFbnKQfqMyKJQl4CJiR2PyzpHbR/QAITUVMq8x6nXOuUpbnw1v/C10PhG5Hxx1N2kimtk9/4HqgUzS/ADOzijp26Q+cBnwu6bNo3LXAKZJ6Eu4bzCZcTTjnXGqMvQqKCkO3jFnWhEN5kqnt8xBwKTAZKEx2xWb2PuFAUdKYZNfhnHNVMmM0zBwNB9yYlU04lCeZ5L/czMamPBLnnKtOa1bA2Cthy+6wx4VxR5N2yuvGcdfo49uS7gCeA9YUT48ae3POufT01s3w049wwgioWz/uaNJOeWf+Jatg9k74bMC+1R+Oc85Vg7mfwsf/hj7nQIc+cUeTlsrrxnEggKRtzezbxGmSKrrZ65xzNWLY+Fn0aN+cfrk5YURRIStHDUH1W9Jkv7/FG1waS6ae/7OljPM+fJ1zaaFH++YMGTmFCbMWAfDt2LtpumQ6+X3/5nX6y1Femf8OwE5Ac0nHJkzaHNgs1YE551wy+uXmMHRQL4aMnMJ5vRpx6qQ7WNpuL7bf9/S4Q0tr5ZX5bw8cDrQAjkgYvwL4Qwpjcs65SumXm8Pgvh3Z6r2L2KxeIU2P/5fX6a9AeWX+LwIvSvqdmX1YgzE551ylTJi1iK8/epnL6n7E/ZzELsua069V3FGltwrL/D3xO+fS2YRZi7jsiYnc1eRRaJlLz1Ou2+gegCud9+HrnMtoefnLeab7RBqt+B4Ou5Pfbbc1Qwf1Ii9/edyhpbUyk39Ct4v9ay4c55yrnPO7Q8fpw6D7cZA7EAj3AM7fJzfmyNJbeWf+Z0Xv99ZEIM45V2lm8MrloVeug26JO5qMUl5tnxmSZgOtJeUljC9u1bNHSiNzzrmKTH8Ovn0bDvk7NGsbdzQZpbzaPqdIagu8BhxZcyE551wSfvkJXr0W2u0CfX4fdzQZp9xWPc1sPrCLpAbAdtHoL81sXcojc8658rx9C6xcAKeMhDp1444m4yTTmcs+wKOEjlcEdJB0hpm9m+LYnHOudPPyQsNtvc+GrXeLO5qMlEx7/ncBB5rZlwCStgOeBHyPO+dqXlERvHIZNGoJ+/017mgyVjLJv35x4gcws6+ijtmdc67mTXkM8j+Bo4dBoy3ijiZjJfOQ1yRJD0kaEL0eIHTpWC5JHSS9LWmGpOkJzw20lDRO0tfRu/96zrnkrFoMb1wHHfvBLifHHU1GSyb5XwBMBy4CLga+AM5PYrn1wOVmtiOwB/BHSd2Aq4E3zawr8GY07JxzFXvjutA942F3esNtVVRhsY+ZrSGU+99VmRWb2TxgXvR5haQZwNbAUcCAaLYRwDvAVZVZt3MuC82ZGIp8+l0EW3aLO5qMVyNt+0jqDPQCJgJbRgeG4gNEm5qIwTmXwQrXh5u8m28N+/i5YnVIefKX1BQYBVxiZj9VYrlzJU2SNKmgoCB1ATrn0t/Hw2HBNDj4NmjYNO5oaoUKk7+kE5IZV8ay9QmJ/wkzey4avUBSu2h6O2Bhacua2XAz621mvVu3bp3M5pxztdFP8+Dtm6HLAbDjERXP75KSzJn/NUmO24gkAQ8BM8ws8X7BS8AZ0eczgBeTiME5l61euwYK18Ghf/ebvNWovD58DwEOBbaWdE/CpM0JNXkq0h84Dfhc0mfRuGuB24BnJJ0DzAGSuopwzmWhb96E6c/DgGuh5bZxR1OrlFfb50dgEqFRt8R6/SuASytasZm9T2gOojT7JRugcy5LrfsFxvwJWubCnpfEHU2tU16rnlOBqZKeMLNkzvSdc676fHA3LPkWTnshtNfvqlUyzTt8LclKjjQzvwZzzqXG4lnw3l0b9c7lqlcyyb93wufNCGX0LVMTjnMu65mF4p66DeDAm+OOptaqsLaPmS1OeM01s7uBfVMfmnMuK01/Hma9Bfv+BTZvF3c0tVYy7fnvmjBYh3Al0CxlETnnstcvP8Gr10DbHt47V4olU+xzZ8Ln9YROXU5MSTTOuez2zq2hd66Tn4C6yaQnt6mSadjN77Y451JvXh5MHAa7nQnte1c4u6uaZJp3aC7pruJ2diTdKal5TQTnnMsSRYUw+tLQO9f+18UdTVZIpnmHhwkPdp0YvX4C/pPKoJxzWWbSwzB3Ehx0i/fOVUOSKVTLNbPjEoZvSGiuwTnnqmbFfHjzRthmH+jhtxNrSjJn/j9L2rN4QFJ/4OfUheScyyqvXg3r18Dh//SG22pQMmf+5wOPJpTzL+XXVjmdc27TfT0u1Osf+GdolRt3NFklmdo+U4FdJG0eDSfdIYtzzpVp7erQO1errtD/4rijyTpJV6T1pO+cq1bv/h2WzYEzX/GG22JQI334OufcRhZ8ARPuhZ6nQuc9K57fVTtP/s65mlVUBKMvgYabwwE3xR1N1kqmbZ9jSxm9HPjczErtf9c558r06Qj4YSIcdR80aRV3NFkrmTL/c4DfAW9HwwOAj4DtJN1oZo+lKDbnXG2zYj6Muw467Qk9B8UdTVZLJvkXATua2QIASVsC9wN9gXcBT/7OueSM+ROs/wWO+JfX6Y9ZMmX+nYsTf2QhsJ2ZLQHWlbWQpIclLZQ0LWHc9ZLmSvoseh266aE75zLKFy/BjJdhwFWQ0yXuaLJeMmf+70kaDfw3Gj4OeFdSE2BZOcs9AgwFHi0x/p9m9o9Kxumcy2Q/L4MxV8CWO0O/i+KOxpHcmf8fCYm8J9CLkMz/aGarymvu2czeBZZUQ4zOuQw0bPwsJsxaFAbG/Q1WLWTqbjcy7P058QbmgOS6cTQze9bMLjWzS6LPv+nQvRKGSMqLioXKbL5P0rnFzUgXFBRUYXPOuTj0aN+cISOnMO2D0fDpCObueDZnvVZIj/beInw6SKY9/2MlfS1puaSfJK2QtKlP+94P5BKuIuaxcS9hGzGz4WbW28x6t27dehM355yLS7/cHO47cUc2H3c5yxpuzQkzBzJ0UC/65ebEHZojuTL/vwNHmNmMqm4s8caxpAeA0VVdp3Mufe3xw4PAfAatuJbjB3T1xJ9GkinzX1AdiR9AUruEwWOAaWXN65zLcPPysA/u4UUNpPeAo3l84pxf7wG42CVz5j9J0tPAC8Ca4pFm9lx5C0l6kvBAWI6kfOA6YICknoAROoI/b1OCds6lucL1rPzvBfxizWh34j84qlsX9shtxZCRU7zoJ00kk/w3B1YDByaMM6Dc5G9mp5Qy+qHkQ3POZawP/knTJdOYu/dQdu8W6vT3y81h6KBe5OUv9+SfBpJpz/+smgjEOVdLzJ8G79wOOx3L9vuettGkfrk5nvjTRJnJX9KVZvZ3SfcSzvQ3Ymb+pIZzbmOF6+CF86FRCzjUn+VMZ+Wd+Rff5J1UE4E452qB9+6E+Z/DSY97i51prszkb2YvRx/fM7Nvayge51ymmjcV3r0Ddj4Rdjwi7mhcBZK54fuIpK2BTwiteL5nZp+nNiznXEZZvxaevwAat4JDbo87GpeEZG747i2pAdCHUHXzFUlNzaxlqoNzzmWId/8OC6fDKU9BY08NmSCZnrz2BPaKXi0IT+W+l9qwnHMZY+6n8N5dsMsg2P6QuKNxSUqm2Gc84abvrcAYM1ub2pCccxlj3S/wwgXQtA0cfGvc0bhKSCb5twL6A3sDF0kqAj40s7+mNDLnXPp78wYomAmnPhuqd7qMkUyZ/zJJ3wIdgPZAP6B+qgNzzqW5b96Aj+6D3c+FrgfEHY2rpGTK/GcBXwLvA8OAs7zox7kst2oRvHAhtN4RDrgx7mjcJkim2KermRWlPBLnXGYwgxeHhK4ZBz8H9RvFHZHbBMk06byVpOejztgXSBolqX3KI3POpadJD8NXY+GAG6Bt97ijcZsomeT/H+AlYCtga+DlaJxzLtsUfAmv/Rly94PdvUX2TJZM8m9tZv8xs/XR6xHA+1V0LtusXwOjzoEGjeHo+6FOMunDpatkfr1FkgZLqhu9BgOLUx2Ycy7NvHVTaLTtqPug2ZZxR+OqKJnkfzZwIjCf0On68dE451y2mPUWTLgX+vwetj847mhcNUimnv8c4MgaiMU5l46Wz4VRv4+qdd4UdzSumpTXmUupnbgU885cnMsC69fCf88M5f0nPRbK+12tUN6Zf5U6cZH0MHA4sNDMukfjWgJPA50JHbifaGZLq7Id51wKvXEd5H8MJzwCOV3jjsZVo/I6cxlRxXU/AgwFHk0YdzXwppndJunqaPiqKm7HOZcK018IzTf0vQB2OibuaFw1S1ldLTN7F1hSYvRRQPFBZQRwdKq275yrgkXfhKd42/fx5htqqZquqLulmc0DiN7blDWjpHMlTZI0qaCgoMYCdC7rrV0Nz5wG9RqE4p56DeKOyKVAuck/qtd/aU0Fk8jMhptZbzPr3bq1P1PmXI0wg1cug4Uz4NgHoLm35FJblZv8zayQUFRTXRZIagcQvS+sxnU756pq8n9g6pMw4Grosl/c0bgUSqbY5wNJQyXtJWnX4tcmbu8l4Izo8xnAi5u4HudcdfvuXRhzBXTZH/a+Iu5oXIol06Rzv+g98a6PAfuWt5CkJwkdvudIygeuA24DnpF0DjAHOKGyATvnUmDxLHj6NGjVBY5/GOrUjTsil2LJPOE7cFNWbGanlDHJryWdSyc/L4WRJ4LqwClPwWbN447I1YAKi30kbSnpIUljo+Fu0Zm7cy7TFa6DZ86Apd/DyU9Ay23ijsjVkGTK/B8BXiO05w/wFXBJiuJxztUUMxh7FXw3Ho74F3TqV/EyrtZIJvnnmNkzQBGAma0HClMalXMu9T4eDpMegv4XQ69T447G1bBkkv8qSa2IGnmTtAewPKVROedS6+s34NWrYfvDYL/r447GxSCZ5H8ZoYpmrqQPCG31eIuezmWIYeNnMWHWol9H5E+m8OnTWdSkCxw73HvkylLJ/OrTgX0IVT7PA3YCZqYyKOdc9enRvjlDRk4JB4CFM1j36LH8uL4p3x30CDRsGnd4LibJJP8Po757p5vZNDNbB3yY6sCcc9WjX24OQwf14tYnXmXlA4ezbK1YePRT9Nl5p7hDczEqrzOXtsDWQCNJvQBFkzYHvEcH5zJIvzbreaz+Laz/5WfG9HyQM3pu6kP6rrYo7yGvg4AzgfbAXQnjVwDXpjAm51x1Wr2EVQ8dQYM1i3mhx338a1p9uvZYRL/cnLgjczGqqDOXEZKOM7NRNRiTc666rFnJioePoeGyb/l6/4cZtOdRdO65iCEjpzB0UC8/AGSxZJp3GCXpMMKN3s0SxnsPD86ls7Wr4alBNFn8OV/tM5Sd9gwN9BbfA8jLX+7JP4tVmPwlDSOU8Q8EHgSOBz5OcVzOuar4ZTmMPBnmfEido+9nh54bN7XVLzfHE3+WS6a2Tz8zOx1YamY3AL8DOqQ2LOfcJlu9BEYcGTpeP/4h6FlWG4sumyXTpPPP0ftqSVsBiwFv/cm5dLRiPjx6NCz5Fk56ArY/OO6IXJpKJvmPltQCuAP4lNDMwwOpDMo5twmWfg+PHgUrF8LgZ2GbveOOyKWx8ur5XwJ8ANwaNeY2StJoYDMz87Z9nEsni74OiX/tSjj9RejQJ+6IXJor78y/PfAvYAdJecAEwsHAn+51Lp3kT4KRJ4EEZ74CbXeOOyKXAcq84WtmfzKzfkBbwkNdS4CzgWmSvqih+Jxz5Zn6FPznUGjQBM4a64nfJS2ZMv9GhCYdmkevH4HPUxmUc64CRYXwxnUw4V7ovBecMAKatIo7KpdByivzH054sGsFMJFQ7HOXmS2t6kYlzY7WWwisN7PeVV2nc1nj52Uw6hz45g3o8wc4+FaoWz/uqFyGKe/MvyPQEPgamAvkA8uqcdsDzWxRxbM55zZY9A08eTIs/Q4O/yf0PjvuiFyGKq9tn4MliXD23w+4HOguaQmhmefraihG5xzAzFfg+Qugbj04/SXo3D/uiFwGK7fM38yMcIN3GaHrxuXA4cDuQFWSvwGvSzLg32Y2vOQMks4FzgXo2LFjFTblXIZbswJevQamPAZte8BJj8MWneKOymW48sr8LyKc8fcH1vFrNc+HqfoN3/5m9qOkNsA4STPN7N3EGaIDwnCA3r17WxW351xmmvMRPHcuLP8B9roc9rka6jWIOypXC5R35t8ZeBa41MzmVedGzezH6H2hpOcJVxLvlr+Uc1lk/Vp45xb44F/QomOoxtlxj7ijcrVIeWX+l6Vig5KaAHXMbEX0+UDAm4d2rtiC6fD8eTD/c9j1dDjoFmjYLO6oXC2TTKue1W1L4H1JUwlNQ79iZq/GEMdGho2fFTq4TjBh1iKGjZ8VU0Qu66xaDK9cTtH9e7Ju6Vw4+Uk48l5o2Mz/Fl21q/Hkb2bfmtku0WsnM7u5pmMoTY/2zRkycsqGA8CEWaG3ox7tm8ccmav1CtfBR/fDvb1g0n9YsP2pHLjuTibU3x3wv0WXGsk84Vu7rV0Fi76i38qveGnHKXzx+F1Ma92Krwrq8Nyu3ei8YhF8nQNNcqBVF7/8dtXr6zfgtWtg0Vew7UA4+FbatdmRm6OEP7hvRx6fOMe7XHTVLvuSvxl8OQYmPwILZ8LyORsmta9Tj6YN2/LLghmcVmcFdSe/CJMTllUdaNMN2veG9n3Cq1VXqBNH6ZnLWGbw/Qfw3p0w6y1ouS2c8hRsd3BonI3Q09bgvh25561vuGjfLp74XbXLruQ/dzK8/tfwj9eiI3TYPdxQa70d5GzPh8s2549PT2dw/448/tH33H9iV/q2KYJVi2DVQpg/DfI/genPh4MHQMPm0LEv5O4HXfYLVwfRP7BzGykqgpmjQw2euZOgcQ4ccBP0Pf831TcnzFrE4xPncNG+XXh84hz2yG3lBwBXrWpl8h82fhY92jf/9Z9l6fcUvPgXWs9+KfzDHXYn7HrGRu2hTJi1iCFPT9lweb1HbisuGFk8nBtm2vGI8F5UBIu/CQeC/I/hu/fg69fDtOYdIXdgOBBssw80alFzX9ylp/VrQuubE+4JfzdbdA5/gz1PhfqNfjN7cRl/4t9i4rBz1UHhId701rt3b5s0aVLS8xf/89x/fC598x+h6MP7WVsEi7qfQ/vDr4XNNv/NMr85YETryctfzvn75Fa80SXfhUv4WW/Bt+Nh7QpQ3XB10WX/8GrbI6kioirH4uJnBvPzIO+Z8Fq1ENrtAv0vgR2PDE00lMF/f1ddJE0uq+HMWpn8IfyzLHv8TA6x93lZ+7DVMTfRu0ePFEVYQuG6cFXwzRvhNW9qGN+kTbgi6LJ/uCpo2rrM2BPP9EoOuzS2PB8+/y9MfRoKZkCd+rDdQdDn97DtAC8SdDUqK5M/wMMvvsGoj75kv4H7c9mB26cgsiStWBCuCL4ZF95/jlrFbtMt9LO6zd7Qqf9GRUQTvLZHZjCDgpnhd/1yLMx+HzDo0Bd6nAQ7HQONW8YdpctS5SX/WlnmDyF5Ds0zBg/cP/4bZs22hJ6nhFdRIfz4Gcx+F757FyaPgInDQk2itj1C0mjfm35b78bg3TtkdW2Pmij+2KRtrFoE377zazHfiqj1k5ztYMDV0OPEUIPHuTRWK5N/Wt8wq1MX2u8WXnteGm4Gzp0cDgTfvRdabvz43wCcRTOOabszr33YnhkN9mPHnfuEm4V16sb7HWpI8YN3pRV/1dg2fl4K8/JC0d28z8L74m/CtEZbhKKc3H1DHf0WHaotLudSrVYW+2T0DbPC9Xz26YeMHvMyf9h2CVv+NA0rmImIfqe6DcMZZpsdoPX2oWpp8w7QvH24p1DLnjmoieKvD7+ayx1PjeO07Yv4aubnnLa9sVXR/FBmv3T2rzM27xBu2m7VK9Toatczaw7ELjNlbZl/pvrNwWvNCvKmTGTx7KkM3GIJFHwZXgkPqAHh5mLzrUOSatYOGreKXluE90YtQ/lzgyZQvwk0aAz1G6d9Arvr9S83FH+Veu/GLNxkL1wTrqTWrAhPbq9dCWtWhppXa1bA6sXRMxsFv75WFsDKBUDC/0H9xrDFNpDTJST4druEd+8j12UYT/611ZqV4cx0eX5o7315/q+vn36En5eEBFiRepuFhFevYTiA1K0HdRv8+ll1wz0JKXqvA6jsmitmgEXvJHxO5r0o5GErAozVa9aycPlqWmxWh9W/rKFV47o0rGNQtD40e1y4BgrXJr/P6jcJTXU0aR29cphT1IrheUXs1L0HD02HGwcNoF+X0mtiOZdJsvKGb1Zo2BTadg+vMgx/ewa9cow+bQhnvj8v5ev8+cxbtIS9OzWGdavDWfK61SGJFq4P70Xrfv1shSE5Rwl5w+eionKqLmrjIiiJXw8YZbxvOKiEA83iVWv5dOFP9OrUihabN2HtqnW8+t0y+ua2oW2LpuFgVbdBeNVrEIrE6jWEBk3DvmnQNLTFVDzcuFW46kmwoYx/cChO6tTTq9W67ODJv5br3rE1521IZt1Csps4haGDjoU0T27/HT+LHgOakxPF2QZoPWsRL1TjvZu8/OUbJfp+uTkMHdSLvPzlnvxdrebFPlnAnxlwLjuVV+xTu6qGuFIlthA5uG9HT/zOOU/+2aBkC5EleyxzzmUfT/61XOJDS5cduD1DB/XaqMcy51x2iiX5SzpY0peSvpF0dRwxZIvybmg657JXjd/wlVQX+Ao4AMgHPgFOMbMvylrGb/g651zlpdsN392Bb6KO3NcCTwFHxRCHc85lrTiS/9bADwnD+dG4jUg6V9IkSZMKCgpqLDjnnMsGcST/0h4J/U3Zk5kNN7PeZta7dWt/1N4556pTHMk/H0hs+7Y98GMMcTjnXNaKI/l/AnSVtI2kBsDJwEsxxOGcc1krluYdJB0K3A3UBR42s5srmL8A+L4GQqsuOYBXpC+d75uy+b4pm++bspW3bzqZWanl5hnRtk+mkTSprOpV2c73Tdl835TN903ZNnXf+BO+zjmXhTz5O+dcFvLknxrD4w4gjfm+KZvvm7L5vinbJu0bL/N3zrks5Gf+zjmXhTz5O+dcFvLkX80k/UmSScpJGHdN1Hz1l5IOijO+uEi6Q9JMSXmSnpfUImGa7x9v5nwDSR0kvS1phqTpki6OxreUNE7S19H7FnHHGhdJdSVNkTQ6Gq70vvHkX40kdSA0VT0nYVw3wlPMOwEHA/dFzVpnm3FAdzPrQWjS+xrw/QMbmjn/P+AQoBtwSrRfstV64HIz2xHYA/hjtD+uBt40s67Am9FwtroYmJEwXOl948m/ev0TuJKNG6o7CnjKzNaY2XfAN4RmrbOKmb1uZuujwY8IbTqB7x/wZs43YmbzzOzT6PMKQpLbmrBPRkSzjQCOjiXAmElqDxwGPJgwutL7xpN/NZF0JDDXzKaWmJRUE9ZZ5mxgbPTZ94/vgzJJ6gz0AiYCW5rZPAgHCKBNjKHF6W7CSWZRwrhK75t6KQmtlpL0BtC2lEl/Bq4FDixtsVLG1cr6teXtHzN7MZrnz4TL+ieKFytl/lq5f8rh+6AUkpoCo4BLzOwnqbTdlF0kHQ4sNLPJkgZUZV2e/CvBzPYvbbyknYFtgKnRH2h74FNJu5NFTViXtX+KSToDOBzYz359wCRr9k85fB+UIKk+IfE/YWbPRaMXSGpnZvMktQMWxhdhbPoDR0aNY24GbC7pcTZh33ixTzUws8/NrI2ZdTazzoR/5l3NbD6hueqTJTWUtA3QFfg4xnBjIelg4CrgSDNbnTDJ9483c74RhTOoh4AZZnZXwqSXgDOiz2cAL9Z0bHEzs2vMrH2UZ04G3jKzwWzCvvEz/xQzs+mSngG+IBR3/NHMCmMOKw5DgYbAuOjq6CMzO9/3D5jZeklDgNf4tZnz6TGHFaf+wGnA55I+i8ZdC9wGPCPpHEKNuhPiCS8tVXrfePMOzjmXhbzYxznnspAnf+ecy0Ke/J1zLgt58nfOuSzkyd8557KQJ39XLSS1lfSUpFmSvpA0RtJ2kgYUtzwYN0k3Sir3QbRq2k4LSRdWw3rekVStnZaXt05Jz0ratpxlG0h6V5JXEa8FPPm7KoseynkeeMfMcs2sG6Fe9pbxRrYxM/ubmb1RA5tqAVQq+SuI7f9R0k5AXTP7tqx5okbn3gROqrHAXMp48nfVYSCwzsyGFY8ws8/M7L1osGl0VjlT0hPRwQJJf5P0iaRpkoYnjH9H0u2SPpb0laS9ovGNJT0T9QnwtKSJxWexkg6U9KGkTyX9N2oXZiOSHpF0fPR5tqQbovk/l7RDKfOPkdQj+jxF0t+izzdJ+r2kppLeTFhHcUuctwG5kj6TdEe0zBXRd82TdEM0rrNCm/X3AZ+ycRMPJWP5zfeTdEj0gFzxPAMkvZzs/ijhVKKnQiV1UmgXPkdSHUnvSSput+qFaF6X4Tz5u+rQHZhczvRewCWEtuq3JTzBCTDUzPqYWXegEaHdn2L1zGz3aLnronEXAkujPgFuAnYDUOg45y/A/ma2KzAJuCyJuBdF898P/KmU6e8Ce0nanPD0cXHcewLvAb8Ax0TrGAjcGR3ArgZmmVlPM7siSpxdCU039wR2k7R3tK7tgUfNrJeZfV9akOV8v3HAHpKaRLOeBDy9ifujP9FvGMVxOzAMuBz4wsxej+abBvSpYF0uA3jZnasJH5tZPkD0uH5n4H1goKQrgcZAS2A68HK0THFjXpOj+SEk3X8BmNk0SXnR+D0IB5YPoouHBsCHScSVuI1jS5n+HnAR8B3wCnCApMZAZzP7UqHxsVuiRF5EaIa5tKKuA6PXlGi4KeFgMAf43sw+qiDOUr9f1CzEq8ARkp4ltPF+JbBPafNXsI12QEHxgJk9KOkE4HzCAat4fKGktZKaRW3tuwzlyd9Vh+nA8eVMX5PwuRCoJ2kz4D6gt5n9IOl6QiuFJZcp5Ne/07La9BUwzsxOqWTcpW0j0SdAb+Bbwll2DvAHfr3KORVoDexmZuskzS7xHRLju9XM/r3RyNBW/aok4izv+z0N/BFYAnxiZiuiq4/K7o+fE2OPDnLFHe40BRITfUPCVY/LYF7s46rDW0BDSX8oHiGpj6R9ylmmONEsisqjyzt4FHsfODFafzdg52j8R0B/SV2iaY0lbVfJ7/Ab0Q3OH6JtfkS4EvhT9A7QnNC2+jpJA4FO0fgVQLOEVb0GnF1c7i5pa0mV6YikvO/3DrAr4aD0dBLzl2UG0CVh+HZCnwt/Ax4oHimpFVBgZusqEb9LQ578XZVFbfMfQygWmSVpOnA95bRJb2bLCEnlc8JNxE+S2NR9QOuouOcqIA9YbmYFwJnAk9G0j4Df3MDdRO8BC6JmqN8jnA0XJ/8ngN6SJhGuAmYCmNliQpHLNEl3ROXlI4EPJX0OPMvGB4dylff9ohZQRxP6/x1d0fzleAUYABAdtPsAt5vZE8BaSWdF8w0ExiQbu0tf3qqnyxgKHZ3XN7NfJOUSqh1uF52huyqQ1Ah4G+hfXpPakp4DrjGzL2ssOJcSXubvMklj4O3oRquACzzxVw8z+1nSdYSb1nNKm0eho5kXPPHXDn7m75xzWcjL/J1zLgt58nfOuSzkyd8557KQJ3/nnMtCnvydcy4L/T9XpXsXHIy4KwAAAABJRU5ErkJggg==\n",
      "text/plain": [
       "<Figure size 432x288 with 1 Axes>"
      ]
     },
     "metadata": {
      "needs_background": "light"
     },
     "output_type": "display_data"
    }
   ],
   "source": [
    "plot_poli(X, y, Theta_opt, mu, sigma)"
   ]
  },
  {
   "cell_type": "code",
<<<<<<< HEAD
   "execution_count": 596,
=======
   "execution_count": 91,
>>>>>>> 3eb6f8702efc265325c06535636ea2613323568e
   "id": "d434f76a",
   "metadata": {},
   "outputs": [],
   "source": [
    "def trainLinearReg(X, y, Lambda):\n",
    "    initial_theta = np.zeros(np.size(X,1))\n",
    "    res = opt.fmin_tnc(func=coste_reg, x0=initial_theta, fprime=gradiente_reg, args=(X,y,Lambda))\n",
    "    #res = opt.minimize(fun=coste_reg, x0=initial_theta, args=(X,y,Lambda), jac=True, method='TNC', options={'maxiter':400,'disp':False})\n",
    "    return res[0]"
   ]
  },
  {
   "cell_type": "code",
<<<<<<< HEAD
   "execution_count": 597,
=======
   "execution_count": 92,
>>>>>>> 3eb6f8702efc265325c06535636ea2613323568e
   "id": "ae14f0e7",
   "metadata": {},
   "outputs": [],
   "source": [
    "def curva_aprendizaje_poli(X, y, Xval, yval, Lambda):\n",
    "    m_train = len(y)\n",
    "    J_train = np.zeros(m_train)\n",
    "    J_val = np.zeros(m_train)\n",
    "    \n",
    "    for i in range(1, m_train+1):\n",
    "        theta_aux = trainLinearReg(X[0: i], y[0: i], Lambda)\n",
    "        theta_aux = theta_aux.reshape((theta_aux.shape[0],1))\n",
    "        J_train[i-1] = coste_vec(theta_aux, X[0: i], y[0: i])\n",
    "        J_val[i-1] = coste_vec(theta_aux, Xval, yval)\n",
    "        \n",
    "    return (J_train, J_val)"
   ]
  },
  {
   "cell_type": "code",
<<<<<<< HEAD
   "execution_count": 598,
=======
   "execution_count": 93,
>>>>>>> 3eb6f8702efc265325c06535636ea2613323568e
   "id": "8900755a",
   "metadata": {},
   "outputs": [],
   "source": [
    "X_8 = expand_X(X,8)\n",
    "X_8_norm, mu, sigma = normalizer(X_8)\n",
    "X_poly = np.hstack((np.ones_like(y), X_8_norm))"
   ]
  },
  {
   "cell_type": "code",
<<<<<<< HEAD
   "execution_count": 599,
=======
   "execution_count": 94,
>>>>>>> 3eb6f8702efc265325c06535636ea2613323568e
   "id": "35e14251",
   "metadata": {},
   "outputs": [],
   "source": [
    "X_8_val = expand_X(Xval,8)\n",
    "X_8_norm_val, mu, sigma = normalizer(X_8_val)\n",
    "X_poly_val = np.hstack((np.ones_like(yval), X_8_norm_val))"
   ]
  },
  {
   "cell_type": "code",
<<<<<<< HEAD
   "execution_count": 600,
=======
   "execution_count": 114,
>>>>>>> 3eb6f8702efc265325c06535636ea2613323568e
   "id": "bf267a14",
   "metadata": {},
   "outputs": [
    {
     "name": "stderr",
     "output_type": "stream",
     "text": [
      "  NIT   NF   F                       GTG\n",
      "    0    1  2.277640669568327E+00   1.47604740E+01\n",
      "    1    3  5.961068181202797E-18   3.86312877E-17\n",
      "tnc: |pg| = 6.21541e-09 -> local minimum\n",
      "    1    3  5.961068181202797E-18   3.86312877E-17\n",
      "tnc: Local minima reach (|pg| ~= 0)\n",
      "  NIT   NF   F                       GTG\n",
      "    0    1  1.482953143345821E+00   7.23898367E+00\n",
      "    1    4  5.053728710418100E-18   3.81092179E-18\n",
      "tnc: |pg| = 1.95216e-09 -> local minimum\n",
      "    1    4  5.053728710418100E-18   3.81092179E-18\n",
      "tnc: Local minima reach (|pg| ~= 0)\n",
      "  NIT   NF   F                       GTG\n",
      "    0    1  1.977466993755966E+02   9.20117439E+02\n",
      "tnc: fscale = 0.0329669\n",
      "tnc: stepmx = 1000\n",
      "    1    4  1.155552335381725E+01   4.96108846E+01\n",
      "    2    7  1.104905167235787E-01   2.95692453E-01\n",
      "tnc: fscale = 1.83899\n",
      "    3   10  1.184235724166612E-02   1.81993184E-02\n",
      "    4   13  3.752635211938228E-17   5.92714300E-17\n",
      "tnc: |pg| = 4.18642e-09 -> local minimum\n",
      "    4   13  3.752635211938228E-17   5.92714300E-17\n",
      "tnc: Local minima reach (|pg| ~= 0)\n",
      "  NIT   NF   F                       GTG\n",
      "    0    1  3.179393921121576E+02   2.38822545E+03\n",
      "tnc: fscale = 0.0204627\n",
      "tnc: stepmx = 1000\n",
      "    1    4  1.806804653472272E+01   1.32597053E+02\n",
      "    2    7  2.117823482031909E-02   2.31782743E-03\n",
      "tnc: fscale = 20.7711\n",
      "    3   10  2.010187408119907E-02   4.34900561E-04\n",
      "    4   14  7.768295322192866E-13   5.68900901E-12\n",
      "tnc: fscale = 419258\n",
      "tnc: |fn-fn-1] = 7.69578e-13 -> convergence\n",
      "    5   17  7.251137279795238E-15   1.94055156E-15\n",
      "tnc: Converged (|f_n-f_(n-1)| ~= 0)\n",
      "  NIT   NF   F                       GTG\n",
      "    0    1  2.551405421686908E+02   1.42366466E+03\n",
      "tnc: fscale = 0.0265031\n",
      "tnc: stepmx = 1000\n",
      "    1    5  2.599372879893821E+01   1.44597254E+02\n",
      "    2    8  8.359033238976892E-01   1.30241201E+01\n",
      "    3   12  1.806072925431824E-02   1.71868985E-04\n",
      "tnc: fscale = 76.2783\n",
      "    4   17  1.125626370062028E-02   2.34889413E-03\n",
      "    5   20  8.793202140527832E-03   1.63731339E-03\n",
      "    6   25  1.782219933957005E-14   3.68373813E-14\n",
      "tnc: |pg| = 2.51619e-09 -> local minimum\n",
      "    6   25  1.782219933957005E-14   3.68373813E-14\n",
      "tnc: Local minima reach (|pg| ~= 0)\n",
      "  NIT   NF   F                       GTG\n",
      "    0    1  2.129920308448484E+02   9.95085411E+02\n",
      "tnc: fscale = 0.0317008\n",
      "tnc: stepmx = 1000\n",
      "    1    5  2.168246568278617E+01   1.01082522E+02\n",
      "    2    9  4.437399555390018E-02   4.20073268E-04\n",
      "tnc: fscale = 48.7907\n",
      "    3   12  4.170649578582685E-02   2.29079794E-04\n",
      "    4   17  2.255604170352529E-02   3.45425368E-05\n",
      "    5   22  4.154649588482960E-08   1.98106805E-09\n",
      "tnc: fscale = 22467.3\n",
      "    6   27  3.752385453640668E-09   3.82265648E-10\n",
      "tnc: |fn-fn-1] = 1.97583e-09 -> convergence\n",
      "    7   31  1.776556451236007E-09   3.98480373E-12\n",
      "tnc: Converged (|f_n-f_(n-1)| ~= 0)\n",
      "  NIT   NF   F                       GTG\n",
      "    0    1  1.980211688420880E+02   8.44625484E+02\n",
      "tnc: fscale = 0.0344087\n",
      "tnc: stepmx = 1000\n",
      "    1    5  2.399572816626212E+01   9.74627974E+01\n",
      "    2    9  1.174398708385817E+00   1.35066550E-01\n",
      "tnc: fscale = 2.72098\n",
      "    3   12  6.144732983939606E-01   1.29481131E-01\n",
      "    4   17  9.641647603601376E-02   3.62681485E-05\n",
      "tnc: fscale = 166.049\n",
      "    5   22  7.589533325255102E-03   5.79471046E-04\n",
      "    6   27  2.664630010374808E-03   1.85899192E-03\n",
      "    7   30  1.055509578545838E-03   5.95603340E-04\n",
      "    8   35  9.045660752280851E-05   1.61439769E-07\n",
      "    9   40  8.409219614160446E-05   1.24803221E-06\n",
      "   10   45  7.379364142949290E-05   7.82594619E-07\n",
      "   11   50  3.419796040307423E-07   4.13022487E-08\n",
      "tnc: fscale = 4920.54\n",
      "   12   55  2.850109073281755E-07   1.39369521E-09\n",
      "   13   60  2.576959824643320E-07   1.12481145E-10\n",
      "   14   65  2.604253042169004E-08   1.12996954E-08\n",
      "tnc: |fn-fn-1] = 1.45295e-09 -> convergence\n",
      "   15   68  2.458958466115077E-08   8.65424793E-11\n",
      "tnc: Converged (|f_n-f_(n-1)| ~= 0)\n",
      "  NIT   NF   F                       GTG\n",
      "    0    1  1.736956452372186E+02   6.41147653E+02\n",
      "tnc: fscale = 0.0394931\n",
      "tnc: stepmx = 1000\n",
      "    1    5  2.125405320484283E+01   7.38994069E+01\n",
      "    2    9  1.153618601998897E+00   7.80527663E-02\n",
      "tnc: fscale = 3.57936\n",
      "    3   13  6.549098580262942E-01   2.15277353E-01\n",
      "    4   18  9.260160672356921E-02   1.59060200E-05\n",
      "tnc: fscale = 250.737\n",
      "    5   23  7.325646614103909E-02   6.98565175E-04\n",
      "    6   26  7.247420789853287E-02   8.60466777E-04\n",
      "    7   31  7.133083146085548E-02   1.66181673E-06\n",
      "    8   36  7.107184737395578E-02   1.83815628E-04\n",
      "    9   41  6.829512350460369E-02   1.89648836E-03\n",
      "   10   45  6.662917005521325E-02   7.95748255E-04\n",
      "   11   50  4.467688235140916E-02   7.13192774E-03\n",
      "tnc: fscale = 11.8412\n",
      "   12   54  3.046601420813417E-02   4.01238473E-04\n",
      "   13   59  2.864864055557609E-02   7.95333402E-07\n",
      "tnc: fscale = 1121.31\n",
      "   14   64  2.695600937839624E-02   4.80800914E-05\n",
      "   15   69  2.674617635166040E-02   4.63891747E-05\n",
      "   16   74  2.639066929568211E-02   3.73342945E-06\n",
      "   17   79  2.577230108023736E-02   3.83641813E-04\n",
      "tnc: fscale = 51.0549\n",
      "   18   84  2.526821198702025E-02   3.50409806E-06\n",
      "   19   89  2.504110613719051E-02   7.90991694E-06\n",
      "   20   94  2.379519582243374E-02   9.66576617E-07\n",
      "   21   99  2.314921803817303E-02   4.81007933E-04\n",
      "   21  100  2.314921803817303E-02   4.81007933E-04\n",
      "tnc: Maximum number of function evaluations reached\n",
      "  NIT   NF   F                       GTG\n",
      "    0    1  1.551732893269092E+02   5.20573001E+02\n",
      "tnc: fscale = 0.0438288\n",
      "tnc: stepmx = 1000\n",
      "    1    5  1.879046348873776E+01   5.88537701E+01\n",
      "    2    9  1.287834850289820E+00   4.42346373E-02\n",
      "tnc: fscale = 4.75465\n",
      "    3   14  3.840606557142960E-01   5.24975784E-02\n",
      "    4   17  3.507946952777221E-01   3.08278177E-02\n",
      "    5   21  3.370801480957730E-01   5.67166376E-03\n",
      "    6   26  2.157087389617673E-01   2.02302710E-05\n",
      "tnc: fscale = 222.331\n",
      "    7   31  1.808220569795770E-01   3.72973354E-04\n",
      "    8   36  1.713756990967240E-01   3.00826275E-04\n",
      "    9   41  1.322741459417339E-01   1.14323755E-03\n",
      "   10   44  1.318574790818631E-01   4.91682518E-05\n",
      "   11   49  9.588333429798784E-02   1.45028826E-03\n",
      "   12   52  1.507531924042779E-02   2.98566099E-03\n",
      "   13   55  1.364124740165098E-02   4.29820379E-04\n",
      "   14   59  1.276068235345917E-02   1.05017976E-04\n",
      "   15   64  8.134169388773588E-03   1.33125679E-05\n",
      "   16   69  4.650620079101465E-03   2.11406974E-04\n",
      "   17   72  4.551083159460580E-03   2.98620799E-05\n",
      "   18   77  4.371290721700817E-03   1.94248217E-05\n",
      "   19   82  2.562068503389958E-03   3.49933292E-05\n",
      "   20   87  1.602481071139274E-03   1.05398373E-04\n",
      "   21   90  1.475495089375143E-03   1.79838420E-04\n",
      "   22   95  8.976244196047843E-04   5.17794309E-05\n",
      "   23   99  7.964090819010737E-04   1.65624985E-05\n",
      "   23  100  7.964090819010737E-04   1.65624985E-05\n",
      "tnc: Maximum number of function evaluations reached\n",
      "  NIT   NF   F                       GTG\n",
      "    0    1  1.403522363960774E+02   3.97283047E+02\n",
      "tnc: stepmx = 1000\n",
      "    1    5  1.734734327635888E+01   4.57056724E+01\n",
      "    2    8  1.486893802049933E+00   5.16324618E-01\n",
      "    3   11  1.232644792793144E+00   6.54596410E-02\n",
      "    4   16  2.453887016301307E-01   5.14648056E-04\n",
      "tnc: fscale = 44.0803\n",
      "    5   21  2.125254730079080E-01   3.73254666E-04\n",
      "    6   24  2.064195332825271E-01   9.97847715E-03\n",
      "    7   29  1.964922886733702E-01   7.17633932E-04\n",
      "    8   34  1.427447740076065E-01   2.21461329E-03\n",
      "    9   39  1.369747266019205E-01   1.51474453E-03\n",
      "   10   42  1.360647076377946E-01   2.72273399E-04\n",
      "   11   47  1.340501098922676E-01   7.75467546E-05\n",
      "   12   52  8.867465730616113E-02   3.04334056E-04\n",
      "   13   57  7.469943222383765E-02   4.28543074E-03\n",
      "   14   60  7.063386028363162E-02   6.97034656E-03\n",
      "   15   64  6.488092967396521E-02   6.60538031E-04\n",
      "   16   69  4.278770513936826E-02   6.69714785E-05\n",
      "   17   74  4.263405291923206E-02   5.13223819E-05\n",
      "   18   79  4.245216897903668E-02   4.34493955E-07\n",
      "tnc: fscale = 1517.08\n",
      "   19   84  4.236331848344407E-02   1.96882469E-05\n",
      "   20   87  4.235192496296238E-02   1.01278690E-05\n",
      "   21   92  4.230847343947722E-02   1.16782020E-06\n",
      "   22   97  4.229083505487057E-02   3.78839697E-05\n",
      "   23  100  4.221284817941882E-02   4.42245239E-05\n",
      "   23  100  4.221284817941882E-02   4.42245239E-05\n",
      "tnc: Maximum number of function evaluations reached\n",
      "  NIT   NF   F                       GTG\n",
      "    0    1  1.302375412493010E+02   3.50658098E+02\n",
      "tnc: stepmx = 1000\n",
      "    1    5  1.620108410630277E+01   4.07473115E+01\n",
      "    2    9  1.125991388251565E+00   4.10829956E-02\n",
      "    3   14  3.210550963680109E-01   6.11753311E-04\n",
      "tnc: fscale = 40.4308\n",
      "    4   17  2.771572909022043E-01   2.24315433E-02\n",
      "    5   22  2.411220898722064E-01   5.71378110E-04\n",
      "    6   26  2.261882143278144E-01   7.18947671E-05\n",
      "    7   31  2.091083309227110E-01   2.27115366E-02\n",
      "    8   34  1.833399553087384E-01   1.26092088E-02\n",
      "    9   38  1.637207177682239E-01   7.11965559E-05\n",
      "   10   43  1.219904947804151E-01   3.41753249E-03\n",
      "   11   48  1.009076501311828E-01   1.51370183E-03\n",
      "   12   51  1.000595703813081E-01   6.87014645E-04\n",
      "   13   56  8.937988831439179E-02   4.59928140E-04\n",
      "   14   61  8.528146259965168E-02   4.08330343E-04\n",
      "   15   66  6.950809523038094E-02   1.96013091E-04\n",
      "   16   70  6.904873532523380E-02   4.37667276E-05\n",
      "   17   75  5.992590026484004E-02   2.14827802E-04\n",
      "   18   80  5.376354863536020E-02   4.83204884E-06\n",
      "   19   85  5.343871519974605E-02   5.35083531E-04\n",
      "   20   88  5.281987118827312E-02   1.50767055E-04\n",
      "   21   93  5.210679760805133E-02   1.24859383E-05\n",
      "   22   98  5.112616294634310E-02   6.78244037E-04\n",
      "   23  100  5.038282812072969E-02   1.92721289E-04\n",
      "   23  100  5.038282812072969E-02   1.92721289E-04\n",
      "tnc: Maximum number of function evaluations reached\n",
      "  NIT   NF   F                       GTG\n",
      "    0    1  1.409541208805539E+02   4.02918651E+02\n",
      "tnc: fscale = 0.0498186\n",
      "tnc: stepmx = 1000\n",
      "    1    5  2.103136760115762E+01   5.40109963E+01\n",
      "    2    8  4.503724328327088E+00   6.52387346E+00\n",
      "    3   11  2.399292800153269E+00   1.50967144E-01\n",
      "tnc: fscale = 2.57371\n",
      "    4   16  4.253426279287603E-01   2.11412796E-02\n",
      "    5   21  3.617337682082891E-01   1.79245921E-02\n",
      "    6   26  2.399675720134838E-01   5.83713849E-05\n",
      "tnc: fscale = 130.888\n",
      "    7   31  2.123255060596263E-01   6.65755815E-03\n",
      "    8   36  1.981888072887859E-01   4.99842171E-04\n",
      "    9   41  1.819267940908021E-01   2.75918269E-04\n",
      "   10   46  1.762818930266778E-01   4.09997225E-05\n",
      "   11   51  1.715018725634008E-01   6.43228883E-03\n",
      "   12   56  5.079400081743683E-02   2.05429314E-04\n",
      "   13   61  4.799006965689790E-02   1.27079794E-04\n",
      "   14   64  4.780891367982034E-02   1.39482743E-04\n",
      "   15   68  4.773559070304020E-02   1.02215663E-05\n",
      "   16   73  4.719382972006853E-02   3.63744785E-07\n",
      "   17   78  4.707977562309996E-02   1.99412030E-05\n",
      "   18   83  4.685760612979762E-02   1.52820221E-04\n",
      "   19   86  4.666916053258754E-02   4.09764647E-04\n",
      "   20   91  3.595919235559101E-02   4.85742647E-03\n",
      "   21   95  3.084771600211283E-02   5.63585249E-05\n",
      "   22  100  3.036743199111623E-02   2.44521727E-04\n",
      "   22  100  3.036743199111623E-02   2.44521727E-04\n",
      "tnc: Maximum number of function evaluations reached\n"
     ]
    }
   ],
   "source": [
    "#Curva de aprendizaje lAMBDA = 0\n",
    "Lambda = 0.0\n",
    "X_1 = np.hstack((np.ones_like(y), X_poly))\n",
    "Xval_1 = np.hstack((np.ones_like(yval), X_poly_val))\n",
    "J_train, J_val = curva_aprendizaje_poli(X_poly, y, X_poly_val, yval, Lambda)\n",
    "#J_train, J_val = curva_aprendizaje_poli(X_1, y, Xval_1, yval, Lambda)"
   ]
  },
  {
   "cell_type": "code",
<<<<<<< HEAD
   "execution_count": 601,
=======
   "execution_count": 115,
>>>>>>> 3eb6f8702efc265325c06535636ea2613323568e
   "id": "345610df",
   "metadata": {},
   "outputs": [
    {
     "data": {
<<<<<<< HEAD
      "image/png": "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\n",
=======
      "image/png": "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\n",
>>>>>>> 3eb6f8702efc265325c06535636ea2613323568e
      "text/plain": [
       "<Figure size 432x288 with 1 Axes>"
      ]
     },
     "metadata": {
      "needs_background": "light"
     },
     "output_type": "display_data"
    }
   ],
   "source": [
    "plt.figure()\n",
    "plt.plot(range(1, len(X)+1), J_train, range(1, len(X)+1), J_val)\n",
    "plt.title('Learning curve for linear regression ($\\lambda = 0$)')\n",
    "plt.legend(['Train', 'Cross Validation'])\n",
    "plt.xlabel('Number of training examples')\n",
    "plt.ylabel('Error')\n",
    "plt.savefig('learning curve (lambda = 0).pdf')\n",
    "plt.show()\n",
    "\n",
    "plt.close()"
   ]
  },
  {
   "cell_type": "code",
<<<<<<< HEAD
   "execution_count": 602,
=======
   "execution_count": 116,
>>>>>>> 3eb6f8702efc265325c06535636ea2613323568e
   "id": "c118638c",
   "metadata": {},
   "outputs": [
    {
     "name": "stderr",
     "output_type": "stream",
     "text": [
      "  NIT   NF   F                       GTG\n",
      "    0    1  2.277640669568327E+00   1.47604740E+01\n",
      "    1   32  1.138817912057921E+00   3.69009036E+00\n",
      "tnc: |fn-fn-1] = 0 -> convergence\n",
      "    2   85  1.138817912057921E+00   3.69009036E+00\n",
      "tnc: Converged (|f_n-f_(n-1)| ~= 0)\n",
      "  NIT   NF   F                       GTG\n",
      "    0    1  1.482953143345821E+00   7.23898367E+00\n",
      "    1    4  3.315282233067600E-01   1.14208888E-03\n",
      "tnc: fscale = 29.5903\n",
      "    1   56  3.315282233067600E-01   1.14208888E-03\n",
      "tnc: Linear search failed\n",
      "  NIT   NF   F                       GTG\n",
      "    0    1  1.977466993755966E+02   9.20117439E+02\n",
      "tnc: fscale = 0.0329669\n",
      "tnc: stepmx = 1000\n",
      "    1    4  2.823162479701186E+01   4.13346221E+01\n",
      "    2    7  2.811269456140594E+01   5.20008833E-01\n",
      "tnc: fscale = 1.38674\n",
      "    2   60  2.811269456140594E+01   5.20008833E-01\n",
      "tnc: Linear search failed\n",
      "  NIT   NF   F                       GTG\n",
      "    0    1  3.179393921121576E+02   2.38822545E+03\n",
      "tnc: fscale = 0.0204627\n",
      "tnc: stepmx = 1000\n",
      "    1    4  3.067873713700076E+01   1.17223327E+02\n",
      "    2    7  2.138725478800979E+01   2.08332292E-01\n",
      "tnc: fscale = 2.1909\n",
      "    2   59  2.138725478800979E+01   2.08332292E-01\n",
      "tnc: Linear search failed\n",
      "  NIT   NF   F                       GTG\n",
      "    0    1  2.551405421686908E+02   1.42366466E+03\n",
      "tnc: fscale = 0.0265031\n",
      "tnc: stepmx = 1000\n",
      "    1    5  3.688296994643439E+01   1.37171533E+02\n",
      "    2    8  2.411842467155281E+01   1.96832621E+01\n",
      "    3   12  2.208716942810263E+01   1.97000264E-04\n",
      "tnc: fscale = 71.247\n",
      "    4   15  2.208523836326998E+01   9.70252037E-05\n",
      "    4   54  2.208523836326998E+01   9.70252037E-05\n",
      "tnc: Linear search failed\n",
      "  NIT   NF   F                       GTG\n",
      "    0    1  2.129920308448484E+02   9.95085411E+02\n",
      "tnc: fscale = 0.0317008\n",
      "tnc: stepmx = 1000\n",
      "    1    5  3.064377277722645E+01   9.37099621E+01\n",
      "    2    9  1.771854822469347E+01   4.41724916E-03\n",
      "tnc: fscale = 15.0461\n",
      "    2   57  1.771854822469347E+01   4.41724916E-03\n",
      "tnc: Linear search failed\n",
      "  NIT   NF   F                       GTG\n",
      "    0    1  1.980211688420880E+02   8.44625484E+02\n",
      "tnc: fscale = 0.0344087\n",
      "tnc: stepmx = 1000\n",
      "    1    5  3.173088466697290E+01   9.06575432E+01\n",
      "    2    9  1.724105498525288E+01   1.03305274E-01\n",
      "tnc: fscale = 3.11128\n",
      "    3   35  1.715601797950006E+01   3.05053568E-02\n",
      "    3   84  1.715601797950006E+01   3.05053568E-02\n",
      "tnc: Linear search failed\n",
      "  NIT   NF   F                       GTG\n",
      "    0    1  1.736956452372186E+02   6.41147653E+02\n",
      "tnc: fscale = 0.0394931\n",
      "tnc: stepmx = 1000\n",
      "    1    5  2.796709430069469E+01   6.77600668E+01\n",
      "    2    9  1.522286215037610E+01   7.61578249E-02\n",
      "tnc: fscale = 3.62362\n",
      "    3   36  1.521336079694003E+01   3.05649869E-02\n",
      "    4   66  1.521220621630814E+01   2.34209015E-02\n",
      "    4  100  1.521220621630814E+01   2.34209015E-02\n",
      "tnc: Maximum number of function evaluations reached\n",
      "  NIT   NF   F                       GTG\n",
      "    0    1  1.551732893269092E+02   5.20573001E+02\n",
      "tnc: fscale = 0.0438288\n",
      "tnc: stepmx = 1000\n",
      "    1    5  2.468625688133451E+01   5.27563092E+01\n",
      "    2    9  1.354824048880164E+01   3.80826980E-02\n",
      "tnc: fscale = 5.12432\n",
      "    3   12  1.346521242392641E+01   9.16937087E-02\n",
      "    3   58  1.346521242392641E+01   9.16937087E-02\n",
      "tnc: Linear search failed\n",
      "  NIT   NF   F                       GTG\n",
      "    0    1  1.403522363960774E+02   3.97283047E+02\n",
      "tnc: stepmx = 1000\n",
      "    1    5  2.265627060096184E+01   4.04789215E+01\n",
      "    2    8  1.280163902709342E+01   3.41751923E-01\n",
      "    3   11  1.230240177474514E+01   6.24199638E-02\n",
      "    4   39  1.227019983553852E+01   1.56196641E-02\n",
      "tnc: |fn-fn-1] = 0 -> convergence\n",
      "    5   86  1.227019983553852E+01   1.56196641E-02\n",
      "tnc: Converged (|f_n-f_(n-1)| ~= 0)\n",
      "  NIT   NF   F                       GTG\n",
      "    0    1  1.302375412493010E+02   3.50658098E+02\n",
      "tnc: stepmx = 1000\n",
      "    1    5  2.096913221020726E+01   3.55704041E+01\n",
      "    2    9  1.120929174836149E+01   2.96031309E-02\n",
      "    3   37  1.120795637460862E+01   2.37073513E-02\n",
      "    4   40  1.120125862621722E+01   9.49312246E-03\n",
      "    5   44  1.117689694728486E+01   2.97514700E-05\n",
      "tnc: fscale = 183.335\n",
      "    5   85  1.117689694728486E+01   2.97514700E-05\n",
      "tnc: Linear search failed\n",
      "  NIT   NF   F                       GTG\n",
      "    0    1  1.409541208805539E+02   4.02918651E+02\n",
      "tnc: fscale = 0.0498186\n",
      "tnc: stepmx = 1000\n",
      "    1    5  2.533313648688077E+01   4.76026348E+01\n",
      "    2    9  1.245546820960711E+01   9.86328848E-02\n",
      "tnc: fscale = 3.18412\n",
      "    3   13  1.208636779284133E+01   9.96303265E-03\n",
      "    4   16  1.207504770467437E+01   7.71807382E-03\n",
      "    5   20  1.207002171521019E+01   2.82245648E-05\n",
      "tnc: fscale = 188.229\n",
      "    5   57  1.207002171521019E+01   2.82245648E-05\n",
      "tnc: Linear search failed\n"
     ]
    }
   ],
   "source": [
    "#Curva de aprendizaje lAMBDA = 1\n",
    "Lambda = 1.0\n",
    "J_train, J_val = curva_aprendizaje_poli(X_poly, y, X_poly_val, yval, Lambda)\n",
    "#J_train, J_val = curva_aprendizaje_poli(X_1, y, Xval_1, yval, Lambda)"
   ]
  },
  {
   "cell_type": "code",
<<<<<<< HEAD
   "execution_count": 603,
=======
   "execution_count": 117,
>>>>>>> 3eb6f8702efc265325c06535636ea2613323568e
   "id": "a2ed2d3f",
   "metadata": {},
   "outputs": [
    {
     "data": {
<<<<<<< HEAD
      "image/png": "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\n",
=======
      "image/png": "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\n",
>>>>>>> 3eb6f8702efc265325c06535636ea2613323568e
      "text/plain": [
       "<Figure size 432x288 with 1 Axes>"
      ]
     },
     "metadata": {
      "needs_background": "light"
     },
     "output_type": "display_data"
    }
   ],
   "source": [
    "plt.figure()\n",
    "plt.plot(range(1, len(X)+1), J_train, range(1, len(X)+1), J_val)\n",
    "plt.title('Learning curve for linear regression ($\\lambda = 1$)')\n",
    "plt.legend(['Train', 'Cross Validation'])\n",
    "plt.xlabel('Number of training examples')\n",
    "plt.ylabel('Error')\n",
    "plt.savefig('learning curve (lambda = 0).pdf')\n",
    "plt.show()\n",
    "\n",
    "plt.close()"
   ]
  },
  {
   "cell_type": "code",
<<<<<<< HEAD
   "execution_count": 604,
=======
   "execution_count": 118,
>>>>>>> 3eb6f8702efc265325c06535636ea2613323568e
   "id": "a9562b3e",
   "metadata": {},
   "outputs": [
    {
     "name": "stderr",
     "output_type": "stream",
     "text": [
      "  NIT   NF   F                       GTG\n",
      "    0    1  2.277640669568327E+00   1.47604740E+01\n",
      "    1   37  2.262626924679278E+00   1.43028128E+01\n",
      "    1   91  2.262626924679278E+00   1.43028128E+01\n",
      "tnc: Linear search failed\n",
      "  NIT   NF   F                       GTG\n",
      "    0    1  1.482953143345821E+00   7.23898367E+00\n",
      "    1   36  1.464405204635858E+00   6.79361651E+00\n",
      "    1   90  1.464405204635858E+00   6.79361651E+00\n",
      "tnc: Linear search failed\n",
      "  NIT   NF   F                       GTG\n",
      "    0    1  1.977466993755966E+02   9.20117439E+02\n",
      "tnc: fscale = 0.0329669\n",
      "    1   38  1.940758442573272E+02   8.28400658E+02\n",
      "    1   92  1.940758442573272E+02   8.28400658E+02\n",
      "tnc: Linear search failed\n",
      "  NIT   NF   F                       GTG\n",
      "    0    1  3.179393921121576E+02   2.38822545E+03\n",
      "tnc: fscale = 0.0204627\n",
      "    1   38  3.078458636190625E+02   2.04665428E+03\n",
      "tnc: |fn-fn-1] = 0 -> convergence\n",
      "    2   92  3.078458636190625E+02   2.04665428E+03\n",
      "tnc: Converged (|f_n-f_(n-1)| ~= 0)\n",
      "  NIT   NF   F                       GTG\n",
      "    0    1  2.551405421686908E+02   1.42366466E+03\n",
      "tnc: fscale = 0.0265031\n",
      "    1   38  2.459263893475572E+02   1.19832315E+03\n",
      "    1   92  2.459263893475572E+02   1.19832315E+03\n",
      "tnc: Linear search failed\n",
      "  NIT   NF   F                       GTG\n",
      "    0    1  2.129920308448484E+02   9.95085411E+02\n",
      "tnc: fscale = 0.0317008\n",
      "    1   38  2.045291806653291E+02   8.12235252E+02\n",
      "tnc: |fn-fn-1] = 5.60351e-14 -> convergence\n",
      "    2   92  2.045291806653291E+02   8.12235252E+02\n",
      "tnc: Converged (|f_n-f_(n-1)| ~= 0)\n",
      "  NIT   NF   F                       GTG\n",
      "    0    1  1.980211688420880E+02   8.44625484E+02\n",
      "tnc: fscale = 0.0344087\n",
      "    1   38  1.886706877517406E+02   6.91257008E+02\n",
      "    1   92  1.886706877517406E+02   6.91257008E+02\n",
      "tnc: Linear search failed\n",
      "  NIT   NF   F                       GTG\n",
      "    0    1  1.736956452372186E+02   6.41147653E+02\n",
      "tnc: fscale = 0.0394931\n",
      "    1   38  1.650986742743762E+02   5.15134331E+02\n",
      "    1   92  1.650986742743762E+02   5.15134331E+02\n",
      "tnc: Linear search failed\n",
      "  NIT   NF   F                       GTG\n",
      "    0    1  1.551732893269092E+02   5.20573001E+02\n",
      "tnc: fscale = 0.0438288\n",
      "    1   38  1.471210795021145E+02   4.10307340E+02\n",
      "tnc: |fn-fn-1] = 0 -> convergence\n",
      "    2   92  1.471210795021145E+02   4.10307340E+02\n",
      "tnc: Converged (|f_n-f_(n-1)| ~= 0)\n",
      "  NIT   NF   F                       GTG\n",
      "    0    1  1.403522363960774E+02   3.97283047E+02\n",
      "    1   38  1.328428815019450E+02   3.10239564E+02\n",
      "tnc: |fn-fn-1] = 0 -> convergence\n",
      "    2   92  1.328428815019450E+02   3.10239564E+02\n",
      "tnc: Converged (|f_n-f_(n-1)| ~= 0)\n",
      "  NIT   NF   F                       GTG\n",
      "    0    1  1.302375412493010E+02   3.50658098E+02\n",
      "    1   38  1.227137265053717E+02   2.71497511E+02\n",
      "    1   92  1.227137265053717E+02   2.71497511E+02\n",
      "tnc: Linear search failed\n",
      "  NIT   NF   F                       GTG\n",
      "    0    1  1.409541208805539E+02   4.02918651E+02\n",
      "tnc: fscale = 0.0498186\n",
      "    1   37  1.370656197692545E+02   2.44552007E+02\n",
      "    1   91  1.370656197692545E+02   2.44552007E+02\n",
      "tnc: Linear search failed\n"
     ]
    }
   ],
   "source": [
    "#Curva de aprendizaje lAMBDA = 100\n",
    "Lambda = 100.0\n",
    "J_train, J_val = curva_aprendizaje_poli(X_poly, y, X_poly_val, yval, Lambda)\n",
    "#J_train, J_val = curva_aprendizaje_poli(X_1, y, Xval_1, yval, Lambda)"
   ]
  },
  {
   "cell_type": "code",
<<<<<<< HEAD
   "execution_count": 605,
=======
   "execution_count": 119,
>>>>>>> 3eb6f8702efc265325c06535636ea2613323568e
   "id": "0adf3e81",
   "metadata": {},
   "outputs": [
    {
     "data": {
<<<<<<< HEAD
      "image/png": "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\n",
=======
      "image/png": "iVBORw0KGgoAAAANSUhEUgAAAYUAAAEYCAYAAACz2+rVAAAAOXRFWHRTb2Z0d2FyZQBNYXRwbG90bGliIHZlcnNpb24zLjQuMywgaHR0cHM6Ly9tYXRwbG90bGliLm9yZy/MnkTPAAAACXBIWXMAAAsTAAALEwEAmpwYAAA+uElEQVR4nO3deXhU5dn48e+dhYQlLCEJhAQIm6yBgBFZXAD3peBGFRfULtaqr7bWvRu11R9WW1tbW1/1rajVIqKoKNYqgksFgQQIqywCISTsSdiz3r8/zkkYwmQBZuZMkvtzXXPNmeds95lJ5p7nPOd5jqgqxhhjDECE1wEYY4wJH5YUjDHGVLOkYIwxppolBWOMMdUsKRhjjKlmScEYY0w1SwrGGGOqWVIwxhhTzZJCEyAiq0RkjNdxhIqI9BWRpSKyX0TuDtA2N4vI+e50s3o/AymY752I/D8R+Ukwth0qIrJIRAZ6HUddLCmcIt8vE6+o6kBVne9lDCH2ADBfVeNU9ZlAb7wZvp8BE6z3TkQSgcnA/9YoXyMieYH8ohWRu0RkiYiUiMi0GvPiRWSWiBwUkS0icv2JzAeeAh4NVKzBYEkhzIlIlNcxnKogHEN3YFWYxBIQ9cUV6LjD9X2owy3AHFU9XKN8ELAOuDqA+8oHfgf8w8+8Z4FSoBNwA/D3GgmpvvnvAWNFJDmA8QaUJYUgEZEuIvKWiOwSkU01T3OIyEMistE9BbJaRK70mbdZRB4UkRzgoIhEuWX3iUiOiBSLyBsiEuuz/Pk11q9t2WE+p17edOf9ro7j6Coib7vHsUdE/uqWq4j09llumu92/BzDL0RkZo1t/1lEnmnI++WzzqfAWOCvInJARE4Tkf4iMl9EitzTF+NrrHPc+1nb8dZ8P+t6L+uLu67PuCFx1fJ3UN/fVa2f70lu70ER2eZu7xsROa+ect/3riGfS63vbQ2XAJ/VLFTVCuBLYEgt650wVX1bVd8B9tSItzVO8vmlqh5Q1S9xvuRvash8d9tHgCzgwkDFG3Cqao9TeACbgfNrlEXgfPC/AloAPYFvgYt8lpkIdHGXvRY4CCT7bHMZ0BVo6VO2yF0nHlgD3O4vhtqWdWPZAtwDRANX4fyq+V0txxYJLAeeBloDscBZ7jwFevssO813OzWPAefX/SGgrc+2C4ARDXm/asQ1H/iBOx0NbAAecdcdB+wH+tYWS32fo5/p2t73OuOu6zNuSFx+3sP69lfn53sS2+sLbAW6uK/TgF61lfu+dyfwufh9b/28F7uAM/yUt8SpKayvZb33gaJaHu/X87/9O2Caz+uhwOEay9wHzG7IfJ+yZ4A/ev3dVdvDagrBcQaQqKqPqmqpqn4LvABcV7WAqr6pqvmqWqmqbwDrgeE+23hGVbfqsdXlZ9x19gKzgYw6YvC37Aggyp1Xpqpv4/xT1mY4zj/s/ap6UFWPqPPrp6Gqj0FVtwDZwBXuvHHAIVVdSAPerzqMANoAU911P8X5IphUWywnEL/vuv7e9zrjbsBn3JC4fOfX9z415PM9ke1VADHAABGJVtXNqrqxjnJfJ/K5NORvuj1OUqnpMWAb0EtE2tScqaqXq2r7Wh6X17Kv2rQBimuUFQNxDZxfZT/O8YSlxnZesbHoDnQRkSKfskjgi6oXIjIZuBfnVxY4f1AJPstv9bPd7T7Th3C+sGvjb9kuwDZ1f67UsZ8qXYEtqlpexzJ1qbnt13G+FF4BrndfQwPerzp0AbaqaqVP2RYgpZ5YTkRt73udcTfgM25IXL7z63ufGvL5Nnh7qrpBnKt9pgADReQj4N46yvN9ttPQz6Whf9OF1PhyFZGRwHeBwcBGnPaFhbWsHwgHgLY1ytpyNFnVN79KHE5NJSxZTSE4tgKbavwqiVPVSwFEpDvOL7K7gI6q2h5YCYjPNoJxo4sCIEVEfPfTtY7ltwLdajkHfwho5fO6s59lah7Dm8AYEUkFruRoUqjz/apHPtBVRHz/lrvh/HqsK5ZAqDXuBn7GDYmr5hd8Xe9TQz7fE9keqvq6qp6Fk0AUeKKuch8N/VwaKgc4reqF2/bwD5zTTXtxTnMe164gIh+6bU/+Hh+eYAzrgCgR6eNTNoSjFz3UN79KfzfesGRJITCiRSS26oFzmmSf2xjXUkQiRWSQiJzhLt8a5x9pF4CI3IrzKyfYFuBU/e9yGxkncPzpDF+LcL5opopIa/f4RrvzlgHXu8d2MXBufTtX1V047QEv4XwZrfHZT13vV12+xjlX/4CIRItzjfx3gOkNWPdU1RV3MD7j+t6nk/l8a92eOP1BxolIDHAEOAxU1FZeY9uB/lzmcOzf2KPAAlV93329DKfGcAxVvURV29TyuMTfjtz3Lhan1hTp/t1HqepB4G3gUff/YTQwAXjV3Ved891txwCnAx+f5PsQdJYUAmMOzj9G1eOXOP8AGcAmYDfwItAOQFVXA3/A+SfeAaQD/w12kKpaitP4+H2c6uuNOOd5S2pZvgLnOHoDuUAeToMpOI2Z33G3cwPwTgPDeB2nIbKqluC7nwz8vF8NOKbxOFen7Ab+BkxW1bUNjOek1RV3MD7j+t6nU/h8/W4Pp91gqlu+HUjCaTiurdx324H+XF4BLnWT13CcRvyf+sxfRuCuQPoFzv/xQzjv4WG3DOAOnMbtncC/gB+rqm9NoL7543H62PieagsrcuzpR9PciMjXwHOq+pLXsZjAa0qfr4g8DuxU1T95HcvJcj+P76vqSq9jqY0lhWZGRM4FvsH59XYD8BzQU1ULPA3MBIR9vuZU2dVHzU9fYAbOlTAbgWvsC6NJsc/XnBKrKRhjjKlmDc3GGGOqNerTRwkJCZqWluZ1GMYY06hkZWXtVtVEf/MadVJIS0tjyZIlXodhjDGNiohsqW2enT4yxhhTzZKCMcaYapYUjDHGVGvUbQrGmMArKysjLy+PI0eOeB2KOUWxsbGkpqYSHR3d4HUsKRhjjpGXl0dcXBxpaWkcO+CqaUxUlT179pCXl0ePHj0avJ6dPjLGHOPIkSN07NjREkIjJyJ07NjxhGt8lhSMMcexhNA0nMznaEnBnJKyikr+uXAL+4+UeR2KMSYALCmYUzJnRQG/eGclv3wnbEcCNo3Mnj17yMjIICMjg86dO5OSklL9urS0tM51lyxZwt133x2iSJsma2g2p2RmVh4RAu8sy+f8AZ24fHBdt402pn4dO3Zk2bJlAEyZMoU2bdpw3333Vc8vLy8nKsr/V1dmZiaZmZmhCLPJClpNwb2F3SIRWS4iq0TkN255vIh8LCLr3ecOPus8LCIbROQbEbkoWLGZwMgvOsyXG3bz4zG9GNK1PT+ftZId++wyRhN4t9xyC/feey9jx47lwQcfZNGiRYwaNYqhQ4cyatQovvnmGwDmz5/P5ZdfDjgJ5Xvf+x5jxoyhZ8+ePPPMM14eQqMRzJpCCTBOVQ+ISDTwpXuj7KuAuao6VUQewrnl3YMiMgC4DhgIdAE+EZHT3FsGmjA0a+k2VOHazG5cPSyVS5/5gvtn5vDyrWdYQ2UT8ZvZq1idvy+g2xzQpS2//s7AE15v3bp1fPLJJ0RGRrJv3z4+//xzoqKi+OSTT3jkkUd46623jltn7dq1zJs3j/3799O3b19+/OMfn9A1+81R0JKCOjdqOOC+jHYfinMj6zFu+cs4N3J/0C2frqolwCYR2YBz0/EFwYrRnDxV5c0lWzmzRzzdOrYC4JFL+/Ord1fxz69zuWlEd48jNE3NxIkTiYyMBKC4uJibb76Z9evXIyKUlfm/0OGyyy4jJiaGmJgYkpKS2LFjB6mpqaEMu9EJapuCiEQCWTg3fn9WVb8WkU5Vd4JS1QIRSXIXTwEW+qye55bV3OZtwG0A3bp1C2b4pg5ZWwrZvOcQd43rU11204jufLJmJ499sJrRvTrSM7GNhxGaQDiZX/TB0rp16+rpX/7yl4wdO5ZZs2axefNmxowZ43edmJiY6unIyEjKy8uDHWajF9Srj1S1QlUzgFRguIgMqmNxf+cbjrstnKo+r6qZqpqZmOh3OHATAm8uyaNVi0guGdS5ukxEePKawcRERfLTGcspr6j0MELTlBUXF5OS4vxmnDZtmrfBNDEhuSRVVYtwThNdDOwQkWQA93mnu1ge0NVntVQgPxTxmRNzqLScD1YUcFl6Mq1jjq1sdmoby++uGMTyrUX8bf5GjyI0Td0DDzzAww8/zOjRo6mosGbHQAraPZpFJBEoU9UiEWkJ/Ad4AjgX2OPT0Byvqg+IyEDgdZx2hC7AXKBPXQ3NmZmZajfZCb23s/O4d8Zy3rhtBGf27Oh3mXumL+X9nAJm3TGKwantQxugOSVr1qyhf//+XodhAsTf5ykiWarq99rdYNYUkoF5IpIDLAY+VtX3ganABSKyHrjAfY2qrgJmAKuBfwN32pVH4WlmVh7d4lsxvEd8rcs8On4QiW1i+OkbyzhSZh+jMY1F0JKCquao6lBVHayqg1T1Ubd8j6qep6p93Oe9Pus8pqq9VLWvqn4YrNjMydu69xBfbdzDNaen1nnZabtW0Tw1cQgbdx1k6odrQxihMeZU2DAX5oS8nb0NEbj69Pov6zurTwK3jEpj2leb+XL97hBEZ4w5VZYUTINVViozs7cyqldHUtq3bNA6D13Sj16JrbnvzeUUH7JB84wJd5YUTIN9vWkvW/ceZuLpXetf2BUbHcnT12aw+0AJv3rPBs0zJtxZUjANNjMrj7iYKC4a2Ln+hX0MTm3P3ef14d1l+cxeblcZGxPOLCmYBjlQUs6cFQVcPiSZli0iT3j9O8b0IqNre37xzkq2F9ugeaZu27dv57rrrqNXr14MGDCASy+9lHXr1gV1n9OmTWPSpEnHlO3evZvExERKSkpqXeeuu+4C4LnnnuOVV145bpnNmzczaFBd/XadZV5//fXq114OAW5JwTTInBUFHC6r4JoGNDD7ExUZwR+/O4SS8goeeCuHYPWPMY2fqnLllVcyZswYNm7cyOrVq3n88cfZsWPHMcsFutPaVVddxccff8yhQ4eqy2bOnMn48eOPGS6jNrfffjuTJ08+qX3XTAqZmZmejepqScE0yMwlefRMaM2wbh3qX7gWPRPb8PPLBvD5ul38c+GWAEZnmpJ58+YRHR3N7bffXl2WkZHB2Wefzfz58xk7dizXX3896enpHDlyhFtvvZX09HSGDh3KvHnzAFi1ahXDhw8nIyODwYMHs379eg4ePMhll13GkCFDGDRoEG+88cYx+23bti3nnHMOs2fPri6bPn06kyZNYvbs2Zx55pkMHTqU888//7gEBc5Q3U899RQAWVlZDBkyhJEjR/Lss89WL7N582bOPvtshg0bxrBhw/jqq68AeOihh/jiiy/IyMjg6aefPmYI8L1793LFFVcwePBgRowYQU5OTvX+gjE0uN1kx9Rr8+6DLNq8l/sv6nvKQ2LfeGY3Plm9g8fmrGFU7wR62aB54e3Dh2D7isBus3M6XDK11tkrV67k9NNPr3X+okWLWLlyJT169OAPf/gDACtWrGDt2rVceOGFrFu3jueee4577rmHG264gdLSUioqKpgzZw5dunThgw8+AJzxk2qaNGkSr7/+Otdeey35+fmsW7eOsWPHsm/fPhYuXIiI8OKLL/L73/++et/+3HrrrfzlL3/h3HPP5f77768uT0pK4uOPPyY2Npb169czadIklixZwtSpU3nqqad4//33Aee+EFV+/etfM3ToUN555x0+/fRTJk+eXH0TomAMDW41BVOvt7Kdu6tdPezUhxwWEX5/zWBioyO51wbNMydh+PDh9OjRA4Avv/ySm266CYB+/frRvXt31q1bx8iRI3n88cd54okn2LJlCy1btiQ9PZ1PPvmEBx98kC+++IJ27dodt+3LL7+cL7/8kn379jFjxgyuueYaIiMjycvL46KLLiI9PZ0nn3ySVatW1RpfcXExRUVFnHvuuQDV8QGUlZXxwx/+kPT0dCZOnMjq1avrPV7fYxw3bhx79uypTmhVQ4MnJCRUDw1+qqymYOpUWam8lZXHWX0S6dwuNiDbrBo0767Xl/LsvI3cc36f+lcy3qjjF32wDBw4kJkzZ9Y633cI7drapq6//nrOPPNMPvjgAy666CJefPFFxo0bR1ZWFnPmzOHhhx/mwgsv5Fe/+tUx67Vs2ZKLL76YWbNmMX36dJ5++mkA/ud//od7772X8ePHM3/+fKZMmVJrfKpaa4366aefplOnTixfvpzKykpiY+v/n/J3jFXbD8bQ4FZTMHX6auMe8ouPMPEkG5hrc/ngLlyR0YVnPl3P8q1FAd22adzGjRtHSUkJL7zwQnXZ4sWL+eyzz45b9pxzzuG1114DnDuz5ebm0rdvX7799lt69uzJ3Xffzfjx48nJySE/P59WrVpx4403ct9995Gdne13/5MmTeKPf/wjO3bsYMSIEcCxQ3W//PLLdcbfvn172rVrx5dffglQHV/VdpKTk4mIiODVV1+tbiyPi4tj//79frfne4zz588nISGBtm3b1hnDqbCkYOo0M2srbWOjuGBAp4Bv+zcTBpEUF8NPZyzjcKkNmmccIsKsWbP4+OOP6dWrFwMHDmTKlCl06dLluGXvuOMOKioqSE9P59prr2XatGnExMTwxhtvMGjQIDIyMli7di2TJ09mxYoV1Y3Pjz32GL/4xS/87v/CCy8kPz+fa6+9tvoX+ZQpU5g4cSJnn302CQkJ9R7DSy+9xJ133snIkSNp2fJo7/877riDl19+mREjRrBu3brqWs/gwYOJiopiyJAh1bWTKlOmTGHJkiUMHjyYhx56qN6kdKqCNnR2KNjQ2cG170gZZ/zuEyZmpvK7K9KDso//btjNDS9+zS2j0pgyPnzu8tWc2dDZTUs4DZ1tGrkPcgooKa/kmhMY1uJEje6dwK2jnUHzvli/K2j7McY0jCUFU6s3l2ylT1IbhqQef5VGID14cT96J7Xh/jdzbNA8YzxmScH4tXHXAbJzi+q9b0IgxEZH8vR3nUHzfvmuDZoXDhrzaWVz1Ml8jpYUjF8zs/KIjBCuHJYSkv2lp7bjnvP68N7yfN6zQfM8FRsby549eywxNHKqyp49exp02asv66dgjlNRqbydnceY0xJJigtM34SG+PGYXnz6zU5+MWsFw9PiA9YvwpyY1NRU8vLy2LXL2ngau9jYWFJTT+xycksK5jhfrN/Fjn0lTPlOYPsm1McZNC+DS//8BffPXM4r3xse9FNX5njR0dHVPYZN82Onj8xxZmbl0aFVNOf1D3zfhPr0SGjNzy/rzxfrd/OqDZpnTMhZUjDHKD5Uxn9W72BCRgotorz587jhzG6M6ZvI43PWsHHXAU9iMKa5sqRgjvFeTj6l5ZUnfd+EQBARfn+1O2jeG8sos0HzjAkZSwrmGDOXbKVf5zgGdgne2CoNkdQ2lseuSGd5XjHPztvgaSzGNCdBSwoi0lVE5onIGhFZJSL3uOVTRGSbiCxzH5f6rPOwiGwQkW9E5KJgxWb8W7djP8vzipmY2TUsGngvG5zMlUNT+MunG1hmg+YZExLBrCmUAz9T1f7ACOBOERngzntaVTPcxxwAd951wEDgYuBvInLiNwM2J21mVh5REcIVGccPPOaVKeMHkhQXw71v2KB5xoRC0JKCqhaoarY7vR9YA9TVE2oCMF1VS1R1E7ABGB6s+MyxyisqeTt7G+P6JdGxTf33ow2Vdi2jeWriEL7dfZCpH67xOhxjmryQtCmISBowFPjaLbpLRHJE5B8iUnXT3xRgq89qedSdREwAfbZuF7sPlHjawFyb0b0T+N7oHry8YAufr7MOVcYEU9CTgoi0Ad4CfqKq+4C/A72ADKAAqLrRqb+T2Mf1sxeR20RkiYgssR6XgTMzK4+OrVswtl+S16H49cDFfZ1B82Yup+hQqdfhGNNkBTUpiEg0TkJ4TVXfBlDVHapaoaqVwAscPUWUB/iO0ZwKHDcIjqo+r6qZqpqZmJgYzPCbjb0HS/lkzQ6uGJpCdGR4XpAWGx3Jn67NYM+BUn4+ayWVlTYujzHBEMyrjwT4P2CNqv7RpzzZZ7ErgaphMd8DrhORGBHpAfQBFgUrPnPUe8u2UVahYXnqyNeglHb87MK+fLCigIffXkGFJQZjAi6YYx+NBm4CVojIMrfsEWCSiGTgnBraDPwIQFVXicgMYDXOlUt3qqpdbhICb2blMSilLf2Tve2b0BC3n9uTw6XlPPPpBkrKK3hq4hCiwrR2Y0xjFLSkoKpf4r+dYE4d6zwGPBasmMzxVufvY1X+Pn7TSG6FKSLce2FfYqIjefKjbygpr+TP1w31bEgOY5oa+09q5mZm5dEiMoLxQ8Knb0JD3Dm2N7+4rD8frtzOj/+ZxZEyq1QaEwiWFJqx0vJK3lm2jfMHJNGhdQuvwzlhPzi7J7+9YhBz1+7kh68ssc5txgSAJYVmbN43O9l7sDTsG5jrctOI7vz+msF8uWE3t7y0iAMl5V6HZEyjZkmhGZuZlUdiXAzn9Gncl/Z+N7Mrf7o2gyVbCpn8f19TfLjM65CMabQsKTRTuw+UMG/tTq4amtIkrt6ZkJHCs9cPZcW2Ym54cSGFB62DmzEno/F/G5iT8s7SbZRXhn/fhBNx8aBknr8pk3U7DjDphYXs2l/idUjGNDqWFJohVWVmVh5DuranT6c4r8MJqLH9kvjHzWewec9Brnt+AduLj3gdkjGNiiWFZmhV/j7Wbt/PxCZUS/B1Vp8EXvnemWwvPsK1zy8gr/CQ1yEZ02hYUmiG3lyylRZREXxncOPqm3AihveI558/OJPCg6Vc+78L2bLnoNchGdMoWFJoZkrKK3h3eT4XDexMu1bRXocTVEO7deD1H47gUGk53/3fBWzYecDrkIwJe5YUmpm5a3ZSdKisSTUw12VQSjum3zaSikq47vkFrN2+z+uQjAlrlhSamZlZeXRuG8tZvRO8DiVk+naO440fjSAqIoLrnl/Iirxir0MyJmxZUmhGdu47wvxvdnLVsBQiI/yNVdh09Upsw4wfjaRNTBTXv7iQrC2FXodkTFiypNCMzFq6jUql2Zw6qqlbx1bM+NFIOrZuweT/+5qvv93jdUjGhB1LCs2EqvJmVh6nd+9Az8Q2XofjmS7tWzLjRyNJbt+Sm19axBfr7ZauxviypNBMLM8rZsPOA022b8KJSGoby/TbRpDWsTXfn7aEuWt2eB2SMWHDkkIz8eaSrcRGR3DZ4OT6F24GEtrEMP22EfRLjuNHr2bx4YoCr0MyJixYUmgGjpRV8N7yfC4ZlExcbNPum3Ai2rdqwT9/cCZDurbnrn8t5d1l27wOyRjPWVJoBv6zegf7j5Q32wbmurSNjeaV7w1neFo8P3ljGTMWb/U6JGM8ZUmhGZiZlUdK+5aM7NnR61DCUuuYKF669QzO7pPIA2/l8MqCzV6HZIxnLCk0cQXFh/li/S6uHpZCRDPrm3AiYqMjeWHy6VwwoBO/encVL3z+rdchGeMJSwpN3NvZ21CFq+3UUb1ioiL52w3DuGxwMo/NWcNf5q73OiRjQi7K6wBM8FTdN2F4j3i6d2ztdTiNQnRkBH++NoOYyAj+8PE6Ssor+dmFpyFitSzTPFhSaMKycwvZtPsgd4zp5XUojUpUZARPTRxCTHQEf523gTUF+7hueDfG9E0kugncutSYugQtKYhIV+AVoDNQCTyvqn8WkXjgDSAN2Ax8V1UL3XUeBr4PVAB3q+pHwYqvOXhzSR6tWkRyabr1TThRERHC41em06VdS6Z9tZm5a3fSsXULxmd04ephqQzs0tZqD6ZJElUNzoZFkoFkVc0WkTggC7gCuAXYq6pTReQhoIOqPigiA4B/AcOBLsAnwGmqWlHbPjIzM3XJkiVBib+xO1RazvDH5nLxoM48NXGI1+E0amUVlXy+bhdvZefxyeqdlFZU0rdTHFcNS+HKoSkktY31OkRjToiIZKlqpr95QaspqGoBUOBO7xeRNUAKMAEY4y72MjAfeNAtn66qJcAmEdmAkyAWBCvGpuyjVds5UFJuw1oEQHRkBOf178R5/TtRfKiM2Tn5vJWdx//7cC1P/HstZ/dJ5KphKVw0sDOx0ZFeh2vMKQlJm4KIpAFDga+BTm7CQFULRCTJXSwFWOizWp5bVnNbtwG3AXTr1i2IUTduby7Jo1t8K4b3iPc6lCalXatobhzRnRtHdOfbXQd4O3sbs5Zu457py4iLieKywclcNSyVM9I62Okl0ygFPSmISBvgLeAnqrqvjn8UfzOOO7elqs8Dz4Nz+ihQcTYleYWH+GrjHu69wK6aCaaeiW2476K+3HvBaSzctIe3srbx3vJ8pi/eSrf4Vlw1LIWrhqbSrWMrr0M1psGCmhREJBonIbymqm+7xTtEJNmtJSQDO93yPKCrz+qpQH4w42uq3srahghcNey4ipYJgogIYVSvBEb1SuDRCQP5aNV23srO489z1/OnT9YzPC2eq09P4ZL0ZNra2FMmzAWzoVlw2gz2qupPfMqfBPb4NDTHq+oDIjIQeJ2jDc1zgT7W0Hzixv1hPp3bxvL6D0d4HUqzll90mFlLt/FWdh7f7jpITFQEFw3szFXDUji7T2Kzu/udCR+eNDQDo4GbgBUisswtewSYCswQke8DucBEAFVdJSIzgNVAOXBnXQnB+Lf7QAnf7jrItZld61/YBFWX9i25c2xv7hjTi2Vbi3g72zm99N7yfJLiYrhyaApXDUulb+c4r0M1plrQagqhYDWF4328egc/fGUJb94+kjPSrJE53JSUV/Dpmp28lb2N+d/spLxSGZTSlquHpTJ+SBc6tonxOkTTDHhVUzAeyM4tJCpCSE9p53Uoxo+YqEguSU/mkvRkdh8oYfZy5/LW38xezWMfrGFM3yTuGtebjK7tvQ7VNFOWFJqY7C2FDOzS1q6XbwQS2sRw6+ge3Dq6B99s38/b2XnMzMrjimf/y+WDk3ngon525ZIJORvIpQkpr6gkJ6+Yod06eB2KOUF9O8fx8KX9+eyBsdx9Xh/mrtnJeX+cz6OzV1N4sNTr8EwzYkmhCVm7fT+HyyoY2q2916GYk9QmJop7LziN+feP4ephqUz7ahPnPDmP5z7byJEyu+7CBJ8lhSYkO7cQgGFWU2j0OrWNZerVg/nwnnPI7N6BqR+u5bw/fMaspXlUVjbei0NM+LOk0IRkbykkMS6G1A4tvQ7FBEjfznG8dOtwXv/BmXRoHc1P31jOd/76Jf/dsNvr0EwTZUmhCcnOLWJYt/Y2tEUTNKp3Au/deRZ/ujaDokNl3PDi19zy0iK+2b7f69BME2NJoYnYfaCE3L2H7NRRExYRIVwxNIW5PzuXRy7tR/aWQi758+c8MHM524uPeB2eaSIsKTQR2Vvc9oTulhSautjoSG47pxef3T+WW0f3YNbSbYx5ah5PffQN+4+UeR2eaeQsKTQR2blF1mmtmenQugW/vHwAn/5sDBcM6Mxf521gzJPzeXXBZsoqKr0OzzRSlhSaiOxc67TWXHWNb8VfJg3l3TtH0yupDb98dxUXPf05H63aTmMexsZ4w5JCE1BWUUlOXpF1WmvmhnRtzxu3jeDFyZmIwI9ezeK7/7ug+lJlYxrCkkITsLZgP0fKKq09wSAinD+gEx/95Bweu3IQm3Yf4qq/fcUdr2WxefdBr8MzjUC9SUFEIkRkVCiCMSfnaKe19t4GYsJGVGQEN5zZnc/uH8M95/Vh3tpdXPD0Z0x5bxV7bdgMU4d6k4KqVgJ/CEEs5iRl5xaSFBdDSnvrtGaO1Tomip9ecBqf3T+Ga05P5ZUFmzn39/P4+3wbNsP419DTR/8RkavFekWFpezcQoZ1sxvFm9oltY3l/101mI9+cg7De8TzxL/XMu6p+cxYvJWScksO5qiGDp19L9AaqBCRw4AAqqptgxZZMO3Lh6xpIBGAgLgPxCmrOX3McjXW8TvPzzZi4iBpALTv5s4LjF37S9i69zA3jegesG2apqtPpzj+75YzWLBxD4/PWcMDb+XwxL/Xcu0ZXblhRHerbZqGJQVVbVr3C9xXAJ894c2+Y9pB50HQOR06uc+J/SA69qQ2Z4PgmZMxsldH3r1zNP/duJuXv9rCc59t5LnPNnJ+/05MHpnG6N4drebZTDX4JjsiMh44x305X1XfD05IIZB6OkwpBlXQSucZn2mtdF/7TlfN09rn1boNhcN7YcdK2L4Ctq+E7Feg7JATj0RCYt+jSaLzIOg8GFon1Hso2bmFREcKg6zTmjlBERHC2X0SObtPInmFh3jt61ymL8rlP6t30DOxNZNHdOeq01NpGxvtdagmhBp0j2YRmQqcAbzmFk0CslT1oSDGVq9GfY/mygrYuwl2rDiaKLavgP35R5dp09knSaRDp3To2AsijnZQ++5zCyipqOTdO0d7cBCmqTlSVsEHOQW8snALy7cW0apFJFcOTWHyyDT6dm5aJwyas7ru0dzQpJADZLhXIiEikcBSVR0c0EhPUKNOCrU5uMdNFG6S2LESdq2FynJnflRL6DQQOg+iImkQN75/kPTTR/PIFWd4G7dpcpZvLeKVBVuYnZNPaXklZ/aIZ/LINC4c2InoSOvi1JgFKimMUdW97ut4nFNIlhRCobzESQy+iWJ7DhwpBkARJL7H0dpE53RIPA3adYVIq/qbU7P3YCkzlmzl1QVb2FZ0mE5tY7h+eHcmDe9KUtuTawsz3gpEUrgOeAKYh3Pl0TnAw6o6PZCBnqhmkxT8UeXNuQv46NNP+OO5kbQtWuMkjcJNR5eRSGjfFTr0gPieEN/Dne4BHdKgRWvPwjeNT0WlMm/tTl5ZuIXP1+0iKkK4JD2ZySO7k9ndLoluTOpKCvU2NItIBFAJjMBpVxDgQVXdXs96/wAuB3aq6iC3bArwQ2CXu9gjqjrHnfcw8H2gArhbVT+q/9CaMRG+2NWSFW1GEXfheUcvcz2yD3auht3rnQSxd5PzvHJmdc2iWpvOxyaK+J5Hp1t2COils6bxi4xwhtA4f0Anvt11gH8uzOXNrK3MXp5Pv85x3DwqjQkZXWjVosHXr5gw1NCawueqek69Cx67zjnAAeCVGknhgKo+VWPZAcC/gOFAF+AT4DRVrbNXTbOuKQBnPfEp6Snt+PuNpzdshUN7j00Ue32m9xccu2xMO4hPOzZRVD3HdYEIO6ds4FBpOe8szeeVBZtZu30/cbFRTDy9KzeN7E6PBKuJhqtTqim4PhaR+4A3gOpRtaraGPxR1c9FJK2B258ATFfVEmCTiGzASRALGrh+s7Nz/xHyCg9z88i0hq/UKt55pPhJIqWHoGgL7P322KRRsBzWzD7a0A0QGeOcfqpKFB26Q1SMc7pKIpyroyTCfS01XvvOl1rWiXCSjt91Iji+U2F9r2vpXFi1rePKaqkhVV1qXFnhXnpcCeozXVlZS3mFz6XK/sprPKr5dKqEGtPUUu5nuvp4aps+Ce6PyVbA9T1gUo9EVubH8O7SbXy54Es+/+oLMtPimTC4C8N7xhMpAtTyA9TvD9MTWbaW5asuE/edPqYMP2X+lmtgWVQstE2Btl0adVteQ5PC99znO33KFOh5Evu8S0QmA0uAn6lqIZACLPRZJs8tO46I3AbcBtCtW7eT2H3TkL2lCIBh3dsHZoMtWkFSf+dRU0U5FG89vpZRuBk2fX60v0WT4pNIfPudGL8ESHcftHALC9xHsyMQl+y057VLdR9d3Yf7OrZd2J6ebWibwkOq+kYA9vd34Lc4/12/xRlo73tU/7Q5ht//QFV9HngenNNHAYipUVrqdlob2CUEndYio9w2hx7Qq8Y8Vee0VEWpn1/BPr+Mq38VV73286u65i/n49bx3WZtnQV9X1PPfPXZH/6X0cpjaygRkcfWcPzWYvyV+9SO/Ja7taOqZFR9fNVvtM+v5BOZrvHL1t/0SX851b1eeaWSk1fMZ+t2sWHnAaIihcFdOzCsW3sGdmlLi2Mua/WzrVrjqqXc7/L+ake1ldVc50TWFefHUfE2KM5zfkQVb4X8pU5Nu6LGyLQt4mokjRqJIy7Z+b/zQL17VdVKEbkT59TRKVHVHVXTIvICUNUrOg/o6rNoKuDTi8vU5NxprZ33d1oTgdYdvY3BhKUoYNhgGHYpfLN9P68u3Mxfcwoo/LaMVi0iOa9/Jy5L78yYvkne/x0HU2UlHNx1bLIoznMeRbmQt8QZ8cCXRDhtd8cljm4+tY3gDD0XtDYFf0QkWVWrKpRXAivd6feA10XkjzgNzX2ARSey7eaktLySnLxibjjTBsEzjUPfznH87op0pnxnIAu/3csHKwr4aNV2Zi/Pp1WLSMb1S+LywclNM0FEREBcJ+eRWstFIaUH3VpGrk/CcJPH1kWwatax7XoAA6+CiS8FPNygtSmIyL+AMUCCiOQBvwbGiEiGu+5m4EcAqrpKRGYAq4Fy4M76rjxqztYU7KOkvDJw7QnGhEhUZARn9UngrD4J/HbCsQni/ZyC6gRxWbqTIFq2aGIJojYtWjsdThNP8z+/sgIO7PCpbeQ5Iy4HQYMuSQ1XzfWS1Jf+u4nfzF7NVw+No4sNdWyagPKKSr7etJf3c5wEsfdgafNNECFw0pekisgDqvp7d3qiqr7pM+9xVX0ksKGahsjOLaJz21hLCKbJiIqMYHTvBEb3dmoQX29yaxArj9YgxvZL4nJLEEFXZ01BRLJVdVjNaX+vvdBcawqjp37KkK7t+NsNDey0ZkwjVV5RyaJNe3nfTRB7DpbSMjqScf2dGsTYZpggKiuV7NxCIiLkpO+jciqd16SWaX+vTQjs3HeEbUWHuXV0mtehGBN0UZERjOqdwKjeCTw6fiCL3BrEv1du54OcgmaTICorlaVbC/kgZztzVhSwfd8RxvZN5KVbhwd8X/UlBa1l2t9rEwJVd1obandaM82Mb4L4jU+C+GiVT4Lol8Rlg5tGgnASQRFzVhQwZ0UBBcVHaBEZwbl9E3kovR/n9U8Kyn7rSwpDRGQfTq2gpTuN+9rGzPVAdm4RLSIjGJTSOG+PbUwgHFODmDCIrzft4QO3kfqDFU6CGNsvkdG9ExieFk+vxDZERIT/yQ1VNxHkOIkg300E55yWyAMX9+W8/p2Cfie8OpOCqjbuVNsEZW8pZGBKW2Ki7KMxBpzRW0f1SmBUr6MJYs6KAj5atYM5K5zBnDu0iub07vGckdaBM3rEM6hLO1pEhcegjqrKsuoawXa2FR12E0EC913Ul/MHBD8R+LIxbhuR0vJKcrYVc9MI67RmjD++CeK3Ewaxec8hFm/ey5LNe1m8uZBP1jiDKsRGR5DRtT1npMVzRlo8Q7u1Jy6EX7yqyvK8YuasKOCDnAK2FR0mOlI4p08i915wGucP6ES7lt4MqmdJoRFZXbCP0vLKk77iwJjmRETokdCaHgmt+W6mM4rOrv0l1Qli8ea9PDtvA5UKEQIDurQls3s8w3vEk5nWgaS4wJ4hV1VWbCvmg5wCPlhRQF6hkwjO7pPITy84jQs8TAS+LCk0ItlbnEZm68lszMlJjIvhkvRkLklPBuBASTlLcwudJLFpL9MX5zLtq80ApHVsRWZaPMPTnCTRI6H1Cd9dTlVZuW0f76/IZ86KArbuPUxUhHB2nwTuOa8PFw7oTLtW3icCX5YUGpHs3EKS28WS3M46rRkTCG1ioji7TyJn90kEoKyikpXbilmyuZBFm/cyd80OZmblAZDQpgWZ3Z0EMbxHPAOS2xIVeXy7hKqyKn8f77uNxbl7DxEVIZzVJ4G7x4VnIvBlSaERWZpbZKeOjAmi6MgIhnbrwNBuHfjhOT1RVTbuOlBdk1i8ZS//XuU0XrdqEcmwbh2cJJEWT5vYKD5c6fQj2LLHSQSjeydw17jeXDigE+1btahn7+HBkkIjscM6rRkTciJC76Q4eifFMWm4MwDd9uIj1Y3XizYX8ue566tvYxHpJoI7x/TmwoGNJxH4sqTQSBxtT7CagjFe6twulu8M6cJ3hnQBYN+RMrK3FFJ4qJQxpyXRoXXjSwS+LCk0Etm5hbSIjGBgF+u0Zkw4aRsbzZi+weld7IXw6L1h6pWdW8Qg67RmjAkySwqNQGl5JSu2FVsjszEm6CwpNAKr8oudTmvWnmCMCTJLCo1Adm4RgNUUjDFBZ0mhEcjOLaRLu1g6t7OBaY0xwWVJoRFYuqWQoXbqyBgTApYUwtz24iPkFx+xU0fGmJCwpBDmqu60Nqxbe28DMcY0C5YUwlz2lkJaREUwsEs7r0MxxjQDQUsKIvIPEdkpIit9yuJF5GMRWe8+d/CZ97CIbBCRb0TkomDF1dhk5xaSnhI+d4kyxjRtwfymmQZcXKPsIWCuqvYB5rqvEZEBwHXAQHedv4lIs++6W1Jewcpt++zUkTEmZIKWFFT1c2BvjeIJwMvu9MvAFT7l01W1RFU3ARuA4cGKrbFYlb+P0gq705oxJnRCfU6ik6oWALjPVaNIpQBbfZbLc8uOIyK3icgSEVmya9euoAbrNRsZ1RgTauFyotrfPe7U34Kq+ryqZqpqZmJiYpDD8tbS3CJS2rekU1vrtGaMCY1QJ4UdIpIM4D7vdMvzgK4+y6UC+SGOLexk5xYy1NoTjDEhFOqk8B5wszt9M/CuT/l1IhIjIj2APsCiEMcWVgqKD1NgndaMMSEWtJvsiMi/gDFAgojkAb8GpgIzROT7QC4wEUBVV4nIDGA1UA7cqaoVwYqtMcjeUgRYe4IxJrSClhRUdVIts86rZfnHgMeCFU9jk51bSExUBAOS7U5rxpjQCZeGZlODdVozxnjBvnHCUEl5Bau27bNTR8aYkLOkEIZWbqvqtNbe61CMMc2MJYUwtLR6ZFSrKRhjQsuSQhjKzi0kpX1LkqzTmjEmxCwphKHsLUXWnmCM8YQlhTCTX3SY7fuOWHuCMcYTlhTCTLa1JxhjPGRJIcxkbykiJiqC/tZpzRjjAUsKYSY7t5DBqdZpzRjjDfvmCSNHyipYlV9sp46MMZ6xpBBGVuUXU1ahDLWkYIzxiCWFMHJ0ZNT2nsZhjGm+LCmEkezcQlI7tCQpzjqtGWO8YUkhTKgq2bmF1p5gjPGUJYUwkV98hB37SqzTmjHGU5YUwkT2FrfTmg1vYYzxkCWFMJGdW0hstHVaM8Z4y5JCmMjOLWJwSnuiI+0jMcZ4x76BwsCRsgpW5xcz1C5FNcZ4zJJCGFi5zem0ZlceGWO8ZkkhDNjIqMaYcGFJIQxkbymia3xLEuNivA7FGNPMRXmxUxHZDOwHKoByVc0UkXjgDSAN2Ax8V1ULvYgvlKo6rY3s1dHrUIwxxtOawlhVzVDVTPf1Q8BcVe0DzHVfN3nbig6zc3+JnToyxoSFcDp9NAF42Z1+GbjCu1BCJzu3CLD2BGNMePAqKSjwHxHJEpHb3LJOqloA4D4neRRbSGVvcTqt9UuO8zoUY4zxpk0BGK2q+SKSBHwsImsbuqKbRG4D6NatW7DiC5mluYUMTrVOa8aY8ODJN5Gq5rvPO4FZwHBgh4gkA7jPO2tZ93lVzVTVzMTExFCFHBTOndb22akjY0zYCHlSEJHWIhJXNQ1cCKwE3gNudhe7GXg31LGF2optxZRXqo2MaowJG16cPuoEzBKRqv2/rqr/FpHFwAwR+T6QC0z0ILaQspFRjTHhJuRJQVW/BYb4Kd8DnBfqeLyUnVtIt/hWJLSxTmvGmPBgrZsecTqtFdmpI2NMWLGk4JG8wsPs2l9ip46MMWHFkoJHbBA8Y0w4sqTgkaW5RbSMjqRfZ+u0ZowJH5YUPJKdW8jg1HZEWac1Y0wYsW8kDzh3Wttn7QnGmLBjScEDOXlVndYsKRhjwoslBQ9UNTIPtctRjTFhxpKCB7K3FNK9o3VaM8aEH0sKIXa005qdOjLGhB9LCiGWV3iY3QdKrCezMSYsWVIIsaPtCVZTMMaEH0sKIZa9pZBWLazTmjEmPFlSCLHs3CLrtGaMCVv2zRRCh0srWFNgd1ozxoQvSwohlJNXZJ3WjDFhzZJCCGXnFgHWac0YE74sKYRQdm4haR1b0dE6rRljwpQlhRBRVZbmFtqpI2NMWLOkECJb9x5m94FShtrIqMaYMGZJIUSO3mmtvbeBGGNMHSwphEh2rtNprW8n67RmjAlflhRCJDu3kCGp7a3TmjEmrNk3VAgcKi1nTcF+hnVv73UoxhhTpyivA6hJRC4G/gxEAi+q6tRA76PwYCmfrdtFVKQQFRFBdKQQFRlBVIQ4j0inLDJCiHbLoyMjiKoqi3Cmq+ZFRggiUuv+cvKKqbBOa8aYRiCskoKIRALPAhcAecBiEXlPVVcHcj9b9h7iJ28sC+Qm3WTiJIzIY5KNcLi0ErCRUY0x4S+skgIwHNigqt8CiMh0YAIQ0KTQr3Mcn/7sXMorlbKKSsorlPJKpbyi8viySme6zJ1XvVyFUlZZSUWFUlZj3YpKpazi2LI+SXHEt24RyMMwxpiAC7ekkAJs9XmdB5zpu4CI3AbcBtCtW7eT2klsdCQ9E9ucZIjGGNN0hVtDs78T83rMC9XnVTVTVTMTExNDFJYxxjQP4ZYU8oCuPq9TgXyPYjHGmGYn3JLCYqCPiPQQkRbAdcB7HsdkjDHNRli1KahquYjcBXyEc0nqP1R1lcdhGWNMsxFWSQFAVecAc7yOwxhjmqNwO31kjDHGQ5YUjDHGVLOkYIwxppqoav1LhSkR2QVs8TqOBkoAdnsdRBA15eOzY2u8mvLxncqxdVdVvx29GnVSaExEZImqZnodR7A05eOzY2u8mvLxBevY7PSRMcaYapYUjDHGVLOkEDrPex1AkDXl47Nja7ya8vEF5disTcEYY0w1qykYY4ypZknBGGNMNUsKQSYiXUVknoisEZFVInKP1zEFmohEishSEXnf61gCSUTai8hMEVnrfn4jvY4pkETkp+7f5EoR+ZeIxHod08kSkX+IyE4RWelTFi8iH4vIeve50d4Pt5bje9L928wRkVki0j4Q+7KkEHzlwM9UtT8wArhTRAZ4HFOg3QOs8TqIIPgz8G9V7QcMoQkdo4ikAHcDmao6CGdU4uu8jeqUTAMurlH2EDBXVfsAc93XjdU0jj++j4FBqjoYWAc8HIgdWVIIMlUtUNVsd3o/zhdLirdRBY6IpAKXAS96HUsgiUhb4Bzg/wBUtVRVizwNKvCigJYiEgW0ohHf0EpVPwf21iieALzsTr8MXBHKmALJ3/Gp6n9Utdx9uRDnpmSnzJJCCIlIGjAU+NrjUALpT8ADQKXHcQRaT2AX8JJ7auxFEWntdVCBoqrbgKeAXKAAKFbV/3gbVcB1UtUCcH6cAUkexxNM3wM+DMSGLCmEiIi0Ad4CfqKq+7yOJxBE5HJgp6pmeR1LEEQBw4C/q+pQ4CCN+/TDMdzz6xOAHkAXoLWI3OhtVOZkiMjPcU5TvxaI7VlSCAERicZJCK+p6ttexxNAo4HxIrIZmA6ME5F/ehtSwOQBeapaVaubiZMkmorzgU2quktVy4C3gVEexxRoO0QkGcB93ulxPAEnIjcDlwM3aIA6nVlSCDIREZzz0mtU9Y9exxNIqvqwqqaqahpOI+Wnqtokfm2q6nZgq4j0dYvOA1Z7GFKg5QIjRKSV+zd6Hk2oId31HnCzO30z8K6HsQSciFwMPAiMV9VDgdquJYXgGw3chPMrepn7uNTroEyD/A/wmojkABnA496GEzhuDWgmkA2swPkuaLRDQojIv4AFQF8RyROR7wNTgQtEZD1wgfu6Uarl+P4KxAEfu98rzwVkXzbMhTHGmCpWUzDGGFPNkoIxxphqlhSMMcZUs6RgjDGmmiUFY4wx1SwpmJMmIioif/B5fZ+ITAnQtqeJyDWB2FY9+5nojoA6r0Z5mohcf5Lb/KoBy7zYlAZGdN+vlfUvacKdJQVzKkqAq0QkwetAfIlI5Aks/n3gDlUdW6M8DfCbFNwB5GqlqvX2DFbVH6hqU+oMZ5oISwrmVJTjdHj6ac0ZNX/pi8gB93mMiHwmIjNEZJ2ITBWRG0RkkYisEJFePps5X0S+cJe73F0/0h1HfrE7jvyPfLY7T0Rex+mMVTOeSe72V4rIE27Zr4CzgOdE5Mkaq0wFznY7Bf1URG4RkTdFZDbwHxFpIyJzRSTb3e6EWo51vhy9J8Nrbu9h3PLMquVF5DERWS4iC0Wkk1vey329WEQerdqun2O70X3/lonI/7rv0Rnu+xMrIq3FuW/CoNridn/pr3VrMCvdWM8Xkf+Kcz+C4e5yU0TkVRH51C3/oZ94avuMkkXkczfOlSJytr/jMR5TVXvY46QewAGgLbAZaAfcB0xx500DrvFd1n0eAxQByUAMsA34jTvvHuBPPuv/G+eHSx+csYhigduAX7jLxABLcAZ1G4MzaF0PP3F2wRnWIRFnoLtPgSvcefNx7ilQc50xwPs+r29xY4h3X0cBbd3pBGADRzuD+h5rMc6QxhE4PVLPqrlfQIHvuNO/9zm+94FJ7vTtVdutEWd/YDYQ7b7+GzDZnf4dzkiozwIP1xU3Ts2oHEh3Y80C/uHOmwC8464zBVgOtHTX3+q+v2nASneZ2j6jnwE/d8sjgTiv/4btcfyjzmqwMfVR1X0i8grODVsON3C1xeoOaSwiG4GqIZtXAL6ncWaoaiWwXkS+BfoBFwKDfWoh7XCSRimwSFU3+dnfGcB8Vd3l7vM1nHslvNPAeKt8rKpVY9oL8LiInIMzbHgK0AnYXmOdRaqa5+53Gc6X55c1linFSQDgfBlf4E6P5Og9AF7H+YKv6TzgdGCxWwlpydGB3x4FFgNHcD6fuuIGZ4C8FW6sq3BuUKMissKNu8q7qnoYOOy2xQwHlvnMr+0zWgz8Q5wBIt9RVd91TJiwpGAC4U84Y+i85FNWjnt60j1l0sJnXonPdKXP60qO/ZusOQaL4nyp/Y+qfuQ7Q0TG4NQU/JF64m8o3+3fgFPzOF1Vy8QZKdbf7Sx9j7UC//9zZer+fK5jmdoI8LKq+rvrVjzQBoh2YztYT9yn8rnUjOm4zwjATUaXAa+KyJOq+krdh2dCzdoUzClzfz3PwGm0rbIZ5xcsOKcfok9i0xNFJMJtZ+gJfAN8BPzY/bWJiJwm9d/85mvgXBFJEKcRehLwWT3r7McZbKw27XDuJVEmImOB7g04nhO1ELjana7tVplzgWtEJAmq70tcFcvzwC9xxtl/IoBxT3DbKjrinCJbXGO+38/IjWunqr6AM3JwUxqKvMmwmoIJlD8Ad/m8fgF4V0QW4Xxx1fYrvi7f4Hx5dwJuV9UjIvIizqmMbLcGsot6brOoqgUi8jAwD+dX7BxVrW8Y5RygXESW47RvFNaY/xowW0SW4Jw6Wdvww2qwnwD/FJGfAR/gtE8cQ1VXi8gvcBq/I4AynPuAnwuUq+rrbiL8SkTGBSjuRW483YDfqmq+OHcVrFLbZzQGuF9EynDaoyafxL5NkNkoqcaEKRFpBRx2z+tfh9PoPKG+9YIc0xScBm9/7RumCbCagjHh63Tgr+6v7SKc+/AaE1RWUzDGGFPNGpqNMcZUs6RgjDGmmiUFY4wx1SwpGGOMqWZJwRhjTLX/D6/T4yBQ5MbYAAAAAElFTkSuQmCC\n",
>>>>>>> 3eb6f8702efc265325c06535636ea2613323568e
      "text/plain": [
       "<Figure size 432x288 with 1 Axes>"
      ]
     },
     "metadata": {
      "needs_background": "light"
     },
     "output_type": "display_data"
    }
   ],
   "source": [
    "plt.figure()\n",
    "plt.plot(range(1, len(X)+1), J_train, range(1, len(X)+1), J_val)\n",
    "plt.title('Learning curve for linear regression ($\\lambda = 100$)')\n",
    "plt.legend(['Train', 'Cross Validation'])\n",
    "plt.xlabel('Number of training examples')\n",
    "plt.ylabel('Error')\n",
    "plt.savefig('learning curve (lambda = 0).pdf')\n",
    "plt.show()\n",
    "\n",
    "plt.close()"
   ]
  },
  {
   "cell_type": "markdown",
   "id": "cb080e1a",
   "metadata": {},
   "source": [
    "### Selección del parámetro Lambda"
   ]
  },
  {
   "cell_type": "code",
<<<<<<< HEAD
   "execution_count": 606,
   "id": "f9ef9cd8",
   "metadata": {},
   "outputs": [],
   "source": [
    "def validationCurve(X, y, Xval, yval):\n",
    "    Lambdas = np.array([0, 0.001, 0.003, 0.01, 0.03, 0.1, 0.3, 1, 3, 10]).reshape((-1,1))\n",
    "    error_train = np.zeros(len(Lambdas))\n",
    "    error_val = np.zeros(len(Lambdas))\n",
    "    \n",
    "    for i in range(len(Lambdas)):\n",
    "        reg = Lambdas[i]\n",
    "        theta_aux = trainLinearReg(X, y, reg)\n",
    "        theta_aux = theta_aux.reshape((theta_aux.shape[0],1))\n",
    "        error_train[i] = coste_vec(theta_aux, X, y)\n",
    "        error_val[i] = coste_vec(theta_aux, Xval, yval)\n",
    "        \n",
    "    return (Lambdas, error_train, error_val)"
=======
   "execution_count": 120,
   "id": "f9ef9cd8",
   "metadata": {},
   "outputs": [],
   "source": [
    "def validationCurve(X, y, Xval, yval):\n",
    "    Lambdas = np.array([0, 0.001, 0.003, 0.01, 0.03, 0.1, 0.3, 1, 3, 10]).reshape((-1,1))\n",
    "    error_train = np.zeros(len(Lambdas))\n",
    "    error_val = np.zeros(len(Lambdas))\n",
    "    \n",
    "    for i in range(len(Lambdas)):\n",
    "        reg = Lambdas[i]\n",
    "        theta_aux = trainLinearReg(X, y, reg)\n",
    "        error_train[i] = coste_reg(theta_aux, X, y, reg)\n",
    "        error_val[i] = coste_reg(theta_aux, Xval, yval, reg)\n",
    "        \n",
    "    return (Lambdas, error_train, error_val)"
   ]
  },
  {
   "cell_type": "code",
   "execution_count": 121,
   "id": "fdaa5acf",
   "metadata": {},
   "outputs": [],
   "source": [
    "Lambdas, train, crossvalidation = validationCurve(X_1, y, Xval_1, yval)"
>>>>>>> 3eb6f8702efc265325c06535636ea2613323568e
   ]
  },
  {
   "cell_type": "code",
<<<<<<< HEAD
   "execution_count": 607,
   "id": "fdaa5acf",
   "metadata": {},
   "outputs": [
    {
     "name": "stderr",
     "output_type": "stream",
     "text": [
      "  NIT   NF   F                       GTG\n",
      "    0    1  1.409541208805539E+02   5.28752962E+02\n",
      "tnc: fscale = 0.0434884\n",
      "tnc: stepmx = 1000\n",
      "    1    5  1.226964025494048E+01   3.70034815E+01\n",
      "    2    8  3.013066315864414E+00   1.92674824E+00\n",
      "    3   11  2.235258702621655E+00   1.60999055E-01\n",
      "tnc: fscale = 2.49223\n",
      "    4   17  4.187097088517835E-01   1.78347721E-03\n",
      "    5   20  3.508561757623870E-01   2.87839553E-02\n",
      "    6   26  1.887077682606743E-01   1.08525358E-04\n",
      "tnc: fscale = 95.9919\n",
      "    7   32  1.866919035208944E-01   2.05469023E-04\n",
      "    8   35  1.859059387864349E-01   1.21292181E-03\n",
      "    9   41  1.398425476502827E-01   4.93511744E-02\n",
      "tnc: fscale = 4.50144\n",
      "   10   44  1.357773944968693E-01   4.17326069E-04\n",
      "   11   50  1.157384296783348E-01   6.39282571E-05\n",
      "tnc: fscale = 125.07\n",
      "   12   55  1.093749688461741E-01   1.58187577E-04\n",
      "   13   58  1.091038639350610E-01   3.26746122E-04\n",
      "   14   64  4.504220660247865E-02   6.92578053E-03\n",
      "   15   67  4.447752270966516E-02   1.73259039E-05\n",
      "   16   71  4.445042969788604E-02   6.70134050E-06\n",
      "   17   77  4.382563834929087E-02   8.37734016E-04\n",
      "   18   83  4.309682932834038E-02   1.19644416E-05\n",
      "   19   89  4.235327368827204E-02   4.81250283E-07\n",
      "   20   95  4.213874950556838E-02   1.13095886E-05\n",
      "   21  100  4.141979474227080E-02   3.23285623E-04\n",
      "   21  100  4.141979474227080E-02   3.23285623E-04\n",
      "tnc: Maximum number of function evaluations reached\n",
      "  NIT   NF   F                       GTG\n",
      "    0    1  1.409541208805539E+02   5.28752962E+02\n",
      "tnc: fscale = 0.0434884\n",
      "tnc: stepmx = 1000\n",
      "    1    5  1.227327175935487E+01   3.69919334E+01\n",
      "    2    8  3.020666383203073E+00   1.92583210E+00\n",
      "    3   11  2.243123935673921E+00   1.60884997E-01\n",
      "tnc: fscale = 2.49311\n",
      "    4   17  4.323174389883767E-01   1.77244400E-03\n",
      "    5   20  3.653146038855027E-01   2.90055123E-02\n",
      "    6   25  2.586922597965468E-01   5.18655727E-05\n",
      "tnc: fscale = 138.855\n",
      "    7   31  2.235276587107760E-01   8.88345019E-05\n",
      "    8   34  2.153685671369067E-01   4.23559539E-03\n",
      "    9   39  2.104976545140671E-01   9.66883813E-04\n",
      "   10   42  2.100089766921070E-01   1.36768209E-04\n",
      "   11   48  1.806554242536929E-01   1.40659630E-03\n",
      "   12   52  1.786063003543269E-01   3.34468944E-04\n",
      "   13   55  1.783859069108223E-01   3.40698514E-04\n",
      "   14   61  1.747845175432407E-01   7.03268835E-05\n",
      "   15   66  1.730332040448730E-01   1.69962070E-06\n",
      "   16   70  1.730309216000260E-01   4.81652445E-07\n",
      "   17   97  1.729870920837386E-01   7.27766017E-05\n",
      "   17  100  1.729870920837386E-01   7.27766017E-05\n",
      "tnc: Maximum number of function evaluations reached\n",
      "  NIT   NF   F                       GTG\n",
      "    0    1  1.409541208805539E+02   5.28752962E+02\n",
      "tnc: fscale = 0.0434884\n",
      "tnc: stepmx = 1000\n",
      "    1    5  1.228054245059685E+01   3.69689086E+01\n",
      "    2    8  3.035863930624277E+00   1.92400133E+00\n",
      "    3   11  2.258851237597595E+00   1.60658205E-01\n",
      "tnc: fscale = 2.49487\n",
      "    4   17  4.594424057348026E-01   1.75139705E-03\n",
      "    5   20  3.943456120331465E-01   2.73457952E-02\n",
      "    6   25  2.938155897492090E-01   4.85177456E-05\n",
      "tnc: fscale = 143.565\n",
      "    7   31  2.679089238830955E-01   5.71533486E-05\n",
      "    8   34  2.634158255567991E-01   1.75189965E-03\n",
      "    9   40  2.600707401913210E-01   1.10737670E-05\n",
      "   10   45  2.584451986607338E-01   2.45507025E-04\n",
      "   11   51  2.552784742088571E-01   2.56396269E-05\n",
      "   12   55  2.537568639932627E-01   1.05884539E-04\n",
      "   13   59  2.536287257665155E-01   9.24724793E-06\n",
      "   14   65  2.535509113041565E-01   6.10038821E-07\n",
      "   14  100  2.535509113041565E-01   6.10038821E-07\n",
      "tnc: Maximum number of function evaluations reached\n",
      "  NIT   NF   F                       GTG\n",
      "    0    1  1.409541208805539E+02   5.28752962E+02\n",
      "tnc: fscale = 0.0434884\n",
      "tnc: stepmx = 1000\n",
      "    1    5  1.230599175539351E+01   3.68883570E+01\n",
      "    2    8  3.089030454478557E+00   1.91762029E+00\n",
      "    3   11  2.313866733287534E+00   1.59878308E-01\n",
      "tnc: fscale = 2.50095\n",
      "    4   17  5.534561343311650E-01   1.68811013E-03\n",
      "    5   20  4.946820062252664E-01   2.42634597E-02\n",
      "    6   25  4.119498726764703E-01   4.54592142E-05\n",
      "tnc: fscale = 148.316\n",
      "    7   31  4.042690894824560E-01   3.07246594E-05\n",
      "    8   59  4.039031851325224E-01   2.26748793E-04\n",
      "    8  100  4.039031851325224E-01   2.26748793E-04\n",
      "tnc: Maximum number of function evaluations reached\n",
      "  NIT   NF   F                       GTG\n",
      "    0    1  1.409541208805539E+02   5.28752962E+02\n",
      "tnc: fscale = 0.0434884\n",
      "tnc: stepmx = 1000\n",
      "    1    5  1.237878015225244E+01   3.66589838E+01\n",
      "    2    8  3.240700433769855E+00   1.89957905E+00\n",
      "    3   11  2.470784521351411E+00   1.57766999E-01\n",
      "tnc: fscale = 2.51763\n",
      "    4   17  8.147571745896180E-01   1.58871613E-03\n",
      "    5   20  7.730537757237099E-01   2.00476068E-02\n",
      "    6   25  7.228677039900275E-01   8.29778006E-05\n",
      "tnc: fscale = 109.779\n",
      "tnc: |fn-fn-1] = 5.17799e-16 -> convergence\n",
      "    7   78  7.228677039900271E-01   8.29778006E-05\n",
      "tnc: Converged (|f_n-f_(n-1)| ~= 0)\n",
      "  NIT   NF   F                       GTG\n",
      "    0    1  1.409541208805539E+02   5.28752962E+02\n",
      "tnc: fscale = 0.0434884\n",
      "tnc: stepmx = 1000\n",
      "    1    5  1.263445137097971E+01   3.58657348E+01\n",
      "    2    8  3.768858342175271E+00   1.83866959E+00\n",
      "    3   11  3.016900065008212E+00   1.51710979E-01\n",
      "tnc: fscale = 2.56739\n",
      "    4   17  1.662819341334838E+00   2.00231104E-03\n",
      "    5   48  1.657272650076679E+00   5.97786137E-04\n",
      "    5   98  1.657272650076679E+00   5.97786137E-04\n",
      "tnc: Linear search failed\n",
      "  NIT   NF   F                       GTG\n",
      "    0    1  1.409541208805539E+02   5.28752962E+02\n",
      "tnc: fscale = 0.0434884\n",
      "tnc: stepmx = 1000\n",
      "    1    5  1.337231576040418E+01   3.36775437E+01\n",
      "    2    8  5.255226671618692E+00   1.68292816E+00\n",
      "    3   11  4.551506361357831E+00   1.45239478E-01\n",
      "tnc: fscale = 2.62396\n",
      "    4   17  3.807239572659000E+00   9.98391567E-03\n",
      "    4   66  3.807239572659000E+00   9.98391567E-03\n",
      "tnc: Linear search failed\n",
      "  NIT   NF   F                       GTG\n",
      "    0    1  1.409541208805539E+02   5.28752962E+02\n",
      "tnc: fscale = 0.0434884\n",
      "tnc: stepmx = 1000\n",
      "    1    5  1.603225299074657E+01   2.68777948E+01\n",
      "    2    8  1.020957557973310E+01   1.32419760E+00\n",
      "tnc: fscale = 0.869008\n",
      "    3   40  1.010610092660506E+01   3.40663074E-01\n",
      "    3   91  1.010610092660506E+01   3.40663074E-01\n",
      "tnc: Linear search failed\n",
      "  NIT   NF   F                       GTG\n",
      "    0    1  1.409541208805539E+02   5.28752962E+02\n",
      "tnc: fscale = 0.0434884\n",
      "tnc: stepmx = 1000\n",
      "    1    5  2.410976297204936E+01   1.35861536E+01\n",
      "    2   38  2.367817340830898E+01   7.64001069E+00\n",
      "tnc: |fn-fn-1] = 0 -> convergence\n",
      "    3   90  2.367817340830898E+01   7.64001069E+00\n",
      "tnc: Converged (|f_n-f_(n-1)| ~= 0)\n",
      "  NIT   NF   F                       GTG\n",
      "    0    1  1.409541208805539E+02   5.28752962E+02\n",
      "tnc: fscale = 0.0434884\n",
      "tnc: stepmx = 1000\n",
      "    1    4  5.374695369444123E+01   9.82868417E+00\n",
      "    1   59  5.374695369444123E+01   9.82868417E+00\n",
      "tnc: Linear search failed\n"
     ]
    }
   ],
   "source": [
    "Lambdas, train, crossvalidation = validationCurve(X_1, y, Xval_1, yval)"
   ]
  },
  {
   "cell_type": "code",
   "execution_count": 608,
=======
   "execution_count": 122,
>>>>>>> 3eb6f8702efc265325c06535636ea2613323568e
   "id": "e6d967ee",
   "metadata": {},
   "outputs": [
    {
     "data": {
<<<<<<< HEAD
      "image/png": "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\n",
=======
      "image/png": "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\n",
>>>>>>> 3eb6f8702efc265325c06535636ea2613323568e
      "text/plain": [
       "<Figure size 432x288 with 1 Axes>"
      ]
     },
     "metadata": {
      "needs_background": "light"
     },
     "output_type": "display_data"
    }
   ],
   "source": [
    "plt.figure()\n",
    "plt.plot(Lambdas, train, label='Train')\n",
    "plt.plot(Lambdas, crossvalidation, label='Cross validation')\n",
    "plt.title('Selecting ($\\lambda$) using a cross validation set')\n",
    "plt.xlabel('Lambda')\n",
    "plt.ylabel('Error')\n",
    "plt.savefig('')\n",
    "plt.show()\n",
    "\n",
    "plt.close()"
   ]
  },
  {
   "cell_type": "code",
   "execution_count": null,
<<<<<<< HEAD
   "id": "59fa308d",
=======
   "id": "e8657032",
   "metadata": {
    "scrolled": true
   },
   "outputs": [],
   "source": []
  },
  {
   "cell_type": "code",
   "execution_count": null,
   "id": "4516744f",
>>>>>>> 3eb6f8702efc265325c06535636ea2613323568e
   "metadata": {},
   "outputs": [],
   "source": []
  },
  {
   "cell_type": "code",
   "execution_count": null,
   "id": "387031bc",
   "metadata": {},
   "outputs": [],
   "source": []
  }
 ],
 "metadata": {
  "kernelspec": {
   "display_name": "Python 3 (ipykernel)",
   "language": "python",
   "name": "python3"
  },
  "language_info": {
   "codemirror_mode": {
    "name": "ipython",
    "version": 3
   },
   "file_extension": ".py",
   "mimetype": "text/x-python",
   "name": "python",
   "nbconvert_exporter": "python",
   "pygments_lexer": "ipython3",
   "version": "3.9.7"
  }
 },
 "nbformat": 4,
 "nbformat_minor": 5
}
