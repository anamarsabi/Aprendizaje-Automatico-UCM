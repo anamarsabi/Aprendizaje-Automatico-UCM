{
 "cells": [
  {
   "cell_type": "markdown",
   "id": "5ee8fed3",
   "metadata": {},
   "source": [
    "# Práctica 5: Regresión lineal regularizada: sesgo y varianza\n",
    "### Aprendizaje Automático, Universidad Complutense de Madrid\n"
   ]
  },
  {
   "cell_type": "markdown",
   "id": "2ffaacc4",
   "metadata": {},
   "source": [
    "- **Eladia Gómez Morales**\n",
    "- **Ana Martínez Sabiote**"
   ]
  },
  {
   "cell_type": "markdown",
   "id": "2a502c90",
   "metadata": {},
   "source": [
    "## Introducción\n",
    "\n",
    "La práctica a desarrollar tiene como objetivo comprobar los efectos del sesgo y la varianza. Vamos a aplicar regresión lineal regularizada para aprender una hipótesis sesgada. Posteoriormente , vamos a aplicar regresión lineal para sobre-ajustar los datos de entrenamiento a un polinomio de grado 8. También presentaremos las curvas de aprendizaje obtenidas, que se utilizan cuando el número de atributos de los ejemplos es mayor y permiten identificar situaciones de underfitting y overfitting como las que nos interesan en esta práctica."
   ]
  },
  {
   "cell_type": "markdown",
   "id": "23064c2f",
   "metadata": {},
   "source": [
    "Para la realización de esta práctica utilizamos las librerías especificadas a continuación:"
   ]
  },
  {
   "cell_type": "code",
   "execution_count": 39,
   "id": "cd28dc24",
   "metadata": {},
   "outputs": [],
   "source": [
    "from scipy.io import loadmat\n",
    "import numpy as np\n",
    "import matplotlib.pyplot as plt\n",
    "import scipy.optimize as opt"
   ]
  },
  {
   "cell_type": "markdown",
   "id": "a84dea2b",
   "metadata": {},
   "source": [
    "## Ejercicio 1: Regresión lineal regularizada"
   ]
  },
  {
   "cell_type": "markdown",
   "id": "049f83aa",
   "metadata": {},
   "source": [
    "Para cargar los datos del fichero proporcionado, utilizamos la función loadmat de scipy, ya que los casos de entrenamiento están en el formato nativo para matrices de Octave/Matlab. El diccionario resultante de la carga incluye las claves: X e y, con los datos de entrenamiento y Xval e yval con los ejemplos de validación."
   ]
  },
  {
   "cell_type": "code",
   "execution_count": 40,
   "id": "e389d99e",
   "metadata": {
    "scrolled": true
   },
   "outputs": [
    {
     "name": "stdout",
     "output_type": "stream",
     "text": [
      "(12, 1) (12, 1)\n",
      "(21, 1) (21, 1)\n",
      "-5.085426348834809 28.68873075847896\n",
      "11.217589325366376 12.492955274415026\n"
     ]
    }
   ],
   "source": [
    "mat = loadmat('ex5data1.mat')\n",
    "X = mat.get(\"X\")\n",
    "y = mat.get(\"y\")\n",
    "Xval = mat.get(\"Xval\")\n",
    "yval = mat.get(\"yval\")\n",
    "\n",
    "print(X.shape, y.shape)\n",
    "print(Xval.shape, yval.shape)\n",
    "print(np.mean(X), np.std(X))\n",
    "print(np.mean(y), np.std(y))"
   ]
  },
  {
   "cell_type": "code",
   "execution_count": 41,
   "id": "ea5cb871",
   "metadata": {},
   "outputs": [],
   "source": [
    "def coste_vec(Theta, X, y):   \n",
    "    H = np.dot(X, Theta)\n",
    "    #H = np.dot(Theta, X)\n",
    "    Aux = (H - y) ** 2\n",
    "    return Aux.sum() / (2 * len(X))"
   ]
  },
  {
   "cell_type": "code",
   "execution_count": 42,
   "id": "a8b049e3",
   "metadata": {},
   "outputs": [],
   "source": [
    "def coste_reg(Theta, X, y, Lambda):\n",
    "    Theta = Theta.reshape((Theta.shape[0],1))\n",
    "    Term1 = coste_vec(Theta, X, y)\n",
    "    Term2 = (Lambda/(2*len(y))) * np.sum(Theta**2)\n",
    "    cost = Term1 + Term2\n",
    "    return cost "
   ]
  },
  {
   "cell_type": "code",
   "execution_count": 125,
   "id": "634cf817",
   "metadata": {},
   "outputs": [],
   "source": [
    "def gradiente_vec(theta, X, y):\n",
    "    m = len(y)\n",
    "    h = np.matmul(X, theta[:, None])\n",
    "    err = (np.sum((h - y) ** 2)) / (2 * m)\n",
    "    return err"
   ]
  },
  {
   "cell_type": "code",
   "execution_count": 126,
   "id": "52da47c8",
   "metadata": {},
   "outputs": [],
   "source": [
    "def gradiente_reg(Theta, X, Y, Lambda):\n",
    "    Theta = Theta.reshape((Theta.shape[0],1))\n",
    "    item1 = gradiente_vec(Theta, X, Y).T\n",
    "    item2  = (Lambda/len(y))*np.r_[[np.zeros(Theta.shape[1])], Theta[1:]]\n",
    "    #item2  = (Lambda/len(y))*np.r_[[0], Theta[1:]]\n",
    "    grad = item1 + item2\n",
    "    grad = grad.flatten()\n",
    "    return grad"
   ]
  },
  {
   "cell_type": "code",
   "execution_count": 127,
   "id": "144dc476",
   "metadata": {},
   "outputs": [],
   "source": [
    "def coste_grad_reg(theta, X, y, Lambda):\n",
    "    m = len(y)\n",
    "    # Make theta 2-d to get cost and gradient\n",
    "    h = np.matmul(X, theta[:, None])\n",
    "\n",
    "    tt = np.copy(theta)\n",
    "    tt[0] = 0\n",
    "    cost = (np.sum((h - y) ** 2)) / (2 * m) + (Lambda / (2 * m)) * np.sum(tt ** 2)\n",
    "    gradients = (np.sum((h - y) * X, axis=0) / m) + (Lambda / m) * tt\n",
    "\n",
    "    return (cost, gradients)"
   ]
  },
  {
   "cell_type": "code",
   "execution_count": 128,
   "id": "b05a7d10",
   "metadata": {
    "scrolled": true
   },
   "outputs": [
    {
     "name": "stdout",
     "output_type": "stream",
     "text": [
      "303.9931922202643 [-15.30301567 598.25074417]\n"
     ]
    }
   ],
   "source": [
    "#theta = np.ones((2,1))\n",
    "theta = np.ones(2)\n",
    "m=len(y)\n",
    "X_1 = np.hstack([np.ones([m, 1]), X])\n",
    "coste, grad = coste_grad_reg(theta, X_1, y, 1)\n",
    "print(coste, grad)"
   ]
  },
  {
   "cell_type": "code",
   "execution_count": 129,
   "id": "33e68c53",
   "metadata": {},
   "outputs": [
    {
     "name": "stdout",
     "output_type": "stream",
     "text": [
      "(12, 2)\n",
      "(2,)\n"
     ]
    }
   ],
   "source": [
    "print(X_1.shape)\n",
    "print(theta.shape)"
   ]
  },
  {
   "cell_type": "code",
   "execution_count": 130,
   "id": "a2479281",
   "metadata": {},
   "outputs": [
    {
     "name": "stdout",
     "output_type": "stream",
     "text": [
      "Coste = 22.373906495109022\n"
     ]
    }
   ],
   "source": [
    "Lambda = 0\n",
    "theta = np.ones((2,1))\n",
    "#result = opt.fmin_tnc(func=coste_reg, x0=theta, fprime=gradiente_reg, args=(X_1,y,Lambda))\n",
    "res = opt.minimize(fun=coste_grad_reg,  x0=theta,  args=(X_1,y,Lambda),  jac=True,   method='TNC',  options={'maxiter':400,'disp':False})\n",
    "\n",
    "#Theta_opt=result[0]\n",
    "Theta_opt = res.x\n",
    "coste_opt = coste_reg(Theta_opt, X_1, y, Lambda)\n",
    "print('Coste = {}'.format(coste_opt))"
   ]
  },
  {
   "cell_type": "code",
   "execution_count": 131,
   "id": "5c44234d",
   "metadata": {},
   "outputs": [
    {
     "name": "stdout",
     "output_type": "stream",
     "text": [
      "(2,)\n"
     ]
    }
   ],
   "source": [
    "print(Theta_opt.shape)"
   ]
  },
  {
   "cell_type": "code",
   "execution_count": 132,
   "id": "fd310e6f",
   "metadata": {},
   "outputs": [],
   "source": [
    "def plot_H(X, Y, theta):\n",
    "    plt.plot(X, Y, \"x\")\n",
    "    theta0 = theta[0]\n",
    "    theta1 = theta[1]\n",
    "    min_x = min(X)\n",
    "    max_x = max(X)\n",
    "    min_y = theta0 + theta1 * min_x\n",
    "    max_y = theta0 + theta1 * max_x\n",
    "    plt.plot([min_x, max_x], [min_y, max_y])\n",
    "    plt.savefig(\"resultado.pdf\")"
   ]
  },
  {
   "cell_type": "code",
   "execution_count": 133,
   "id": "eddbe21d",
   "metadata": {},
   "outputs": [
    {
     "data": {
      "image/png": "[encoded data removed]",
      "text/plain": [
       "<Figure size 432x288 with 1 Axes>"
      ]
     },
     "metadata": {
      "needs_background": "light"
     },
     "output_type": "display_data"
    }
   ],
   "source": [
    "plot_H(X, y, Theta_opt)"
   ]
  },
  {
   "cell_type": "markdown",
   "id": "ae25c879",
   "metadata": {},
   "source": [
    "## Ejercicio 2: Curvas de aprendizaje"
   ]
  },
  {
   "cell_type": "code",
   "execution_count": 134,
   "id": "8fb030ae",
   "metadata": {},
   "outputs": [],
   "source": [
    "def curva_aprendizaje(theta, X, y, Lambda):\n",
    "    m = len(y)\n",
    "    X_1 = np.hstack([np.ones([m, 1]), X])\n",
    "    muestras, J_train, J_val = [], [], []\n",
    "    for i in range(1, 11, 1):\n",
    "        X_train_aux = X_1[:i, :]\n",
    "        y_train_aux = y[:i]\n",
    "        \n",
    "        #result = opt.fmin_tnc(func=coste_reg, x0=theta, fprime=gradiente_reg, args=(X_train_aux,y_train_aux,Lambda))\n",
    "        res = opt.minimize(fun=coste_grad_reg,  x0=theta,  args=(X_train_aux,y_train_aux,Lambda),  jac=True,   method='TNC',  options={'maxiter':400,'disp':False})\n",
    "        theta_aux = res.x\n",
    "        theta_aux = theta_aux.reshape((theta_aux.shape[0],1))\n",
    "        J_train.append(coste_vec(theta_aux,X_train_aux,y_train_aux))\n",
    "        J_val.append(coste_vec(theta_aux, X_1, y))\n",
    "        muestras.append(y_train_aux.shape[0])\n",
    "    return muestras, J_train, J_val"
   ]
  },
  {
   "cell_type": "code",
   "execution_count": 135,
   "id": "4d1f6279",
   "metadata": {},
   "outputs": [],
   "source": [
    "def plot_curva(muestras, J_train, J_val):\n",
    "    plt.figure()\n",
    "    plt.plot(muestras, J_train, label='Train')\n",
    "    plt.plot(muestras, J_val, label='Cross Validation')\n",
    "    plt.legend()\n",
    "    plt.title('Learning curve for linear regression')\n",
    "    plt.xlabel('Number of training examples')\n",
    "    plt.ylabel('Error')\n",
    "    plt.show()"
   ]
  },
  {
   "cell_type": "code",
   "execution_count": 136,
   "id": "c44cff32",
   "metadata": {},
   "outputs": [
    {
     "name": "stdout",
     "output_type": "stream",
     "text": [
      "[[-15.93675813]\n",
      " [-29.15297922]\n",
      " [ 36.18954863]\n",
      " [ 37.49218733]\n",
      " [-48.05882945]\n",
      " [ -8.94145794]\n",
      " [ 15.30779289]\n",
      " [-34.70626581]\n",
      " [  1.38915437]\n",
      " [-44.38375985]\n",
      " [  7.01350208]\n",
      " [ 22.76274892]]\n",
      "(12, 1)\n"
     ]
    }
   ],
   "source": [
    "print(X)\n",
    "print(X.shape)"
   ]
  },
  {
   "cell_type": "code",
   "execution_count": 137,
   "id": "32bebda3",
   "metadata": {
    "scrolled": true
   },
   "outputs": [
    {
     "data": {
      "image/png": "[encoded data removed]",
      "text/plain": [
       "<Figure size 432x288 with 1 Axes>"
      ]
     },
     "metadata": {
      "needs_background": "light"
     },
     "output_type": "display_data"
    }
   ],
   "source": [
    "muestras, J_train, J_val = curva_aprendizaje(theta, Xval, yval, 0)\n",
    "plot_curva(muestras, J_train, J_val)"
   ]
  },
  {
   "cell_type": "markdown",
   "id": "2dc31fcb",
   "metadata": {},
   "source": [
    "## Ejercicio 3: Regresión polinomial"
   ]
  },
  {
   "cell_type": "code",
   "execution_count": 138,
   "id": "357dc603",
   "metadata": {},
   "outputs": [],
   "source": [
    "def expand_X(X, p):\n",
    "    m=X.shape[0]\n",
    "    X_p = np.zeros((m,p))\n",
    "    for i in range(p):\n",
    "        dim = i+1\n",
    "        X_p[:, i] = X[:, 0] ** (i + 1)\n",
    " \n",
    "    return X_p\n",
    "    "
   ]
  },
  {
   "cell_type": "code",
   "execution_count": 139,
   "id": "745fa013",
   "metadata": {
    "scrolled": true
   },
   "outputs": [],
   "source": [
    "X_8 = expand_X(X,8)"
   ]
  },
  {
   "cell_type": "code",
   "execution_count": 140,
   "id": "ddd53d78",
   "metadata": {
    "scrolled": true
   },
   "outputs": [
    {
     "name": "stdout",
     "output_type": "stream",
     "text": [
      "[[-1.59367581e+01  2.53980260e+02 -4.04762197e+03  6.45059724e+04\n",
      "  -1.02801608e+06  1.63832436e+07 -2.61095791e+08  4.16102047e+09]\n",
      " [-2.91529792e+01  8.49896197e+02 -2.47770062e+04  7.22323546e+05\n",
      "  -2.10578833e+07  6.13900035e+08 -1.78970150e+10  5.21751305e+11]\n",
      " [ 3.61895486e+01  1.30968343e+03  4.73968522e+04  1.71527069e+06\n",
      "   6.20748719e+07  2.24646160e+09  8.12984311e+10  2.94215353e+12]\n",
      " [ 3.74921873e+01  1.40566411e+03  5.27014222e+04  1.97589159e+06\n",
      "   7.40804977e+07  2.77743990e+09  1.04132297e+11  3.90414759e+12]\n",
      " [-4.80588295e+01  2.30965109e+03 -1.10999128e+05  5.33448815e+06\n",
      "  -2.56369256e+08  1.23208064e+10 -5.92123532e+11  2.84567638e+13]\n",
      " [-8.94145794e+00  7.99496701e+01 -7.14866612e+02  6.39194974e+03\n",
      "  -5.71533498e+04  5.11034273e+05 -4.56939146e+06  4.08570215e+07]\n",
      " [ 1.53077929e+01  2.34328523e+02  3.58705250e+03  5.49098568e+04\n",
      "   8.40548715e+05  1.28669456e+07  1.96964539e+08  3.01509237e+09]\n",
      " [-3.47062658e+01  1.20452489e+03 -4.18045609e+04  1.45088020e+06\n",
      "  -5.03546340e+07  1.74762131e+09 -6.06534098e+10  2.10505336e+12]\n",
      " [ 1.38915437e+00  1.92974986e+00  2.68072045e+00  3.72393452e+00\n",
      "   5.17311991e+00  7.18626212e+00  9.98282742e+00  1.38676883e+01]\n",
      " [-4.43837599e+01  1.96991814e+03 -8.74323736e+04  3.88057747e+06\n",
      "  -1.72234619e+08  7.64441995e+09 -3.39288099e+11  1.50588815e+13]\n",
      " [ 7.01350208e+00  4.91892115e+01  3.44988637e+02  2.41957852e+03\n",
      "   1.69697190e+04  1.19017160e+05  8.34727097e+05  5.85436023e+06]\n",
      " [ 2.27627489e+01  5.18142738e+02  1.17943531e+04  2.68471897e+05\n",
      "   6.11115839e+06  1.39106764e+08  3.16645234e+09  7.20771597e+10]]\n",
      "(12, 8)\n"
     ]
    }
   ],
   "source": [
    "print(X_8)\n",
    "print(X_8.shape)"
   ]
  },
  {
   "cell_type": "code",
   "execution_count": 141,
   "id": "da055ffc",
   "metadata": {},
   "outputs": [],
   "source": [
    "def normalizer(X):\n",
    "    mu = np.mean(X, axis=0)\n",
    "    sigma = np.std(X, axis=0)\n",
    "    X_norm = (X-mu)/sigma\n",
    "    return X_norm, mu, sigma"
   ]
  },
  {
   "cell_type": "code",
   "execution_count": 142,
   "id": "a00d1342",
   "metadata": {},
   "outputs": [
    {
     "name": "stdout",
     "output_type": "stream",
     "text": [
      "[[-3.78243704e-01 -7.88662325e-01  1.90328720e-01 -7.37591303e-01\n",
      "   3.20251970e-01 -6.17151602e-01  3.59835014e-01 -5.31091256e-01]\n",
      " [-8.38920100e-01  1.31420204e-03 -2.58961742e-01 -3.41564822e-01\n",
      "   9.75492734e-02 -4.55196644e-01  2.66773432e-01 -4.68873807e-01]\n",
      " [ 1.43871736e+00  6.10831582e-01  1.30534069e+00  2.56220001e-01\n",
      "   1.02186338e+00 -1.26962121e-02  7.90210009e-01 -1.77926980e-01]\n",
      " [ 1.48412330e+00  7.38068463e-01  1.42031240e+00  4.13121830e-01\n",
      "   1.15534830e+00  1.31223708e-01  9.10700224e-01 -6.22895388e-02]\n",
      " [-1.49791929e+00  1.93643966e+00 -2.12774745e+00  2.43510061e+00\n",
      "  -2.51876748e+00  2.71792174e+00 -2.76331690e+00  2.88908182e+00]\n",
      " [-1.34409278e-01 -1.01936614e+00  2.62563148e-01 -7.72577738e-01\n",
      "   3.31046537e-01 -6.21453712e-01  3.61188658e-01 -5.31586524e-01]\n",
      " [ 7.10844248e-01 -8.14713668e-01  3.55803314e-01 -7.43368461e-01\n",
      "   3.41027665e-01 -6.18104683e-01  3.62252117e-01 -5.31229003e-01]\n",
      " [-1.03249041e+00  4.71428060e-01 -6.28018432e-01  9.70487696e-02\n",
      "  -2.28187552e-01 -1.47905228e-01  4.11556057e-02 -2.78551428e-01]\n",
      " [ 2.25683763e-01 -1.12279332e+00  2.78115330e-01 -7.76423647e-01\n",
      "   3.31682056e-01 -6.21592224e-01  3.61212770e-01 -5.31591435e-01]\n",
      " [-1.36981778e+00  1.48607235e+00 -1.61695958e+00  1.55980151e+00\n",
      "  -1.58331392e+00  1.45040261e+00 -1.42914967e+00  1.27857621e+00]\n",
      " [ 4.21731046e-01 -1.06014377e+00  2.85534542e-01 -7.74969228e-01\n",
      "   3.31870677e-01 -6.21559967e-01  3.61217175e-01 -5.31590732e-01]\n",
      " [ 9.70700848e-01 -4.38475085e-01  5.33689054e-01 -6.14797521e-01\n",
      "   3.99629101e-01 -5.83887796e-01  3.77921571e-01 -5.22927330e-01]]\n",
      "(12, 8)\n"
     ]
    }
   ],
   "source": [
    "X_8_norm, mu, sigma = normalizer(X_8)\n",
    "print(X_8_norm)\n",
    "print(X_8_norm.shape)"
   ]
  },
  {
   "cell_type": "code",
   "execution_count": 143,
   "id": "d30dcd6f",
   "metadata": {},
   "outputs": [
    {
     "name": "stdout",
     "output_type": "stream",
     "text": [
      "[-5.08542635e+00  8.48904834e+02 -1.28290173e+04  1.28967789e+06\n",
      " -2.98314592e+07  2.29330301e+09 -6.84527284e+10  4.42233759e+12]\n",
      "(8,)\n",
      "[2.86887308e+01 7.54346385e+02 4.61380464e+04 1.66104441e+06\n",
      " 8.99399404e+07 3.68940106e+09 1.89508052e+11 8.31905350e+12]\n",
      "(8,)\n"
     ]
    }
   ],
   "source": [
    "print(mu)\n",
    "print(mu.shape)\n",
    "\n",
    "print(sigma)\n",
    "print(sigma.shape)"
   ]
  },
  {
   "cell_type": "code",
   "execution_count": 144,
   "id": "c070c695",
   "metadata": {},
   "outputs": [],
   "source": [
    "#Añadimos columna de 1's a los datos de entrenamiento X_8_norm\n",
    "m = X_8_norm.shape[0]\n",
    "X_1 = np.hstack([np.ones([m, 1]), X_8_norm])"
   ]
  },
  {
   "cell_type": "code",
   "execution_count": 145,
   "id": "760f6081",
   "metadata": {
    "scrolled": false
   },
   "outputs": [
    {
     "name": "stdout",
     "output_type": "stream",
     "text": [
      "Coste = 0.02896598188082269\n"
     ]
    }
   ],
   "source": [
    "Lambda = 0\n",
    "theta = np.ones((9,1))\n",
    "#result = opt.fmin_tnc(func=coste_reg, x0=theta, fprime=gradiente_reg, args=(X_1,y,Lambda))\n",
    "res = opt.minimize(fun=coste_grad_reg,  x0=theta,  args=(X_1,y,Lambda),  jac=True,   method='TNC',  options={'maxiter':400,'disp':False})\n",
    "Theta_opt=res.x\n",
    "coste_opt = coste_reg(Theta_opt, X_1, y, Lambda)\n",
    "print('Coste = {}'.format(coste_opt))"
   ]
  },
  {
   "cell_type": "code",
   "execution_count": 146,
   "id": "9a9448c3",
   "metadata": {},
   "outputs": [
    {
     "name": "stdout",
     "output_type": "stream",
     "text": [
      "[ 11.21757413   9.04704531  18.08102347  29.77179742 -26.59112451\n",
      " -76.87787174   4.95824071  62.74491073  22.31024911]\n"
     ]
    }
   ],
   "source": [
    "print(Theta_opt)"
   ]
  },
  {
   "cell_type": "code",
   "execution_count": 147,
   "id": "91824234",
   "metadata": {},
   "outputs": [],
   "source": [
    "def plot_poli(X, y, theta, mu, sigma):\n",
    "    plt.plot(X, y, \"x\")\n",
    "    \n",
    "    x1_min, x1_max = X[:, 0].min(), X[:, 0].max()\n",
    "    xx1 = np.linspace(x1_min, x1_max)\n",
    "    \n",
    "    xx1=xx1.reshape((xx1.shape[0],1))\n",
    "    \n",
    "    theta=theta.reshape((theta.shape[0],1))\n",
    "    \n",
    "    X_8 = expand_X(xx1,8)\n",
    "    \n",
    "    X_8_norm = (X_8 - mu)/sigma\n",
    "    X_8_norm_1 = np.hstack([np.ones([X_8_norm.shape[0], 1]), X_8_norm])\n",
    "\n",
    "    \n",
    "    h=0\n",
    "    h = np.matmul(X_8_norm_1,theta)\n",
    "        # 50x8 x 8, -> 50x1 -> 50,\n",
    "\n",
    "    plt.plot(xx1, h)  \n",
    "    plt.title('Polynomial regression (lambda = 0)')\n",
    "    plt.xlabel('Change in water level (x)')\n",
    "    plt.ylabel('Water lowing out of the dam (y)')\n",
    "    plt.show()\n"
   ]
  },
  {
   "cell_type": "code",
   "execution_count": 148,
   "id": "ae8cbbd5",
   "metadata": {
    "scrolled": false
   },
   "outputs": [
    {
     "data": {
      "image/png": "[encoded data removed]",
      "text/plain": [
       "<Figure size 432x288 with 1 Axes>"
      ]
     },
     "metadata": {
      "needs_background": "light"
     },
     "output_type": "display_data"
    }
   ],
   "source": [
    "plot_poli(X, y, Theta_opt, mu, sigma)"
   ]
  },
  {
   "cell_type": "code",
   "execution_count": 149,
   "id": "d434f76a",
   "metadata": {},
   "outputs": [],
   "source": [
    "def trainLinearReg(X, y, Lambda):\n",
    "    initial_theta = np.zeros(np.size(X,1))\n",
    "    #res = opt.fmin_tnc(func=coste_reg, x0=initial_theta, fprime=gradiente_reg, args=(X,y,Lambda))\n",
    "    res = opt.minimize(fun=coste_grad_reg, x0=initial_theta, args=(X,y,Lambda), jac=True, method='TNC', options={'maxiter':400,'disp':False})\n",
    "    return res.x"
   ]
  },
  {
   "cell_type": "code",
   "execution_count": 150,
   "id": "ae14f0e7",
   "metadata": {},
   "outputs": [],
   "source": [
    "def curva_aprendizaje_poli(X, y, Xval, yval, Lambda):\n",
    "    m_train = len(y)\n",
    "    J_train = np.zeros(m_train)\n",
    "    J_val = np.zeros(m_train)\n",
    "    \n",
    "    for i in range(1, m_train+1):\n",
    "        theta_aux = trainLinearReg(X[0: i], y[0: i], Lambda)\n",
    "        theta_aux = theta_aux.reshape((theta_aux.shape[0],1))\n",
    "        J_train[i-1] = coste_vec(theta_aux, X[0: i], y[0: i])\n",
    "        J_val[i-1] = coste_vec(theta_aux, Xval, yval)\n",
    "        \n",
    "    return (J_train, J_val)"
   ]
  },
  {
   "cell_type": "code",
   "execution_count": 151,
   "id": "8900755a",
   "metadata": {},
   "outputs": [],
   "source": [
    "X_8 = expand_X(X,8)\n",
    "X_8_norm, mu, sigma = normalizer(X_8)\n",
    "X_poly = np.hstack((np.ones_like(y), X_8_norm))"
   ]
  },
  {
   "cell_type": "code",
   "execution_count": 152,
   "id": "35e14251",
   "metadata": {},
   "outputs": [],
   "source": [
    "X_8_val = expand_X(Xval,8)\n",
    "X_8_norm_val, mu, sigma = normalizer(X_8_val)\n",
    "X_poly_val = np.hstack((np.ones_like(yval), X_8_norm_val))"
   ]
  },
  {
   "cell_type": "code",
   "execution_count": 153,
   "id": "bf267a14",
   "metadata": {},
   "outputs": [],
   "source": [
    "#Curva de aprendizaje lAMBDA = 0\n",
    "Lambda = 0.0\n",
    "X_1 = np.hstack((np.ones_like(y), X_poly))\n",
    "Xval_1 = np.hstack((np.ones_like(yval), X_poly_val))\n",
    "J_train, J_val = curva_aprendizaje_poli(X_poly, y, X_poly_val, yval, Lambda)\n",
    "#J_train, J_val = curva_aprendizaje_poli(X_1, y, Xval_1, yval, Lambda)"
   ]
  },
  {
   "cell_type": "code",
   "execution_count": 154,
   "id": "345610df",
   "metadata": {},
   "outputs": [
    {
     "data": {
      "image/png": "[encoded data removed]",
      "text/plain": [
       "<Figure size 432x288 with 1 Axes>"
      ]
     },
     "metadata": {
      "needs_background": "light"
     },
     "output_type": "display_data"
    }
   ],
   "source": [
    "plt.figure()\n",
    "plt.plot(range(1, len(X)+1), J_train, range(1, len(X)+1), J_val)\n",
    "plt.title('Learning curve for linear regression ($\\lambda = 0$)')\n",
    "plt.legend(['Train', 'Cross Validation'])\n",
    "plt.xlabel('Number of training examples')\n",
    "plt.ylabel('Error')\n",
    "plt.savefig('learning curve (lambda = 0).pdf')\n",
    "plt.show()\n",
    "\n",
    "plt.close()"
   ]
  },
  {
   "cell_type": "code",
   "execution_count": 155,
   "id": "c118638c",
   "metadata": {},
   "outputs": [],
   "source": [
    "#Curva de aprendizaje lAMBDA = 1\n",
    "Lambda = 1.0\n",
    "J_train, J_val = curva_aprendizaje_poli(X_poly, y, X_poly_val, yval, Lambda)\n",
    "#J_train, J_val = curva_aprendizaje_poli(X_1, y, Xval_1, yval, Lambda)"
   ]
  },
  {
   "cell_type": "code",
   "execution_count": 156,
   "id": "a2ed2d3f",
   "metadata": {},
   "outputs": [
    {
     "data": {
      "image/png": "[encoded data removed]",
      "text/plain": [
       "<Figure size 432x288 with 1 Axes>"
      ]
     },
     "metadata": {
      "needs_background": "light"
     },
     "output_type": "display_data"
    }
   ],
   "source": [
    "plt.figure()\n",
    "plt.plot(range(1, len(X)+1), J_train, range(1, len(X)+1), J_val)\n",
    "plt.title('Learning curve for linear regression ($\\lambda = 1$)')\n",
    "plt.legend(['Train', 'Cross Validation'])\n",
    "plt.xlabel('Number of training examples')\n",
    "plt.ylabel('Error')\n",
    "plt.savefig('learning curve (lambda = 0).pdf')\n",
    "plt.show()\n",
    "\n",
    "plt.close()"
   ]
  },
  {
   "cell_type": "code",
   "execution_count": 157,
   "id": "a9562b3e",
   "metadata": {},
   "outputs": [],
   "source": [
    "#Curva de aprendizaje lAMBDA = 100\n",
    "Lambda = 100.0\n",
    "J_train, J_val = curva_aprendizaje_poli(X_poly, y, X_poly_val, yval, Lambda)\n",
    "#J_train, J_val = curva_aprendizaje_poli(X_1, y, Xval_1, yval, Lambda)"
   ]
  },
  {
   "cell_type": "code",
   "execution_count": 158,
   "id": "0adf3e81",
   "metadata": {},
   "outputs": [
    {
     "data": {
      "image/png": "[encoded data removed]",
      "text/plain": [
       "<Figure size 432x288 with 1 Axes>"
      ]
     },
     "metadata": {
      "needs_background": "light"
     },
     "output_type": "display_data"
    }
   ],
   "source": [
    "plt.figure()\n",
    "plt.plot(range(1, len(X)+1), J_train, range(1, len(X)+1), J_val)\n",
    "plt.title('Learning curve for linear regression ($\\lambda = 100$)')\n",
    "plt.legend(['Train', 'Cross Validation'])\n",
    "plt.xlabel('Number of training examples')\n",
    "plt.ylabel('Error')\n",
    "plt.savefig('learning curve (lambda = 0).pdf')\n",
    "plt.show()\n",
    "\n",
    "plt.close()"
   ]
  },
  {
   "cell_type": "markdown",
   "id": "cb080e1a",
   "metadata": {},
   "source": [
    "### Selección del parámetro Lambda"
   ]
  },
  {
   "cell_type": "code",
   "execution_count": 159,
   "id": "f9ef9cd8",
   "metadata": {},
   "outputs": [],
   "source": [
    "def validationCurve(X, y, Xval, yval):\n",
    "    Lambdas = np.array([0, 0.001, 0.003, 0.01, 0.03, 0.1, 0.3, 1, 3, 10]).reshape((-1,1))\n",
    "    error_train = np.zeros(len(Lambdas))\n",
    "    error_val = np.zeros(len(Lambdas))\n",
    "    \n",
    "    for i in range(len(Lambdas)):\n",
    "        reg = Lambdas[i]\n",
    "        theta_aux = trainLinearReg(X, y, reg)\n",
    "        theta_aux = theta_aux.reshape((theta_aux.shape[0],1))\n",
    "        error_train[i] = coste_vec(theta_aux, X, y)\n",
    "        error_val[i] = coste_vec(theta_aux, Xval, yval)\n",
    "        \n",
    "    return (Lambdas, error_train, error_val)"
   ]
  },
  {
   "cell_type": "code",
   "execution_count": 160,
   "id": "fdaa5acf",
   "metadata": {},
   "outputs": [],
   "source": [
    "Lambdas, train, crossvalidation = validationCurve(X_1, y, Xval_1, yval)"
   ]
  },
  {
   "cell_type": "code",
   "execution_count": 161,
   "id": "e6d967ee",
   "metadata": {},
   "outputs": [
    {
     "data": {
      "image/png": "[encoded data removed]",
      "text/plain": [
       "<Figure size 432x288 with 1 Axes>"
      ]
     },
     "metadata": {
      "needs_background": "light"
     },
     "output_type": "display_data"
    }
   ],
   "source": [
    "plt.figure()\n",
    "plt.plot(Lambdas, train, label='Train')\n",
    "plt.plot(Lambdas, crossvalidation, label='Cross validation')\n",
    "plt.title('Selecting ($\\lambda$) using a cross validation set')\n",
    "plt.xlabel('Lambda')\n",
    "plt.ylabel('Error')\n",
    "plt.savefig('')\n",
    "plt.show()\n",
    "\n",
    "plt.close()"
   ]
  },
  {
   "cell_type": "code",
   "execution_count": null,
   "id": "59fa308d",
   "metadata": {},
   "outputs": [],
   "source": []
  },
  {
   "cell_type": "code",
   "execution_count": null,
   "id": "387031bc",
   "metadata": {},
   "outputs": [],
   "source": []
  }
 ],
 "metadata": {
  "kernelspec": {
   "display_name": "Python 3 (ipykernel)",
   "language": "python",
   "name": "python3"
  },
  "language_info": {
   "codemirror_mode": {
    "name": "ipython",
    "version": 3
   },
   "file_extension": ".py",
   "mimetype": "text/x-python",
   "name": "python",
   "nbconvert_exporter": "python",
   "pygments_lexer": "ipython3",
   "version": "3.9.7"
  }
 },
 "nbformat": 4,
 "nbformat_minor": 5
}
