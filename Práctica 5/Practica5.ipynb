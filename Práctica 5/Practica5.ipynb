{
 "cells": [
  {
   "cell_type": "markdown",
   "id": "5ee8fed3",
   "metadata": {},
   "source": [
    "# Práctica 5"
   ]
  },
  {
   "cell_type": "code",
   "execution_count": 568,
   "id": "cd28dc24",
   "metadata": {},
   "outputs": [],
   "source": [
    "from scipy.io import loadmat\n",
    "import numpy as np\n",
    "import matplotlib.pyplot as plt\n",
    "import scipy.optimize as opt"
   ]
  },
  {
   "cell_type": "markdown",
   "id": "a84dea2b",
   "metadata": {},
   "source": [
    "## Ejercicio 1: Regresión lineal regularizada"
   ]
  },
  {
   "cell_type": "code",
   "execution_count": 569,
   "id": "e389d99e",
   "metadata": {},
   "outputs": [
    {
     "name": "stdout",
     "output_type": "stream",
     "text": [
      "(12, 1) (12, 1)\n",
      "(21, 1) (21, 1)\n",
      "-5.085426348834809 28.68873075847896\n",
      "11.217589325366376 12.492955274415026\n"
     ]
    }
   ],
   "source": [
    "mat = loadmat('ex5data1.mat')\n",
    "X = mat.get(\"X\")\n",
    "y = mat.get(\"y\")\n",
    "Xval = mat.get(\"Xval\")\n",
    "yval = mat.get(\"yval\")\n",
    "\n",
    "print(X.shape, y.shape)\n",
    "print(Xval.shape, yval.shape)\n",
    "print(np.mean(X), np.std(X))\n",
    "print(np.mean(y), np.std(y))"
   ]
  },
  {
   "cell_type": "code",
   "execution_count": 570,
   "id": "ea5cb871",
   "metadata": {},
   "outputs": [],
   "source": [
    "def coste_vec(Theta, X, y):   \n",
    "    H = np.dot(X, Theta)\n",
    "    #H = np.dot(Theta, X)\n",
    "    Aux = (H - y) ** 2\n",
    "    return Aux.sum() / (2 * len(X))"
   ]
  },
  {
   "cell_type": "code",
   "execution_count": 571,
   "id": "a8b049e3",
   "metadata": {},
   "outputs": [],
   "source": [
    "def coste_reg(Theta, X, y, Lambda):\n",
    "    Theta = Theta.reshape((Theta.shape[0],1))\n",
    "    Term1 = coste_vec(Theta, X, y)\n",
    "    Term2 = (Lambda/(2*len(y))) * np.sum(Theta**2)\n",
    "    cost = Term1 + Term2\n",
    "    return cost "
   ]
  },
  {
   "cell_type": "code",
   "execution_count": 572,
   "id": "634cf817",
   "metadata": {},
   "outputs": [],
   "source": [
    "def gradiente_vec(Theta, X, Y):\n",
    "    m = np.shape(X)[0]\n",
    "    H = np.dot(X, Theta)\n",
    "    Aux = (H - Y)\n",
    "    grad = np.dot(Aux.T, X) * (1/m)\n",
    "    return grad"
   ]
  },
  {
   "cell_type": "code",
   "execution_count": 573,
   "id": "52da47c8",
   "metadata": {},
   "outputs": [],
   "source": [
    "def gradiente_reg(Theta, X, Y, Lambda):\n",
    "    Theta = Theta.reshape((Theta.shape[0],1))\n",
    "    item1 = gradiente_vec(Theta, X, Y).T\n",
    "    item2  = (Lambda/len(y))*np.r_[[np.zeros(Theta.shape[1])], Theta[1:]]\n",
    "    #item2  = (Lambda/len(y))*np.r_[[0], Theta[1:]]\n",
    "    grad = item1 + item2\n",
    "    grad = grad.flatten()\n",
    "    return grad"
   ]
  },
  {
   "cell_type": "code",
   "execution_count": 574,
   "id": "144dc476",
   "metadata": {},
   "outputs": [],
   "source": [
    "def coste_grad_reg(Theta, X, Y, Lambda):\n",
    "    coste = coste_reg(Theta, X, y, Lambda)\n",
    "    grad = gradiente_reg(Theta, X, Y, Lambda)\n",
    "    return coste, grad"
   ]
  },
  {
   "cell_type": "code",
   "execution_count": 575,
   "id": "b05a7d10",
   "metadata": {
    "scrolled": true
   },
   "outputs": [
    {
     "name": "stdout",
     "output_type": "stream",
     "text": [
      "304.0348588869309 [-15.30301567 598.25074417]\n"
     ]
    }
   ],
   "source": [
    "theta = np.ones((2,1))\n",
    "#theta = np.ones(2)\n",
    "m=len(y)\n",
    "X_1 = np.hstack([np.ones([m, 1]), X])\n",
    "coste, grad = coste_grad_reg(theta, X_1, y, 1)\n",
    "print(coste, grad)"
   ]
  },
  {
   "cell_type": "code",
   "execution_count": 576,
   "id": "33e68c53",
   "metadata": {},
   "outputs": [
    {
     "name": "stdout",
     "output_type": "stream",
     "text": [
      "(12, 2)\n",
      "(2, 1)\n"
     ]
    }
   ],
   "source": [
    "print(X_1.shape)\n",
    "print(theta.shape)"
   ]
  },
  {
   "cell_type": "code",
   "execution_count": 577,
   "id": "a2479281",
   "metadata": {},
   "outputs": [
    {
     "name": "stdout",
     "output_type": "stream",
     "text": [
      "Coste = 22.373906495108997\n"
     ]
    },
    {
     "name": "stderr",
     "output_type": "stream",
     "text": [
      "  NIT   NF   F                       GTG\n",
      "    0    1  3.039515255535976E+02   3.58038434E+05\n",
      "tnc: fscale = 0.000835613\n",
      "    1    3  9.299577620594808E+01   1.36988337E+02\n",
      "tnc: fscale = 0.0427197\n",
      "    2    5  4.008670401834720E+01   2.25224914E+04\n",
      "    3    7  2.237390649510903E+01   4.98134512E-11\n",
      "tnc: fscale = 70843\n",
      "tnc: |fn-fn-1] = 3.28657e-14 -> convergence\n",
      "    4    9  2.237390649510900E+01   1.75504072E-13\n",
      "tnc: Converged (|f_n-f_(n-1)| ~= 0)\n"
     ]
    }
   ],
   "source": [
    "Lambda = 0\n",
    "theta = np.ones((2,1))\n",
    "result = opt.fmin_tnc(func=coste_reg, x0=theta, fprime=gradiente_reg, args=(X_1,y,Lambda))\n",
    "#res = opt.minimize(fun=coste_reg,  x0=theta,  args=(X_1,y,Lambda),  jac=True,   method='TNC',  options={'maxiter':400,'disp':False})\n",
    "\n",
    "Theta_opt=result[0]\n",
    "#Theta_opt = res.x\n",
    "coste_opt = coste_reg(Theta_opt, X_1, y, Lambda)\n",
    "print('Coste = {}'.format(coste_opt))"
   ]
  },
  {
   "cell_type": "code",
   "execution_count": 578,
   "id": "5c44234d",
   "metadata": {},
   "outputs": [
    {
     "name": "stdout",
     "output_type": "stream",
     "text": [
      "(2,)\n"
     ]
    }
   ],
   "source": [
    "print(Theta_opt.shape)"
   ]
  },
  {
   "cell_type": "code",
   "execution_count": 579,
   "id": "fd310e6f",
   "metadata": {},
   "outputs": [],
   "source": [
    "def plot_H(X, Y, theta):\n",
    "    plt.plot(X, Y, \"x\")\n",
    "    theta0 = theta[0]\n",
    "    theta1 = theta[1]\n",
    "    min_x = min(X)\n",
    "    max_x = max(X)\n",
    "    min_y = theta0 + theta1 * min_x\n",
    "    max_y = theta0 + theta1 * max_x\n",
    "    plt.plot([min_x, max_x], [min_y, max_y])\n",
    "    plt.savefig(\"resultado.pdf\")"
   ]
  },
  {
   "cell_type": "code",
   "execution_count": 580,
   "id": "eddbe21d",
   "metadata": {},
   "outputs": [
    {
     "data": {
      "image/png": "[encoded data removed]",
      "text/plain": [
       "<Figure size 432x288 with 1 Axes>"
      ]
     },
     "metadata": {
      "needs_background": "light"
     },
     "output_type": "display_data"
    }
   ],
   "source": [
    "plot_H(X, y, Theta_opt)"
   ]
  },
  {
   "cell_type": "markdown",
   "id": "ae25c879",
   "metadata": {},
   "source": [
    "## Ejercicio 2: Curvas de aprendizaje"
   ]
  },
  {
   "cell_type": "code",
   "execution_count": 581,
   "id": "8fb030ae",
   "metadata": {},
   "outputs": [],
   "source": [
    "def curva_aprendizaje(theta, X, y, Lambda):\n",
    "    m = len(y)\n",
    "    X_1 = np.hstack([np.ones([m, 1]), X])\n",
    "    muestras, J_train, J_val = [], [], []\n",
    "    for i in range(1, 11, 1):\n",
    "        X_train_aux = X_1[:i, :]\n",
    "        y_train_aux = y[:i]\n",
    "        \n",
    "        result = opt.fmin_tnc(func=coste_reg, x0=theta, fprime=gradiente_reg, args=(X_train_aux,y_train_aux,Lambda))\n",
    "        theta_aux = result[0]\n",
    "        theta_aux = theta_aux.reshape((theta_aux.shape[0],1))\n",
    "        J_train.append(coste_vec(theta_aux,X_train_aux,y_train_aux))\n",
    "        J_val.append(coste_vec(theta_aux, X_1, y))\n",
    "        muestras.append(y_train_aux.shape[0])\n",
    "    return muestras, J_train, J_val"
   ]
  },
  {
   "cell_type": "code",
   "execution_count": 582,
   "id": "4d1f6279",
   "metadata": {},
   "outputs": [],
   "source": [
    "def plot_curva(muestras, J_train, J_val):\n",
    "    plt.figure()\n",
    "    plt.plot(muestras, J_train, label='Train')\n",
    "    plt.plot(muestras, J_val, label='Cross Validation')\n",
    "    plt.legend()\n",
    "    plt.title('Learning curve for linear regression')\n",
    "    plt.xlabel('Number of training examples')\n",
    "    plt.ylabel('Error')\n",
    "    plt.show()"
   ]
  },
  {
   "cell_type": "code",
   "execution_count": 583,
   "id": "c44cff32",
   "metadata": {},
   "outputs": [
    {
     "name": "stdout",
     "output_type": "stream",
     "text": [
      "[[-15.93675813]\n",
      " [-29.15297922]\n",
      " [ 36.18954863]\n",
      " [ 37.49218733]\n",
      " [-48.05882945]\n",
      " [ -8.94145794]\n",
      " [ 15.30779289]\n",
      " [-34.70626581]\n",
      " [  1.38915437]\n",
      " [-44.38375985]\n",
      " [  7.01350208]\n",
      " [ 22.76274892]]\n",
      "(12, 1)\n"
     ]
    }
   ],
   "source": [
    "print(X)\n",
    "print(X.shape)"
   ]
  },
  {
   "cell_type": "code",
   "execution_count": 584,
   "id": "32bebda3",
   "metadata": {
    "scrolled": true
   },
   "outputs": [
    {
     "name": "stderr",
     "output_type": "stream",
     "text": [
      "  NIT   NF   F                       GTG\n",
      "    0    1  1.983382220354939E+02   1.11643181E+05\n",
      "tnc: fscale = 0.00149642\n",
      "    1    3  0.000000000000000E+00   0.00000000E+00\n",
      "tnc: |pg| = 0 -> local minimum\n",
      "    1    3  0.000000000000000E+00   0.00000000E+00\n",
      "tnc: Local minima reach (|pg| ~= 0)\n",
      "  NIT   NF   F                       GTG\n",
      "    0    1  1.770032665575511E+02   8.75996824E+04\n",
      "tnc: fscale = 0.00168935\n",
      "    1    3  1.261743591513712E-02   1.19940005E-04\n",
      "tnc: fscale = 45.655\n",
      "    2    5  2.953939264305745E-05   1.45859855E-02\n",
      "    3    7  1.620699271551924E-17   1.60541232E-17\n",
      "tnc: |pg| = 8.77618e-11 -> local minimum\n",
      "    3    7  1.620699271551924E-17   1.60541232E-17\n",
      "tnc: Local minima reach (|pg| ~= 0)\n",
      "  NIT   NF   F                       GTG\n",
      "    0    1  1.202137107575862E+02   5.71663578E+04\n",
      "tnc: fscale = 0.00209122\n",
      "    1    3  6.917917330478663E+01   1.38130584E+02\n",
      "tnc: fscale = 0.0425427\n",
      "    2    5  3.983590896104634E+01   1.88985835E+04\n",
      "    3    7  1.412194954093371E-01   1.97910880E-13\n",
      "tnc: |pg| = 1.04571e-05 -> local minimum\n",
      "    3    7  1.412194954093371E-01   1.97910880E-13\n",
      "tnc: Local minima reach (|pg| ~= 0)\n",
      "  NIT   NF   F                       GTG\n",
      "    0    1  4.910827321490788E+02   7.14046718E+05\n",
      "tnc: fscale = 0.000591707\n",
      "    1    3  1.243208174905255E+02   1.71970001E+02\n",
      "tnc: fscale = 0.038128\n",
      "    2    5  4.694660319622367E+01   3.17805410E+04\n",
      "    3    7  2.625824992392326E+01   1.44508698E-11\n",
      "tnc: fscale = 131529\n",
      "    3   10  2.625824992392326E+01   1.44508698E-11\n",
      "tnc: Linear search failed\n",
      "  NIT   NF   F                       GTG\n",
      "    0    1  3.966350378561158E+02   5.20366029E+05\n",
      "tnc: fscale = 0.000693131\n",
      "    1    3  1.492579653991221E+02   2.53846382E+02\n",
      "tnc: fscale = 0.0313823\n",
      "    2    5  6.530152362267215E+01   5.99365879E+04\n",
      "    3    7  2.217027271605308E+01   1.10578469E-10\n",
      "tnc: fscale = 47548.3\n",
      "tnc: |fn-fn-1] = 4.89672e-14 -> convergence\n",
      "    4    9  2.217027271605303E+01   1.96045506E-13\n",
      "tnc: Converged (|f_n-f_(n-1)| ~= 0)\n",
      "  NIT   NF   F                       GTG\n",
      "    0    1  4.966307699542749E+02   8.17161363E+05\n",
      "tnc: fscale = 0.000553116\n",
      "    1    3  1.421191052069708E+02   2.33601157E+02\n",
      "tnc: fscale = 0.0327139\n",
      "    2    5  5.052919452058857E+01   5.45425719E+04\n",
      "    3    7  1.862409877728207E+01   2.64540778E-11\n",
      "tnc: fscale = 97212.9\n",
      "tnc: |fn-fn-1] = 1.19753e-14 -> convergence\n",
      "    4    9  1.862409877728206E+01   5.95362095E-14\n",
      "tnc: Converged (|f_n-f_(n-1)| ~= 0)\n",
      "  NIT   NF   F                       GTG\n",
      "    0    1  4.301680593846369E+02   6.08274370E+05\n",
      "tnc: fscale = 0.000641092\n",
      "    1    3  1.231801773319319E+02   1.87887118E+02\n",
      "tnc: fscale = 0.0364772\n",
      "    2    5  4.805911993131370E+01   3.64229113E+04\n",
      "    3    7  2.372155389003464E+01   1.27768645E-11\n",
      "tnc: fscale = 139881\n",
      "tnc: |fn-fn-1] = 3.32899e-15 -> convergence\n",
      "    4    9  2.372155389003463E+01   3.62908042E-14\n",
      "tnc: Converged (|f_n-f_(n-1)| ~= 0)\n",
      "  NIT   NF   F                       GTG\n",
      "    0    1  3.781245129691757E+02   4.89783545E+05\n",
      "tnc: fscale = 0.000714444\n",
      "    1    3  1.216180819597782E+02   1.99356324E+02\n",
      "tnc: fscale = 0.0354124\n",
      "    2    5  4.930288647049614E+01   3.89288572E+04\n",
      "    3    7  2.091081776953575E+01   1.47601252E-10\n",
      "tnc: fscale = 41155.2\n",
      "tnc: |fn-fn-1] = 7.63746e-14 -> convergence\n",
      "    4    9  2.091081776953567E+01   3.93054645E-13\n",
      "tnc: Converged (|f_n-f_(n-1)| ~= 0)\n",
      "  NIT   NF   F                       GTG\n",
      "    0    1  4.331686029112835E+02   6.73875593E+05\n",
      "tnc: fscale = 0.000609088\n",
      "    1    3  1.129671230734622E+02   1.78223455E+02\n",
      "tnc: fscale = 0.0374531\n",
      "    2    5  4.015333498346934E+01   3.48458295E+04\n",
      "    3    7  1.872261527026482E+01   1.72871993E-10\n",
      "tnc: fscale = 38028.4\n",
      "tnc: |fn-fn-1] = 8.26544e-14 -> convergence\n",
      "    4    9  1.872261527026474E+01   5.35097481E-13\n",
      "tnc: Converged (|f_n-f_(n-1)| ~= 0)\n",
      "  NIT   NF   F                       GTG\n",
      "    0    1  3.915747624356665E+02   5.68044652E+05\n",
      "tnc: fscale = 0.000663405\n",
      "    1    3  1.107310032684680E+02   1.83774270E+02\n",
      "tnc: fscale = 0.0368831\n",
      "    2    5  4.055075463499299E+01   3.54722374E+04\n",
      "    3    7  1.717054960136702E+01   5.18150949E-12\n",
      "tnc: fscale = 219655\n",
      "    3    9  1.717054960136702E+01   5.18150949E-12\n",
      "tnc: Linear search failed\n"
     ]
    },
    {
     "data": {
      "image/png": "[encoded data removed]",
      "text/plain": [
       "<Figure size 432x288 with 1 Axes>"
      ]
     },
     "metadata": {
      "needs_background": "light"
     },
     "output_type": "display_data"
    }
   ],
   "source": [
    "muestras, J_train, J_val = curva_aprendizaje(theta, Xval, yval, 0)\n",
    "plot_curva(muestras, J_train, J_val)"
   ]
  },
  {
   "cell_type": "markdown",
   "id": "2dc31fcb",
   "metadata": {},
   "source": [
    "## Ejercicio 3: Regresión polinomial"
   ]
  },
  {
   "cell_type": "code",
   "execution_count": 585,
   "id": "357dc603",
   "metadata": {},
   "outputs": [],
   "source": [
    "def expand_X(X, p):\n",
    "    m=X.shape[0]\n",
    "    X_p = np.zeros((m,p))\n",
    "    for i in range(p):\n",
    "        dim = i+1\n",
    "        X_p[:, i] = X[:, 0] ** (i + 1)\n",
    " \n",
    "    return X_p\n",
    "    "
   ]
  },
  {
   "cell_type": "code",
   "execution_count": 586,
   "id": "745fa013",
   "metadata": {
    "scrolled": true
   },
   "outputs": [],
   "source": [
    "X_8 = expand_X(X,8)"
   ]
  },
  {
   "cell_type": "code",
   "execution_count": 587,
   "id": "ddd53d78",
   "metadata": {
    "scrolled": true
   },
   "outputs": [
    {
     "name": "stdout",
     "output_type": "stream",
     "text": [
      "[[-1.59367581e+01  2.53980260e+02 -4.04762197e+03  6.45059724e+04\n",
      "  -1.02801608e+06  1.63832436e+07 -2.61095791e+08  4.16102047e+09]\n",
      " [-2.91529792e+01  8.49896197e+02 -2.47770062e+04  7.22323546e+05\n",
      "  -2.10578833e+07  6.13900035e+08 -1.78970150e+10  5.21751305e+11]\n",
      " [ 3.61895486e+01  1.30968343e+03  4.73968522e+04  1.71527069e+06\n",
      "   6.20748719e+07  2.24646160e+09  8.12984311e+10  2.94215353e+12]\n",
      " [ 3.74921873e+01  1.40566411e+03  5.27014222e+04  1.97589159e+06\n",
      "   7.40804977e+07  2.77743990e+09  1.04132297e+11  3.90414759e+12]\n",
      " [-4.80588295e+01  2.30965109e+03 -1.10999128e+05  5.33448815e+06\n",
      "  -2.56369256e+08  1.23208064e+10 -5.92123532e+11  2.84567638e+13]\n",
      " [-8.94145794e+00  7.99496701e+01 -7.14866612e+02  6.39194974e+03\n",
      "  -5.71533498e+04  5.11034273e+05 -4.56939146e+06  4.08570215e+07]\n",
      " [ 1.53077929e+01  2.34328523e+02  3.58705250e+03  5.49098568e+04\n",
      "   8.40548715e+05  1.28669456e+07  1.96964539e+08  3.01509237e+09]\n",
      " [-3.47062658e+01  1.20452489e+03 -4.18045609e+04  1.45088020e+06\n",
      "  -5.03546340e+07  1.74762131e+09 -6.06534098e+10  2.10505336e+12]\n",
      " [ 1.38915437e+00  1.92974986e+00  2.68072045e+00  3.72393452e+00\n",
      "   5.17311991e+00  7.18626212e+00  9.98282742e+00  1.38676883e+01]\n",
      " [-4.43837599e+01  1.96991814e+03 -8.74323736e+04  3.88057747e+06\n",
      "  -1.72234619e+08  7.64441995e+09 -3.39288099e+11  1.50588815e+13]\n",
      " [ 7.01350208e+00  4.91892115e+01  3.44988637e+02  2.41957852e+03\n",
      "   1.69697190e+04  1.19017160e+05  8.34727097e+05  5.85436023e+06]\n",
      " [ 2.27627489e+01  5.18142738e+02  1.17943531e+04  2.68471897e+05\n",
      "   6.11115839e+06  1.39106764e+08  3.16645234e+09  7.20771597e+10]]\n",
      "(12, 8)\n"
     ]
    }
   ],
   "source": [
    "print(X_8)\n",
    "print(X_8.shape)"
   ]
  },
  {
   "cell_type": "code",
   "execution_count": 588,
   "id": "da055ffc",
   "metadata": {},
   "outputs": [],
   "source": [
    "def normalizer(X):\n",
    "    mu = np.mean(X, axis=0)\n",
    "    sigma = np.std(X, axis=0)\n",
    "    X_norm = (X-mu)/sigma\n",
    "    return X_norm, mu, sigma"
   ]
  },
  {
   "cell_type": "code",
   "execution_count": 589,
   "id": "a00d1342",
   "metadata": {},
   "outputs": [
    {
     "name": "stdout",
     "output_type": "stream",
     "text": [
      "[[-3.78243704e-01 -7.88662325e-01  1.90328720e-01 -7.37591303e-01\n",
      "   3.20251970e-01 -6.17151602e-01  3.59835014e-01 -5.31091256e-01]\n",
      " [-8.38920100e-01  1.31420204e-03 -2.58961742e-01 -3.41564822e-01\n",
      "   9.75492734e-02 -4.55196644e-01  2.66773432e-01 -4.68873807e-01]\n",
      " [ 1.43871736e+00  6.10831582e-01  1.30534069e+00  2.56220001e-01\n",
      "   1.02186338e+00 -1.26962121e-02  7.90210009e-01 -1.77926980e-01]\n",
      " [ 1.48412330e+00  7.38068463e-01  1.42031240e+00  4.13121830e-01\n",
      "   1.15534830e+00  1.31223708e-01  9.10700224e-01 -6.22895388e-02]\n",
      " [-1.49791929e+00  1.93643966e+00 -2.12774745e+00  2.43510061e+00\n",
      "  -2.51876748e+00  2.71792174e+00 -2.76331690e+00  2.88908182e+00]\n",
      " [-1.34409278e-01 -1.01936614e+00  2.62563148e-01 -7.72577738e-01\n",
      "   3.31046537e-01 -6.21453712e-01  3.61188658e-01 -5.31586524e-01]\n",
      " [ 7.10844248e-01 -8.14713668e-01  3.55803314e-01 -7.43368461e-01\n",
      "   3.41027665e-01 -6.18104683e-01  3.62252117e-01 -5.31229003e-01]\n",
      " [-1.03249041e+00  4.71428060e-01 -6.28018432e-01  9.70487696e-02\n",
      "  -2.28187552e-01 -1.47905228e-01  4.11556057e-02 -2.78551428e-01]\n",
      " [ 2.25683763e-01 -1.12279332e+00  2.78115330e-01 -7.76423647e-01\n",
      "   3.31682056e-01 -6.21592224e-01  3.61212770e-01 -5.31591435e-01]\n",
      " [-1.36981778e+00  1.48607235e+00 -1.61695958e+00  1.55980151e+00\n",
      "  -1.58331392e+00  1.45040261e+00 -1.42914967e+00  1.27857621e+00]\n",
      " [ 4.21731046e-01 -1.06014377e+00  2.85534542e-01 -7.74969228e-01\n",
      "   3.31870677e-01 -6.21559967e-01  3.61217175e-01 -5.31590732e-01]\n",
      " [ 9.70700848e-01 -4.38475085e-01  5.33689054e-01 -6.14797521e-01\n",
      "   3.99629101e-01 -5.83887796e-01  3.77921571e-01 -5.22927330e-01]]\n",
      "(12, 8)\n"
     ]
    }
   ],
   "source": [
    "X_8_norm, mu, sigma = normalizer(X_8)\n",
    "print(X_8_norm)\n",
    "print(X_8_norm.shape)"
   ]
  },
  {
   "cell_type": "code",
   "execution_count": 590,
   "id": "d30dcd6f",
   "metadata": {},
   "outputs": [
    {
     "name": "stdout",
     "output_type": "stream",
     "text": [
      "[-5.08542635e+00  8.48904834e+02 -1.28290173e+04  1.28967789e+06\n",
      " -2.98314592e+07  2.29330301e+09 -6.84527284e+10  4.42233759e+12]\n",
      "(8,)\n",
      "[2.86887308e+01 7.54346385e+02 4.61380464e+04 1.66104441e+06\n",
      " 8.99399404e+07 3.68940106e+09 1.89508052e+11 8.31905350e+12]\n",
      "(8,)\n"
     ]
    }
   ],
   "source": [
    "print(mu)\n",
    "print(mu.shape)\n",
    "\n",
    "print(sigma)\n",
    "print(sigma.shape)"
   ]
  },
  {
   "cell_type": "code",
   "execution_count": 591,
   "id": "c070c695",
   "metadata": {},
   "outputs": [],
   "source": [
    "#Añadimos columna de 1's a los datos de entrenamiento X_8_norm\n",
    "m = X_8_norm.shape[0]\n",
    "X_1 = np.hstack([np.ones([m, 1]), X_8_norm])"
   ]
  },
  {
   "cell_type": "code",
   "execution_count": 592,
   "id": "760f6081",
   "metadata": {
    "scrolled": false
   },
   "outputs": [
    {
     "name": "stdout",
     "output_type": "stream",
     "text": [
      "Coste = 0.08795294776624747\n"
     ]
    },
    {
     "name": "stderr",
     "output_type": "stream",
     "text": [
      "  NIT   NF   F                       GTG\n",
      "    0    1  1.036531744257878E+02   3.26008331E+02\n",
      "tnc: fscale = 0.0276921\n",
      "    1    5  2.802447331367629E+00   2.85566110E-01\n",
      "tnc: fscale = 0.935657\n",
      "    2    9  1.022928080397435E+00   6.51280535E-01\n",
      "    3   14  4.259019458898841E-01   1.93980729E-03\n",
      "    4   19  2.416545980462764E-01   5.71722550E-05\n",
      "tnc: fscale = 66.1268\n",
      "    5   24  1.996701370083548E-01   3.76682253E-04\n",
      "    6   29  1.951204040336327E-01   5.42150153E-03\n",
      "    7   32  1.887872582403628E-01   5.11069456E-03\n",
      "    8   37  1.797813339143616E-01   1.75804866E-04\n",
      "    9   42  1.770294608489145E-01   3.82832527E-05\n",
      "tnc: stepmx = 1000\n",
      "   10   47  1.193295707778792E-01   1.67108565E-04\n",
      "   11   50  1.183913565153153E-01   9.60120733E-04\n",
      "   12   55  1.105165563306729E-01   8.15176970E-05\n",
      "   13   60  1.090120342443237E-01   1.50064235E-05\n",
      "   14   65  1.051552540547410E-01   2.27537543E-03\n",
      "   15   70  9.398996179865031E-02   4.08356433E-05\n",
      "   16   75  9.336285303637060E-02   4.58140510E-05\n",
      "   17   80  9.314191116343591E-02   1.54840275E-04\n",
      "   18   85  9.015991071966467E-02   5.64374014E-05\n",
      "   19   88  8.931161667116783E-02   2.56769964E-04\n",
      "   20   93  8.909193796158231E-02   5.88750132E-05\n",
      "   21   98  8.805274678756010E-02   1.39540896E-04\n",
      "   22  100  8.795294776624747E-02   8.03539763E-05\n",
      "   22  100  8.795294776624747E-02   8.03539763E-05\n",
      "tnc: Maximum number of function evaluations reached\n"
     ]
    }
   ],
   "source": [
    "Lambda = 0\n",
    "theta = np.ones((9,1))\n",
    "result = opt.fmin_tnc(func=coste_reg, x0=theta, fprime=gradiente_reg, args=(X_1,y,Lambda))\n",
    "Theta_opt=result[0]\n",
    "coste_opt = coste_reg(Theta_opt, X_1, y, Lambda)\n",
    "print('Coste = {}'.format(coste_opt))"
   ]
  },
  {
   "cell_type": "code",
   "execution_count": 593,
   "id": "9a9448c3",
   "metadata": {},
   "outputs": [
    {
     "name": "stdout",
     "output_type": "stream",
     "text": [
      "[ 11.22185347  10.64624101  16.13730417  12.76526914 -21.77093248\n",
      " -23.40989517  18.24212549  13.81144969  -4.79607325]\n"
     ]
    }
   ],
   "source": [
    "print(Theta_opt)"
   ]
  },
  {
   "cell_type": "code",
   "execution_count": 594,
   "id": "91824234",
   "metadata": {},
   "outputs": [],
   "source": [
    "def plot_poli(X, y, theta, mu, sigma):\n",
    "    plt.plot(X, y, \"x\")\n",
    "    \n",
    "    x1_min, x1_max = X[:, 0].min(), X[:, 0].max()\n",
    "    xx1 = np.linspace(x1_min, x1_max)\n",
    "    \n",
    "    xx1=xx1.reshape((xx1.shape[0],1))\n",
    "    \n",
    "    theta=theta.reshape((theta.shape[0],1))\n",
    "    \n",
    "    X_8 = expand_X(xx1,8)\n",
    "    \n",
    "    X_8_norm = (X_8 - mu)/sigma\n",
    "    X_8_norm_1 = np.hstack([np.ones([X_8_norm.shape[0], 1]), X_8_norm])\n",
    "\n",
    "    \n",
    "    h=0\n",
    "    h = np.matmul(X_8_norm_1,theta)\n",
    "        # 50x8 x 8, -> 50x1 -> 50,\n",
    "\n",
    "    plt.plot(xx1, h)  \n",
    "    plt.title('Polynomial regression (lambda = 0)')\n",
    "    plt.xlabel('Change in water level (x)')\n",
    "    plt.ylabel('Water lowing out of the dam (y)')\n",
    "    plt.show()\n"
   ]
  },
  {
   "cell_type": "code",
   "execution_count": 595,
   "id": "ae8cbbd5",
   "metadata": {
    "scrolled": false
   },
   "outputs": [
    {
     "data": {
      "image/png": "[encoded data removed]",
      "text/plain": [
       "<Figure size 432x288 with 1 Axes>"
      ]
     },
     "metadata": {
      "needs_background": "light"
     },
     "output_type": "display_data"
    }
   ],
   "source": [
    "plot_poli(X, y, Theta_opt, mu, sigma)"
   ]
  },
  {
   "cell_type": "code",
   "execution_count": 596,
   "id": "d434f76a",
   "metadata": {},
   "outputs": [],
   "source": [
    "def trainLinearReg(X, y, Lambda):\n",
    "    initial_theta = np.zeros(np.size(X,1))\n",
    "    res = opt.fmin_tnc(func=coste_reg, x0=initial_theta, fprime=gradiente_reg, args=(X,y,Lambda))\n",
    "    #res = opt.minimize(fun=coste_reg, x0=initial_theta, args=(X,y,Lambda), jac=True, method='TNC', options={'maxiter':400,'disp':False})\n",
    "    return res[0]"
   ]
  },
  {
   "cell_type": "code",
   "execution_count": 597,
   "id": "ae14f0e7",
   "metadata": {},
   "outputs": [],
   "source": [
    "def curva_aprendizaje_poli(X, y, Xval, yval, Lambda):\n",
    "    m_train = len(y)\n",
    "    J_train = np.zeros(m_train)\n",
    "    J_val = np.zeros(m_train)\n",
    "    \n",
    "    for i in range(1, m_train+1):\n",
    "        theta_aux = trainLinearReg(X[0: i], y[0: i], Lambda)\n",
    "        theta_aux = theta_aux.reshape((theta_aux.shape[0],1))\n",
    "        J_train[i-1] = coste_vec(theta_aux, X[0: i], y[0: i])\n",
    "        J_val[i-1] = coste_vec(theta_aux, Xval, yval)\n",
    "        \n",
    "    return (J_train, J_val)"
   ]
  },
  {
   "cell_type": "code",
   "execution_count": 598,
   "id": "8900755a",
   "metadata": {},
   "outputs": [],
   "source": [
    "X_8 = expand_X(X,8)\n",
    "X_8_norm, mu, sigma = normalizer(X_8)\n",
    "X_poly = np.hstack((np.ones_like(y), X_8_norm))"
   ]
  },
  {
   "cell_type": "code",
   "execution_count": 599,
   "id": "35e14251",
   "metadata": {},
   "outputs": [],
   "source": [
    "X_8_val = expand_X(Xval,8)\n",
    "X_8_norm_val, mu, sigma = normalizer(X_8_val)\n",
    "X_poly_val = np.hstack((np.ones_like(yval), X_8_norm_val))"
   ]
  },
  {
   "cell_type": "code",
   "execution_count": 600,
   "id": "bf267a14",
   "metadata": {},
   "outputs": [
    {
     "name": "stderr",
     "output_type": "stream",
     "text": [
      "  NIT   NF   F                       GTG\n",
      "    0    1  2.277640669568327E+00   1.47604740E+01\n",
      "    1    3  5.961068181202797E-18   3.86312877E-17\n",
      "tnc: |pg| = 6.21541e-09 -> local minimum\n",
      "    1    3  5.961068181202797E-18   3.86312877E-17\n",
      "tnc: Local minima reach (|pg| ~= 0)\n",
      "  NIT   NF   F                       GTG\n",
      "    0    1  1.482953143345821E+00   7.23898367E+00\n",
      "    1    4  5.053728710418100E-18   3.81092179E-18\n",
      "tnc: |pg| = 1.95216e-09 -> local minimum\n",
      "    1    4  5.053728710418100E-18   3.81092179E-18\n",
      "tnc: Local minima reach (|pg| ~= 0)\n",
      "  NIT   NF   F                       GTG\n",
      "    0    1  1.977466993755966E+02   9.20117439E+02\n",
      "tnc: fscale = 0.0329669\n",
      "tnc: stepmx = 1000\n",
      "    1    4  1.155552335381725E+01   4.96108846E+01\n",
      "    2    7  1.104905167235787E-01   2.95692453E-01\n",
      "tnc: fscale = 1.83899\n",
      "    3   10  1.184235724166612E-02   1.81993184E-02\n",
      "    4   13  3.752635211938228E-17   5.92714300E-17\n",
      "tnc: |pg| = 4.18642e-09 -> local minimum\n",
      "    4   13  3.752635211938228E-17   5.92714300E-17\n",
      "tnc: Local minima reach (|pg| ~= 0)\n",
      "  NIT   NF   F                       GTG\n",
      "    0    1  3.179393921121576E+02   2.38822545E+03\n",
      "tnc: fscale = 0.0204627\n",
      "tnc: stepmx = 1000\n",
      "    1    4  1.806804653472272E+01   1.32597053E+02\n",
      "    2    7  2.117823482031909E-02   2.31782743E-03\n",
      "tnc: fscale = 20.7711\n",
      "    3   10  2.010187408119907E-02   4.34900561E-04\n",
      "    4   14  7.768295322192866E-13   5.68900901E-12\n",
      "tnc: fscale = 419258\n",
      "tnc: |fn-fn-1] = 7.69578e-13 -> convergence\n",
      "    5   17  7.251137279795238E-15   1.94055156E-15\n",
      "tnc: Converged (|f_n-f_(n-1)| ~= 0)\n",
      "  NIT   NF   F                       GTG\n",
      "    0    1  2.551405421686908E+02   1.42366466E+03\n",
      "tnc: fscale = 0.0265031\n",
      "tnc: stepmx = 1000\n",
      "    1    5  2.599372879893821E+01   1.44597254E+02\n",
      "    2    8  8.359033238976892E-01   1.30241201E+01\n",
      "    3   12  1.806072925431824E-02   1.71868985E-04\n",
      "tnc: fscale = 76.2783\n",
      "    4   17  1.125626370062028E-02   2.34889413E-03\n",
      "    5   20  8.793202140527832E-03   1.63731339E-03\n",
      "    6   25  1.782219933957005E-14   3.68373813E-14\n",
      "tnc: |pg| = 2.51619e-09 -> local minimum\n",
      "    6   25  1.782219933957005E-14   3.68373813E-14\n",
      "tnc: Local minima reach (|pg| ~= 0)\n",
      "  NIT   NF   F                       GTG\n",
      "    0    1  2.129920308448484E+02   9.95085411E+02\n",
      "tnc: fscale = 0.0317008\n",
      "tnc: stepmx = 1000\n",
      "    1    5  2.168246568278617E+01   1.01082522E+02\n",
      "    2    9  4.437399555390018E-02   4.20073268E-04\n",
      "tnc: fscale = 48.7907\n",
      "    3   12  4.170649578582685E-02   2.29079794E-04\n",
      "    4   17  2.255604170352529E-02   3.45425368E-05\n",
      "    5   22  4.154649588482960E-08   1.98106805E-09\n",
      "tnc: fscale = 22467.3\n",
      "    6   27  3.752385453640668E-09   3.82265648E-10\n",
      "tnc: |fn-fn-1] = 1.97583e-09 -> convergence\n",
      "    7   31  1.776556451236007E-09   3.98480373E-12\n",
      "tnc: Converged (|f_n-f_(n-1)| ~= 0)\n",
      "  NIT   NF   F                       GTG\n",
      "    0    1  1.980211688420880E+02   8.44625484E+02\n",
      "tnc: fscale = 0.0344087\n",
      "tnc: stepmx = 1000\n",
      "    1    5  2.399572816626212E+01   9.74627974E+01\n",
      "    2    9  1.174398708385817E+00   1.35066550E-01\n",
      "tnc: fscale = 2.72098\n",
      "    3   12  6.144732983939606E-01   1.29481131E-01\n",
      "    4   17  9.641647603601376E-02   3.62681485E-05\n",
      "tnc: fscale = 166.049\n",
      "    5   22  7.589533325255102E-03   5.79471046E-04\n",
      "    6   27  2.664630010374808E-03   1.85899192E-03\n",
      "    7   30  1.055509578545838E-03   5.95603340E-04\n",
      "    8   35  9.045660752280851E-05   1.61439769E-07\n",
      "    9   40  8.409219614160446E-05   1.24803221E-06\n",
      "   10   45  7.379364142949290E-05   7.82594619E-07\n",
      "   11   50  3.419796040307423E-07   4.13022487E-08\n",
      "tnc: fscale = 4920.54\n",
      "   12   55  2.850109073281755E-07   1.39369521E-09\n",
      "   13   60  2.576959824643320E-07   1.12481145E-10\n",
      "   14   65  2.604253042169004E-08   1.12996954E-08\n",
      "tnc: |fn-fn-1] = 1.45295e-09 -> convergence\n",
      "   15   68  2.458958466115077E-08   8.65424793E-11\n",
      "tnc: Converged (|f_n-f_(n-1)| ~= 0)\n",
      "  NIT   NF   F                       GTG\n",
      "    0    1  1.736956452372186E+02   6.41147653E+02\n",
      "tnc: fscale = 0.0394931\n",
      "tnc: stepmx = 1000\n",
      "    1    5  2.125405320484283E+01   7.38994069E+01\n",
      "    2    9  1.153618601998897E+00   7.80527663E-02\n",
      "tnc: fscale = 3.57936\n",
      "    3   13  6.549098580262942E-01   2.15277353E-01\n",
      "    4   18  9.260160672356921E-02   1.59060200E-05\n",
      "tnc: fscale = 250.737\n",
      "    5   23  7.325646614103909E-02   6.98565175E-04\n",
      "    6   26  7.247420789853287E-02   8.60466777E-04\n",
      "    7   31  7.133083146085548E-02   1.66181673E-06\n",
      "    8   36  7.107184737395578E-02   1.83815628E-04\n",
      "    9   41  6.829512350460369E-02   1.89648836E-03\n",
      "   10   45  6.662917005521325E-02   7.95748255E-04\n",
      "   11   50  4.467688235140916E-02   7.13192774E-03\n",
      "tnc: fscale = 11.8412\n",
      "   12   54  3.046601420813417E-02   4.01238473E-04\n",
      "   13   59  2.864864055557609E-02   7.95333402E-07\n",
      "tnc: fscale = 1121.31\n",
      "   14   64  2.695600937839624E-02   4.80800914E-05\n",
      "   15   69  2.674617635166040E-02   4.63891747E-05\n",
      "   16   74  2.639066929568211E-02   3.73342945E-06\n",
      "   17   79  2.577230108023736E-02   3.83641813E-04\n",
      "tnc: fscale = 51.0549\n",
      "   18   84  2.526821198702025E-02   3.50409806E-06\n",
      "   19   89  2.504110613719051E-02   7.90991694E-06\n",
      "   20   94  2.379519582243374E-02   9.66576617E-07\n",
      "   21   99  2.314921803817303E-02   4.81007933E-04\n",
      "   21  100  2.314921803817303E-02   4.81007933E-04\n",
      "tnc: Maximum number of function evaluations reached\n",
      "  NIT   NF   F                       GTG\n",
      "    0    1  1.551732893269092E+02   5.20573001E+02\n",
      "tnc: fscale = 0.0438288\n",
      "tnc: stepmx = 1000\n",
      "    1    5  1.879046348873776E+01   5.88537701E+01\n",
      "    2    9  1.287834850289820E+00   4.42346373E-02\n",
      "tnc: fscale = 4.75465\n",
      "    3   14  3.840606557142960E-01   5.24975784E-02\n",
      "    4   17  3.507946952777221E-01   3.08278177E-02\n",
      "    5   21  3.370801480957730E-01   5.67166376E-03\n",
      "    6   26  2.157087389617673E-01   2.02302710E-05\n",
      "tnc: fscale = 222.331\n",
      "    7   31  1.808220569795770E-01   3.72973354E-04\n",
      "    8   36  1.713756990967240E-01   3.00826275E-04\n",
      "    9   41  1.322741459417339E-01   1.14323755E-03\n",
      "   10   44  1.318574790818631E-01   4.91682518E-05\n",
      "   11   49  9.588333429798784E-02   1.45028826E-03\n",
      "   12   52  1.507531924042779E-02   2.98566099E-03\n",
      "   13   55  1.364124740165098E-02   4.29820379E-04\n",
      "   14   59  1.276068235345917E-02   1.05017976E-04\n",
      "   15   64  8.134169388773588E-03   1.33125679E-05\n",
      "   16   69  4.650620079101465E-03   2.11406974E-04\n",
      "   17   72  4.551083159460580E-03   2.98620799E-05\n",
      "   18   77  4.371290721700817E-03   1.94248217E-05\n",
      "   19   82  2.562068503389958E-03   3.49933292E-05\n",
      "   20   87  1.602481071139274E-03   1.05398373E-04\n",
      "   21   90  1.475495089375143E-03   1.79838420E-04\n",
      "   22   95  8.976244196047843E-04   5.17794309E-05\n",
      "   23   99  7.964090819010737E-04   1.65624985E-05\n",
      "   23  100  7.964090819010737E-04   1.65624985E-05\n",
      "tnc: Maximum number of function evaluations reached\n",
      "  NIT   NF   F                       GTG\n",
      "    0    1  1.403522363960774E+02   3.97283047E+02\n",
      "tnc: stepmx = 1000\n",
      "    1    5  1.734734327635888E+01   4.57056724E+01\n",
      "    2    8  1.486893802049933E+00   5.16324618E-01\n",
      "    3   11  1.232644792793144E+00   6.54596410E-02\n",
      "    4   16  2.453887016301307E-01   5.14648056E-04\n",
      "tnc: fscale = 44.0803\n",
      "    5   21  2.125254730079080E-01   3.73254666E-04\n",
      "    6   24  2.064195332825271E-01   9.97847715E-03\n",
      "    7   29  1.964922886733702E-01   7.17633932E-04\n",
      "    8   34  1.427447740076065E-01   2.21461329E-03\n",
      "    9   39  1.369747266019205E-01   1.51474453E-03\n",
      "   10   42  1.360647076377946E-01   2.72273399E-04\n",
      "   11   47  1.340501098922676E-01   7.75467546E-05\n",
      "   12   52  8.867465730616113E-02   3.04334056E-04\n",
      "   13   57  7.469943222383765E-02   4.28543074E-03\n",
      "   14   60  7.063386028363162E-02   6.97034656E-03\n",
      "   15   64  6.488092967396521E-02   6.60538031E-04\n",
      "   16   69  4.278770513936826E-02   6.69714785E-05\n",
      "   17   74  4.263405291923206E-02   5.13223819E-05\n",
      "   18   79  4.245216897903668E-02   4.34493955E-07\n",
      "tnc: fscale = 1517.08\n",
      "   19   84  4.236331848344407E-02   1.96882469E-05\n",
      "   20   87  4.235192496296238E-02   1.01278690E-05\n",
      "   21   92  4.230847343947722E-02   1.16782020E-06\n",
      "   22   97  4.229083505487057E-02   3.78839697E-05\n",
      "   23  100  4.221284817941882E-02   4.42245239E-05\n",
      "   23  100  4.221284817941882E-02   4.42245239E-05\n",
      "tnc: Maximum number of function evaluations reached\n",
      "  NIT   NF   F                       GTG\n",
      "    0    1  1.302375412493010E+02   3.50658098E+02\n",
      "tnc: stepmx = 1000\n",
      "    1    5  1.620108410630277E+01   4.07473115E+01\n",
      "    2    9  1.125991388251565E+00   4.10829956E-02\n",
      "    3   14  3.210550963680109E-01   6.11753311E-04\n",
      "tnc: fscale = 40.4308\n",
      "    4   17  2.771572909022043E-01   2.24315433E-02\n",
      "    5   22  2.411220898722064E-01   5.71378110E-04\n",
      "    6   26  2.261882143278144E-01   7.18947671E-05\n",
      "    7   31  2.091083309227110E-01   2.27115366E-02\n",
      "    8   34  1.833399553087384E-01   1.26092088E-02\n",
      "    9   38  1.637207177682239E-01   7.11965559E-05\n",
      "   10   43  1.219904947804151E-01   3.41753249E-03\n",
      "   11   48  1.009076501311828E-01   1.51370183E-03\n",
      "   12   51  1.000595703813081E-01   6.87014645E-04\n",
      "   13   56  8.937988831439179E-02   4.59928140E-04\n",
      "   14   61  8.528146259965168E-02   4.08330343E-04\n",
      "   15   66  6.950809523038094E-02   1.96013091E-04\n",
      "   16   70  6.904873532523380E-02   4.37667276E-05\n",
      "   17   75  5.992590026484004E-02   2.14827802E-04\n",
      "   18   80  5.376354863536020E-02   4.83204884E-06\n",
      "   19   85  5.343871519974605E-02   5.35083531E-04\n",
      "   20   88  5.281987118827312E-02   1.50767055E-04\n",
      "   21   93  5.210679760805133E-02   1.24859383E-05\n",
      "   22   98  5.112616294634310E-02   6.78244037E-04\n",
      "   23  100  5.038282812072969E-02   1.92721289E-04\n",
      "   23  100  5.038282812072969E-02   1.92721289E-04\n",
      "tnc: Maximum number of function evaluations reached\n",
      "  NIT   NF   F                       GTG\n",
      "    0    1  1.409541208805539E+02   4.02918651E+02\n",
      "tnc: fscale = 0.0498186\n",
      "tnc: stepmx = 1000\n",
      "    1    5  2.103136760115762E+01   5.40109963E+01\n",
      "    2    8  4.503724328327088E+00   6.52387346E+00\n",
      "    3   11  2.399292800153269E+00   1.50967144E-01\n",
      "tnc: fscale = 2.57371\n",
      "    4   16  4.253426279287603E-01   2.11412796E-02\n",
      "    5   21  3.617337682082891E-01   1.79245921E-02\n",
      "    6   26  2.399675720134838E-01   5.83713849E-05\n",
      "tnc: fscale = 130.888\n",
      "    7   31  2.123255060596263E-01   6.65755815E-03\n",
      "    8   36  1.981888072887859E-01   4.99842171E-04\n",
      "    9   41  1.819267940908021E-01   2.75918269E-04\n",
      "   10   46  1.762818930266778E-01   4.09997225E-05\n",
      "   11   51  1.715018725634008E-01   6.43228883E-03\n",
      "   12   56  5.079400081743683E-02   2.05429314E-04\n",
      "   13   61  4.799006965689790E-02   1.27079794E-04\n",
      "   14   64  4.780891367982034E-02   1.39482743E-04\n",
      "   15   68  4.773559070304020E-02   1.02215663E-05\n",
      "   16   73  4.719382972006853E-02   3.63744785E-07\n",
      "   17   78  4.707977562309996E-02   1.99412030E-05\n",
      "   18   83  4.685760612979762E-02   1.52820221E-04\n",
      "   19   86  4.666916053258754E-02   4.09764647E-04\n",
      "   20   91  3.595919235559101E-02   4.85742647E-03\n",
      "   21   95  3.084771600211283E-02   5.63585249E-05\n",
      "   22  100  3.036743199111623E-02   2.44521727E-04\n",
      "   22  100  3.036743199111623E-02   2.44521727E-04\n",
      "tnc: Maximum number of function evaluations reached\n"
     ]
    }
   ],
   "source": [
    "#Curva de aprendizaje lAMBDA = 0\n",
    "Lambda = 0.0\n",
    "X_1 = np.hstack((np.ones_like(y), X_poly))\n",
    "Xval_1 = np.hstack((np.ones_like(yval), X_poly_val))\n",
    "J_train, J_val = curva_aprendizaje_poli(X_poly, y, X_poly_val, yval, Lambda)\n",
    "#J_train, J_val = curva_aprendizaje_poli(X_1, y, Xval_1, yval, Lambda)"
   ]
  },
  {
   "cell_type": "code",
   "execution_count": 601,
   "id": "345610df",
   "metadata": {},
   "outputs": [
    {
     "data": {
      "image/png": "[encoded data removed]",
      "text/plain": [
       "<Figure size 432x288 with 1 Axes>"
      ]
     },
     "metadata": {
      "needs_background": "light"
     },
     "output_type": "display_data"
    }
   ],
   "source": [
    "plt.figure()\n",
    "plt.plot(range(1, len(X)+1), J_train, range(1, len(X)+1), J_val)\n",
    "plt.title('Learning curve for linear regression ($\\lambda = 0$)')\n",
    "plt.legend(['Train', 'Cross Validation'])\n",
    "plt.xlabel('Number of training examples')\n",
    "plt.ylabel('Error')\n",
    "plt.savefig('learning curve (lambda = 0).pdf')\n",
    "plt.show()\n",
    "\n",
    "plt.close()"
   ]
  },
  {
   "cell_type": "code",
   "execution_count": 602,
   "id": "c118638c",
   "metadata": {},
   "outputs": [
    {
     "name": "stderr",
     "output_type": "stream",
     "text": [
      "  NIT   NF   F                       GTG\n",
      "    0    1  2.277640669568327E+00   1.47604740E+01\n",
      "    1   32  1.138817912057921E+00   3.69009036E+00\n",
      "tnc: |fn-fn-1] = 0 -> convergence\n",
      "    2   85  1.138817912057921E+00   3.69009036E+00\n",
      "tnc: Converged (|f_n-f_(n-1)| ~= 0)\n",
      "  NIT   NF   F                       GTG\n",
      "    0    1  1.482953143345821E+00   7.23898367E+00\n",
      "    1    4  3.315282233067600E-01   1.14208888E-03\n",
      "tnc: fscale = 29.5903\n",
      "    1   56  3.315282233067600E-01   1.14208888E-03\n",
      "tnc: Linear search failed\n",
      "  NIT   NF   F                       GTG\n",
      "    0    1  1.977466993755966E+02   9.20117439E+02\n",
      "tnc: fscale = 0.0329669\n",
      "tnc: stepmx = 1000\n",
      "    1    4  2.823162479701186E+01   4.13346221E+01\n",
      "    2    7  2.811269456140594E+01   5.20008833E-01\n",
      "tnc: fscale = 1.38674\n",
      "    2   60  2.811269456140594E+01   5.20008833E-01\n",
      "tnc: Linear search failed\n",
      "  NIT   NF   F                       GTG\n",
      "    0    1  3.179393921121576E+02   2.38822545E+03\n",
      "tnc: fscale = 0.0204627\n",
      "tnc: stepmx = 1000\n",
      "    1    4  3.067873713700076E+01   1.17223327E+02\n",
      "    2    7  2.138725478800979E+01   2.08332292E-01\n",
      "tnc: fscale = 2.1909\n",
      "    2   59  2.138725478800979E+01   2.08332292E-01\n",
      "tnc: Linear search failed\n",
      "  NIT   NF   F                       GTG\n",
      "    0    1  2.551405421686908E+02   1.42366466E+03\n",
      "tnc: fscale = 0.0265031\n",
      "tnc: stepmx = 1000\n",
      "    1    5  3.688296994643439E+01   1.37171533E+02\n",
      "    2    8  2.411842467155281E+01   1.96832621E+01\n",
      "    3   12  2.208716942810263E+01   1.97000264E-04\n",
      "tnc: fscale = 71.247\n",
      "    4   15  2.208523836326998E+01   9.70252037E-05\n",
      "    4   54  2.208523836326998E+01   9.70252037E-05\n",
      "tnc: Linear search failed\n",
      "  NIT   NF   F                       GTG\n",
      "    0    1  2.129920308448484E+02   9.95085411E+02\n",
      "tnc: fscale = 0.0317008\n",
      "tnc: stepmx = 1000\n",
      "    1    5  3.064377277722645E+01   9.37099621E+01\n",
      "    2    9  1.771854822469347E+01   4.41724916E-03\n",
      "tnc: fscale = 15.0461\n",
      "    2   57  1.771854822469347E+01   4.41724916E-03\n",
      "tnc: Linear search failed\n",
      "  NIT   NF   F                       GTG\n",
      "    0    1  1.980211688420880E+02   8.44625484E+02\n",
      "tnc: fscale = 0.0344087\n",
      "tnc: stepmx = 1000\n",
      "    1    5  3.173088466697290E+01   9.06575432E+01\n",
      "    2    9  1.724105498525288E+01   1.03305274E-01\n",
      "tnc: fscale = 3.11128\n",
      "    3   35  1.715601797950006E+01   3.05053568E-02\n",
      "    3   84  1.715601797950006E+01   3.05053568E-02\n",
      "tnc: Linear search failed\n",
      "  NIT   NF   F                       GTG\n",
      "    0    1  1.736956452372186E+02   6.41147653E+02\n",
      "tnc: fscale = 0.0394931\n",
      "tnc: stepmx = 1000\n",
      "    1    5  2.796709430069469E+01   6.77600668E+01\n",
      "    2    9  1.522286215037610E+01   7.61578249E-02\n",
      "tnc: fscale = 3.62362\n",
      "    3   36  1.521336079694003E+01   3.05649869E-02\n",
      "    4   66  1.521220621630814E+01   2.34209015E-02\n",
      "    4  100  1.521220621630814E+01   2.34209015E-02\n",
      "tnc: Maximum number of function evaluations reached\n",
      "  NIT   NF   F                       GTG\n",
      "    0    1  1.551732893269092E+02   5.20573001E+02\n",
      "tnc: fscale = 0.0438288\n",
      "tnc: stepmx = 1000\n",
      "    1    5  2.468625688133451E+01   5.27563092E+01\n",
      "    2    9  1.354824048880164E+01   3.80826980E-02\n",
      "tnc: fscale = 5.12432\n",
      "    3   12  1.346521242392641E+01   9.16937087E-02\n",
      "    3   58  1.346521242392641E+01   9.16937087E-02\n",
      "tnc: Linear search failed\n",
      "  NIT   NF   F                       GTG\n",
      "    0    1  1.403522363960774E+02   3.97283047E+02\n",
      "tnc: stepmx = 1000\n",
      "    1    5  2.265627060096184E+01   4.04789215E+01\n",
      "    2    8  1.280163902709342E+01   3.41751923E-01\n",
      "    3   11  1.230240177474514E+01   6.24199638E-02\n",
      "    4   39  1.227019983553852E+01   1.56196641E-02\n",
      "tnc: |fn-fn-1] = 0 -> convergence\n",
      "    5   86  1.227019983553852E+01   1.56196641E-02\n",
      "tnc: Converged (|f_n-f_(n-1)| ~= 0)\n",
      "  NIT   NF   F                       GTG\n",
      "    0    1  1.302375412493010E+02   3.50658098E+02\n",
      "tnc: stepmx = 1000\n",
      "    1    5  2.096913221020726E+01   3.55704041E+01\n",
      "    2    9  1.120929174836149E+01   2.96031309E-02\n",
      "    3   37  1.120795637460862E+01   2.37073513E-02\n",
      "    4   40  1.120125862621722E+01   9.49312246E-03\n",
      "    5   44  1.117689694728486E+01   2.97514700E-05\n",
      "tnc: fscale = 183.335\n",
      "    5   85  1.117689694728486E+01   2.97514700E-05\n",
      "tnc: Linear search failed\n",
      "  NIT   NF   F                       GTG\n",
      "    0    1  1.409541208805539E+02   4.02918651E+02\n",
      "tnc: fscale = 0.0498186\n",
      "tnc: stepmx = 1000\n",
      "    1    5  2.533313648688077E+01   4.76026348E+01\n",
      "    2    9  1.245546820960711E+01   9.86328848E-02\n",
      "tnc: fscale = 3.18412\n",
      "    3   13  1.208636779284133E+01   9.96303265E-03\n",
      "    4   16  1.207504770467437E+01   7.71807382E-03\n",
      "    5   20  1.207002171521019E+01   2.82245648E-05\n",
      "tnc: fscale = 188.229\n",
      "    5   57  1.207002171521019E+01   2.82245648E-05\n",
      "tnc: Linear search failed\n"
     ]
    }
   ],
   "source": [
    "#Curva de aprendizaje lAMBDA = 1\n",
    "Lambda = 1.0\n",
    "J_train, J_val = curva_aprendizaje_poli(X_poly, y, X_poly_val, yval, Lambda)\n",
    "#J_train, J_val = curva_aprendizaje_poli(X_1, y, Xval_1, yval, Lambda)"
   ]
  },
  {
   "cell_type": "code",
   "execution_count": 603,
   "id": "a2ed2d3f",
   "metadata": {},
   "outputs": [
    {
     "data": {
      "image/png": "[encoded data removed]",
      "text/plain": [
       "<Figure size 432x288 with 1 Axes>"
      ]
     },
     "metadata": {
      "needs_background": "light"
     },
     "output_type": "display_data"
    }
   ],
   "source": [
    "plt.figure()\n",
    "plt.plot(range(1, len(X)+1), J_train, range(1, len(X)+1), J_val)\n",
    "plt.title('Learning curve for linear regression ($\\lambda = 1$)')\n",
    "plt.legend(['Train', 'Cross Validation'])\n",
    "plt.xlabel('Number of training examples')\n",
    "plt.ylabel('Error')\n",
    "plt.savefig('learning curve (lambda = 0).pdf')\n",
    "plt.show()\n",
    "\n",
    "plt.close()"
   ]
  },
  {
   "cell_type": "code",
   "execution_count": 604,
   "id": "a9562b3e",
   "metadata": {},
   "outputs": [
    {
     "name": "stderr",
     "output_type": "stream",
     "text": [
      "  NIT   NF   F                       GTG\n",
      "    0    1  2.277640669568327E+00   1.47604740E+01\n",
      "    1   37  2.262626924679278E+00   1.43028128E+01\n",
      "    1   91  2.262626924679278E+00   1.43028128E+01\n",
      "tnc: Linear search failed\n",
      "  NIT   NF   F                       GTG\n",
      "    0    1  1.482953143345821E+00   7.23898367E+00\n",
      "    1   36  1.464405204635858E+00   6.79361651E+00\n",
      "    1   90  1.464405204635858E+00   6.79361651E+00\n",
      "tnc: Linear search failed\n",
      "  NIT   NF   F                       GTG\n",
      "    0    1  1.977466993755966E+02   9.20117439E+02\n",
      "tnc: fscale = 0.0329669\n",
      "    1   38  1.940758442573272E+02   8.28400658E+02\n",
      "    1   92  1.940758442573272E+02   8.28400658E+02\n",
      "tnc: Linear search failed\n",
      "  NIT   NF   F                       GTG\n",
      "    0    1  3.179393921121576E+02   2.38822545E+03\n",
      "tnc: fscale = 0.0204627\n",
      "    1   38  3.078458636190625E+02   2.04665428E+03\n",
      "tnc: |fn-fn-1] = 0 -> convergence\n",
      "    2   92  3.078458636190625E+02   2.04665428E+03\n",
      "tnc: Converged (|f_n-f_(n-1)| ~= 0)\n",
      "  NIT   NF   F                       GTG\n",
      "    0    1  2.551405421686908E+02   1.42366466E+03\n",
      "tnc: fscale = 0.0265031\n",
      "    1   38  2.459263893475572E+02   1.19832315E+03\n",
      "    1   92  2.459263893475572E+02   1.19832315E+03\n",
      "tnc: Linear search failed\n",
      "  NIT   NF   F                       GTG\n",
      "    0    1  2.129920308448484E+02   9.95085411E+02\n",
      "tnc: fscale = 0.0317008\n",
      "    1   38  2.045291806653291E+02   8.12235252E+02\n",
      "tnc: |fn-fn-1] = 5.60351e-14 -> convergence\n",
      "    2   92  2.045291806653291E+02   8.12235252E+02\n",
      "tnc: Converged (|f_n-f_(n-1)| ~= 0)\n",
      "  NIT   NF   F                       GTG\n",
      "    0    1  1.980211688420880E+02   8.44625484E+02\n",
      "tnc: fscale = 0.0344087\n",
      "    1   38  1.886706877517406E+02   6.91257008E+02\n",
      "    1   92  1.886706877517406E+02   6.91257008E+02\n",
      "tnc: Linear search failed\n",
      "  NIT   NF   F                       GTG\n",
      "    0    1  1.736956452372186E+02   6.41147653E+02\n",
      "tnc: fscale = 0.0394931\n",
      "    1   38  1.650986742743762E+02   5.15134331E+02\n",
      "    1   92  1.650986742743762E+02   5.15134331E+02\n",
      "tnc: Linear search failed\n",
      "  NIT   NF   F                       GTG\n",
      "    0    1  1.551732893269092E+02   5.20573001E+02\n",
      "tnc: fscale = 0.0438288\n",
      "    1   38  1.471210795021145E+02   4.10307340E+02\n",
      "tnc: |fn-fn-1] = 0 -> convergence\n",
      "    2   92  1.471210795021145E+02   4.10307340E+02\n",
      "tnc: Converged (|f_n-f_(n-1)| ~= 0)\n",
      "  NIT   NF   F                       GTG\n",
      "    0    1  1.403522363960774E+02   3.97283047E+02\n",
      "    1   38  1.328428815019450E+02   3.10239564E+02\n",
      "tnc: |fn-fn-1] = 0 -> convergence\n",
      "    2   92  1.328428815019450E+02   3.10239564E+02\n",
      "tnc: Converged (|f_n-f_(n-1)| ~= 0)\n",
      "  NIT   NF   F                       GTG\n",
      "    0    1  1.302375412493010E+02   3.50658098E+02\n",
      "    1   38  1.227137265053717E+02   2.71497511E+02\n",
      "    1   92  1.227137265053717E+02   2.71497511E+02\n",
      "tnc: Linear search failed\n",
      "  NIT   NF   F                       GTG\n",
      "    0    1  1.409541208805539E+02   4.02918651E+02\n",
      "tnc: fscale = 0.0498186\n",
      "    1   37  1.370656197692545E+02   2.44552007E+02\n",
      "    1   91  1.370656197692545E+02   2.44552007E+02\n",
      "tnc: Linear search failed\n"
     ]
    }
   ],
   "source": [
    "#Curva de aprendizaje lAMBDA = 100\n",
    "Lambda = 100.0\n",
    "J_train, J_val = curva_aprendizaje_poli(X_poly, y, X_poly_val, yval, Lambda)\n",
    "#J_train, J_val = curva_aprendizaje_poli(X_1, y, Xval_1, yval, Lambda)"
   ]
  },
  {
   "cell_type": "code",
   "execution_count": 605,
   "id": "0adf3e81",
   "metadata": {},
   "outputs": [
    {
     "data": {
      "image/png": "[encoded data removed]",
      "text/plain": [
       "<Figure size 432x288 with 1 Axes>"
      ]
     },
     "metadata": {
      "needs_background": "light"
     },
     "output_type": "display_data"
    }
   ],
   "source": [
    "plt.figure()\n",
    "plt.plot(range(1, len(X)+1), J_train, range(1, len(X)+1), J_val)\n",
    "plt.title('Learning curve for linear regression ($\\lambda = 100$)')\n",
    "plt.legend(['Train', 'Cross Validation'])\n",
    "plt.xlabel('Number of training examples')\n",
    "plt.ylabel('Error')\n",
    "plt.savefig('learning curve (lambda = 0).pdf')\n",
    "plt.show()\n",
    "\n",
    "plt.close()"
   ]
  },
  {
   "cell_type": "markdown",
   "id": "cb080e1a",
   "metadata": {},
   "source": [
    "### Selección del parámetro Lambda"
   ]
  },
  {
   "cell_type": "code",
   "execution_count": 606,
   "id": "f9ef9cd8",
   "metadata": {},
   "outputs": [],
   "source": [
    "def validationCurve(X, y, Xval, yval):\n",
    "    Lambdas = np.array([0, 0.001, 0.003, 0.01, 0.03, 0.1, 0.3, 1, 3, 10]).reshape((-1,1))\n",
    "    error_train = np.zeros(len(Lambdas))\n",
    "    error_val = np.zeros(len(Lambdas))\n",
    "    \n",
    "    for i in range(len(Lambdas)):\n",
    "        reg = Lambdas[i]\n",
    "        theta_aux = trainLinearReg(X, y, reg)\n",
    "        theta_aux = theta_aux.reshape((theta_aux.shape[0],1))\n",
    "        error_train[i] = coste_vec(theta_aux, X, y)\n",
    "        error_val[i] = coste_vec(theta_aux, Xval, yval)\n",
    "        \n",
    "    return (Lambdas, error_train, error_val)"
   ]
  },
  {
   "cell_type": "code",
   "execution_count": 607,
   "id": "fdaa5acf",
   "metadata": {},
   "outputs": [
    {
     "name": "stderr",
     "output_type": "stream",
     "text": [
      "  NIT   NF   F                       GTG\n",
      "    0    1  1.409541208805539E+02   5.28752962E+02\n",
      "tnc: fscale = 0.0434884\n",
      "tnc: stepmx = 1000\n",
      "    1    5  1.226964025494048E+01   3.70034815E+01\n",
      "    2    8  3.013066315864414E+00   1.92674824E+00\n",
      "    3   11  2.235258702621655E+00   1.60999055E-01\n",
      "tnc: fscale = 2.49223\n",
      "    4   17  4.187097088517835E-01   1.78347721E-03\n",
      "    5   20  3.508561757623870E-01   2.87839553E-02\n",
      "    6   26  1.887077682606743E-01   1.08525358E-04\n",
      "tnc: fscale = 95.9919\n",
      "    7   32  1.866919035208944E-01   2.05469023E-04\n",
      "    8   35  1.859059387864349E-01   1.21292181E-03\n",
      "    9   41  1.398425476502827E-01   4.93511744E-02\n",
      "tnc: fscale = 4.50144\n",
      "   10   44  1.357773944968693E-01   4.17326069E-04\n",
      "   11   50  1.157384296783348E-01   6.39282571E-05\n",
      "tnc: fscale = 125.07\n",
      "   12   55  1.093749688461741E-01   1.58187577E-04\n",
      "   13   58  1.091038639350610E-01   3.26746122E-04\n",
      "   14   64  4.504220660247865E-02   6.92578053E-03\n",
      "   15   67  4.447752270966516E-02   1.73259039E-05\n",
      "   16   71  4.445042969788604E-02   6.70134050E-06\n",
      "   17   77  4.382563834929087E-02   8.37734016E-04\n",
      "   18   83  4.309682932834038E-02   1.19644416E-05\n",
      "   19   89  4.235327368827204E-02   4.81250283E-07\n",
      "   20   95  4.213874950556838E-02   1.13095886E-05\n",
      "   21  100  4.141979474227080E-02   3.23285623E-04\n",
      "   21  100  4.141979474227080E-02   3.23285623E-04\n",
      "tnc: Maximum number of function evaluations reached\n",
      "  NIT   NF   F                       GTG\n",
      "    0    1  1.409541208805539E+02   5.28752962E+02\n",
      "tnc: fscale = 0.0434884\n",
      "tnc: stepmx = 1000\n",
      "    1    5  1.227327175935487E+01   3.69919334E+01\n",
      "    2    8  3.020666383203073E+00   1.92583210E+00\n",
      "    3   11  2.243123935673921E+00   1.60884997E-01\n",
      "tnc: fscale = 2.49311\n",
      "    4   17  4.323174389883767E-01   1.77244400E-03\n",
      "    5   20  3.653146038855027E-01   2.90055123E-02\n",
      "    6   25  2.586922597965468E-01   5.18655727E-05\n",
      "tnc: fscale = 138.855\n",
      "    7   31  2.235276587107760E-01   8.88345019E-05\n",
      "    8   34  2.153685671369067E-01   4.23559539E-03\n",
      "    9   39  2.104976545140671E-01   9.66883813E-04\n",
      "   10   42  2.100089766921070E-01   1.36768209E-04\n",
      "   11   48  1.806554242536929E-01   1.40659630E-03\n",
      "   12   52  1.786063003543269E-01   3.34468944E-04\n",
      "   13   55  1.783859069108223E-01   3.40698514E-04\n",
      "   14   61  1.747845175432407E-01   7.03268835E-05\n",
      "   15   66  1.730332040448730E-01   1.69962070E-06\n",
      "   16   70  1.730309216000260E-01   4.81652445E-07\n",
      "   17   97  1.729870920837386E-01   7.27766017E-05\n",
      "   17  100  1.729870920837386E-01   7.27766017E-05\n",
      "tnc: Maximum number of function evaluations reached\n",
      "  NIT   NF   F                       GTG\n",
      "    0    1  1.409541208805539E+02   5.28752962E+02\n",
      "tnc: fscale = 0.0434884\n",
      "tnc: stepmx = 1000\n",
      "    1    5  1.228054245059685E+01   3.69689086E+01\n",
      "    2    8  3.035863930624277E+00   1.92400133E+00\n",
      "    3   11  2.258851237597595E+00   1.60658205E-01\n",
      "tnc: fscale = 2.49487\n",
      "    4   17  4.594424057348026E-01   1.75139705E-03\n",
      "    5   20  3.943456120331465E-01   2.73457952E-02\n",
      "    6   25  2.938155897492090E-01   4.85177456E-05\n",
      "tnc: fscale = 143.565\n",
      "    7   31  2.679089238830955E-01   5.71533486E-05\n",
      "    8   34  2.634158255567991E-01   1.75189965E-03\n",
      "    9   40  2.600707401913210E-01   1.10737670E-05\n",
      "   10   45  2.584451986607338E-01   2.45507025E-04\n",
      "   11   51  2.552784742088571E-01   2.56396269E-05\n",
      "   12   55  2.537568639932627E-01   1.05884539E-04\n",
      "   13   59  2.536287257665155E-01   9.24724793E-06\n",
      "   14   65  2.535509113041565E-01   6.10038821E-07\n",
      "   14  100  2.535509113041565E-01   6.10038821E-07\n",
      "tnc: Maximum number of function evaluations reached\n",
      "  NIT   NF   F                       GTG\n",
      "    0    1  1.409541208805539E+02   5.28752962E+02\n",
      "tnc: fscale = 0.0434884\n",
      "tnc: stepmx = 1000\n",
      "    1    5  1.230599175539351E+01   3.68883570E+01\n",
      "    2    8  3.089030454478557E+00   1.91762029E+00\n",
      "    3   11  2.313866733287534E+00   1.59878308E-01\n",
      "tnc: fscale = 2.50095\n",
      "    4   17  5.534561343311650E-01   1.68811013E-03\n",
      "    5   20  4.946820062252664E-01   2.42634597E-02\n",
      "    6   25  4.119498726764703E-01   4.54592142E-05\n",
      "tnc: fscale = 148.316\n",
      "    7   31  4.042690894824560E-01   3.07246594E-05\n",
      "    8   59  4.039031851325224E-01   2.26748793E-04\n",
      "    8  100  4.039031851325224E-01   2.26748793E-04\n",
      "tnc: Maximum number of function evaluations reached\n",
      "  NIT   NF   F                       GTG\n",
      "    0    1  1.409541208805539E+02   5.28752962E+02\n",
      "tnc: fscale = 0.0434884\n",
      "tnc: stepmx = 1000\n",
      "    1    5  1.237878015225244E+01   3.66589838E+01\n",
      "    2    8  3.240700433769855E+00   1.89957905E+00\n",
      "    3   11  2.470784521351411E+00   1.57766999E-01\n",
      "tnc: fscale = 2.51763\n",
      "    4   17  8.147571745896180E-01   1.58871613E-03\n",
      "    5   20  7.730537757237099E-01   2.00476068E-02\n",
      "    6   25  7.228677039900275E-01   8.29778006E-05\n",
      "tnc: fscale = 109.779\n",
      "tnc: |fn-fn-1] = 5.17799e-16 -> convergence\n",
      "    7   78  7.228677039900271E-01   8.29778006E-05\n",
      "tnc: Converged (|f_n-f_(n-1)| ~= 0)\n",
      "  NIT   NF   F                       GTG\n",
      "    0    1  1.409541208805539E+02   5.28752962E+02\n",
      "tnc: fscale = 0.0434884\n",
      "tnc: stepmx = 1000\n",
      "    1    5  1.263445137097971E+01   3.58657348E+01\n",
      "    2    8  3.768858342175271E+00   1.83866959E+00\n",
      "    3   11  3.016900065008212E+00   1.51710979E-01\n",
      "tnc: fscale = 2.56739\n",
      "    4   17  1.662819341334838E+00   2.00231104E-03\n",
      "    5   48  1.657272650076679E+00   5.97786137E-04\n",
      "    5   98  1.657272650076679E+00   5.97786137E-04\n",
      "tnc: Linear search failed\n",
      "  NIT   NF   F                       GTG\n",
      "    0    1  1.409541208805539E+02   5.28752962E+02\n",
      "tnc: fscale = 0.0434884\n",
      "tnc: stepmx = 1000\n",
      "    1    5  1.337231576040418E+01   3.36775437E+01\n",
      "    2    8  5.255226671618692E+00   1.68292816E+00\n",
      "    3   11  4.551506361357831E+00   1.45239478E-01\n",
      "tnc: fscale = 2.62396\n",
      "    4   17  3.807239572659000E+00   9.98391567E-03\n",
      "    4   66  3.807239572659000E+00   9.98391567E-03\n",
      "tnc: Linear search failed\n",
      "  NIT   NF   F                       GTG\n",
      "    0    1  1.409541208805539E+02   5.28752962E+02\n",
      "tnc: fscale = 0.0434884\n",
      "tnc: stepmx = 1000\n",
      "    1    5  1.603225299074657E+01   2.68777948E+01\n",
      "    2    8  1.020957557973310E+01   1.32419760E+00\n",
      "tnc: fscale = 0.869008\n",
      "    3   40  1.010610092660506E+01   3.40663074E-01\n",
      "    3   91  1.010610092660506E+01   3.40663074E-01\n",
      "tnc: Linear search failed\n",
      "  NIT   NF   F                       GTG\n",
      "    0    1  1.409541208805539E+02   5.28752962E+02\n",
      "tnc: fscale = 0.0434884\n",
      "tnc: stepmx = 1000\n",
      "    1    5  2.410976297204936E+01   1.35861536E+01\n",
      "    2   38  2.367817340830898E+01   7.64001069E+00\n",
      "tnc: |fn-fn-1] = 0 -> convergence\n",
      "    3   90  2.367817340830898E+01   7.64001069E+00\n",
      "tnc: Converged (|f_n-f_(n-1)| ~= 0)\n",
      "  NIT   NF   F                       GTG\n",
      "    0    1  1.409541208805539E+02   5.28752962E+02\n",
      "tnc: fscale = 0.0434884\n",
      "tnc: stepmx = 1000\n",
      "    1    4  5.374695369444123E+01   9.82868417E+00\n",
      "    1   59  5.374695369444123E+01   9.82868417E+00\n",
      "tnc: Linear search failed\n"
     ]
    }
   ],
   "source": [
    "Lambdas, train, crossvalidation = validationCurve(X_1, y, Xval_1, yval)"
   ]
  },
  {
   "cell_type": "code",
   "execution_count": 608,
   "id": "e6d967ee",
   "metadata": {},
   "outputs": [
    {
     "data": {
      "image/png": "[encoded data removed]",
      "text/plain": [
       "<Figure size 432x288 with 1 Axes>"
      ]
     },
     "metadata": {
      "needs_background": "light"
     },
     "output_type": "display_data"
    }
   ],
   "source": [
    "plt.figure()\n",
    "plt.plot(Lambdas, train, label='Train')\n",
    "plt.plot(Lambdas, crossvalidation, label='Cross validation')\n",
    "plt.title('Selecting ($\\lambda$) using a cross validation set')\n",
    "plt.xlabel('Lambda')\n",
    "plt.ylabel('Error')\n",
    "plt.savefig('')\n",
    "plt.show()\n",
    "\n",
    "plt.close()"
   ]
  },
  {
   "cell_type": "code",
   "execution_count": null,
   "id": "59fa308d",
   "metadata": {},
   "outputs": [],
   "source": []
  },
  {
   "cell_type": "code",
   "execution_count": null,
   "id": "387031bc",
   "metadata": {},
   "outputs": [],
   "source": []
  }
 ],
 "metadata": {
  "kernelspec": {
   "display_name": "Python 3 (ipykernel)",
   "language": "python",
   "name": "python3"
  },
  "language_info": {
   "codemirror_mode": {
    "name": "ipython",
    "version": 3
   },
   "file_extension": ".py",
   "mimetype": "text/x-python",
   "name": "python",
   "nbconvert_exporter": "python",
   "pygments_lexer": "ipython3",
   "version": "3.9.7"
  }
 },
 "nbformat": 4,
 "nbformat_minor": 5
}
