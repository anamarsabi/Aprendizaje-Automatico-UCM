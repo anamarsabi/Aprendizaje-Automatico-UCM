{
 "cells": [
  {
   "cell_type": "markdown",
   "id": "5ee8fed3",
   "metadata": {},
   "source": [
    "# Práctica 5"
   ]
  },
  {
   "cell_type": "code",
   "execution_count": 51,
   "id": "cd28dc24",
   "metadata": {},
   "outputs": [],
   "source": [
    "from scipy.io import loadmat\n",
    "import numpy as np\n",
    "import matplotlib.pyplot as plt\n",
    "import scipy.optimize as opt"
   ]
  },
  {
   "cell_type": "markdown",
   "id": "a84dea2b",
   "metadata": {},
   "source": [
    "## Ejercicio 1: Regresión lineal regularizada"
   ]
  },
  {
   "cell_type": "code",
   "execution_count": 5,
   "id": "e389d99e",
   "metadata": {},
   "outputs": [
    {
     "name": "stdout",
     "output_type": "stream",
     "text": [
      "(12, 1) (12, 1)\n",
      "(21, 1) (21, 1)\n",
      "-5.085426348834809 28.68873075847896\n",
      "11.217589325366376 12.492955274415026\n"
     ]
    }
   ],
   "source": [
    "mat = loadmat('ex5data1.mat')\n",
    "X = mat.get(\"X\")\n",
    "y = mat.get(\"y\")\n",
    "Xval = mat.get(\"Xval\")\n",
    "yval = mat.get(\"yval\")\n",
    "\n",
    "print(X.shape, y.shape)\n",
    "print(Xval.shape, yval.shape)\n",
    "print(np.mean(X), np.std(X))\n",
    "print(np.mean(y), np.std(y))"
   ]
  },
  {
   "cell_type": "code",
   "execution_count": 16,
   "id": "ea5cb871",
   "metadata": {},
   "outputs": [],
   "source": [
    "def coste_vec(Theta, X, y):   \n",
    "    # añadimos una columna de 1's a la X\n",
    "    m = np.shape(X)[0]\n",
    "   # X = np.hstack([np.ones([m, 1]), X])\n",
    "    H = np.dot(X, Theta)\n",
    "    #H = np.dot(Theta, X)\n",
    "    Aux = (H - y) ** 2\n",
    "    return Aux.sum() / (2 * len(X))"
   ]
  },
  {
   "cell_type": "code",
   "execution_count": 17,
   "id": "a8b049e3",
   "metadata": {},
   "outputs": [],
   "source": [
    "def coste_reg(Theta, X, y, Lambda):\n",
    "    Theta = Theta.reshape((Theta.shape[0],1))\n",
    "    Term1 = coste_vec(Theta, X, y)\n",
    "    Term2 = (Lambda/(2*len(y))) * np.sum(Theta**2)\n",
    "    cost = Term1 + Term2\n",
    "    return cost "
   ]
  },
  {
   "cell_type": "code",
   "execution_count": 18,
   "id": "634cf817",
   "metadata": {},
   "outputs": [],
   "source": [
    "def gradiente_vec(Theta, X, Y):\n",
    "    m = np.shape(X)[0]\n",
    "    H = np.dot(X, Theta)\n",
    "    Aux = (H - Y)\n",
    "    grad = np.dot(Aux.T, X) * (1/m)\n",
    "    return grad"
   ]
  },
  {
   "cell_type": "code",
   "execution_count": 19,
   "id": "52da47c8",
   "metadata": {},
   "outputs": [],
   "source": [
    "def gradiente_reg(Theta, X, Y, Lambda):\n",
    "    Theta = Theta.reshape((Theta.shape[0],1))\n",
    "    item1 = gradiente_vec(Theta, X, Y).T\n",
    "    item2  = (Lambda/len(y))*np.r_[[np.zeros(Theta.shape[1])], Theta[1:]]\n",
    "    #item2  = (Lambda/len(y))*np.r_[[0], Theta[1:]]\n",
    "    grad = item1 + item2\n",
    "    grad = grad.flatten()\n",
    "    return grad"
   ]
  },
  {
   "cell_type": "code",
   "execution_count": 20,
   "id": "144dc476",
   "metadata": {},
   "outputs": [],
   "source": [
    "def coste_grad_reg(Theta, X, Y, Lambda):\n",
    "    coste = coste_reg(Theta, X, y, Lambda)\n",
    "    grad = gradiente_reg(Theta, X, Y, Lambda)\n",
    "    return coste, grad"
   ]
  },
  {
   "cell_type": "code",
   "execution_count": 21,
   "id": "b05a7d10",
   "metadata": {
    "scrolled": true
   },
   "outputs": [
    {
     "name": "stdout",
     "output_type": "stream",
     "text": [
      "304.0348588869309 [-15.30301567 598.25074417]\n"
     ]
    }
   ],
   "source": [
    "theta = np.ones((2,1))\n",
    "#theta = np.ones(2)\n",
    "m=len(y)\n",
    "X_1 = np.hstack([np.ones([m, 1]), X])\n",
    "coste, grad = coste_grad_reg(theta, X_1, y, 1)\n",
    "print(coste, grad)"
   ]
  },
  {
   "cell_type": "code",
   "execution_count": 22,
   "id": "33e68c53",
   "metadata": {},
   "outputs": [
    {
     "name": "stdout",
     "output_type": "stream",
     "text": [
      "(12, 2)\n",
      "(2, 1)\n"
     ]
    }
   ],
   "source": [
    "print(X_1.shape)\n",
    "print(theta.shape)"
   ]
  },
  {
   "cell_type": "code",
   "execution_count": 23,
   "id": "a2479281",
   "metadata": {},
   "outputs": [
    {
     "name": "stdout",
     "output_type": "stream",
     "text": [
      "Coste = 22.373906495108997\n"
     ]
    }
   ],
   "source": [
    "Lambda = 0\n",
    "theta = np.ones((2,1))\n",
    "result = opt.fmin_tnc(func=coste_reg, x0=theta, fprime=gradiente_reg, args=(X_1,y,Lambda))\n",
    "Theta_opt=result[0]\n",
    "coste_opt = coste_reg(Theta_opt, X_1, y, Lambda)\n",
    "print('Coste = {}'.format(coste_opt))"
   ]
  },
  {
   "cell_type": "code",
   "execution_count": 24,
   "id": "5c44234d",
   "metadata": {},
   "outputs": [
    {
     "name": "stdout",
     "output_type": "stream",
     "text": [
      "(2,)\n"
     ]
    }
   ],
   "source": [
    "print(Theta_opt.shape)"
   ]
  },
  {
   "cell_type": "code",
   "execution_count": 25,
   "id": "fd310e6f",
   "metadata": {},
   "outputs": [],
   "source": [
    "def plot_H(X, Y, theta):\n",
    "    plt.plot(X, Y, \"x\")\n",
    "    theta0 = theta[0]\n",
    "    theta1 = theta[1]\n",
    "    min_x = min(X)\n",
    "    max_x = max(X)\n",
    "    min_y = theta0 + theta1 * min_x\n",
    "    max_y = theta0 + theta1 * max_x\n",
    "    plt.plot([min_x, max_x], [min_y, max_y])\n",
    "    plt.savefig(\"resultado.pdf\")"
   ]
  },
  {
   "cell_type": "code",
   "execution_count": 26,
   "id": "eddbe21d",
   "metadata": {},
   "outputs": [
    {
     "data": {
      "image/png": "[encoded data removed]",
      "text/plain": [
       "<Figure size 432x288 with 1 Axes>"
      ]
     },
     "metadata": {
      "needs_background": "light"
     },
     "output_type": "display_data"
    }
   ],
   "source": [
    "plot_H(X, y, Theta_opt)"
   ]
  },
  {
   "cell_type": "markdown",
   "id": "ae25c879",
   "metadata": {},
   "source": [
    "## Ejercicio 2: Curvas de aprendizaje"
   ]
  },
  {
   "cell_type": "code",
   "execution_count": 27,
   "id": "8fb030ae",
   "metadata": {},
   "outputs": [],
   "source": [
    "def curva_aprendizaje(theta, X, y, Lambda):\n",
    "    m = len(y)\n",
    "    X_1 = np.hstack([np.ones([m, 1]), X])\n",
    "    muestras, J_train, J_val = [], [], []\n",
    "    for i in range(1, 11, 1):\n",
    "        X_train_aux = X_1[:i, :]\n",
    "        y_train_aux = y[:i]\n",
    "        \n",
    "        result = opt.fmin_tnc(func=coste_reg, x0=theta, fprime=gradiente_reg, args=(X_train_aux,y_train_aux,Lambda))\n",
    "        theta_aux = result[0]\n",
    "        J_train.append(coste_reg(theta_aux,X_train_aux,y_train_aux,Lambda))\n",
    "        J_val.append(coste_reg(theta_aux, X_1, y,Lambda))\n",
    "        muestras.append(y_train_aux.shape[0])\n",
    "    return muestras, J_train, J_val"
   ]
  },
  {
   "cell_type": "code",
   "execution_count": 28,
   "id": "4d1f6279",
   "metadata": {},
   "outputs": [],
   "source": [
    "def plot_curva(muestras, J_train, J_val):\n",
    "    plt.figure()\n",
    "    plt.plot(muestras, J_train, label='Train')\n",
    "    plt.plot(muestras, J_val, label='Cross Validation')\n",
    "    plt.legend()\n",
    "    plt.title('Learning curve for linear regression')\n",
    "    plt.xlabel('Number of training examples')\n",
    "    plt.ylabel('Error')\n",
    "    plt.show()"
   ]
  },
  {
   "cell_type": "code",
   "execution_count": 29,
   "id": "c44cff32",
   "metadata": {},
   "outputs": [
    {
     "name": "stdout",
     "output_type": "stream",
     "text": [
      "[[-15.93675813]\n",
      " [-29.15297922]\n",
      " [ 36.18954863]\n",
      " [ 37.49218733]\n",
      " [-48.05882945]\n",
      " [ -8.94145794]\n",
      " [ 15.30779289]\n",
      " [-34.70626581]\n",
      " [  1.38915437]\n",
      " [-44.38375985]\n",
      " [  7.01350208]\n",
      " [ 22.76274892]]\n",
      "(12, 1)\n"
     ]
    }
   ],
   "source": [
    "print(X)\n",
    "print(X.shape)"
   ]
  },
  {
   "cell_type": "code",
   "execution_count": 30,
   "id": "32bebda3",
   "metadata": {
    "scrolled": true
   },
   "outputs": [
    {
     "data": {
      "image/png": "[encoded data removed]",
      "text/plain": [
       "<Figure size 432x288 with 1 Axes>"
      ]
     },
     "metadata": {
      "needs_background": "light"
     },
     "output_type": "display_data"
    }
   ],
   "source": [
    "muestras, J_train, J_val = curva_aprendizaje(theta, Xval, yval, 0)\n",
    "plot_curva(muestras, J_train, J_val)"
   ]
  },
  {
   "cell_type": "markdown",
   "id": "2dc31fcb",
   "metadata": {},
   "source": [
    "## Ejercicio 3: Regresión polinomial"
   ]
  },
  {
   "cell_type": "code",
   "execution_count": 31,
   "id": "357dc603",
   "metadata": {},
   "outputs": [],
   "source": [
    "def expand_X(X, p):\n",
    "    m=X.shape[0]\n",
    "    X_p = np.zeros((m,p))\n",
    "    for i in range(p):\n",
    "        dim = i+1\n",
    "        X_p[:, i] = X[:, 0] ** (i + 1)\n",
    " \n",
    "    return X_p\n",
    "    "
   ]
  },
  {
   "cell_type": "code",
   "execution_count": 32,
   "id": "745fa013",
   "metadata": {
    "scrolled": true
   },
   "outputs": [],
   "source": [
    "X_8 = expand_X(X,8)"
   ]
  },
  {
   "cell_type": "code",
   "execution_count": 33,
   "id": "ddd53d78",
   "metadata": {
    "scrolled": true
   },
   "outputs": [
    {
     "name": "stdout",
     "output_type": "stream",
     "text": [
      "[[-1.59367581e+01  2.53980260e+02 -4.04762197e+03  6.45059724e+04\n",
      "  -1.02801608e+06  1.63832436e+07 -2.61095791e+08  4.16102047e+09]\n",
      " [-2.91529792e+01  8.49896197e+02 -2.47770062e+04  7.22323546e+05\n",
      "  -2.10578833e+07  6.13900035e+08 -1.78970150e+10  5.21751305e+11]\n",
      " [ 3.61895486e+01  1.30968343e+03  4.73968522e+04  1.71527069e+06\n",
      "   6.20748719e+07  2.24646160e+09  8.12984311e+10  2.94215353e+12]\n",
      " [ 3.74921873e+01  1.40566411e+03  5.27014222e+04  1.97589159e+06\n",
      "   7.40804977e+07  2.77743990e+09  1.04132297e+11  3.90414759e+12]\n",
      " [-4.80588295e+01  2.30965109e+03 -1.10999128e+05  5.33448815e+06\n",
      "  -2.56369256e+08  1.23208064e+10 -5.92123532e+11  2.84567638e+13]\n",
      " [-8.94145794e+00  7.99496701e+01 -7.14866612e+02  6.39194974e+03\n",
      "  -5.71533498e+04  5.11034273e+05 -4.56939146e+06  4.08570215e+07]\n",
      " [ 1.53077929e+01  2.34328523e+02  3.58705250e+03  5.49098568e+04\n",
      "   8.40548715e+05  1.28669456e+07  1.96964539e+08  3.01509237e+09]\n",
      " [-3.47062658e+01  1.20452489e+03 -4.18045609e+04  1.45088020e+06\n",
      "  -5.03546340e+07  1.74762131e+09 -6.06534098e+10  2.10505336e+12]\n",
      " [ 1.38915437e+00  1.92974986e+00  2.68072045e+00  3.72393452e+00\n",
      "   5.17311991e+00  7.18626212e+00  9.98282742e+00  1.38676883e+01]\n",
      " [-4.43837599e+01  1.96991814e+03 -8.74323736e+04  3.88057747e+06\n",
      "  -1.72234619e+08  7.64441995e+09 -3.39288099e+11  1.50588815e+13]\n",
      " [ 7.01350208e+00  4.91892115e+01  3.44988637e+02  2.41957852e+03\n",
      "   1.69697190e+04  1.19017160e+05  8.34727097e+05  5.85436023e+06]\n",
      " [ 2.27627489e+01  5.18142738e+02  1.17943531e+04  2.68471897e+05\n",
      "   6.11115839e+06  1.39106764e+08  3.16645234e+09  7.20771597e+10]]\n",
      "(12, 8)\n"
     ]
    }
   ],
   "source": [
    "print(X_8)\n",
    "print(X_8.shape)"
   ]
  },
  {
   "cell_type": "code",
   "execution_count": 34,
   "id": "da055ffc",
   "metadata": {},
   "outputs": [],
   "source": [
    "def normalizer(X):\n",
    "    mu = np.mean(X, axis=0)\n",
    "    sigma = np.std(X, axis=0)\n",
    "    X_norm = (X-mu)/sigma\n",
    "    return X_norm, mu, sigma"
   ]
  },
  {
   "cell_type": "code",
   "execution_count": 35,
   "id": "a00d1342",
   "metadata": {},
   "outputs": [
    {
     "name": "stdout",
     "output_type": "stream",
     "text": [
      "[[-3.78243704e-01 -7.88662325e-01  1.90328720e-01 -7.37591303e-01\n",
      "   3.20251970e-01 -6.17151602e-01  3.59835014e-01 -5.31091256e-01]\n",
      " [-8.38920100e-01  1.31420204e-03 -2.58961742e-01 -3.41564822e-01\n",
      "   9.75492734e-02 -4.55196644e-01  2.66773432e-01 -4.68873807e-01]\n",
      " [ 1.43871736e+00  6.10831582e-01  1.30534069e+00  2.56220001e-01\n",
      "   1.02186338e+00 -1.26962121e-02  7.90210009e-01 -1.77926980e-01]\n",
      " [ 1.48412330e+00  7.38068463e-01  1.42031240e+00  4.13121830e-01\n",
      "   1.15534830e+00  1.31223708e-01  9.10700224e-01 -6.22895388e-02]\n",
      " [-1.49791929e+00  1.93643966e+00 -2.12774745e+00  2.43510061e+00\n",
      "  -2.51876748e+00  2.71792174e+00 -2.76331690e+00  2.88908182e+00]\n",
      " [-1.34409278e-01 -1.01936614e+00  2.62563148e-01 -7.72577738e-01\n",
      "   3.31046537e-01 -6.21453712e-01  3.61188658e-01 -5.31586524e-01]\n",
      " [ 7.10844248e-01 -8.14713668e-01  3.55803314e-01 -7.43368461e-01\n",
      "   3.41027665e-01 -6.18104683e-01  3.62252117e-01 -5.31229003e-01]\n",
      " [-1.03249041e+00  4.71428060e-01 -6.28018432e-01  9.70487696e-02\n",
      "  -2.28187552e-01 -1.47905228e-01  4.11556057e-02 -2.78551428e-01]\n",
      " [ 2.25683763e-01 -1.12279332e+00  2.78115330e-01 -7.76423647e-01\n",
      "   3.31682056e-01 -6.21592224e-01  3.61212770e-01 -5.31591435e-01]\n",
      " [-1.36981778e+00  1.48607235e+00 -1.61695958e+00  1.55980151e+00\n",
      "  -1.58331392e+00  1.45040261e+00 -1.42914967e+00  1.27857621e+00]\n",
      " [ 4.21731046e-01 -1.06014377e+00  2.85534542e-01 -7.74969228e-01\n",
      "   3.31870677e-01 -6.21559967e-01  3.61217175e-01 -5.31590732e-01]\n",
      " [ 9.70700848e-01 -4.38475085e-01  5.33689054e-01 -6.14797521e-01\n",
      "   3.99629101e-01 -5.83887796e-01  3.77921571e-01 -5.22927330e-01]]\n",
      "(12, 8)\n"
     ]
    }
   ],
   "source": [
    "X_8_norm, mu, sigma = normalizer(X_8)\n",
    "print(X_8_norm)\n",
    "print(X_8_norm.shape)"
   ]
  },
  {
   "cell_type": "code",
   "execution_count": 36,
   "id": "d30dcd6f",
   "metadata": {},
   "outputs": [
    {
     "name": "stdout",
     "output_type": "stream",
     "text": [
      "[-5.08542635e+00  8.48904834e+02 -1.28290173e+04  1.28967789e+06\n",
      " -2.98314592e+07  2.29330301e+09 -6.84527284e+10  4.42233759e+12]\n",
      "(8,)\n",
      "[2.86887308e+01 7.54346385e+02 4.61380464e+04 1.66104441e+06\n",
      " 8.99399404e+07 3.68940106e+09 1.89508052e+11 8.31905350e+12]\n",
      "(8,)\n"
     ]
    }
   ],
   "source": [
    "print(mu)\n",
    "print(mu.shape)\n",
    "\n",
    "print(sigma)\n",
    "print(sigma.shape)"
   ]
  },
  {
   "cell_type": "code",
   "execution_count": 37,
   "id": "c070c695",
   "metadata": {},
   "outputs": [],
   "source": [
    "#Añadimos columna de 1's a los datos de entrenamiento X_8_norm\n",
    "m = X_8_norm.shape[0]\n",
    "X_1 = np.hstack([np.ones([m, 1]), X_8_norm])"
   ]
  },
  {
   "cell_type": "code",
   "execution_count": 38,
   "id": "760f6081",
   "metadata": {
    "scrolled": false
   },
   "outputs": [
    {
     "name": "stdout",
     "output_type": "stream",
     "text": [
      "Coste = 0.08795294776624747\n"
     ]
    }
   ],
   "source": [
    "Lambda = 0\n",
    "theta = np.ones((9,1))\n",
    "result = opt.fmin_tnc(func=coste_reg, x0=theta, fprime=gradiente_reg, args=(X_1,y,Lambda))\n",
    "Theta_opt=result[0]\n",
    "coste_opt = coste_reg(Theta_opt, X_1, y, Lambda)\n",
    "print('Coste = {}'.format(coste_opt))"
   ]
  },
  {
   "cell_type": "code",
   "execution_count": 39,
   "id": "9a9448c3",
   "metadata": {},
   "outputs": [
    {
     "name": "stdout",
     "output_type": "stream",
     "text": [
      "[ 11.22185347  10.64624101  16.13730417  12.76526914 -21.77093248\n",
      " -23.40989517  18.24212549  13.81144969  -4.79607325]\n"
     ]
    }
   ],
   "source": [
    "print(Theta_opt)"
   ]
  },
  {
   "cell_type": "code",
   "execution_count": 40,
   "id": "91824234",
   "metadata": {},
   "outputs": [],
   "source": [
    "def plot_poli(X, y, theta, mu, sigma):\n",
    "    plt.plot(X, y, \"x\")\n",
    "    \n",
    "    x1_min, x1_max = X[:, 0].min(), X[:, 0].max()\n",
    "    xx1 = np.linspace(x1_min, x1_max)\n",
    "    \n",
    "    xx1=xx1.reshape((xx1.shape[0],1))\n",
    "    \n",
    "    theta=theta.reshape((theta.shape[0],1))\n",
    "    \n",
    "    X_8 = expand_X(xx1,8)\n",
    "    \n",
    "    X_8_norm = (X_8 - mu)/sigma\n",
    "    X_8_norm_1 = np.hstack([np.ones([X_8_norm.shape[0], 1]), X_8_norm])\n",
    "\n",
    "    \n",
    "    h=0\n",
    "    h = np.matmul(X_8_norm_1,theta)\n",
    "        # 50x8 x 8, -> 50x1 -> 50,\n",
    "\n",
    "    plt.plot(xx1, h)  \n",
    "    plt.title('Polynomial regression (lambda = 0)')\n",
    "    plt.xlabel('Change in water level (x)')\n",
    "    plt.ylabel('Water lowing out of the dam (y)')\n",
    "    plt.show()\n"
   ]
  },
  {
   "cell_type": "code",
   "execution_count": 41,
   "id": "ae8cbbd5",
   "metadata": {
    "scrolled": false
   },
   "outputs": [
    {
     "data": {
      "image/png": "[encoded data removed]",
      "text/plain": [
       "<Figure size 432x288 with 1 Axes>"
      ]
     },
     "metadata": {
      "needs_background": "light"
     },
     "output_type": "display_data"
    }
   ],
   "source": [
    "plot_poli(X, y, Theta_opt, mu, sigma)"
   ]
  },
  {
   "cell_type": "code",
   "execution_count": 68,
   "id": "d434f76a",
   "metadata": {},
   "outputs": [],
   "source": [
    "def trainLinearReg(X, y, Lambda):\n",
    "    initial_theta = np.zeros(np.size(X,1))\n",
    "    res = opt.minimize(fun=coste_reg, x0=initial_theta, args=(X,y,Lambda), jac=True, method='TNC', options={'maxiter':400,'disp':False})\n",
    "    return res.x"
   ]
  },
  {
   "cell_type": "code",
   "execution_count": 90,
   "id": "ae14f0e7",
   "metadata": {},
   "outputs": [],
   "source": [
    "def curva_aprendizaje_poli(X, y, Lambda, sigma, mu):\n",
    "    #m = len(y)\n",
    "    #X_1 = np.hstack([np.ones([m, 1]), X])\n",
    "    \n",
    "    Xval_8_norm, aux1, aux2 = normalizer(expand_X(X,8))\n",
    "    \n",
    "    muestras, J_train, J_val = [], [], []\n",
    "    for i in range(1, 13, 1):\n",
    "        X_train_aux = Xval_8_norm[:i]\n",
    "        y_train_aux = y[:i]\n",
    "        \n",
    "        #X_train_aux = np.hstack([np.ones([X_train_aux.shape[0], 1]), X_train_aux])\n",
    "        #X_train_aux = X_1[:i]\n",
    "        #X_8 = expand_X(X_train_aux,8)\n",
    "        #X_8_norm, aux3, aux4 = normalizer(X_8)\n",
    "        #X_8_norm = ((X_8 - mu)/sigma)\n",
    "        #X_train_aux = X_8_norm\n",
    "        \n",
    "        #X_train_aux = np.hstack([np.ones([X_8_norm.shape[0], 1]), X_8_norm])\n",
    "        \n",
    "        # result = opt.fmin_tnc(func=coste_reg, x0=theta, fprime=gradiente_reg, args=(X_train_aux,y_train_aux,Lambda))\n",
    "        #theta_aux = result[0]\n",
    "        \n",
    "        theta_aux = trainLinearReg(X_train_aux, y_train_aux, Lambda)\n",
    "        \n",
    "        J_train.append(coste_reg(theta_aux,X_train_aux,y_train_aux,Lambda))\n",
    "        J_val.append(coste_reg(theta_aux, Xval_8_norm, y,Lambda))\n",
    "        muestras.append(y_train_aux.shape[0])\n",
    "    return muestras, J_train, J_val"
   ]
  },
  {
   "cell_type": "code",
   "execution_count": 91,
   "id": "345610df",
   "metadata": {},
   "outputs": [
    {
     "name": "stdout",
     "output_type": "stream",
     "text": [
      "[[-16.74653578]\n",
      " [-14.57747075]\n",
      " [ 34.51575866]\n",
      " [-47.01007574]\n",
      " [ 36.97511905]\n",
      " [-40.68611002]\n",
      " [ -4.47201098]\n",
      " [ 26.53363489]\n",
      " [-42.7976831 ]\n",
      " [ 25.37409938]\n",
      " [-31.10955398]\n",
      " [ 27.31176864]\n",
      " [ -3.26386201]\n",
      " [ -1.81827649]\n",
      " [-40.7196624 ]\n",
      " [-50.01324365]\n",
      " [-17.41177155]\n",
      " [  3.5881937 ]\n",
      " [  7.08548026]\n",
      " [ 46.28236902]\n",
      " [ 14.61228909]]\n",
      "(21, 1)\n"
     ]
    }
   ],
   "source": [
    "print(Xval)\n",
    "print(Xval.shape)"
   ]
  },
  {
   "cell_type": "code",
   "execution_count": 92,
   "id": "c118638c",
   "metadata": {},
   "outputs": [
    {
     "ename": "IndexError",
     "evalue": "invalid index to scalar variable.",
     "output_type": "error",
     "traceback": [
      "\u001b[1;31m---------------------------------------------------------------------------\u001b[0m",
      "\u001b[1;31mIndexError\u001b[0m                                Traceback (most recent call last)",
      "\u001b[1;32m<ipython-input-92-09888235b6a9>\u001b[0m in \u001b[0;36m<module>\u001b[1;34m\u001b[0m\n\u001b[1;32m----> 1\u001b[1;33m \u001b[0mmuestras\u001b[0m\u001b[1;33m,\u001b[0m \u001b[0mJ_train\u001b[0m\u001b[1;33m,\u001b[0m \u001b[0mJ_val\u001b[0m \u001b[1;33m=\u001b[0m \u001b[0mcurva_aprendizaje_poli\u001b[0m\u001b[1;33m(\u001b[0m\u001b[0mXval\u001b[0m\u001b[1;33m,\u001b[0m \u001b[0myval\u001b[0m\u001b[1;33m,\u001b[0m \u001b[1;36m0\u001b[0m\u001b[1;33m,\u001b[0m \u001b[0msigma\u001b[0m\u001b[1;33m,\u001b[0m \u001b[0mmu\u001b[0m\u001b[1;33m)\u001b[0m\u001b[1;33m\u001b[0m\u001b[1;33m\u001b[0m\u001b[0m\n\u001b[0m\u001b[0;32m      2\u001b[0m \u001b[0mplot_curva\u001b[0m\u001b[1;33m(\u001b[0m\u001b[0mmuestras\u001b[0m\u001b[1;33m,\u001b[0m \u001b[0mJ_train\u001b[0m\u001b[1;33m,\u001b[0m \u001b[0mJ_val\u001b[0m\u001b[1;33m)\u001b[0m\u001b[1;33m\u001b[0m\u001b[1;33m\u001b[0m\u001b[0m\n",
      "\u001b[1;32m<ipython-input-90-e96c57d30188>\u001b[0m in \u001b[0;36mcurva_aprendizaje_poli\u001b[1;34m(X, y, Lambda, sigma, mu)\u001b[0m\n\u001b[0;32m     22\u001b[0m         \u001b[1;31m#theta_aux = result[0]\u001b[0m\u001b[1;33m\u001b[0m\u001b[1;33m\u001b[0m\u001b[1;33m\u001b[0m\u001b[0m\n\u001b[0;32m     23\u001b[0m \u001b[1;33m\u001b[0m\u001b[0m\n\u001b[1;32m---> 24\u001b[1;33m         \u001b[0mtheta_aux\u001b[0m \u001b[1;33m=\u001b[0m \u001b[0mtrainLinearReg\u001b[0m\u001b[1;33m(\u001b[0m\u001b[0mX_train_aux\u001b[0m\u001b[1;33m,\u001b[0m \u001b[0my_train_aux\u001b[0m\u001b[1;33m,\u001b[0m \u001b[0mLambda\u001b[0m\u001b[1;33m)\u001b[0m\u001b[1;33m\u001b[0m\u001b[1;33m\u001b[0m\u001b[0m\n\u001b[0m\u001b[0;32m     25\u001b[0m \u001b[1;33m\u001b[0m\u001b[0m\n\u001b[0;32m     26\u001b[0m         \u001b[0mJ_train\u001b[0m\u001b[1;33m.\u001b[0m\u001b[0mappend\u001b[0m\u001b[1;33m(\u001b[0m\u001b[0mcoste_reg\u001b[0m\u001b[1;33m(\u001b[0m\u001b[0mtheta_aux\u001b[0m\u001b[1;33m,\u001b[0m\u001b[0mX_train_aux\u001b[0m\u001b[1;33m,\u001b[0m\u001b[0my_train_aux\u001b[0m\u001b[1;33m,\u001b[0m\u001b[0mLambda\u001b[0m\u001b[1;33m)\u001b[0m\u001b[1;33m)\u001b[0m\u001b[1;33m\u001b[0m\u001b[1;33m\u001b[0m\u001b[0m\n",
      "\u001b[1;32m<ipython-input-68-da1e61ed2f2b>\u001b[0m in \u001b[0;36mtrainLinearReg\u001b[1;34m(X, y, Lambda)\u001b[0m\n\u001b[0;32m      1\u001b[0m \u001b[1;32mdef\u001b[0m \u001b[0mtrainLinearReg\u001b[0m\u001b[1;33m(\u001b[0m\u001b[0mX\u001b[0m\u001b[1;33m,\u001b[0m \u001b[0my\u001b[0m\u001b[1;33m,\u001b[0m \u001b[0mLambda\u001b[0m\u001b[1;33m)\u001b[0m\u001b[1;33m:\u001b[0m\u001b[1;33m\u001b[0m\u001b[1;33m\u001b[0m\u001b[0m\n\u001b[0;32m      2\u001b[0m     \u001b[0minitial_theta\u001b[0m \u001b[1;33m=\u001b[0m \u001b[0mnp\u001b[0m\u001b[1;33m.\u001b[0m\u001b[0mzeros\u001b[0m\u001b[1;33m(\u001b[0m\u001b[0mnp\u001b[0m\u001b[1;33m.\u001b[0m\u001b[0msize\u001b[0m\u001b[1;33m(\u001b[0m\u001b[0mX\u001b[0m\u001b[1;33m,\u001b[0m\u001b[1;36m1\u001b[0m\u001b[1;33m)\u001b[0m\u001b[1;33m)\u001b[0m\u001b[1;33m\u001b[0m\u001b[1;33m\u001b[0m\u001b[0m\n\u001b[1;32m----> 3\u001b[1;33m     \u001b[0mres\u001b[0m \u001b[1;33m=\u001b[0m \u001b[0mopt\u001b[0m\u001b[1;33m.\u001b[0m\u001b[0mminimize\u001b[0m\u001b[1;33m(\u001b[0m\u001b[0mfun\u001b[0m\u001b[1;33m=\u001b[0m\u001b[0mcoste_reg\u001b[0m\u001b[1;33m,\u001b[0m \u001b[0mx0\u001b[0m\u001b[1;33m=\u001b[0m\u001b[0minitial_theta\u001b[0m\u001b[1;33m,\u001b[0m \u001b[0margs\u001b[0m\u001b[1;33m=\u001b[0m\u001b[1;33m(\u001b[0m\u001b[0mX\u001b[0m\u001b[1;33m,\u001b[0m\u001b[0my\u001b[0m\u001b[1;33m,\u001b[0m\u001b[0mLambda\u001b[0m\u001b[1;33m)\u001b[0m\u001b[1;33m,\u001b[0m \u001b[0mjac\u001b[0m\u001b[1;33m=\u001b[0m\u001b[1;32mTrue\u001b[0m\u001b[1;33m,\u001b[0m \u001b[0mmethod\u001b[0m\u001b[1;33m=\u001b[0m\u001b[1;34m'TNC'\u001b[0m\u001b[1;33m,\u001b[0m \u001b[0moptions\u001b[0m\u001b[1;33m=\u001b[0m\u001b[1;33m{\u001b[0m\u001b[1;34m'maxiter'\u001b[0m\u001b[1;33m:\u001b[0m\u001b[1;36m400\u001b[0m\u001b[1;33m,\u001b[0m\u001b[1;34m'disp'\u001b[0m\u001b[1;33m:\u001b[0m\u001b[1;32mFalse\u001b[0m\u001b[1;33m}\u001b[0m\u001b[1;33m)\u001b[0m\u001b[1;33m\u001b[0m\u001b[1;33m\u001b[0m\u001b[0m\n\u001b[0m\u001b[0;32m      4\u001b[0m     \u001b[1;32mreturn\u001b[0m \u001b[0mres\u001b[0m\u001b[1;33m.\u001b[0m\u001b[0mx\u001b[0m\u001b[1;33m\u001b[0m\u001b[1;33m\u001b[0m\u001b[0m\n",
      "\u001b[1;32mC:\\software\\programacion\\python\\anaconda3\\lib\\site-packages\\scipy\\optimize\\_minimize.py\u001b[0m in \u001b[0;36mminimize\u001b[1;34m(fun, x0, args, method, jac, hess, hessp, bounds, constraints, tol, callback, options)\u001b[0m\n\u001b[0;32m    620\u001b[0m                                 callback=callback, **options)\n\u001b[0;32m    621\u001b[0m     \u001b[1;32melif\u001b[0m \u001b[0mmeth\u001b[0m \u001b[1;33m==\u001b[0m \u001b[1;34m'tnc'\u001b[0m\u001b[1;33m:\u001b[0m\u001b[1;33m\u001b[0m\u001b[1;33m\u001b[0m\u001b[0m\n\u001b[1;32m--> 622\u001b[1;33m         return _minimize_tnc(fun, x0, args, jac, bounds, callback=callback,\n\u001b[0m\u001b[0;32m    623\u001b[0m                              **options)\n\u001b[0;32m    624\u001b[0m     \u001b[1;32melif\u001b[0m \u001b[0mmeth\u001b[0m \u001b[1;33m==\u001b[0m \u001b[1;34m'cobyla'\u001b[0m\u001b[1;33m:\u001b[0m\u001b[1;33m\u001b[0m\u001b[1;33m\u001b[0m\u001b[0m\n",
      "\u001b[1;32mC:\\software\\programacion\\python\\anaconda3\\lib\\site-packages\\scipy\\optimize\\tnc.py\u001b[0m in \u001b[0;36m_minimize_tnc\u001b[1;34m(fun, x0, args, jac, bounds, eps, scale, offset, mesg_num, maxCGit, maxiter, eta, stepmx, accuracy, minfev, ftol, xtol, gtol, rescale, disp, callback, finite_diff_rel_step, maxfun, **unknown_options)\u001b[0m\n\u001b[0;32m    373\u001b[0m         \u001b[0mmessages\u001b[0m \u001b[1;33m=\u001b[0m \u001b[0mMSG_NONE\u001b[0m\u001b[1;33m\u001b[0m\u001b[1;33m\u001b[0m\u001b[0m\n\u001b[0;32m    374\u001b[0m \u001b[1;33m\u001b[0m\u001b[0m\n\u001b[1;32m--> 375\u001b[1;33m     sf = _prepare_scalar_function(fun, x0, jac=jac, args=args, epsilon=eps,\n\u001b[0m\u001b[0;32m    376\u001b[0m                                   \u001b[0mfinite_diff_rel_step\u001b[0m\u001b[1;33m=\u001b[0m\u001b[0mfinite_diff_rel_step\u001b[0m\u001b[1;33m,\u001b[0m\u001b[1;33m\u001b[0m\u001b[1;33m\u001b[0m\u001b[0m\n\u001b[0;32m    377\u001b[0m                                   bounds=new_bounds)\n",
      "\u001b[1;32mC:\\software\\programacion\\python\\anaconda3\\lib\\site-packages\\scipy\\optimize\\optimize.py\u001b[0m in \u001b[0;36m_prepare_scalar_function\u001b[1;34m(fun, x0, jac, args, bounds, epsilon, finite_diff_rel_step, hess)\u001b[0m\n\u001b[0;32m    259\u001b[0m     \u001b[1;31m# ScalarFunction caches. Reuse of fun(x) during grad\u001b[0m\u001b[1;33m\u001b[0m\u001b[1;33m\u001b[0m\u001b[1;33m\u001b[0m\u001b[0m\n\u001b[0;32m    260\u001b[0m     \u001b[1;31m# calculation reduces overall function evaluations.\u001b[0m\u001b[1;33m\u001b[0m\u001b[1;33m\u001b[0m\u001b[1;33m\u001b[0m\u001b[0m\n\u001b[1;32m--> 261\u001b[1;33m     sf = ScalarFunction(fun, x0, args, grad, hess,\n\u001b[0m\u001b[0;32m    262\u001b[0m                         finite_diff_rel_step, bounds, epsilon=epsilon)\n\u001b[0;32m    263\u001b[0m \u001b[1;33m\u001b[0m\u001b[0m\n",
      "\u001b[1;32mC:\\software\\programacion\\python\\anaconda3\\lib\\site-packages\\scipy\\optimize\\_differentiable_functions.py\u001b[0m in \u001b[0;36m__init__\u001b[1;34m(self, fun, x0, args, grad, hess, finite_diff_rel_step, finite_diff_bounds, epsilon)\u001b[0m\n\u001b[0;32m    134\u001b[0m \u001b[1;33m\u001b[0m\u001b[0m\n\u001b[0;32m    135\u001b[0m         \u001b[0mself\u001b[0m\u001b[1;33m.\u001b[0m\u001b[0m_update_fun_impl\u001b[0m \u001b[1;33m=\u001b[0m \u001b[0mupdate_fun\u001b[0m\u001b[1;33m\u001b[0m\u001b[1;33m\u001b[0m\u001b[0m\n\u001b[1;32m--> 136\u001b[1;33m         \u001b[0mself\u001b[0m\u001b[1;33m.\u001b[0m\u001b[0m_update_fun\u001b[0m\u001b[1;33m(\u001b[0m\u001b[1;33m)\u001b[0m\u001b[1;33m\u001b[0m\u001b[1;33m\u001b[0m\u001b[0m\n\u001b[0m\u001b[0;32m    137\u001b[0m \u001b[1;33m\u001b[0m\u001b[0m\n\u001b[0;32m    138\u001b[0m         \u001b[1;31m# Gradient evaluation\u001b[0m\u001b[1;33m\u001b[0m\u001b[1;33m\u001b[0m\u001b[1;33m\u001b[0m\u001b[0m\n",
      "\u001b[1;32mC:\\software\\programacion\\python\\anaconda3\\lib\\site-packages\\scipy\\optimize\\_differentiable_functions.py\u001b[0m in \u001b[0;36m_update_fun\u001b[1;34m(self)\u001b[0m\n\u001b[0;32m    224\u001b[0m     \u001b[1;32mdef\u001b[0m \u001b[0m_update_fun\u001b[0m\u001b[1;33m(\u001b[0m\u001b[0mself\u001b[0m\u001b[1;33m)\u001b[0m\u001b[1;33m:\u001b[0m\u001b[1;33m\u001b[0m\u001b[1;33m\u001b[0m\u001b[0m\n\u001b[0;32m    225\u001b[0m         \u001b[1;32mif\u001b[0m \u001b[1;32mnot\u001b[0m \u001b[0mself\u001b[0m\u001b[1;33m.\u001b[0m\u001b[0mf_updated\u001b[0m\u001b[1;33m:\u001b[0m\u001b[1;33m\u001b[0m\u001b[1;33m\u001b[0m\u001b[0m\n\u001b[1;32m--> 226\u001b[1;33m             \u001b[0mself\u001b[0m\u001b[1;33m.\u001b[0m\u001b[0m_update_fun_impl\u001b[0m\u001b[1;33m(\u001b[0m\u001b[1;33m)\u001b[0m\u001b[1;33m\u001b[0m\u001b[1;33m\u001b[0m\u001b[0m\n\u001b[0m\u001b[0;32m    227\u001b[0m             \u001b[0mself\u001b[0m\u001b[1;33m.\u001b[0m\u001b[0mf_updated\u001b[0m \u001b[1;33m=\u001b[0m \u001b[1;32mTrue\u001b[0m\u001b[1;33m\u001b[0m\u001b[1;33m\u001b[0m\u001b[0m\n\u001b[0;32m    228\u001b[0m \u001b[1;33m\u001b[0m\u001b[0m\n",
      "\u001b[1;32mC:\\software\\programacion\\python\\anaconda3\\lib\\site-packages\\scipy\\optimize\\_differentiable_functions.py\u001b[0m in \u001b[0;36mupdate_fun\u001b[1;34m()\u001b[0m\n\u001b[0;32m    131\u001b[0m \u001b[1;33m\u001b[0m\u001b[0m\n\u001b[0;32m    132\u001b[0m         \u001b[1;32mdef\u001b[0m \u001b[0mupdate_fun\u001b[0m\u001b[1;33m(\u001b[0m\u001b[1;33m)\u001b[0m\u001b[1;33m:\u001b[0m\u001b[1;33m\u001b[0m\u001b[1;33m\u001b[0m\u001b[0m\n\u001b[1;32m--> 133\u001b[1;33m             \u001b[0mself\u001b[0m\u001b[1;33m.\u001b[0m\u001b[0mf\u001b[0m \u001b[1;33m=\u001b[0m \u001b[0mfun_wrapped\u001b[0m\u001b[1;33m(\u001b[0m\u001b[0mself\u001b[0m\u001b[1;33m.\u001b[0m\u001b[0mx\u001b[0m\u001b[1;33m)\u001b[0m\u001b[1;33m\u001b[0m\u001b[1;33m\u001b[0m\u001b[0m\n\u001b[0m\u001b[0;32m    134\u001b[0m \u001b[1;33m\u001b[0m\u001b[0m\n\u001b[0;32m    135\u001b[0m         \u001b[0mself\u001b[0m\u001b[1;33m.\u001b[0m\u001b[0m_update_fun_impl\u001b[0m \u001b[1;33m=\u001b[0m \u001b[0mupdate_fun\u001b[0m\u001b[1;33m\u001b[0m\u001b[1;33m\u001b[0m\u001b[0m\n",
      "\u001b[1;32mC:\\software\\programacion\\python\\anaconda3\\lib\\site-packages\\scipy\\optimize\\_differentiable_functions.py\u001b[0m in \u001b[0;36mfun_wrapped\u001b[1;34m(x)\u001b[0m\n\u001b[0;32m    128\u001b[0m         \u001b[1;32mdef\u001b[0m \u001b[0mfun_wrapped\u001b[0m\u001b[1;33m(\u001b[0m\u001b[0mx\u001b[0m\u001b[1;33m)\u001b[0m\u001b[1;33m:\u001b[0m\u001b[1;33m\u001b[0m\u001b[1;33m\u001b[0m\u001b[0m\n\u001b[0;32m    129\u001b[0m             \u001b[0mself\u001b[0m\u001b[1;33m.\u001b[0m\u001b[0mnfev\u001b[0m \u001b[1;33m+=\u001b[0m \u001b[1;36m1\u001b[0m\u001b[1;33m\u001b[0m\u001b[1;33m\u001b[0m\u001b[0m\n\u001b[1;32m--> 130\u001b[1;33m             \u001b[1;32mreturn\u001b[0m \u001b[0mfun\u001b[0m\u001b[1;33m(\u001b[0m\u001b[0mx\u001b[0m\u001b[1;33m,\u001b[0m \u001b[1;33m*\u001b[0m\u001b[0margs\u001b[0m\u001b[1;33m)\u001b[0m\u001b[1;33m\u001b[0m\u001b[1;33m\u001b[0m\u001b[0m\n\u001b[0m\u001b[0;32m    131\u001b[0m \u001b[1;33m\u001b[0m\u001b[0m\n\u001b[0;32m    132\u001b[0m         \u001b[1;32mdef\u001b[0m \u001b[0mupdate_fun\u001b[0m\u001b[1;33m(\u001b[0m\u001b[1;33m)\u001b[0m\u001b[1;33m:\u001b[0m\u001b[1;33m\u001b[0m\u001b[1;33m\u001b[0m\u001b[0m\n",
      "\u001b[1;32mC:\\software\\programacion\\python\\anaconda3\\lib\\site-packages\\scipy\\optimize\\optimize.py\u001b[0m in \u001b[0;36m__call__\u001b[1;34m(self, x, *args)\u001b[0m\n\u001b[0;32m     72\u001b[0m     \u001b[1;32mdef\u001b[0m \u001b[0m__call__\u001b[0m\u001b[1;33m(\u001b[0m\u001b[0mself\u001b[0m\u001b[1;33m,\u001b[0m \u001b[0mx\u001b[0m\u001b[1;33m,\u001b[0m \u001b[1;33m*\u001b[0m\u001b[0margs\u001b[0m\u001b[1;33m)\u001b[0m\u001b[1;33m:\u001b[0m\u001b[1;33m\u001b[0m\u001b[1;33m\u001b[0m\u001b[0m\n\u001b[0;32m     73\u001b[0m         \u001b[1;34m\"\"\" returns the the function value \"\"\"\u001b[0m\u001b[1;33m\u001b[0m\u001b[1;33m\u001b[0m\u001b[0m\n\u001b[1;32m---> 74\u001b[1;33m         \u001b[0mself\u001b[0m\u001b[1;33m.\u001b[0m\u001b[0m_compute_if_needed\u001b[0m\u001b[1;33m(\u001b[0m\u001b[0mx\u001b[0m\u001b[1;33m,\u001b[0m \u001b[1;33m*\u001b[0m\u001b[0margs\u001b[0m\u001b[1;33m)\u001b[0m\u001b[1;33m\u001b[0m\u001b[1;33m\u001b[0m\u001b[0m\n\u001b[0m\u001b[0;32m     75\u001b[0m         \u001b[1;32mreturn\u001b[0m \u001b[0mself\u001b[0m\u001b[1;33m.\u001b[0m\u001b[0m_value\u001b[0m\u001b[1;33m\u001b[0m\u001b[1;33m\u001b[0m\u001b[0m\n\u001b[0;32m     76\u001b[0m \u001b[1;33m\u001b[0m\u001b[0m\n",
      "\u001b[1;32mC:\\software\\programacion\\python\\anaconda3\\lib\\site-packages\\scipy\\optimize\\optimize.py\u001b[0m in \u001b[0;36m_compute_if_needed\u001b[1;34m(self, x, *args)\u001b[0m\n\u001b[0;32m     67\u001b[0m             \u001b[0mself\u001b[0m\u001b[1;33m.\u001b[0m\u001b[0mx\u001b[0m \u001b[1;33m=\u001b[0m \u001b[0mnp\u001b[0m\u001b[1;33m.\u001b[0m\u001b[0masarray\u001b[0m\u001b[1;33m(\u001b[0m\u001b[0mx\u001b[0m\u001b[1;33m)\u001b[0m\u001b[1;33m.\u001b[0m\u001b[0mcopy\u001b[0m\u001b[1;33m(\u001b[0m\u001b[1;33m)\u001b[0m\u001b[1;33m\u001b[0m\u001b[1;33m\u001b[0m\u001b[0m\n\u001b[0;32m     68\u001b[0m             \u001b[0mfg\u001b[0m \u001b[1;33m=\u001b[0m \u001b[0mself\u001b[0m\u001b[1;33m.\u001b[0m\u001b[0mfun\u001b[0m\u001b[1;33m(\u001b[0m\u001b[0mx\u001b[0m\u001b[1;33m,\u001b[0m \u001b[1;33m*\u001b[0m\u001b[0margs\u001b[0m\u001b[1;33m)\u001b[0m\u001b[1;33m\u001b[0m\u001b[1;33m\u001b[0m\u001b[0m\n\u001b[1;32m---> 69\u001b[1;33m             \u001b[0mself\u001b[0m\u001b[1;33m.\u001b[0m\u001b[0mjac\u001b[0m \u001b[1;33m=\u001b[0m \u001b[0mfg\u001b[0m\u001b[1;33m[\u001b[0m\u001b[1;36m1\u001b[0m\u001b[1;33m]\u001b[0m\u001b[1;33m\u001b[0m\u001b[1;33m\u001b[0m\u001b[0m\n\u001b[0m\u001b[0;32m     70\u001b[0m             \u001b[0mself\u001b[0m\u001b[1;33m.\u001b[0m\u001b[0m_value\u001b[0m \u001b[1;33m=\u001b[0m \u001b[0mfg\u001b[0m\u001b[1;33m[\u001b[0m\u001b[1;36m0\u001b[0m\u001b[1;33m]\u001b[0m\u001b[1;33m\u001b[0m\u001b[1;33m\u001b[0m\u001b[0m\n\u001b[0;32m     71\u001b[0m \u001b[1;33m\u001b[0m\u001b[0m\n",
      "\u001b[1;31mIndexError\u001b[0m: invalid index to scalar variable."
     ]
    }
   ],
   "source": [
    "muestras, J_train, J_val = curva_aprendizaje_poli(Xval, yval, 0, sigma, mu)\n",
    "plot_curva(muestras, J_train, J_val)"
   ]
  },
  {
   "cell_type": "code",
   "execution_count": null,
   "id": "a2ed2d3f",
   "metadata": {},
   "outputs": [],
   "source": []
  },
  {
   "cell_type": "code",
   "execution_count": null,
   "id": "a9562b3e",
   "metadata": {},
   "outputs": [],
   "source": []
  },
  {
   "cell_type": "code",
   "execution_count": null,
   "id": "0adf3e81",
   "metadata": {},
   "outputs": [],
   "source": []
  }
 ],
 "metadata": {
  "kernelspec": {
   "display_name": "Python 3",
   "language": "python",
   "name": "python3"
  },
  "language_info": {
   "codemirror_mode": {
    "name": "ipython",
    "version": 3
   },
   "file_extension": ".py",
   "mimetype": "text/x-python",
   "name": "python",
   "nbconvert_exporter": "python",
   "pygments_lexer": "ipython3",
   "version": "3.8.8"
  }
 },
 "nbformat": 4,
 "nbformat_minor": 5
}
