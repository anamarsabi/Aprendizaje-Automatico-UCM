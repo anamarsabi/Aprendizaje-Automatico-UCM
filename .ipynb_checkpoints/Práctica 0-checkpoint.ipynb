{
 "cells": [
  {
   "cell_type": "markdown",
   "id": "31a63a85",
   "metadata": {
    "id": "31a63a85"
   },
   "source": [
    "# Práctica 0"
   ]
  },
  {
   "cell_type": "markdown",
   "id": "d9ed305b",
   "metadata": {
    "id": "d9ed305b"
   },
   "source": [
    "### Algoritmo de integración numérica basado en el método de Monte Carlo."
   ]
  },
  {
   "cell_type": "code",
   "execution_count": 1,
   "id": "dcce68e1",
   "metadata": {
    "id": "dcce68e1"
   },
   "outputs": [],
   "source": [
    "import time\n",
    "import numpy as np\n",
    "from scipy import integrate\n",
    "import random\n",
    "import matplotlib.pyplot as plt"
   ]
  },
  {
   "cell_type": "code",
   "execution_count": 2,
   "id": "e3277637",
   "metadata": {
    "executionInfo": {
     "elapsed": 10,
     "status": "ok",
     "timestamp": 1644169435066,
     "user": {
      "displayName": "Ana Martínez Sabiote",
      "photoUrl": "https://lh3.googleusercontent.com/a/default-user=s64",
      "userId": "00053617709786071274"
     },
     "user_tz": -60
    },
    "id": "e3277637"
   },
   "outputs": [],
   "source": [
    "def integra_mc_loop(fun, a, b, num_puntos=10000):\n",
    "    \"\"\"Hallar max_f (máximo de la función fun en el intervalo (a,b) ),\n",
    "        Rectángulo de lados (b-a) y M\n",
    "        Generar num_puntos puntos aleatorios coordenadas x (a,b) e y (0,M)\n",
    "        Contar el número de puntos que se quedan por debajo\n",
    "        Fórmula: I= N_debajo/N_total (b-a)M\n",
    "    \"\"\"\n",
    "    eje_x = np.linspace(a, b, num_puntos)\n",
    "    eje_y = []\n",
    "    num_debajo = 0\n",
    "    eje_y = fun(eje_x)\n",
    "    max_f = max(eje_y)\n",
    "    min_f = min(eje_y)\n",
    " \n",
    "    for i in range(num_puntos):\n",
    "        x = random.uniform(a, b)\n",
    "        y = random.uniform(min_f, max_f)\n",
    "   #     plt.plot(x, y, 'o')\n",
    "    \n",
    "        if fun(x) > y:\n",
    "            num_debajo = num_debajo + 1\n",
    "\n",
    "  #  plt.plot(eje_x, eje_y)\n",
    "    \n",
    "    return (num_debajo/num_puntos)*(b-a)*max_f\n",
    "          "
   ]
  },
  {
   "cell_type": "code",
   "execution_count": 3,
   "id": "YO-y9hQBI8Ma",
   "metadata": {
    "colab": {
     "base_uri": "https://localhost:8080/",
     "height": 130
    },
    "executionInfo": {
     "elapsed": 221,
     "status": "error",
     "timestamp": 1644169546168,
     "user": {
      "displayName": "Ana Martínez Sabiote",
      "photoUrl": "https://lh3.googleusercontent.com/a/default-user=s64",
      "userId": "00053617709786071274"
     },
     "user_tz": -60
    },
    "id": "YO-y9hQBI8Ma",
    "outputId": "e8b7b2ac-7320-4705-b482-f4365395ad16"
   },
   "outputs": [
    {
     "name": "stdout",
     "output_type": "stream",
     "text": [
      "Nuestra función por bucles: 2.010366216969439 \n",
      "scipy función: (2.0, 2.220446049250313e-14) \n"
     ]
    }
   ],
   "source": [
    "f = lambda x: np.sin(x)\n",
    "a = 0.0\n",
    "b = np.pi\n",
    "print(\"Nuestra función por bucles: {} \".format(integra_mc_loop(f, a, b, 100)))\n",
    "print(\"scipy función: {} \".format(integrate.quad(f, a, b)))"
   ]
  },
  {
   "cell_type": "code",
   "execution_count": 4,
   "id": "461e6224",
   "metadata": {},
   "outputs": [],
   "source": [
    "def integra_mc_vector(fun, a, b, num_puntos=10000):\n",
    "    \"\"\"Hallar max_f (máximo de la función fun en el intervalo (a,b) ),\n",
    "        Rectángulo de lados (b-a) y M\n",
    "        Generar num_puntos puntos aleatorios coordenadas x (a,b) e y (0,M)\n",
    "        Contar el número de puntos que se quedan por debajo\n",
    "        Fórmula: I= N_debajo/N_total (b-a)M\n",
    "    \"\"\"\n",
    "    eje_x = np.linspace(a, b, num_puntos)\n",
    "    eje_y = []\n",
    "    num_debajo = 0\n",
    "    eje_y = fun(eje_x)\n",
    "    max_f = max(eje_y)\n",
    "    min_f = min(eje_y)\n",
    "    x = np.random.uniform(a, b, num_puntos) \n",
    "    y = np.random.uniform(min_f, max_f, num_puntos)\n",
    "   # plt.plot(x, y, 'o')\n",
    "            \n",
    "    num_debajo = sum(fun(x) > y)\n",
    "   \n",
    "  #  plt.plot(eje_x, eje_y)\n",
    "    \n",
    "    return (num_debajo/num_puntos)*(b-a)*max_f"
   ]
  },
  {
   "cell_type": "code",
   "execution_count": 5,
   "id": "0db04b66",
   "metadata": {},
   "outputs": [
    {
     "name": "stdout",
     "output_type": "stream",
     "text": [
      "Nuestra función vectorizada: 2.2930739662307666 \n",
      "scipy función: (2.0, 2.220446049250313e-14) \n"
     ]
    }
   ],
   "source": [
    "print(\"Nuestra función vectorizada: {} \".format(integra_mc_vector(f, a, b, 100)))\n",
    "print(\"scipy función: {} \".format(integrate.quad(f, a, b)))"
   ]
  },
  {
   "cell_type": "code",
   "execution_count": 6,
   "id": "ffa1e428",
   "metadata": {},
   "outputs": [],
   "source": [
    "def compara_tiempos(fun, a, b):\n",
    "    sizes = np.linspace(10, 100000, 20)\n",
    "    times_loop = []\n",
    "    times_vector = []\n",
    "    for size in sizes:\n",
    "        tic = time.process_time()\n",
    "        loop = integra_mc_loop(fun, a, b, int(size))\n",
    "        toc = time.process_time()\n",
    "        times_loop += [1000 * (toc - tic)]\n",
    "        tic = time.process_time()\n",
    "        vector = integra_mc_vector(fun, a, b, int(size))\n",
    "        toc = time.process_time()\n",
    "        times_vector += [1000 * (toc - tic)]\n",
    "    plt.figure()\n",
    "    plt.scatter(sizes, times_loop, c='red', label='bucle')\n",
    "    plt.scatter(sizes, times_vector, c='blue', label='vector')\n",
    "    plt.legend()\n",
    "    plt.savefig('compara tiempos integra.png')"
   ]
  },
  {
   "cell_type": "code",
   "execution_count": 7,
   "id": "f610f4fe",
   "metadata": {},
   "outputs": [
    {
     "data": {
      "image/png": "[encoded data removed]",
      "text/plain": [
       "<Figure size 432x288 with 1 Axes>"
      ]
     },
     "metadata": {
      "needs_background": "light"
     },
     "output_type": "display_data"
    }
   ],
   "source": [
    "compara_tiempos(f,a,b)"
   ]
  },
  {
   "cell_type": "code",
   "execution_count": null,
   "id": "20897b86",
   "metadata": {},
   "outputs": [],
   "source": []
  }
 ],
 "metadata": {
  "colab": {
   "name": "Untitled.ipynb",
   "provenance": []
  },
  "kernelspec": {
   "display_name": "Python 3 (ipykernel)",
   "language": "python",
   "name": "python3"
  },
  "language_info": {
   "codemirror_mode": {
    "name": "ipython",
    "version": 3
   },
   "file_extension": ".py",
   "mimetype": "text/x-python",
   "name": "python",
   "nbconvert_exporter": "python",
   "pygments_lexer": "ipython3",
   "version": "3.9.7"
  }
 },
 "nbformat": 4,
 "nbformat_minor": 5
}
