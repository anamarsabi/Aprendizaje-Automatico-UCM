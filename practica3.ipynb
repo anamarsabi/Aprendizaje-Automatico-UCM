{
 "cells": [
  {
   "cell_type": "markdown",
   "id": "1455d114",
   "metadata": {},
   "source": [
    "# Práctica 3"
   ]
  },
  {
   "cell_type": "code",
   "execution_count": 46,
   "id": "12bac691",
   "metadata": {},
   "outputs": [],
   "source": [
    "from scipy.io import loadmat\n",
    "import numpy as np\n",
    "import matplotlib.pyplot as plt\n",
    "import scipy.optimize as opt"
   ]
  },
  {
   "cell_type": "markdown",
   "id": "796b5b0a",
   "metadata": {},
   "source": [
    "## Ejercicio 1: Regresión logística multi-clase"
   ]
  },
  {
   "cell_type": "code",
   "execution_count": 47,
   "id": "278d61df",
   "metadata": {},
   "outputs": [],
   "source": [
    "data = loadmat('ex3data1.mat')\n",
    "\n",
    "y = data['y']\n",
    "X = data['X']"
   ]
  },
  {
   "cell_type": "code",
   "execution_count": 48,
   "id": "2156833c",
   "metadata": {
    "scrolled": true
   },
   "outputs": [
    {
     "data": {
      "text/plain": [
       "(-0.5, 199.5, 19.5, -0.5)"
      ]
     },
     "execution_count": 48,
     "metadata": {},
     "output_type": "execute_result"
    },
    {
     "data": {
      "image/png": "[encoded data removed]",
      "text/plain": [
       "<Figure size 432x288 with 1 Axes>"
      ]
     },
     "metadata": {
      "needs_background": "light"
     },
     "output_type": "display_data"
    }
   ],
   "source": [
    "sample = np.random.choice(X.shape[0],10)\n",
    "plt.imshow(X[sample, :].reshape(-1,20).T)\n",
    "plt.axis('off')"
   ]
  },
  {
   "cell_type": "code",
   "execution_count": 49,
   "id": "75108af0",
   "metadata": {},
   "outputs": [
    {
     "name": "stdout",
     "output_type": "stream",
     "text": [
      "[10 10 10 ...  9  9  9]\n"
     ]
    }
   ],
   "source": [
    "y = np.ravel(y)\n",
    "print(y)\n",
    "m=len(y)\n",
    "X_1 = np.hstack([np.ones([m, 1]), X])"
   ]
  },
  {
   "cell_type": "code",
   "execution_count": 50,
   "id": "c710a98b",
   "metadata": {},
   "outputs": [],
   "source": [
    "def sigmoide(z):\n",
    "    return (1.0/(1.0+np.exp(-z)))"
   ]
  },
  {
   "cell_type": "code",
   "execution_count": 51,
   "id": "f646d0fc",
   "metadata": {},
   "outputs": [],
   "source": [
    "def coste(Theta, X, y):\n",
    "    H = sigmoide(np.dot(X, Theta))\n",
    "    Term1 = np.matmul(y, np.log(H))\n",
    "    Term2 = np.matmul((1 - y), np.log(1 - H))\n",
    "    cost = (- 1 / (len(y))) * np.sum(Term1 + Term2)\n",
    "    return cost"
   ]
  },
  {
   "cell_type": "code",
   "execution_count": 52,
   "id": "0366bd61",
   "metadata": {},
   "outputs": [],
   "source": [
    "def gradiente(Theta, X, y):\n",
    "    H = sigmoide(np.dot(X, Theta))\n",
    "    Dif = H - y\n",
    "    grad = (1 / len(y)) * np.matmul(Dif, X)\n",
    "    return grad"
   ]
  },
  {
   "cell_type": "code",
   "execution_count": 53,
   "id": "856d5902",
   "metadata": {},
   "outputs": [],
   "source": [
    "def coste_reg(Theta, X, y, Lambda):\n",
    "    Term1 = coste(Theta, X, y)\n",
    "    Term2 = (Lambda/(2*len(y))) * np.sum(Theta**2)\n",
    "    cost = Term1 + Term2\n",
    "    return cost "
   ]
  },
  {
   "cell_type": "code",
   "execution_count": 54,
   "id": "743609fb",
   "metadata": {},
   "outputs": [],
   "source": [
    "def gradiente_reg(Theta, X, y, Lambda):\n",
    "    grad = gradiente(Theta, X, y) + ((Lambda/len(y))*np.r_[[0],Theta[1:]])\n",
    "    return grad"
   ]
  },
  {
   "cell_type": "code",
   "execution_count": 68,
   "id": "6ca5bd48",
   "metadata": {},
   "outputs": [],
   "source": [
    "def yOneHot(y, num_etiquetas):\n",
    "    y = (y-1)\n",
    "    y_onehot = np.zeros((m, num_etiquetas)) #Matriz 5000 x 10\n",
    "    for i in range(m):\n",
    "        y_onehot[i][y[i]] = 1\n",
    "    return y_onehot"
   ]
  },
  {
   "cell_type": "code",
   "execution_count": 69,
   "id": "27fe8b8f",
   "metadata": {},
   "outputs": [],
   "source": [
    "def oneVsAll(X, y, num_etiquetas, reg):\n",
    "    y_onehot = yOneHot(y,num_etiquetas)\n",
    "    all_theta =np.zeros((num_etiquetas, X.shape[1]))\n",
    "    theta = np.zeros(X.shape[1])\n",
    "    for c in range(num_etiquetas):\n",
    "        result = opt.fmin_tnc(func=coste_reg, x0=theta, fprime=gradiente_reg, args=(X,y_onehot[:, c], reg))\n",
    "        all_theta[c]=result[0]\n",
    "    return all_theta"
   ]
  },
  {
   "cell_type": "code",
   "execution_count": 73,
   "id": "828ea9e3",
   "metadata": {
    "scrolled": true
   },
   "outputs": [
    {
     "name": "stdout",
     "output_type": "stream",
     "text": [
      "(10, 401)\n"
     ]
    }
   ],
   "source": [
    "Theta = oneVsAll(X_1,y,10,0.1)\n",
    "print(Theta.shape)"
   ]
  },
  {
   "cell_type": "code",
   "execution_count": 67,
   "id": "ffc76d14",
   "metadata": {},
   "outputs": [
    {
     "name": "stdout",
     "output_type": "stream",
     "text": [
      "(10, 401)\n"
     ]
    }
   ],
   "source": [
    "def prediccion(theta, X):\n",
    "    y_prediccion = sigmoide(np.matmul(theta, np.transpose(X)))\n",
    "    "
   ]
  },
  {
   "cell_type": "markdown",
   "id": "fa9cbe94",
   "metadata": {},
   "source": [
    "obtener la predicción de cada clase para cada ejemplo de entrenamiento (sigmoide(np.matmul(theta, np.transpose(X)) de cada clase) obteniendo una matriz de 5000 x 10, 5000 casos de entrenamiento y para cada caso un array de 10 valores de 0 a 1 (resultado de aplicar la función sigmoide)\n",
    "tomar el mayor valor de cada predicción  de cada caso de entrenamiento, entonces el caso de entrenamiento se asigna a la clase de la posición del mayor valor.\n",
    "al final tenemos que obtener un vector 5000 de predicciones con valores del 0 al 9 y compararlo con el vector y-1 dado. "
   ]
  }
 ],
 "metadata": {
  "kernelspec": {
   "display_name": "Python 3",
   "language": "python",
   "name": "python3"
  },
  "language_info": {
   "codemirror_mode": {
    "name": "ipython",
    "version": 3
   },
   "file_extension": ".py",
   "mimetype": "text/x-python",
   "name": "python",
   "nbconvert_exporter": "python",
   "pygments_lexer": "ipython3",
   "version": "3.8.8"
  }
 },
 "nbformat": 4,
 "nbformat_minor": 5
}
